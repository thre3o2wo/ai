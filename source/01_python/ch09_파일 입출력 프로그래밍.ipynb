{
 "cells": [
  {
   "cell_type": "code",
   "execution_count": null,
   "id": "95b99477",
   "metadata": {},
   "outputs": [],
   "source": [
    "from IPython.display import display, HTML\n",
    "display(HTML(\"\"\"\n",
    "<style>\n",
    "div.container{width:90% !important;}\n",
    "div.cell.code_cell.rendered{width:90%;}\n",
    "div.input_prompt{padding:0px;}\n",
    "div.CodeMirror {font-family:Consolas; font-size:10pt;}\n",
    "div.text_cell_render.rendered_html{font-size:10pt;}\n",
    "div.output {font-size:10pt; font-weight:bold;}\n",
    "div.input {font-family:Consolas; font-size:10pt;}\n",
    "div.prompt {min-width:70px;}\n",
    "div#toc-wrapper{padding-top:120px;}\n",
    "div.text_cell_render ul li{font-size:10pt;padding:5px;}\n",
    "table.dataframe{font-size:10px;}\n",
    "</style>\n",
    "\"\"\"))"
   ]
  },
  {
   "cell_type": "markdown",
   "id": "04e208df",
   "metadata": {},
   "source": [
    "<b><font size=\"6\" color=\"red\">Ch 9. 파일 입출력(I/O) 프로그래밍</font><b>\n",
    "- 파일 : txt, csv, json, pickle(머신러닝 모델 저장, 배열 저장), h5(딥러닝 모델 저장)\n",
    "- json과 xml은 open API에서 많이 사용"
   ]
  },
  {
   "cell_type": "code",
   "execution_count": null,
   "id": "79dc876e",
   "metadata": {},
   "outputs": [],
   "source": [
    "'''\n",
    "1. *.csv\n",
    "    name, age\n",
    "    '홍길동', 39\n",
    "    '김길동', 20\n",
    "    \n",
    "2. *.json\n",
    "    [{'name':'홍길동','age':39},\n",
    "    {'name':'김길동','age':20}]\n",
    "    \n",
    "3. *.xml\n",
    "<person>\n",
    "    <name>홍길동</name>\n",
    "    <age>39</age>\n",
    "</person>\n",
    "<person>\n",
    "    <name>김길동</name>\n",
    "    <age>20</age>\n",
    "</person>\n",
    "'''"
   ]
  },
  {
   "cell_type": "markdown",
   "id": "13c69946",
   "metadata": {},
   "source": [
    "# 1. txt 파일에 데이터 저장하고 불러오기"
   ]
  },
  {
   "cell_type": "code",
   "execution_count": null,
   "id": "1bc0ec9f",
   "metadata": {},
   "outputs": [],
   "source": [
    "#mode = 'r' or 'rt' : 텍스트 읽기 모드로 열기, 파일이 없을 경우 예외 발생\n",
    "#mode = 'w' or 'wt' : 텍스트 쓰기 모드로 열기, 폴더가 없을 경우 예외 발생, 파일 없으면 생성, 파일 있으면 덮어씀, close 해야 저장\n",
    "#mode = 'a' or 'at' : 텍스트 쓰기 모드로 열기, 폴더가 없을 경우 예외 발생, 파일 없으면 생성, 파일 있으면 append, close 해야 저장 \n",
    "f = open('data/ch09.txt', 'w') #기본 encoding='cp949', 한글확장 encoding='utf-8'\n",
    "print('쓰기 가능한지: ', f.writable())\n",
    "f.write('Hello\\nWorld\\n')\n",
    "f.close()"
   ]
  },
  {
   "cell_type": "code",
   "execution_count": null,
   "id": "f48abbd2",
   "metadata": {},
   "outputs": [],
   "source": [
    "# with구문을 사용면 매번 close()하는 코드가 불필요\n",
    "with open('data/ch09.txt', 'wt') as f:\n",
    "    print('쓰기 가능한지: ', f.writable())\n",
    "    f.write('Python is easy.\\nPython is smart.\\n')"
   ]
  },
  {
   "cell_type": "code",
   "execution_count": null,
   "id": "257bfaf0",
   "metadata": {},
   "outputs": [],
   "source": [
    "with open('data/ch09.txt', 'a') as f: #cp949\n",
    "    print('프린트 함수로 파일 쓰기가 가능합니다. - 파일 출력', file = f)\n",
    "    print('프린트 함수로 파일 쓰기가 가능합니다. - 콘솔 출력')"
   ]
  },
  {
   "cell_type": "markdown",
   "id": "5afecedc",
   "metadata": {},
   "source": [
    "- 한글 읽기 / 쓰기\n",
    "    * cp 949(한글완성형확장형) : open 함수의 기본 인코딩(win), 메모장으로 열기\n",
    "    * utf-8(한글조합형) : 주피터노트북에서 열기\n",
    "- **csv, json** : 다수의 데이터를 저장하는 목적\n",
    "    - 메모장으로 열 수 있음\n",
    "- pickle(pkl, data / 객체 list, dictlist), h5(hdf5 / 딥러닝 모델 목적(데이터프레임). 객체, dictlist)\n",
    "    - 메모장으로 열 수 없음"
   ]
  },
  {
   "cell_type": "code",
   "execution_count": null,
   "id": "cd81dad9",
   "metadata": {},
   "outputs": [],
   "source": [
    "with open('data/ch09.txt', 'w', encoding='UTF-8') as f:\n",
    "    #방법 1 (추천) - 한 줄씩\n",
    "    f.write('홍길동, 30, 서울\\n')\n",
    "    f.write('고길동, 20, 수원\\n')\n",
    "    #방법 2 (비추)\n",
    "    textlist = ['홍길동, 30, 서울\\n', '고길동, 20, 부산\\n']\n",
    "    for line in textlist:\n",
    "        f.write(line)\n",
    "    #방법 3 (추천) - 일괄\n",
    "    f.writelines(textlist) #리스트를 한꺼번에 write해 주는 함수. History 저장할 때 많이 씀"
   ]
  },
  {
   "cell_type": "code",
   "execution_count": null,
   "id": "8132e10f",
   "metadata": {},
   "outputs": [],
   "source": [
    "#파일을 한꺼번에 읽어오기\n",
    "with open('data/ch09.txt', encoding='UTF-8') as f:\n",
    "    filecontent = f.read()\n",
    "filecontent"
   ]
  },
  {
   "cell_type": "code",
   "execution_count": null,
   "id": "5e32a657",
   "metadata": {},
   "outputs": [],
   "source": [
    "#파일을 한 줄 읽고 출력하고, 한 줄 읽고 출력...\n",
    "with open('data/ch09.txt', 'r', encoding='utf-8') as txtfile:\n",
    "    line = txtfile.readline() #첫 줄 읽기\n",
    "    while line != '': #내용이 남지 않은 상태까지\n",
    "        print(line, end='') #데이터 자체에 줄나눔\\n 있으니 출력 시 줄나눔 제거\n",
    "        line = txtfile.readline() #다음 줄 읽기\n",
    "        \n",
    "#파일을 열면 파이썬은 내부적으로 커서(Cursor) 또는 파일 포인터(File Pointer)라는 것을 관리합니다. 이 커서가 '다음으로 읽거나 쓸 위치'를 기억합니다.\n",
    "#즉, readline() 함수를 호출할 때마다 파일 객체는 커서를 이동시키며 새로운 위치의 데이터를 읽어옵니다."
   ]
  },
  {
   "cell_type": "code",
   "execution_count": null,
   "id": "c55df71e",
   "metadata": {},
   "outputs": [],
   "source": [
    "#파일을 한꺼번에 여러 줄 읽어, 한 줄씩 list 담아 return\n",
    "with open('data/ch09.txt', 'r', encoding='utf-8') as txtfile:\n",
    "    lines = txtfile.readlines() #한꺼번에 읽기\n",
    "print(lines)\n",
    "\n",
    "for line in lines:\n",
    "    print(line, end='')"
   ]
  },
  {
   "cell_type": "markdown",
   "id": "8ae6861b",
   "metadata": {},
   "source": [
    "# 2. pickle을 이용한 객체 저장 및 불러오기\n",
    "- 머신러닝 모델 저장, 배열 저장, 객체 저장\n",
    "## 2.1. 형식이 있는 텍스트 데이터"
   ]
  },
  {
   "cell_type": "code",
   "execution_count": null,
   "id": "9e6061c3",
   "metadata": {},
   "outputs": [],
   "source": [
    "with open('data/ch09_member.txt', 'r', encoding='utf-8') as f:\n",
    "    lines = f.readlines()\n",
    "#print(lines)\n",
    "for line in lines:\n",
    "    #print(line)\n",
    "    data = line.split(', ')\n",
    "    #print(data)\n",
    "    name = data[0]\n",
    "    age = int(data[1])\n",
    "    email = data[2]\n",
    "    address = data[3].strip()\n",
    "    print({'name':name, 'age':age, 'email':email, 'address':address})"
   ]
  },
  {
   "cell_type": "code",
   "execution_count": null,
   "id": "581c8ea7",
   "metadata": {},
   "outputs": [],
   "source": [
    "class Member:\n",
    "    def __init__(self, name, age, email, address):\n",
    "        self.name = name\n",
    "        self.age = age\n",
    "        self.email = email\n",
    "        self.address = address\n",
    "    def __str__(self):\n",
    "        return \"{}, {}, {}, {}\".format(self.name, self.age, self.email, self.address)\n",
    "    def __eq__(self, other):\n",
    "#오버라이딩 전에는\n",
    "#        return id(self) == id(other)\n",
    "#오버라이딩\n",
    "#         return self.name == other.name and \\\n",
    "#                 self.age == other.age and \\\n",
    "#                 self.email == other.email and \\\n",
    "#                 self.address == other.address\n",
    "#넘모 길고 복잡하잖아. 아래로 쓰자\n",
    "        return self.__str__() == other.__str__()\n",
    "    def as_dict(self):\n",
    "        '객체를 딕셔너리로 바꿔 return(*.json 파일 저장 시 필요)'\n",
    "        return self.__dict__"
   ]
  },
  {
   "cell_type": "code",
   "execution_count": null,
   "id": "96510b88",
   "metadata": {},
   "outputs": [],
   "source": [
    "member1 = Member('신길동', 30, 'shinkil@hong.com', '서울시 동작구')\n",
    "member2 = Member('신길동', 30, 'shinkil@hong.com', '서울시 동작구')\n",
    "print(member1)\n",
    "print(member2)\n",
    "#둘은 별개의 객체, \n",
    "print(member1 == member2)\n",
    "#print하면 __str__ 작동하듯이, ==쓰면 __eq__가 작동\n",
    "print(member2.__eq__(member1))\n",
    "print(member1.__dict__)\n",
    "print(member1.as_dict())"
   ]
  },
  {
   "cell_type": "markdown",
   "id": "d0eb7289",
   "metadata": {},
   "source": [
    "## 2.2. Pickling\n",
    "- 객체 리스트 → pickle 파일로 쓰기\n",
    "- pickle 파일 → 객체 리스트로 읽기"
   ]
  },
  {
   "cell_type": "code",
   "execution_count": null,
   "id": "ac9b5b57",
   "metadata": {},
   "outputs": [],
   "source": [
    "#ch09_member.txt파일 → 객체 list, dict list로 읽기\n",
    "member_list = [] #Member객체 list. 여기에 append 예정\n",
    "dict_list = [] #dictionary list.\n",
    "with open('data/ch09_member.txt', encoding='utf-8') as f:\n",
    "    lines = f.readlines()\n",
    "for line in lines: #줄별로\n",
    "    data = line.split(',')\n",
    "    data = [item.strip() for item in data]\n",
    "    name = data[0] #key에 value 할당\n",
    "    age = int(data[1])\n",
    "    email = data[2]\n",
    "    address = data[3]\n",
    "    member = Member(name, age, email, address) #클래스 객체\n",
    "    member_list.append(member) #member 객체 리스트에 append\n",
    "    dict_list.append(member.__dict__) #dict 리스트에 append"
   ]
  },
  {
   "cell_type": "code",
   "execution_count": null,
   "id": "fdb9849f",
   "metadata": {},
   "outputs": [],
   "source": [
    "for member in member_list: #객체 리스트 확인\n",
    "    print(member)"
   ]
  },
  {
   "cell_type": "code",
   "execution_count": null,
   "id": "7e85cf1e",
   "metadata": {},
   "outputs": [],
   "source": [
    "#피클링(확장자: pkl, pickle, data)을 이용한 객체를 파일에 저장하기\n",
    "import pickle #python 기본 패키지에 포함\n",
    "with open('data/ch09_member.pkl', 'wb') as f: #wb: binary code로, so encoding 정보도 필요 없음\n",
    "    pickle.dump(member_list, f)"
   ]
  },
  {
   "cell_type": "code",
   "execution_count": null,
   "id": "38b7a9d7",
   "metadata": {},
   "outputs": [],
   "source": [
    "#피클링을 이용한 파일을 객체 리스트로 읽기\n",
    "with open('data/ch09_member.pkl', 'rb') as f:\n",
    "    load_member_list = pickle.load(f)"
   ]
  },
  {
   "cell_type": "code",
   "execution_count": null,
   "id": "02d7b7b2",
   "metadata": {},
   "outputs": [],
   "source": [
    "id(member_list), id(load_member_list)"
   ]
  },
  {
   "cell_type": "code",
   "execution_count": null,
   "id": "c3e3a1f7",
   "metadata": {},
   "outputs": [],
   "source": [
    "#번거로운 방식으로는\n",
    "for idx in range(len(member_list)):\n",
    "    print(idx, '번째 비교: ', (member_list[idx]==load_member_list[idx]))"
   ]
  },
  {
   "cell_type": "code",
   "execution_count": null,
   "id": "6abba288",
   "metadata": {},
   "outputs": [],
   "source": [
    "#이게 더 좋아요.\n",
    "for member, load_member in zip(member_list, load_member_list):    \n",
    "    print('member: ', member)\n",
    "    print('load_member: ', load_member)"
   ]
  },
  {
   "cell_type": "code",
   "execution_count": null,
   "id": "d29ad1c1",
   "metadata": {},
   "outputs": [],
   "source": [
    "for idx, (member, load_member) in enumerate(zip(member_list, load_member_list)):\n",
    "    print(idx, '번째 비교: ', member==load_member)"
   ]
  },
  {
   "cell_type": "code",
   "execution_count": null,
   "id": "709daf48",
   "metadata": {},
   "outputs": [],
   "source": [
    "result = [] #비교결과(True/False)를 append\n",
    "for member, load_member in zip(member_list, load_member_list):\n",
    "    result.append(member==load_member)\n",
    "result"
   ]
  },
  {
   "cell_type": "code",
   "execution_count": null,
   "id": "7c72bf82",
   "metadata": {},
   "outputs": [],
   "source": [
    "all(result) #모든 요소들이 True인지 여부 반환"
   ]
  },
  {
   "cell_type": "code",
   "execution_count": null,
   "id": "8db04757",
   "metadata": {},
   "outputs": [],
   "source": [
    "all([True, True, True, True, True, True, False, True, True])"
   ]
  },
  {
   "cell_type": "markdown",
   "id": "3a7ab2ef",
   "metadata": {},
   "source": [
    "# 3. csv 파일 읽고 쓰기\n",
    "- 리스트 데이터로 읽고 쓰기. (3.1~2)\n",
    "- 딕셔너리 데이터로 읽고 쓰기. (3.3~4)\n",
    "- 데이터프레임으로 읽고 쓰기.\n",
    "## 3.1. reader"
   ]
  },
  {
   "cell_type": "code",
   "execution_count": null,
   "id": "9ffa2b3a",
   "metadata": {},
   "outputs": [],
   "source": [
    "import csv\n",
    "with open('data/ch09_member1.csv', 'r', encoding='utf-8') as f:\n",
    "    reader = csv.reader(f)\n",
    "    result = list(reader)\n",
    "result"
   ]
  },
  {
   "cell_type": "code",
   "execution_count": null,
   "id": "4f72174a",
   "metadata": {},
   "outputs": [],
   "source": [
    "#\"따옴표\"가 없는 데이터는 numeric으로\n",
    "with open('data/ch09_member1.csv', 'r', encoding='utf-8') as f:\n",
    "    reader = csv.reader(f, quoting=csv.QUOTE_NONNUMERIC)\n",
    "    for row in reader:\n",
    "        print(row)"
   ]
  },
  {
   "cell_type": "markdown",
   "id": "228f5801",
   "metadata": {},
   "source": [
    "## 3.2. writer\n",
    "- list → csv로 저장\n",
    "- mode 종류 : rt(r), rb, wt(w), wb, at(a)"
   ]
  },
  {
   "cell_type": "code",
   "execution_count": null,
   "id": "4ddca7ef",
   "metadata": {},
   "outputs": [],
   "source": [
    "user_list = [['고길동', 20.0, 'koltong@hong.com', '서울시 은평구'], \n",
    "             ['홍길동', 40.0, 'theone@hong.com', '서울시 관악구'], \n",
    "             ['신길동', 30.0, 'sindong@hong.com', '서울시 동작구']]"
   ]
  },
  {
   "cell_type": "code",
   "execution_count": null,
   "id": "2952871b",
   "metadata": {},
   "outputs": [],
   "source": [
    "#newline='\\n' default. (python 3.10)\n",
    "try:\n",
    "    with open('data/ch09_member2-write.csv', 'w', newline='') as f:\n",
    "        writer =csv. writer(f)\n",
    "#         for user in user_list:\n",
    "#             writer.writerow(user)\n",
    "        writer.writerows(user_list)\n",
    "except FileNotFoundError as e:\n",
    "    print(e)"
   ]
  },
  {
   "cell_type": "markdown",
   "id": "d41ef4ec",
   "metadata": {},
   "source": [
    "## 3.3. DictReader\n",
    "- csv 파일을 딕셔너리 데이터로 읽기"
   ]
  },
  {
   "cell_type": "code",
   "execution_count": null,
   "id": "66d36ee0",
   "metadata": {},
   "outputs": [],
   "source": [
    "#header가 있는 csv 파일을 딕셔너리로 읽기(ch09_member3.csv)\n",
    "import csv\n",
    "with open('data/ch09_member3.csv', 'r', encoding='utf-8') as f:\n",
    "    dict_reader = csv.DictReader(f)\n",
    "    result = list(dict_reader)\n",
    "result"
   ]
  },
  {
   "cell_type": "code",
   "execution_count": null,
   "id": "5bec22cc",
   "metadata": {},
   "outputs": [],
   "source": [
    "with open('data/ch09_member3.csv', 'r', encoding='utf-8') as f:\n",
    "    dict_reader = csv.DictReader(f, restval='없음') #value 빈 것들은 다 '없음'으로 치자\n",
    "    for row in dict_reader:\n",
    "        print(row)"
   ]
  },
  {
   "cell_type": "code",
   "execution_count": null,
   "id": "790ccd84",
   "metadata": {},
   "outputs": [],
   "source": [
    "#csv 파일을 데이터프레임 데이터로 읽기\n",
    "import pandas as pd\n",
    "members = pd.read_csv('data/ch09_member3.csv', encoding='utf-8') #open은 default cp949, pandas는 default utf-8\n",
    "members"
   ]
  },
  {
   "cell_type": "code",
   "execution_count": null,
   "id": "ef8b8720",
   "metadata": {},
   "outputs": [],
   "source": [
    "type(members)"
   ]
  },
  {
   "cell_type": "code",
   "execution_count": null,
   "id": "61f7b96f",
   "metadata": {},
   "outputs": [],
   "source": [
    "pd.DataFrame(data=result)"
   ]
  },
  {
   "cell_type": "code",
   "execution_count": null,
   "id": "e6cc8ee5",
   "metadata": {},
   "outputs": [],
   "source": [
    "#header가 없는 csv 파일을 딕셔너리 데이터로 읽기(ch09_member1-cp.csv)\n",
    "with open('data/ch09_member1-cp.csv', 'r') as f:\n",
    "    dict_reader = csv.DictReader(f, fieldnames=['Name', 'Age', 'Email', 'Address'], restkey='Job') #key 없는 value는 다 Job으로 치자\n",
    "    for row in dict_reader:\n",
    "        print(row)"
   ]
  },
  {
   "cell_type": "markdown",
   "id": "1a3c3b28",
   "metadata": {},
   "source": [
    "## 3.4. DictWriter\n",
    "- 딕셔너리 데이터(딕셔너리 list)를 csv파일로 쓰기"
   ]
  },
  {
   "cell_type": "code",
   "execution_count": null,
   "id": "0c048422",
   "metadata": {},
   "outputs": [],
   "source": [
    "user1 = {'Name': '홍길동', 'Age': '20', 'Email': 'kildong@hong.com', 'Address': '서울시 관악구'}\n",
    "user2 = {'Name': '김길동', 'Age': '40', 'Email': 'kimdong@hong.com', 'Address': '서울시 영등포구'}\n",
    "user3 = {'Name': '신길동', 'Age': '30', 'Email': 'sindong@hong.com', 'Address': '서울시 동작구'}\n",
    "user_list = [user1, user2, user3]\n",
    "user_list"
   ]
  },
  {
   "cell_type": "code",
   "execution_count": null,
   "id": "71f7f043",
   "metadata": {},
   "outputs": [],
   "source": [
    "fieldnames = list(user1.keys())\n",
    "fieldnames"
   ]
  },
  {
   "cell_type": "code",
   "execution_count": null,
   "id": "2e4fa3ed",
   "metadata": {},
   "outputs": [],
   "source": [
    "with open('data/ch09_member4.csv', 'w', encoding='utf-8', newline='') as f:\n",
    "    dict_writer = csv.DictWriter(f, fieldnames=fieldnames)\n",
    "    dict_writer.writeheader() #header 한 줄 쓰기(윗줄 fieldnames에서 가져옴)\n",
    "#     for user in user_list:\n",
    "#         dict_writer.writerow(user)\n",
    "    dict_writer.writerows(user_list)"
   ]
  },
  {
   "cell_type": "markdown",
   "id": "ea2d4447",
   "metadata": {},
   "source": [
    "# 4. JSON 파일에 저장하고 불러오기\n",
    "- 저장할 때는 dump / 불러올 때는 load\n",
    "-```[{'title':'국정자원 화재1', 'url':'http://~', 'content':'어쩌고저쩌고1'}, \n",
    "{'title':'국정자원 화재2', 'url':'http://~', 'content':'어쩌고저쩌고2'}, \n",
    "{'title':'국정자원 화재3', 'url':'http://~', 'content':'어쩌고저쩌고3'}]```\n",
    "## 4.1. JSON dump(파일에 저장)\n",
    "### 4.1.1. 딕셔너리 list를 json 파일로 저장"
   ]
  },
  {
   "cell_type": "code",
   "execution_count": null,
   "id": "7eaf3829",
   "metadata": {},
   "outputs": [],
   "source": [
    "data = [{'name': '홍길동', 'age': 20, 'email': 'hong@gd.com', 'address': '서울'},\n",
    "{'name': '고길동', 'age': 25, 'email': 'go@gd.com', 'address': '부산'},\n",
    "{'name': '신길동', 'age': 30, 'email': 'shin@gd.com', 'address': '대전'}]\n",
    "data"
   ]
  },
  {
   "cell_type": "code",
   "execution_count": null,
   "id": "a8121711",
   "metadata": {},
   "outputs": [],
   "source": [
    "#ensure_ascii= 옵션의 역할: ASCII 코드를 벗어난 문자를 어떻게 처리할지\n",
    "#기본값(True) : 유니코드로 저장\n",
    "#False: 비ASCII코드는 원래 형태로 그대로 저장\n",
    "import json\n",
    "with open('data/ch09_member1.json', 'w') as jsonfile:\n",
    "    json.dump(data, #딕셔너리 리스트\n",
    "             jsonfile, #파일스트림\n",
    "             ensure_ascii=False, #none ASCII 코드 문자 처리 여부\n",
    "             indent='  ') #들여쓰기 여부. \\t도 가능"
   ]
  },
  {
   "cell_type": "markdown",
   "id": "ad5d8f3a",
   "metadata": {},
   "source": [
    "### 4.1.2. 객체 list를 json 파일로 저장\n",
    "- 객체를 딕셔너리로 바꾸는 함수가 필요"
   ]
  },
  {
   "cell_type": "code",
   "execution_count": null,
   "id": "6abd3af5",
   "metadata": {},
   "outputs": [],
   "source": [
    "class Member:\n",
    "    def __init__(self, name, age, email, address):\n",
    "        self.name = name\n",
    "        self.age = age\n",
    "        self.email = email\n",
    "        self.address = address\n",
    "    def __str__(self):\n",
    "        return \"{}, {}, {}, {}\".format(self.name, self.age, self.email, self.address)\n",
    "    def __eq__(self, other):\n",
    "        return self.__str__() == other.__str__()\n",
    "    def as_dict(self):\n",
    "        '객체를 딕셔너리로 바꿔 return(*.json 파일 저장 시 필요)'\n",
    "        return self.__dict__"
   ]
  },
  {
   "cell_type": "code",
   "execution_count": null,
   "id": "0d5625be",
   "metadata": {},
   "outputs": [],
   "source": [
    "member_list = [Member('홍길동', 30, 'h@gd.com', '서울'),\n",
    "              Member('마길동', 25, 'm@gd.com', '하남'),\n",
    "              Member('박길동', 35, 'p@gd.com', '대전')]\n",
    "[member.__str__() for member in member_list] #리스트 컴프리헨션 "
   ]
  },
  {
   "cell_type": "code",
   "execution_count": null,
   "id": "04990720",
   "metadata": {},
   "outputs": [],
   "source": [
    "with open('data/ch09_member2.json', 'w', encoding='utf-8') as jsonfile:\n",
    "    json.dump(member_list, jsonfile, ensure_ascii=False, indent='\\t',\n",
    "    default=Member.as_dict) #객체를 딕셔너리 형태로 return 하는ㄹ 함수\n",
    "    #함수명()은 호출하는 거야. 여기선 호출하지 않음."
   ]
  },
  {
   "cell_type": "markdown",
   "id": "089f7086",
   "metadata": {},
   "source": [
    "## 4.2. JSON load(파일 읽기)\n",
    "### 4.2.1. json 파일을 딕셔너리 리스트로 읽기"
   ]
  },
  {
   "cell_type": "code",
   "execution_count": null,
   "id": "9e9827d6",
   "metadata": {},
   "outputs": [],
   "source": [
    "with open('data/ch09_member1.json', 'r') as jsonfile:\n",
    "    load_data = json.load(jsonfile)\n",
    "load_data"
   ]
  },
  {
   "cell_type": "code",
   "execution_count": null,
   "id": "29b953ee",
   "metadata": {},
   "outputs": [],
   "source": [
    "type(load_data), type(load_data[0])"
   ]
  },
  {
   "cell_type": "markdown",
   "id": "658a9de1",
   "metadata": {},
   "source": [
    "### 4.2.2. json 파일을 객체 리스트로 읽기\n",
    "- 딕셔너리를 객체로 바꾸는 함수가 필요"
   ]
  },
  {
   "cell_type": "code",
   "execution_count": null,
   "id": "9e9beba6",
   "metadata": {},
   "outputs": [],
   "source": [
    "# {'name': '신길동', 'age': 30, 'email': 'shin@gd.com', 'address': '대전'} → Member('신길동', 30, 'shin@gd.com', '대전')\n",
    "def as_member(dic): \n",
    "    return Member(dic.get('name'), dic.get('age'), dic.get('email'), dic.get('address'))"
   ]
  },
  {
   "cell_type": "code",
   "execution_count": null,
   "id": "751ab9ca",
   "metadata": {},
   "outputs": [],
   "source": [
    "with open('data/ch09_member2.json', 'r', encoding='utf-8') as jsonfile:\n",
    "    load_member_list = json.load(jsonfile, object_hook=as_member) #딕셔너리를 객체로 return하는 함수"
   ]
  },
  {
   "cell_type": "code",
   "execution_count": null,
   "id": "64443571",
   "metadata": {
    "scrolled": true
   },
   "outputs": [],
   "source": [
    "#pickle에서는 : member_list → pkl 파일 → load_member_list : 두 객체 리스트가 같은지 여부 검사\n",
    "#지금 json에서는 : member_list → json 파일 → load_member_list\n",
    "for load_member in load_member_list:\n",
    "    print(load_member)"
   ]
  },
  {
   "cell_type": "code",
   "execution_count": null,
   "id": "9859dd9b",
   "metadata": {
    "scrolled": true
   },
   "outputs": [],
   "source": [
    "result = []\n",
    "for member, load_member in zip(member_list, load_member_list):\n",
    "    print(member, load_member)"
   ]
  },
  {
   "cell_type": "code",
   "execution_count": null,
   "id": "82b09118",
   "metadata": {},
   "outputs": [],
   "source": [
    "result = [] \n",
    "for member, load_member in zip(member_list, load_member_list):\n",
    "    result.append(member==load_member)\n",
    "result"
   ]
  },
  {
   "cell_type": "code",
   "execution_count": null,
   "id": "372a0996",
   "metadata": {},
   "outputs": [],
   "source": [
    "all(result)"
   ]
  },
  {
   "cell_type": "code",
   "execution_count": null,
   "id": "97a27112",
   "metadata": {},
   "outputs": [],
   "source": [
    "#False인 곳의 index가 궁금할 때\n",
    "import numpy as np\n",
    "result = np.array([True, True, True, False, True, False, True])\n",
    "np.where(result==False)"
   ]
  },
  {
   "cell_type": "code",
   "execution_count": null,
   "id": "6f785d22",
   "metadata": {},
   "outputs": [],
   "source": [
    "result = set() #빈 셋\n",
    "for member, load_member in zip(member_list, load_member_list):\n",
    "    result.add(member == load_member)\n",
    "result"
   ]
  },
  {
   "cell_type": "markdown",
   "id": "db3a73da",
   "metadata": {},
   "source": [
    "# 5. HDF5 파일 쓰기 / 읽기\n",
    "- *.hdf5 파일 또는 *.h5 파일을 볼 수 있는 hdfviewer 설치\n",
    "- 딕셔너리 리스트, 데이터프레임, 딥러닝 모델"
   ]
  },
  {
   "cell_type": "code",
   "execution_count": null,
   "id": "bca07a2a",
   "metadata": {},
   "outputs": [],
   "source": [
    "#seaborn : 파이썬 데이터 시각화를 제공하는 라이브러리와 자주 쓰이는 데이터셋\n",
    "import seaborn as sns\n",
    "iris_df = sns.load_dataset(\"iris\")\n",
    "display(iris_df) #꽃의 종, 꽃받침 길이, 꽃받침 너비, 꽃잎 길이, 꽃잎 너비"
   ]
  },
  {
   "cell_type": "code",
   "execution_count": null,
   "id": "0df368e8",
   "metadata": {},
   "outputs": [],
   "source": [
    "#데이터프레임을 hdf 파일로 쓰기\n",
    "iris_df.to_hdf('data/ch09_irisdf.hdf5', key='iris')"
   ]
  },
  {
   "cell_type": "code",
   "execution_count": null,
   "id": "f3ea9836",
   "metadata": {},
   "outputs": [],
   "source": [
    "#hdf파일을 데이터프레임으로 읽어 오기\n",
    "import pandas as pd\n",
    "load_iris_df = pd.read_hdf('data/ch09_irisdf.hdf5', key='iris')\n",
    "load_iris_df"
   ]
  },
  {
   "cell_type": "code",
   "execution_count": null,
   "id": "82df333d",
   "metadata": {},
   "outputs": [],
   "source": [
    "#두 데이터프레임이 같은지 여부\n",
    "iris_df.equals(load_iris_df)"
   ]
  },
  {
   "cell_type": "markdown",
   "id": "d7c08425",
   "metadata": {},
   "source": [
    "# 6. 연습문제: 고객관리\n",
    "- 프로그램 시작 시\n",
    "    * data/ch09_customers.txt(프로그램 종료 시 백업용 데이터) 파일이 있으면 customer_list에 읽어들여야 함\n",
    "    * data/ch09_customers.txt 파일이 없으면 빈 파일 생성(w모드 열어 close)\n",
    "    * data/ch09_customers.txt 파일 내용\n",
    "```\n",
    "홍길동, 010-9999-9999, k@hong.com, 30, 5, vvip\n",
    "유길동, 010-5432-2222, y@hong.com, 20, 2, 까칠해\n",
    "```\n",
    "\n",
    "### Customer 클래스 작성"
   ]
  },
  {
   "cell_type": "code",
   "execution_count": 37,
   "id": "2136227a",
   "metadata": {},
   "outputs": [
    {
     "ename": "NameError",
     "evalue": "name 're' is not defined",
     "output_type": "error",
     "traceback": [
      "\u001b[1;31m---------------------------------------------\u001b[0m",
      "\u001b[1;31mNameError\u001b[0m   Traceback (most recent call last)",
      "Cell \u001b[1;32mIn[37], line 16\u001b[0m\n\u001b[0;32m     14\u001b[0m     \u001b[38;5;28;01mdef\u001b[39;00m \u001b[38;5;21m__str__\u001b[39m(\u001b[38;5;28mself\u001b[39m):\n\u001b[0;32m     15\u001b[0m         \u001b[38;5;28mprint\u001b[39m(\u001b[38;5;124m\"\u001b[39m\u001b[38;5;132;01m{:>5}\u001b[39;00m\u001b[38;5;130;01m\\t\u001b[39;00m\u001b[38;5;132;01m{:^3}\u001b[39;00m\u001b[38;5;130;01m\\t\u001b[39;00m\u001b[38;5;132;01m{:^13}\u001b[39;00m\u001b[38;5;130;01m\\t\u001b[39;00m\u001b[38;5;132;01m{:^10}\u001b[39;00m\u001b[38;5;130;01m\\t\u001b[39;00m\u001b[38;5;132;01m{}\u001b[39;00m\u001b[38;5;130;01m\\t\u001b[39;00m\u001b[38;5;132;01m{}\u001b[39;00m\u001b[38;5;124m\"\u001b[39m\u001b[38;5;241m.\u001b[39mformat(\u001b[38;5;124m'\u001b[39m\u001b[38;5;124m*\u001b[39m\u001b[38;5;124m'\u001b[39m\u001b[38;5;241m*\u001b[39m\u001b[38;5;28mself\u001b[39m\u001b[38;5;241m.\u001b[39mgrade, \u001b[38;5;28mself\u001b[39m\u001b[38;5;241m.\u001b[39mname, \u001b[38;5;28mself\u001b[39m\u001b[38;5;241m.\u001b[39mphone, \u001b[38;5;28mself\u001b[39m\u001b[38;5;241m.\u001b[39memail, \u001b[38;5;28mself\u001b[39m\u001b[38;5;241m.\u001b[39mage, \u001b[38;5;28mself\u001b[39m\u001b[38;5;241m.\u001b[39metc))\n\u001b[1;32m---> 16\u001b[0m NAME_PATTERN \u001b[38;5;241m=\u001b[39m \u001b[43mre\u001b[49m\u001b[38;5;241m.\u001b[39mcompile(\u001b[38;5;124mr\u001b[39m\u001b[38;5;124m\"\u001b[39m\u001b[38;5;124m^[가-힣]\u001b[39m\u001b[38;5;124m{\u001b[39m\u001b[38;5;124m2,5}$|^[a-zA-Z ]\u001b[39m\u001b[38;5;124m{\u001b[39m\u001b[38;5;124m3,20}$\u001b[39m\u001b[38;5;124m\"\u001b[39m) \n\u001b[0;32m     17\u001b[0m PHONE_PATTERN \u001b[38;5;241m=\u001b[39m re\u001b[38;5;241m.\u001b[39mcompile(\u001b[38;5;124mr\u001b[39m\u001b[38;5;124m\"\u001b[39m\u001b[38;5;124m^(\u001b[39m\u001b[38;5;124m\\\u001b[39m\u001b[38;5;124md\u001b[39m\u001b[38;5;124m{\u001b[39m\u001b[38;5;124m2,3})-(\u001b[39m\u001b[38;5;124m\\\u001b[39m\u001b[38;5;124md\u001b[39m\u001b[38;5;124m{\u001b[39m\u001b[38;5;124m3,4})-(\u001b[39m\u001b[38;5;124m\\\u001b[39m\u001b[38;5;124md\u001b[39m\u001b[38;5;132;01m{4}\u001b[39;00m\u001b[38;5;124m)$\u001b[39m\u001b[38;5;124m\"\u001b[39m) \u001b[38;5;66;03m# 앵커 추가\u001b[39;00m\n\u001b[0;32m     18\u001b[0m EMAIL_PATTERN \u001b[38;5;241m=\u001b[39m re\u001b[38;5;241m.\u001b[39mcompile(\u001b[38;5;124mr\u001b[39m\u001b[38;5;124m\"\u001b[39m\u001b[38;5;124m^\u001b[39m\u001b[38;5;124m\\\u001b[39m\u001b[38;5;124mw+@\u001b[39m\u001b[38;5;124m\\\u001b[39m\u001b[38;5;124mw+(\u001b[39m\u001b[38;5;124m\\\u001b[39m\u001b[38;5;124m.\u001b[39m\u001b[38;5;124m\\\u001b[39m\u001b[38;5;124mw+)\u001b[39m\u001b[38;5;124m{\u001b[39m\u001b[38;5;124m1,2}$\u001b[39m\u001b[38;5;124m\"\u001b[39m)\n",
      "\u001b[1;31mNameError\u001b[0m: name 're' is not defined"
     ]
    }
   ],
   "source": [
    "#Customer 클래스 정의\n",
    "class Customer:\n",
    "    def __init__(self, name, phone, email, age, grade, etc):\n",
    "        self.name = name\n",
    "        self.phone = phone\n",
    "        self.email = email\n",
    "        self.age = age\n",
    "        self.grade = grade\n",
    "        self.etc = etc        \n",
    "    def as_dic(self): #객체를 딕셔너리 데이터로 반환\n",
    "        return self.__dict__\n",
    "    def to_txt_style(self): #객체를 txt로 return(\"홍길동, 010-0000-0000, ...\")\n",
    "        return f\"{self.name}, {self.phone}, {self.email}, {self.age}, {self.grade}, {self.etc}\"\n",
    "    def __str__(self):\n",
    "        print(\"{:>5}\\t{:^3}\\t{:^13}\\t{:^10}\\t{}\\t{}\".format('*'*self.grade, self.name, self.phone, self.email, self.age, self.etc))"
   ]
  },
  {
   "cell_type": "markdown",
   "id": "60e22977",
   "metadata": {},
   "source": [
    "### to_customer(row) 정의"
   ]
  },
  {
   "cell_type": "code",
   "execution_count": 29,
   "id": "a5f2e84f",
   "metadata": {},
   "outputs": [],
   "source": [
    "#to_customer(row) 정의\n",
    "def to_customer(row):\n",
    "    data = row.strip().split(', ')\n",
    "    name = data[0]\n",
    "    phone = data[1]\n",
    "    email = data[2]\n",
    "    age = int(data[3])\n",
    "    grade = int(data[4])\n",
    "    etc = data[5]\n",
    "    return Customer(name, phone, email, age, grade, etc)"
   ]
  },
  {
   "cell_type": "markdown",
   "id": "30dbd8f7",
   "metadata": {},
   "source": [
    "### load_customers() 정의"
   ]
  },
  {
   "cell_type": "code",
   "execution_count": 30,
   "id": "12621f93",
   "metadata": {},
   "outputs": [],
   "source": [
    "#0. 고객목록 로딩\n",
    "def load_customers():\n",
    "    customer_list=[]\n",
    "    try: \n",
    "        with open('data/ch09_customers.txt', 'r', encoding='utf-8') as f:\n",
    "        #방법 1 한 줄씩 읽고 추가\n",
    "#             line = f.readline()\n",
    "#             while line != '':\n",
    "#                 customer = to_customer(line) #한 줄씩 객체 생성\n",
    "#                 customer_list.append(customer) #리스트에 객체 추가\n",
    "#                 line = f.readline()\n",
    "        #방법 2 한꺼번에 읽어서 for문으로 추가하기\n",
    "            lines = f.readlines()\n",
    "        for line in lines:\n",
    "            customer = to_customer(line)\n",
    "            customer_list.append(to_customer(line))\n",
    "    except FileNotFoundError as e:\n",
    "        with open('data/ch09_customers.txt', 'w', encoding='utf-8') as f:\n",
    "            pass\n",
    "    return customer_list"
   ]
  },
  {
   "cell_type": "markdown",
   "id": "70a43169",
   "metadata": {},
   "source": [
    "### fn1. 입력"
   ]
  },
  {
   "cell_type": "code",
   "execution_count": 38,
   "id": "a048e6de",
   "metadata": {},
   "outputs": [],
   "source": [
    "# fn1. 입력\n",
    "def fn1_insert_customer_info():\n",
    "    'name(정규표현식 검증), phone, email, age, grade, etc입력받아 Customer형 객체 return'\n",
    "    import re\n",
    "    name = input('이름 :')\n",
    "    name_pattern = r'[가-힣]{2,}'\n",
    "    while not re.search(name_pattern, name):\n",
    "        print('이름을 제대로 입력하세요(한글 2글자 이상)')\n",
    "        name = input('이름 :')\n",
    "    phone = input('전화 :')\n",
    "#     phone_pattern = r'\\d{2,3}[ \\-\\.)]?\\d{3,4}[ \\-\\.]?\\d{4}'\n",
    "#     while not re.search(phone_pattern, phone):\n",
    "#         print('이름을 제대로 입력하세요(한글 2글자 이상)')\n",
    "#         phone = input('전화 :')\n",
    "    email = input('메일 :')\n",
    "    while True:\n",
    "        try:\n",
    "            age = int(input('나이 :'))\n",
    "            if (age<0) or (age>130) :\n",
    "                raise Exception('나이 범위 이상')\n",
    "            break \n",
    "        except:\n",
    "            print('올바른 나이를 입력하세요')\n",
    "    try:\n",
    "        grade = int(input('등급(1~5) : '))\n",
    "        # grade = 1 if grade < 1 else 5 if grade>5 else grade\n",
    "        if grade < 1:\n",
    "            grade = 1\n",
    "        if grade > 5:\n",
    "            grade = 5\n",
    "    except:\n",
    "        print('유효하지 않은 등급 입력시 1등급으로 초기화')\n",
    "        grade = 1\n",
    "    etc = input('기타 정보 :')\n",
    "    return Customer(name, phone, email, age, grade, etc)"
   ]
  },
  {
   "cell_type": "markdown",
   "id": "35f2cdd2",
   "metadata": {},
   "source": [
    "### fn2. 전체 출력"
   ]
  },
  {
   "cell_type": "code",
   "execution_count": 40,
   "id": "d95a0b98",
   "metadata": {},
   "outputs": [],
   "source": [
    "#fn2. 전체 출력\n",
    "def fn2_print_customers(customer_list):\n",
    "    'customer_list 출력'\n",
    "    print('='*70)\n",
    "    print('{:^70}'.format('고객 정보'))\n",
    "    print('='*70)\n",
    "    print(\"{:>5}\\t{:^3}\\t{:^13}\\t{:^10}\\t{}\\t{}\".format('grade','이름','전화','메일','나이','기타') )\n",
    "    print('-'*70)\n",
    "    for customer in customer_list:\n",
    "        print(customer)"
   ]
  },
  {
   "cell_type": "markdown",
   "id": "dca5e57e",
   "metadata": {},
   "source": [
    "### fn3. 삭제"
   ]
  },
  {
   "cell_type": "code",
   "execution_count": 33,
   "id": "3b29d262",
   "metadata": {},
   "outputs": [],
   "source": [
    "# fn3. 삭제\n",
    "def fn3_delete_customer(customer_list):\n",
    "    '삭제하고자 하는 고객이름을 받아 customer_list에서 삭제'\n",
    "    name = input('삭제할 고객의 이름은?')\n",
    "    for idx, customer in enumerate(customer_list):\n",
    "        if customer.name == name:\n",
    "            # 리스트에서 customer 삭제\n",
    "            # customer_list.remove(customer)\n",
    "            # 리스트에서 idx번째 삭제\n",
    "            del customer_list[idx]\n",
    "            print(name, '님 데이터를 삭제하였습니다')\n",
    "            break\n",
    "    else:\n",
    "        print(name, '님이 데이터에 존재하지 않습니다')"
   ]
  },
  {
   "cell_type": "code",
   "execution_count": null,
   "id": "4e4e644c",
   "metadata": {},
   "outputs": [],
   "source": [
    "# 동명이인이 있을 경우(해당 동명이인을 다 삭제) 삭제 구현\n",
    "def fn3_delete_customer(customer_list):\n",
    "    '삭제하고자 하는 고객이름을 받아 customer_list에서 삭제'\n",
    "    name = input('삭제할 고객의 이름은?')\n",
    "    delete_idx = [] # 삭제할 인덱스 저장 용도\n",
    "    for idx, customer in enumerate(customer_list):\n",
    "        if customer_list[idx].name == name:\n",
    "            delete_idx.append(idx) # 삭제할 인덱스 추가함\n",
    "    if delete_idx:\n",
    "        for idx in delete_idx[::-1]: # [2,1]\n",
    "            del customer_list[idx]\n",
    "        print(f'{name}님 {len(delete_idx)}명을 삭제하였습니다')\n",
    "    else:\n",
    "        print(name, '님이 데이터에 존재하지 않습니다')"
   ]
  },
  {
   "cell_type": "code",
   "execution_count": null,
   "id": "de94a7cb",
   "metadata": {},
   "outputs": [],
   "source": [
    "# 3. 삭제 (동명이인이 있을 경우 삭제할 customer인지를 묻고 지우기)\n",
    "def fn3_delete_customer(customer_list):\n",
    "    '''삭제하고자 하는 고객이름을 input으로 받아\n",
    "    매개변수로 들어온 customer_list에서 삭제하고 \"삭제했음/삭제못했음\"을 메세지로 출력'''\n",
    "    delete_name = input('삭제할 고객 이름은?')\n",
    "    delete_idx = [] # 삭제할 인덱스를 저장하는 용도\n",
    "    count = 0\n",
    "    for idx, customer in enumerate(customer_list):\n",
    "        if customer.name == delete_name:\n",
    "            delete_idx.append(idx)\n",
    "    print(delete_idx)\n",
    "    if delete_idx:\n",
    "        for idx in delete_idx[::-1]: # [1,0]\n",
    "            print(customer_list[idx], '를 지우겠습니까(Y/N)?', end='')\n",
    "            answer = input()\n",
    "            if answer.lower() == 'y':\n",
    "                count += 1\n",
    "                customer_list.remove(customer_list[idx])\n",
    "        print('{}님 {}명 삭제하였습니다'.format(delete_name, count))\n",
    "    else:\n",
    "        print('{}님 데이터가 존재하지 않습니다'.format(delete_name))"
   ]
  },
  {
   "cell_type": "markdown",
   "id": "dcde4cc2",
   "metadata": {},
   "source": [
    "### fn4. 이름찾기"
   ]
  },
  {
   "cell_type": "code",
   "execution_count": null,
   "id": "023af003",
   "metadata": {},
   "outputs": [],
   "source": [
    "# fn4. 이름 찾기\n",
    "def fn4_search_customer(customer_list):\n",
    "    '찾고자 하는 이름을 input받아, customer_list에서 검색하여 fn2_print_customers()이용하여 출력'\n",
    "    name = input('검색할 이름은?')\n",
    "    search_list = [] # 검색한 결과 append\n",
    "    for customer in customer_list:\n",
    "        if customer.name == name:\n",
    "            search_list.append(customer)\n",
    "    if search_list:\n",
    "        fn2_print_customers(search_list)\n",
    "    else:\n",
    "        print(f\"{name}님 데이터는 존재하지 않습니다\")"
   ]
  },
  {
   "cell_type": "markdown",
   "id": "cd03ada0",
   "metadata": {},
   "source": [
    "### fn5. csv export"
   ]
  },
  {
   "cell_type": "code",
   "execution_count": 34,
   "id": "6067673c",
   "metadata": {},
   "outputs": [],
   "source": [
    "def fn5_save_customer_csv(customer_list):\n",
    "    '매개변수로 받은 customer_list를 딕셔너리리스트로 변환하여 csv출력'\n",
    "    import csv\n",
    "    if customer_list:\n",
    "        customer_dict_list = []\n",
    "        for customer in customer_list:\n",
    "            customer_dict_list.append(customer.__dict__)\n",
    "        fieldnames = list(customer_dict_list[0].keys())\n",
    "        filename = input('저장할 csv파일명은(확장자제외)?')\n",
    "        with open('data/{}.csv'.format(filename), 'w', encoding='UTF-8', newline='') as f:\n",
    "            dict_writer = csv.DictWriter(f, fieldnames=fieldnames)\n",
    "            dict_writer.writeheader() # 해더 쓰기\n",
    "            dict_writer.writerows(customer_dict_list) # 데이터 쓰기\n",
    "            print(f'data/{filename}.csv 내보내기 완료')\n",
    "    else:\n",
    "        print('입력된 회원 데이터가 없어서 csv 내보내기를 취소합니다')"
   ]
  },
  {
   "cell_type": "markdown",
   "id": "a76a0488",
   "metadata": {},
   "source": [
    "### fn9. 종료 및 저장"
   ]
  },
  {
   "cell_type": "code",
   "execution_count": 35,
   "id": "d3850982",
   "metadata": {},
   "outputs": [],
   "source": [
    "def fn9_save_customer_txt(customer_list):\n",
    "    'customer_list의 내용을 data/ch09_customers.txt에 저장'\n",
    "    customer_text_list = []\n",
    "    for customer in customer_list:\n",
    "        customer_text_list.append(customer.to_txt_style()+\"\\n\")\n",
    "    with open('data/ch09_customers.txt', 'w', encoding='UTF-8') as f:\n",
    "        f.writelines(customer_text_list)"
   ]
  },
  {
   "cell_type": "markdown",
   "id": "958a0b31",
   "metadata": {},
   "source": [
    "### MAIN"
   ]
  },
  {
   "cell_type": "code",
   "execution_count": 41,
   "id": "d7c7841a",
   "metadata": {},
   "outputs": [
    {
     "name": "stdout",
     "output_type": "stream",
     "text": [
      "\n",
      "======================================================================\n",
      "1:입력 | 2:전체출력 | 3:삭제 | 4:이름찾기 | 5:내보내기(CSV) | 9:종료 \n",
      "======================================================================\n",
      "메뉴선택 : 2\n",
      "\n",
      "⚠️ 현재 고객 목록이 비어 있습니다. (1.입력 메뉴로 추가하세요)\n",
      "\n",
      "======================================================================\n",
      "1:입력 | 2:전체출력 | 3:삭제 | 4:이름찾기 | 5:내보내기(CSV) | 9:종료 \n",
      "======================================================================\n",
      "메뉴선택 : 1\n",
      "이름: 김군\n",
      "전화번호 (예: 010-1234-5678): 010-1212-1212\n",
      "이메일: 최군\n",
      "❌ 이메일 형식이 맞지 않습니다. (예: user@domain.com)\n",
      "이메일: abc@gmail.com\n",
      "나이: 20\n",
      "고객등급(1~5): 3\n",
      "기타 정보: 신입\n",
      "\n",
      "======================================================================\n",
      "1:입력 | 2:전체출력 | 3:삭제 | 4:이름찾기 | 5:내보내기(CSV) | 9:종료 \n",
      "======================================================================\n",
      "메뉴선택 : 1\n",
      "이름: 최군\n",
      "전화번호 (예: 010-1234-5678): 010-2323-2323\n",
      "이메일: wert@gmail.com\n",
      "나이: 25\n",
      "고객등급(1~5): 4\n",
      "기타 정보: vip\n",
      "\n",
      "======================================================================\n",
      "1:입력 | 2:전체출력 | 3:삭제 | 4:이름찾기 | 5:내보내기(CSV) | 9:종료 \n",
      "======================================================================\n",
      "메뉴선택 : 1\n",
      "이름: 한양\n",
      "전화번호 (예: 010-1234-5678): 010-9898-6666\n",
      "이메일: ququ@gmail.com\n",
      "나이: 27\n",
      "고객등급(1~5): 5\n",
      "기타 정보: vvip\n",
      "\n",
      "======================================================================\n",
      "1:입력 | 2:전체출력 | 3:삭제 | 4:이름찾기 | 5:내보내기(CSV) | 9:종료 \n",
      "======================================================================\n",
      "메뉴선택 : 1\n",
      "이름: 김군\n",
      "전화번호 (예: 010-1234-5678): 010-8888-7777\n",
      "이메일: quit@gmail.com\n",
      "나이: 33\n",
      "고객등급(1~5): 3\n",
      "기타 정보: 탈퇴예정\n",
      "\n",
      "======================================================================\n",
      "1:입력 | 2:전체출력 | 3:삭제 | 4:이름찾기 | 5:내보내기(CSV) | 9:종료 \n",
      "======================================================================\n",
      "메뉴선택 : 2\n",
      "\n",
      "======================================================================\n",
      "                                고객 정보                                 \n",
      "======================================================================\n",
      "grade\t이름 \t     전화      \t    메일    \t나이\t기타\n",
      "----------------------------------------------------------------------\n",
      "  ***\t김군 \t010-1212-1212\tabc@gmail.com\t20\t신입\n"
     ]
    },
    {
     "ename": "TypeError",
     "evalue": "__str__ returned non-string (type NoneType)",
     "output_type": "error",
     "traceback": [
      "\u001b[1;31m---------------------------------------------\u001b[0m",
      "\u001b[1;31mTypeError\u001b[0m   Traceback (most recent call last)",
      "Cell \u001b[1;32mIn[41], line 38\u001b[0m\n\u001b[0;32m     35\u001b[0m             \u001b[38;5;28mprint\u001b[39m(\u001b[38;5;124m\"\u001b[39m\u001b[38;5;124m❌ 숫자만 입력하거나, 유효한 메뉴를 선택해 주세요.\u001b[39m\u001b[38;5;124m\"\u001b[39m)\n\u001b[0;32m     37\u001b[0m \u001b[38;5;28;01mif\u001b[39;00m \u001b[38;5;18m__name__\u001b[39m \u001b[38;5;241m==\u001b[39m \u001b[38;5;124m'\u001b[39m\u001b[38;5;124m__main__\u001b[39m\u001b[38;5;124m'\u001b[39m:\n\u001b[1;32m---> 38\u001b[0m     \u001b[43mmain\u001b[49m\u001b[43m(\u001b[49m\u001b[43m)\u001b[49m\n",
      "Cell \u001b[1;32mIn[41], line 20\u001b[0m, in \u001b[0;36mmain\u001b[1;34m()\u001b[0m\n\u001b[0;32m     18\u001b[0m     customer_list\u001b[38;5;241m.\u001b[39mappend(customer)\n\u001b[0;32m     19\u001b[0m \u001b[38;5;28;01melif\u001b[39;00m fn \u001b[38;5;241m==\u001b[39m \u001b[38;5;241m2\u001b[39m:\n\u001b[1;32m---> 20\u001b[0m     \u001b[43mfn2_print_customers\u001b[49m\u001b[43m(\u001b[49m\u001b[43mcustomer_list\u001b[49m\u001b[43m)\u001b[49m\n\u001b[0;32m     21\u001b[0m \u001b[38;5;28;01melif\u001b[39;00m fn \u001b[38;5;241m==\u001b[39m \u001b[38;5;241m3\u001b[39m:\n\u001b[0;32m     22\u001b[0m     fn3_delete_customer(customer_list)\n",
      "Cell \u001b[1;32mIn[40], line 14\u001b[0m, in \u001b[0;36mfn2_print_customers\u001b[1;34m(customer_list)\u001b[0m\n\u001b[0;32m     12\u001b[0m \u001b[38;5;28mprint\u001b[39m(\u001b[38;5;124m'\u001b[39m\u001b[38;5;124m-\u001b[39m\u001b[38;5;124m'\u001b[39m\u001b[38;5;241m*\u001b[39m\u001b[38;5;241m70\u001b[39m)\n\u001b[0;32m     13\u001b[0m \u001b[38;5;28;01mfor\u001b[39;00m customer \u001b[38;5;129;01min\u001b[39;00m customer_list:\n\u001b[1;32m---> 14\u001b[0m     \u001b[38;5;28;43mprint\u001b[39;49m\u001b[43m(\u001b[49m\u001b[43mcustomer\u001b[49m\u001b[43m)\u001b[49m \u001b[38;5;66;03m# __str__ 호출\u001b[39;00m\n\u001b[0;32m     15\u001b[0m \u001b[38;5;28mprint\u001b[39m(\u001b[38;5;124m'\u001b[39m\u001b[38;5;124m-\u001b[39m\u001b[38;5;124m'\u001b[39m\u001b[38;5;241m*\u001b[39m\u001b[38;5;241m70\u001b[39m)\n",
      "\u001b[1;31mTypeError\u001b[0m: __str__ returned non-string (type NoneType)"
     ]
    }
   ],
   "source": [
    "#MAIN\n",
    "def main():\n",
    "    global customer_list\n",
    "    customer_list = load_customers() # ch09_customers.txt의 내용을 load\n",
    "    while True:\n",
    "        print(\"1:입력\",\"2:전체출력\",\"3:삭제\",\"4:이름찾기\",\"5:내보내기(CSV)\", \"9:종료\", \n",
    "              sep=' | ', end=' ')\n",
    "        fn = int(input('메뉴선택 : '))\n",
    "        if fn == 1:\n",
    "            customer = fn1_insert_customer_info() # 입력받은 내용으로 customer객체를 반환\n",
    "            customer_list.append(customer)\n",
    "        elif fn == 2:\n",
    "            fn2_print_customers(customer_list) # 전체 customer_list 출력\n",
    "        elif fn == 3:\n",
    "            fn3_delete_customer(customer_list) # goekd\n",
    "        elif fn == 4:\n",
    "            fn4_search_customer(customer_list)\n",
    "        elif fn == 5:\n",
    "            fn5_save_customer_csv(customer_list)\n",
    "        elif fn == 9:\n",
    "            fn9_save_customer_txt(customer_list)\n",
    "            break\n",
    "if __name__ == '__main__':\n",
    "    main()"
   ]
  },
  {
   "cell_type": "code",
   "execution_count": 44,
   "id": "0b875c72",
   "metadata": {},
   "outputs": [
    {
     "name": "stdout",
     "output_type": "stream",
     "text": [
      "\n",
      "======================================================================\n",
      "1:입력 | 2:전체출력 | 3:삭제 | 4:이름찾기 | 5:내보내기(CSV) | 9:종료 \n",
      "======================================================================\n",
      "메뉴선택 : 4\n",
      "검색할 고객 이름을 입력하세요: 조양\n",
      "\n",
      "✅ '조양' 고객 1명을 찾았습니다.\n",
      "======================================================================\n",
      "                              '조양' 검색 결과                              \n",
      "======================================================================\n",
      "grade\t이름 \t     전화      \t    메일    \t나이\t기타\n",
      "----------------------------------------------------------------------\n",
      "*****\t조양 \t010-5555-3333\tyur@gmail.com\t24\tvip\n",
      "----------------------------------------------------------------------\n",
      "\n",
      "======================================================================\n",
      "1:입력 | 2:전체출력 | 3:삭제 | 4:이름찾기 | 5:내보내기(CSV) | 9:종료 \n",
      "======================================================================\n"
     ]
    },
    {
     "ename": "KeyboardInterrupt",
     "evalue": "Interrupted by user",
     "output_type": "error",
     "traceback": [
      "\u001b[1;31m---------------------------------------------\u001b[0m",
      "\u001b[1;31mKeyboardInterrupt\u001b[0mTraceback (most recent call last)",
      "Cell \u001b[1;32mIn[44], line 331\u001b[0m\n\u001b[0;32m    328\u001b[0m             \u001b[38;5;28mprint\u001b[39m(\u001b[38;5;124m\"\u001b[39m\u001b[38;5;124m❌ 숫자만 입력하거나, 유효한 메뉴를 선택해 주세요.\u001b[39m\u001b[38;5;124m\"\u001b[39m)\n\u001b[0;32m    330\u001b[0m \u001b[38;5;28;01mif\u001b[39;00m \u001b[38;5;18m__name__\u001b[39m \u001b[38;5;241m==\u001b[39m \u001b[38;5;124m'\u001b[39m\u001b[38;5;124m__main__\u001b[39m\u001b[38;5;124m'\u001b[39m:\n\u001b[1;32m--> 331\u001b[0m     \u001b[43mmain\u001b[49m\u001b[43m(\u001b[49m\u001b[43m)\u001b[49m\n",
      "Cell \u001b[1;32mIn[44], line 303\u001b[0m, in \u001b[0;36mmain\u001b[1;34m()\u001b[0m\n\u001b[0;32m    301\u001b[0m \u001b[38;5;28mprint\u001b[39m(\u001b[38;5;124m\"\u001b[39m\u001b[38;5;130;01m\\n\u001b[39;00m\u001b[38;5;124m\"\u001b[39m \u001b[38;5;241m+\u001b[39m \u001b[38;5;124m\"\u001b[39m\u001b[38;5;124m=\u001b[39m\u001b[38;5;124m\"\u001b[39m\u001b[38;5;241m*\u001b[39m\u001b[38;5;241m70\u001b[39m)\n\u001b[0;32m    302\u001b[0m \u001b[38;5;28;01mtry\u001b[39;00m:\n\u001b[1;32m--> 303\u001b[0m     fn \u001b[38;5;241m=\u001b[39m \u001b[38;5;28;43minput\u001b[39;49m\u001b[43m(\u001b[49m\u001b[38;5;124;43m'\u001b[39;49m\u001b[38;5;124;43m메뉴선택 : \u001b[39;49m\u001b[38;5;124;43m'\u001b[39;49m\u001b[43m)\u001b[49m\n\u001b[0;32m    304\u001b[0m     \u001b[38;5;28;01mif\u001b[39;00m \u001b[38;5;129;01mnot\u001b[39;00m fn\u001b[38;5;241m.\u001b[39misdigit():\n\u001b[0;32m    305\u001b[0m          \u001b[38;5;28;01mraise\u001b[39;00m \u001b[38;5;167;01mValueError\u001b[39;00m\n",
      "File \u001b[1;32m~\\anaconda3\\lib\\site-packages\\ipykernel\\kernelbase.py:1175\u001b[0m, in \u001b[0;36mKernel.raw_input\u001b[1;34m(self, prompt)\u001b[0m\n\u001b[0;32m   1171\u001b[0m \u001b[38;5;28;01mif\u001b[39;00m \u001b[38;5;129;01mnot\u001b[39;00m \u001b[38;5;28mself\u001b[39m\u001b[38;5;241m.\u001b[39m_allow_stdin:\n\u001b[0;32m   1172\u001b[0m     \u001b[38;5;28;01mraise\u001b[39;00m StdinNotImplementedError(\n\u001b[0;32m   1173\u001b[0m         \u001b[38;5;124m\"\u001b[39m\u001b[38;5;124mraw_input was called, but this frontend does not support input requests.\u001b[39m\u001b[38;5;124m\"\u001b[39m\n\u001b[0;32m   1174\u001b[0m     )\n\u001b[1;32m-> 1175\u001b[0m \u001b[38;5;28;01mreturn\u001b[39;00m \u001b[38;5;28;43mself\u001b[39;49m\u001b[38;5;241;43m.\u001b[39;49m\u001b[43m_input_request\u001b[49m\u001b[43m(\u001b[49m\n\u001b[0;32m   1176\u001b[0m \u001b[43m    \u001b[49m\u001b[38;5;28;43mstr\u001b[39;49m\u001b[43m(\u001b[49m\u001b[43mprompt\u001b[49m\u001b[43m)\u001b[49m\u001b[43m,\u001b[49m\n\u001b[0;32m   1177\u001b[0m \u001b[43m    \u001b[49m\u001b[38;5;28;43mself\u001b[39;49m\u001b[38;5;241;43m.\u001b[39;49m\u001b[43m_parent_ident\u001b[49m\u001b[43m[\u001b[49m\u001b[38;5;124;43m\"\u001b[39;49m\u001b[38;5;124;43mshell\u001b[39;49m\u001b[38;5;124;43m\"\u001b[39;49m\u001b[43m]\u001b[49m\u001b[43m,\u001b[49m\n\u001b[0;32m   1178\u001b[0m \u001b[43m    \u001b[49m\u001b[38;5;28;43mself\u001b[39;49m\u001b[38;5;241;43m.\u001b[39;49m\u001b[43mget_parent\u001b[49m\u001b[43m(\u001b[49m\u001b[38;5;124;43m\"\u001b[39;49m\u001b[38;5;124;43mshell\u001b[39;49m\u001b[38;5;124;43m\"\u001b[39;49m\u001b[43m)\u001b[49m\u001b[43m,\u001b[49m\n\u001b[0;32m   1179\u001b[0m \u001b[43m    \u001b[49m\u001b[43mpassword\u001b[49m\u001b[38;5;241;43m=\u001b[39;49m\u001b[38;5;28;43;01mFalse\u001b[39;49;00m\u001b[43m,\u001b[49m\n\u001b[0;32m   1180\u001b[0m \u001b[43m\u001b[49m\u001b[43m)\u001b[49m\n",
      "File \u001b[1;32m~\\anaconda3\\lib\\site-packages\\ipykernel\\kernelbase.py:1217\u001b[0m, in \u001b[0;36mKernel._input_request\u001b[1;34m(self, prompt, ident, parent, password)\u001b[0m\n\u001b[0;32m   1214\u001b[0m             \u001b[38;5;28;01mbreak\u001b[39;00m\n\u001b[0;32m   1215\u001b[0m \u001b[38;5;28;01mexcept\u001b[39;00m \u001b[38;5;167;01mKeyboardInterrupt\u001b[39;00m:\n\u001b[0;32m   1216\u001b[0m     \u001b[38;5;66;03m# re-raise KeyboardInterrupt, to truncate traceback\u001b[39;00m\n\u001b[1;32m-> 1217\u001b[0m     \u001b[38;5;28;01mraise\u001b[39;00m \u001b[38;5;167;01mKeyboardInterrupt\u001b[39;00m(\u001b[38;5;124m\"\u001b[39m\u001b[38;5;124mInterrupted by user\u001b[39m\u001b[38;5;124m\"\u001b[39m) \u001b[38;5;28;01mfrom\u001b[39;00m \u001b[38;5;28mNone\u001b[39m\n\u001b[0;32m   1218\u001b[0m \u001b[38;5;28;01mexcept\u001b[39;00m \u001b[38;5;167;01mException\u001b[39;00m:\n\u001b[0;32m   1219\u001b[0m     \u001b[38;5;28mself\u001b[39m\u001b[38;5;241m.\u001b[39mlog\u001b[38;5;241m.\u001b[39mwarning(\u001b[38;5;124m\"\u001b[39m\u001b[38;5;124mInvalid Message:\u001b[39m\u001b[38;5;124m\"\u001b[39m, exc_info\u001b[38;5;241m=\u001b[39m\u001b[38;5;28;01mTrue\u001b[39;00m)\n",
      "\u001b[1;31mKeyboardInterrupt\u001b[0m: Interrupted by user"
     ]
    }
   ],
   "source": [
    "import re\n",
    "import csv # fn5_save_customer_csv를 위해 import\n",
    "\n",
    "# ============== 1. 클래스 및 유틸리티 정의 ==============\n",
    "\n",
    "class NonPositiveIntError(Exception):\n",
    "    \"\"\"나이나 등급이 0 이하의 숫자가 입력되었을 때 발생하는 예외.\"\"\"\n",
    "    pass\n",
    "\n",
    "class Customer:\n",
    "    def __init__(self, name, phone, email, age, grade, etc):\n",
    "        self.name = name\n",
    "        self.phone = phone\n",
    "        self.email = email\n",
    "        self.age = int(age)\n",
    "        # grade와 age는 int로 강제 변환\n",
    "        self.grade = int(grade) \n",
    "        self.etc = etc\n",
    "        \n",
    "    def as_dic(self): # 객체를 딕셔너리 데이터로 반환\n",
    "        return self.__dict__\n",
    "        \n",
    "    def to_txt_style(self): # 객체를 TXT 저장 포맷으로 변환 (직렬화)\n",
    "        # 모든 속성 값을 쉼표와 공백으로 구분된 문자열로 반환하며, \\n을 붙여 한 줄로 만듭니다.\n",
    "        return f\"{self.name}, {self.phone}, {self.email}, {self.age}, {self.grade}, {self.etc}\\n\"\n",
    "        \n",
    "    def __str__(self):\n",
    "        return \"{:>5}\\t{:^3}\\t{:^13}\\t{:^10}\\t{}\\t{}\".format(\n",
    "            '*' * self.grade, self.name, self.phone, self.email, self.age, self.etc\n",
    "        )\n",
    "    \n",
    "    def __repr__(self):\n",
    "        return f\"Customer('{self.name}', grade={self.grade})\"\n",
    "\n",
    "# 파일의 한 줄 문자열을 Customer 객체로 변환\n",
    "def to_customer(row):\n",
    "    try:\n",
    "        # 파일에서 읽을 때는 strip()으로 줄 바꿈 문자 제거\n",
    "        data = row.strip().split(', ') \n",
    "        if len(data) < 6:\n",
    "             raise ValueError(\"데이터 항목 개수 부족\")\n",
    "\n",
    "        # Age와 Grade는 반드시 정수로 변환\n",
    "        age = int(data[3])\n",
    "        grade = int(data[4])\n",
    "        \n",
    "        return Customer(data[0], data[1], data[2], age, grade, data[5])\n",
    "    \n",
    "    except ValueError as e:\n",
    "        print(f\"⚠️ 데이터 변환 오류: '{row.strip()}' - Age/Grade 항목이 숫자가 아니거나 형식이 잘못되었습니다. ({e})\")\n",
    "        return None # 변환 실패 시 None 반환\n",
    "\n",
    "# ============== 2. DB 및 파일 I/O 함수 ==============\n",
    "\n",
    "# 0. 고객목록 로딩\n",
    "def load_customers():\n",
    "    \"\"\"파일에서 고객 정보를 읽어 Customer 객체 리스트로 반환\"\"\"\n",
    "    filepath = 'data/ch09_customers.txt'\n",
    "    customer_list = []\n",
    "       \n",
    "    try:\n",
    "        with open(filepath, 'r', encoding='utf-8') as f:\n",
    "            lines = f.readlines()\n",
    "            for line in lines:\n",
    "                customer = to_customer(line)\n",
    "                if customer: # 변환에 성공한 객체만 추가\n",
    "                    customer_list.append(customer)\n",
    "    except FileNotFoundError:\n",
    "        # 파일이 없을 경우 빈 파일을 생성하고, 빈 리스트 반환\n",
    "        with open(filepath, 'w', encoding='utf-8') as f:\n",
    "            pass \n",
    "            \n",
    "    return customer_list\n",
    "\n",
    "# fn9. 텍스트 파일에 저장 (프로그램 종료 시 호출)\n",
    "def fn9_save_customer_txt(customer_list):\n",
    "    \"\"\"Customer 객체 리스트를 텍스트 파일에 저장\"\"\"\n",
    "    filepath = 'data/ch09_customers.txt'\n",
    "    try:\n",
    "        with open(filepath, 'w', encoding='utf-8') as f:\n",
    "            for customer in customer_list:\n",
    "                # to_txt_style() 메서드를 호출하고 반환된 문자열을 파일에 씁니다.\n",
    "                f.write(customer.to_txt_style()) \n",
    "        print(f\"\\n✅ {len(customer_list)}명의 고객 정보가 '{filepath}'에 저장되었습니다.\")\n",
    "    except Exception as e:\n",
    "        print(f\"❌ 파일 저장 중 오류 발생: {e}\")\n",
    "\n",
    "# ============== 3. 메뉴별 기능 구현 ==============\n",
    "\n",
    "# 정규표현식 패턴 컴파일 (앵커 ^ $ 추가)\n",
    "NAME_PATTERN = re.compile(r\"^[가-힣]{2,5}$|^[a-zA-Z ]{3,20}$\") \n",
    "PHONE_PATTERN = re.compile(r\"^(\\d{2,3})-(\\d{3,4})-(\\d{4})$\") # 앵커 추가\n",
    "EMAIL_PATTERN = re.compile(r\"^\\w+@\\w+(\\.\\w+){1,2}$\") # 앵커 추가\n",
    "\n",
    "# fn1. 입력\n",
    "def fn1_insert_customer_info():\n",
    "    '''1. 고객정보 입력 및 유효성 검사'''\n",
    "    \n",
    "    # [이름 입력]\n",
    "    while True:\n",
    "        input_name = input(\"이름: \")\n",
    "        if NAME_PATTERN.fullmatch(input_name): \n",
    "            name = input_name\n",
    "            break\n",
    "        else:\n",
    "            print(\"❌ 이름 형식이 부적절합니다. 한글 2~5자 또는 영문 3~20자만 입력 가능합니다.\")\n",
    "\n",
    "    # [전화번호 입력]\n",
    "    while True:\n",
    "        input_phone = input(\"전화번호 (예: 010-1234-5678): \")\n",
    "        if PHONE_PATTERN.fullmatch(input_phone):\n",
    "            phone = input_phone\n",
    "            break\n",
    "        else:\n",
    "            print(\"❌ 전화번호 형식이 맞지 않습니다. (예: 010-0000-0000)\")\n",
    "\n",
    "    # [이메일 입력]\n",
    "    while True:\n",
    "        input_email = input(\"이메일: \")\n",
    "        if EMAIL_PATTERN.fullmatch(input_email):\n",
    "            email = input_email\n",
    "            break\n",
    "        else:\n",
    "            print(\"❌ 이메일 형식이 맞지 않습니다. (예: user@domain.com)\")\n",
    "\n",
    "    # [나이 입력]\n",
    "    while True:\n",
    "        try:\n",
    "            age = int(input(\"나이: \"))\n",
    "            if age <= 0:\n",
    "                raise NonPositiveIntError\n",
    "            break\n",
    "        except ValueError:\n",
    "            print(\"❌ 나이는 반드시 유효한 정수(숫자)로 입력해야 합니다.\")\n",
    "        except NonPositiveIntError:\n",
    "            print(\"❌ 나이는 0보다 큰 값이어야 합니다.\")\n",
    "        # 일반적인 except Exception 블록을 제거하여 에러 처리 명확성을 높였습니다.\n",
    "            \n",
    "    # [고객등급 입력]\n",
    "    while True:\n",
    "        try:\n",
    "            grade = int(input(\"고객등급(1~5): \"))\n",
    "            if 1 <= grade <= 5:\n",
    "                break\n",
    "            else:\n",
    "                print(\"❌ 고객등급은 1부터 5 사이의 정수여야 합니다.\")\n",
    "        except ValueError:\n",
    "            print(\"❌ 고객등급은 반드시 정수(숫자)로 입력해야 합니다.\")\n",
    "\n",
    "    # [기타]\n",
    "    etc = input(\"기타 정보: \")\n",
    "    \n",
    "    return Customer(name, phone, email, age, grade, etc)\n",
    "\n",
    "# fn2. 전체 출력\n",
    "def fn2_print_customers(customer_list):\n",
    "    '''customer_list 출력'''\n",
    "    if not customer_list:\n",
    "        print(\"\\n⚠️ 현재 고객 목록이 비어 있습니다. (1.입력 메뉴로 추가하세요)\")\n",
    "        return\n",
    "        \n",
    "    print('\\n' + '='*70)\n",
    "    print('{:^70}'.format('고객 정보'))\n",
    "    print('='*70)\n",
    "    print(\"{:>5}\\t{:^3}\\t{:^13}\\t{:^10}\\t{}\\t{}\".format('grade','이름','전화','메일','나이','기타') )\n",
    "    print('-'*70)\n",
    "    for customer in customer_list:\n",
    "        print(customer) # __str__ 호출\n",
    "    print('-'*70)\n",
    "\n",
    "\n",
    "# fn3. 삭제\n",
    "def fn3_delete_customer(customer_list):\n",
    "    '''타겟 이름을 입력받아 고객 DB에서 제거, 동명이인 있을 경우 확인 절차'''\n",
    "\n",
    "    target_name = input('DB에서 삭제할 고객 이름을 입력하세요: ')\n",
    "    \n",
    "    # 1. 검색: 타겟 이름과 일치하는 모든 객체와 인덱스 찾기\n",
    "    matches = [(i, c) for i, c in enumerate(customer_list) if c.name == target_name]\n",
    "    \n",
    "    if not matches:\n",
    "        print(f\"❌ '{target_name}' 고객을 찾을 수 없습니다.\")\n",
    "        return\n",
    "\n",
    "    target_idx = -1 \n",
    "\n",
    "    # 2. 선택/확인: 일치하는 고객이 한 명 이상일 경우\n",
    "    print(f\"\\n'{target_name}' 고객 {len(matches)}명을 찾았습니다.\")\n",
    "    \n",
    "    if len(matches) > 1:\n",
    "        print(\"↓↓삭제할 대상 선택↓↓\")\n",
    "        for i, (original_idx, customer) in enumerate(matches):\n",
    "             # 고객 식별에 필요한 정보만 간결하게 출력\n",
    "             print(\"[{}] 등급: {:>5} | 전화: {:^13} / 내부 인덱스 {}\".format(\n",
    "                 i, '*'*customer.grade, customer.phone, original_idx\n",
    "             ))\n",
    "        \n",
    "        # 선택 번호 입력 루프\n",
    "        while True:\n",
    "            try:\n",
    "                choice = input(\"삭제할 고객의 번호를 입력하세요(0부터 시작, q:취소): \")\n",
    "                \n",
    "                if choice.lower() == 'q':\n",
    "                    print(\"삭제를 취소했습니다.\")\n",
    "                    return\n",
    "                \n",
    "                choice_idx = int(choice)\n",
    "                if 0 <= choice_idx < len(matches):\n",
    "                    target_idx = matches[choice_idx][0] # 삭제할 최종 인덱스\n",
    "                    break\n",
    "                else:\n",
    "                    print(\"잘못된 번호입니다. 다시 입력해주세요.\")\n",
    "            except ValueError:\n",
    "                print(\"숫자 또는 'q'만 입력해주세요.\")\n",
    "    else: # 일치하는 고객이 한 명일 경우\n",
    "        target_idx = matches[0][0]\n",
    "        \n",
    "    # 3. 최종 확인: 삭제할 것이 분명한지 Y/N 확인 절차\n",
    "    print(\"-\" * 30)\n",
    "    confirm_obj = customer_list[target_idx] \n",
    "    \n",
    "    while True:\n",
    "        confirm = input(f\"'{confirm_obj.name}' 고객 (등급: {confirm_obj.grade}, 인덱스: {target_idx})을(를) 정말로 삭제하시겠습니까? (Y/N): \").upper()\n",
    "        \n",
    "        if confirm == 'Y':\n",
    "            # 4. 삭제 실행\n",
    "            del customer_list[target_idx]\n",
    "            print(f\"\\n✅ 삭제 완료: '{confirm_obj.name}' 고객이 리스트에서 제거되었습니다.\")\n",
    "            return # 함수 종료\n",
    "        elif confirm == 'N':\n",
    "            print(\"삭제를 취소했습니다.\")\n",
    "            return # 함수 종료\n",
    "        else:\n",
    "            print(\"Y 또는 N으로만 응답해주세요.\")\n",
    "\n",
    "\n",
    "# fn4. 이름 찾기\n",
    "def fn4_search_customer(customer_list):\n",
    "    '''이름을 입력받아 해당 고객 정보 출력'''\n",
    "    target_name = input('검색할 고객 이름을 입력하세요: ')\n",
    "    \n",
    "    found_customers = [c for c in customer_list if c.name == target_name]\n",
    "    \n",
    "    if not found_customers:\n",
    "        print(f\"❌ '{target_name}' 고객을 찾을 수 없습니다.\")\n",
    "        return\n",
    "        \n",
    "    print(f\"\\n✅ '{target_name}' 고객 {len(found_customers)}명을 찾았습니다.\")\n",
    "    \n",
    "    # fn2의 출력 포맷을 사용하기 위해 헤더를 다시 출력\n",
    "    print('='*70)\n",
    "    print('{:^70}'.format(f\"'{target_name}' 검색 결과\"))\n",
    "    print('='*70)\n",
    "    print(\"{:>5}\\t{:^3}\\t{:^13}\\t{:^10}\\t{}\\t{}\".format('grade','이름','전화','메일','나이','기타') )\n",
    "    print('-'*70)\n",
    "    \n",
    "    for customer in found_customers:\n",
    "        print(customer) # __str__ 호출\n",
    "    print('-'*70)\n",
    "    \n",
    "\n",
    "# fn5. 내보내기 (CSV)\n",
    "def fn5_save_customer_csv(customer_list):\n",
    "    '''고객 정보를 CSV 파일로 저장'''\n",
    "    filepath = 'data/ch09_customers_export.csv'\n",
    "    \n",
    "    if not customer_list:\n",
    "        print(\"⚠️ 저장할 고객 목록이 비어 있습니다.\")\n",
    "        return\n",
    "        \n",
    "    try:\n",
    "        with open(filepath, 'w', newline='', encoding='utf-8') as f:\n",
    "            # csv.writer를 사용하여 쉼표 구분 파일을 정확하게 생성합니다.\n",
    "            writer = csv.writer(f)\n",
    "            \n",
    "            # 1. 헤더 (컬럼 이름) 쓰기\n",
    "            header = [\"name\", \"phone\", \"email\", \"age\", \"grade\", \"etc\"]\n",
    "            writer.writerow(header)\n",
    "            \n",
    "            # 2. 데이터 쓰기\n",
    "            for customer in customer_list:\n",
    "                # as_dic()으로 딕셔너리를 얻은 후 values()로 값만 추출\n",
    "                row_data = list(customer.as_dic().values())\n",
    "                writer.writerow(row_data) \n",
    "                \n",
    "        print(f\"\\n✅ {len(customer_list)}명의 고객 정보가 CSV 형식으로 '{filepath}'에 저장되었습니다.\")\n",
    "        \n",
    "    except Exception as e:\n",
    "        print(f\"❌ CSV 파일 저장 중 오류 발생: {e}\")\n",
    "\n",
    "\n",
    "# ==================== MAIN 함수 ====================\n",
    "def main():\n",
    "    global customer_list\n",
    "    customer_list = load_customers() # ch09_customers.txt의 내용을 load\n",
    "    while True:\n",
    "        print(\"\\n\" + \"=\"*70)\n",
    "        print(\"1:입력\", \"2:전체출력\", \"3:삭제\", \"4:이름찾기\", \"5:내보내기(CSV)\", \"9:종료\", sep=' | ', end=' ')\n",
    "        print(\"\\n\" + \"=\"*70)\n",
    "        try:\n",
    "            fn = input('메뉴선택 : ')\n",
    "            if not fn.isdigit():\n",
    "                 raise ValueError\n",
    "                 \n",
    "            fn = int(fn)\n",
    "            \n",
    "            if fn == 1:\n",
    "                customer = fn1_insert_customer_info()\n",
    "                customer_list.append(customer)\n",
    "            elif fn == 2:\n",
    "                fn2_print_customers(customer_list)\n",
    "            elif fn == 3:\n",
    "                fn3_delete_customer(customer_list)\n",
    "            elif fn == 4:\n",
    "                fn4_search_customer(customer_list)\n",
    "            elif fn == 5:\n",
    "                fn5_save_customer_csv(customer_list)\n",
    "            elif fn == 9:\n",
    "                # 9번 선택 시, 저장 후 루프 탈출\n",
    "                fn9_save_customer_txt(customer_list) \n",
    "                break\n",
    "            else:\n",
    "                print(\"❌ 유효한 메뉴 번호를 선택해 주세요.\")\n",
    "                \n",
    "        except ValueError:\n",
    "            print(\"❌ 숫자만 입력하거나, 유효한 메뉴를 선택해 주세요.\")\n",
    "\n",
    "if __name__ == '__main__':\n",
    "    main()\n"
   ]
  }
 ],
 "metadata": {
  "kernelspec": {
   "display_name": "Python 3 (ipykernel)",
   "language": "python",
   "name": "python3"
  },
  "language_info": {
   "codemirror_mode": {
    "name": "ipython",
    "version": 3
   },
   "file_extension": ".py",
   "mimetype": "text/x-python",
   "name": "python",
   "nbconvert_exporter": "python",
   "pygments_lexer": "ipython3",
   "version": "3.10.9"
  },
  "toc": {
   "base_numbering": 1,
   "nav_menu": {},
   "number_sections": false,
   "sideBar": true,
   "skip_h1_title": false,
   "title_cell": "Table of Contents",
   "title_sidebar": "Contents",
   "toc_cell": false,
   "toc_position": {
    "height": "calc(100% - 180px)",
    "left": "10px",
    "top": "150px",
    "width": "240.694px"
   },
   "toc_section_display": true,
   "toc_window_display": true
  }
 },
 "nbformat": 4,
 "nbformat_minor": 5
}
