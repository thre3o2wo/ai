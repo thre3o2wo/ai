{
 "cells": [
  {
   "cell_type": "code",
   "execution_count": 1,
   "id": "95b99477",
   "metadata": {},
   "outputs": [
    {
     "data": {
      "text/html": [
       "\n",
       "<style>\n",
       "div.container{width:90% !important;}\n",
       "div.cell.code_cell.rendered{width:90%;}\n",
       "div.input_prompt{padding:0px;}\n",
       "div.CodeMirror {font-family:Consolas; font-size:10pt;}\n",
       "div.text_cell_render.rendered_html{font-size:10pt;}\n",
       "div.output {font-size:10pt; font-weight:bold;}\n",
       "div.input {font-family:Consolas; font-size:10pt;}\n",
       "div.prompt {min-width:70px;}\n",
       "div#toc-wrapper{padding-top:120px;}\n",
       "div.text_cell_render ul li{font-size:10pt;padding:5px;}\n",
       "table.dataframe{font-size:10px;}\n",
       "</style>\n"
      ],
      "text/plain": [
       "<IPython.core.display.HTML object>"
      ]
     },
     "metadata": {},
     "output_type": "display_data"
    }
   ],
   "source": [
    "from IPython.display import display, HTML\n",
    "display(HTML(\"\"\"\n",
    "<style>\n",
    "div.container{width:90% !important;}\n",
    "div.cell.code_cell.rendered{width:90%;}\n",
    "div.input_prompt{padding:0px;}\n",
    "div.CodeMirror {font-family:Consolas; font-size:10pt;}\n",
    "div.text_cell_render.rendered_html{font-size:10pt;}\n",
    "div.output {font-size:10pt; font-weight:bold;}\n",
    "div.input {font-family:Consolas; font-size:10pt;}\n",
    "div.prompt {min-width:70px;}\n",
    "div#toc-wrapper{padding-top:120px;}\n",
    "div.text_cell_render ul li{font-size:10pt;padding:5px;}\n",
    "table.dataframe{font-size:10px;}\n",
    "</style>\n",
    "\"\"\"))"
   ]
  },
  {
   "cell_type": "markdown",
   "id": "04e208df",
   "metadata": {},
   "source": [
    "<b><font size=\"6\" color=\"red\">Ch 9. 파일 입출력(I/O) 프로그래밍</font><b>\n",
    "- 파일 : txt, csv, json, pickle(머신러닝 모델 저장, 배열 저장), h5(딥러닝 모델 저장)\n",
    "- json과 xml은 open API에서 많이 사용"
   ]
  },
  {
   "cell_type": "code",
   "execution_count": null,
   "id": "79dc876e",
   "metadata": {},
   "outputs": [],
   "source": [
    "'''\n",
    "1. *.csv\n",
    "    name, age\n",
    "    '홍길동', 39\n",
    "    '김길동', 20\n",
    "    \n",
    "2. *.json\n",
    "    [{'name':'홍길동','age':39},\n",
    "    {'name':'김길동','age':20}]\n",
    "    \n",
    "3. *.xml\n",
    "<person>\n",
    "    <name>홍길동</name>\n",
    "    <age>39</age>\n",
    "</person>\n",
    "<person>\n",
    "    <name>김길동</name>\n",
    "    <age>20</age>\n",
    "</person>\n",
    "'''"
   ]
  },
  {
   "cell_type": "markdown",
   "id": "13c69946",
   "metadata": {},
   "source": [
    "# 1. txt 파일에 데이터 저장하고 불러오기"
   ]
  },
  {
   "cell_type": "code",
   "execution_count": 4,
   "id": "1bc0ec9f",
   "metadata": {},
   "outputs": [
    {
     "name": "stdout",
     "output_type": "stream",
     "text": [
      "쓰기 가능한지:  True\n"
     ]
    }
   ],
   "source": [
    "#mode = 'r' or 'rt' : 텍스트 읽기 모드로 열기, 파일이 없을 경우 예외 발생\n",
    "#mode = 'w' or 'wt' : 텍스트 쓰기 모드로 열기, 폴더가 없을 경우 예외 발생, 파일 없으면 생성, 파일 있으면 덮어씀, close 해야 저장\n",
    "#mode = 'a' or 'at' : 텍스트 쓰기 모드로 열기, 폴더가 없을 경우 예외 발생, 파일 없으면 생성, 파일 있으면 append, close 해야 저장 \n",
    "f = open('data/ch09.txt', 'w') #기본 encoding='cp949', 한글확장 encoding='utf-8'\n",
    "print('쓰기 가능한지: ', f.writable())\n",
    "f.write('Hello\\nWorld\\n')\n",
    "f.close()"
   ]
  },
  {
   "cell_type": "code",
   "execution_count": 5,
   "id": "f48abbd2",
   "metadata": {},
   "outputs": [
    {
     "name": "stdout",
     "output_type": "stream",
     "text": [
      "쓰기 가능한지:  True\n"
     ]
    }
   ],
   "source": [
    "# with구문을 사용면 매번 close()하는 코드가 불필요\n",
    "with open('data/ch09.txt', 'wt') as f:\n",
    "    print('쓰기 가능한지: ', f.writable())\n",
    "    f.write('Python is easy.\\nPython is smart.\\n')"
   ]
  },
  {
   "cell_type": "code",
   "execution_count": 6,
   "id": "257bfaf0",
   "metadata": {},
   "outputs": [
    {
     "name": "stdout",
     "output_type": "stream",
     "text": [
      "프린트 함수로 파일 쓰기가 가능합니다. - 콘솔 출력\n"
     ]
    }
   ],
   "source": [
    "with open('data/ch09.txt', 'a') as f: #cp949\n",
    "    print('프린트 함수로 파일 쓰기가 가능합니다. - 파일 출력', file = f)\n",
    "    print('프린트 함수로 파일 쓰기가 가능합니다. - 콘솔 출력')"
   ]
  },
  {
   "cell_type": "markdown",
   "id": "5afecedc",
   "metadata": {},
   "source": [
    "- 한글 읽기 / 쓰기\n",
    "    * cp 949(한글완성형확장형) : open 함수의 기본 인코딩(win), 메모장으로 열기\n",
    "    * utf-8(한글조합형) : 주피터노트북에서 열기"
   ]
  },
  {
   "cell_type": "code",
   "execution_count": null,
   "id": "cd81dad9",
   "metadata": {},
   "outputs": [],
   "source": []
  },
  {
   "cell_type": "code",
   "execution_count": null,
   "id": "9859dd9b",
   "metadata": {},
   "outputs": [],
   "source": []
  }
 ],
 "metadata": {
  "kernelspec": {
   "display_name": "Python 3 (ipykernel)",
   "language": "python",
   "name": "python3"
  },
  "language_info": {
   "codemirror_mode": {
    "name": "ipython",
    "version": 3
   },
   "file_extension": ".py",
   "mimetype": "text/x-python",
   "name": "python",
   "nbconvert_exporter": "python",
   "pygments_lexer": "ipython3",
   "version": "3.10.9"
  },
  "toc": {
   "base_numbering": 1,
   "nav_menu": {},
   "number_sections": false,
   "sideBar": true,
   "skip_h1_title": false,
   "title_cell": "Table of Contents",
   "title_sidebar": "Contents",
   "toc_cell": false,
   "toc_position": {
    "height": "calc(100% - 180px)",
    "left": "10px",
    "top": "150px",
    "width": "240.7px"
   },
   "toc_section_display": true,
   "toc_window_display": true
  }
 },
 "nbformat": 4,
 "nbformat_minor": 5
}
