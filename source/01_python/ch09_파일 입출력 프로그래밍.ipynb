{
 "cells": [
  {
   "cell_type": "code",
   "execution_count": 1,
   "id": "95b99477",
   "metadata": {},
   "outputs": [
    {
     "data": {
      "text/html": [
       "\n",
       "<style>\n",
       "div.container{width:90% !important;}\n",
       "div.cell.code_cell.rendered{width:90%;}\n",
       "div.input_prompt{padding:0px;}\n",
       "div.CodeMirror {font-family:Consolas; font-size:10pt;}\n",
       "div.text_cell_render.rendered_html{font-size:10pt;}\n",
       "div.output {font-size:10pt; font-weight:bold;}\n",
       "div.input {font-family:Consolas; font-size:10pt;}\n",
       "div.prompt {min-width:70px;}\n",
       "div#toc-wrapper{padding-top:120px;}\n",
       "div.text_cell_render ul li{font-size:10pt;padding:5px;}\n",
       "table.dataframe{font-size:10px;}\n",
       "</style>\n"
      ],
      "text/plain": [
       "<IPython.core.display.HTML object>"
      ]
     },
     "metadata": {},
     "output_type": "display_data"
    }
   ],
   "source": [
    "from IPython.display import display, HTML\n",
    "display(HTML(\"\"\"\n",
    "<style>\n",
    "div.container{width:90% !important;}\n",
    "div.cell.code_cell.rendered{width:90%;}\n",
    "div.input_prompt{padding:0px;}\n",
    "div.CodeMirror {font-family:Consolas; font-size:10pt;}\n",
    "div.text_cell_render.rendered_html{font-size:10pt;}\n",
    "div.output {font-size:10pt; font-weight:bold;}\n",
    "div.input {font-family:Consolas; font-size:10pt;}\n",
    "div.prompt {min-width:70px;}\n",
    "div#toc-wrapper{padding-top:120px;}\n",
    "div.text_cell_render ul li{font-size:10pt;padding:5px;}\n",
    "table.dataframe{font-size:10px;}\n",
    "</style>\n",
    "\"\"\"))"
   ]
  },
  {
   "cell_type": "markdown",
   "id": "04e208df",
   "metadata": {},
   "source": [
    "<b><font size=\"6\" color=\"red\">Ch 9. 파일 입출력(I/O) 프로그래밍</font><b>\n",
    "- 파일 : txt, csv, json, pickle(머신러닝 모델 저장, 배열 저장), h5(딥러닝 모델 저장)\n",
    "- json과 xml은 open API에서 많이 사용"
   ]
  },
  {
   "cell_type": "code",
   "execution_count": null,
   "id": "79dc876e",
   "metadata": {},
   "outputs": [],
   "source": [
    "'''\n",
    "1. *.csv\n",
    "    name, age\n",
    "    '홍길동', 39\n",
    "    '김길동', 20\n",
    "    \n",
    "2. *.json\n",
    "    [{'name':'홍길동','age':39},\n",
    "    {'name':'김길동','age':20}]\n",
    "    \n",
    "3. *.xml\n",
    "<person>\n",
    "    <name>홍길동</name>\n",
    "    <age>39</age>\n",
    "</person>\n",
    "<person>\n",
    "    <name>김길동</name>\n",
    "    <age>20</age>\n",
    "</person>\n",
    "'''"
   ]
  },
  {
   "cell_type": "markdown",
   "id": "13c69946",
   "metadata": {},
   "source": [
    "# 1. txt 파일에 데이터 저장하고 불러오기"
   ]
  },
  {
   "cell_type": "code",
   "execution_count": 4,
   "id": "1bc0ec9f",
   "metadata": {},
   "outputs": [
    {
     "name": "stdout",
     "output_type": "stream",
     "text": [
      "쓰기 가능한지:  True\n"
     ]
    }
   ],
   "source": [
    "#mode = 'r' or 'rt' : 텍스트 읽기 모드로 열기, 파일이 없을 경우 예외 발생\n",
    "#mode = 'w' or 'wt' : 텍스트 쓰기 모드로 열기, 폴더가 없을 경우 예외 발생, 파일 없으면 생성, 파일 있으면 덮어씀, close 해야 저장\n",
    "#mode = 'a' or 'at' : 텍스트 쓰기 모드로 열기, 폴더가 없을 경우 예외 발생, 파일 없으면 생성, 파일 있으면 append, close 해야 저장 \n",
    "f = open('data/ch09.txt', 'w') #기본 encoding='cp949', 한글확장 encoding='utf-8'\n",
    "print('쓰기 가능한지: ', f.writable())\n",
    "f.write('Hello\\nWorld\\n')\n",
    "f.close()"
   ]
  },
  {
   "cell_type": "code",
   "execution_count": 5,
   "id": "f48abbd2",
   "metadata": {},
   "outputs": [
    {
     "name": "stdout",
     "output_type": "stream",
     "text": [
      "쓰기 가능한지:  True\n"
     ]
    }
   ],
   "source": [
    "# with구문을 사용면 매번 close()하는 코드가 불필요\n",
    "with open('data/ch09.txt', 'wt') as f:\n",
    "    print('쓰기 가능한지: ', f.writable())\n",
    "    f.write('Python is easy.\\nPython is smart.\\n')"
   ]
  },
  {
   "cell_type": "code",
   "execution_count": 6,
   "id": "257bfaf0",
   "metadata": {},
   "outputs": [
    {
     "name": "stdout",
     "output_type": "stream",
     "text": [
      "프린트 함수로 파일 쓰기가 가능합니다. - 콘솔 출력\n"
     ]
    }
   ],
   "source": [
    "with open('data/ch09.txt', 'a') as f: #cp949\n",
    "    print('프린트 함수로 파일 쓰기가 가능합니다. - 파일 출력', file = f)\n",
    "    print('프린트 함수로 파일 쓰기가 가능합니다. - 콘솔 출력')"
   ]
  },
  {
   "cell_type": "markdown",
   "id": "5afecedc",
   "metadata": {},
   "source": [
    "- 한글 읽기 / 쓰기\n",
    "    * cp 949(한글완성형확장형) : open 함수의 기본 인코딩(win), 메모장으로 열기\n",
    "    * utf-8(한글조합형) : 주피터노트북에서 열기\n",
    "- **csv, json** : 다수의 데이터를 저장하는 목적\n",
    "    - 메모장으로 열 수 있음\n",
    "- pickle(pkl, data / 객체 list, dictlist), h5(hdf5 / 딥러닝 모델 목적(데이터프레임). 객체, dictlist)\n",
    "    - 메모장으로 열 수 없음"
   ]
  },
  {
   "cell_type": "code",
   "execution_count": 3,
   "id": "cd81dad9",
   "metadata": {},
   "outputs": [],
   "source": [
    "with open('data/ch09.txt', 'w', encoding='UTF-8') as f:\n",
    "    #방법 1 (추천) - 한 줄씩\n",
    "    f.write('홍길동, 30, 서울\\n')\n",
    "    f.write('고길동, 20, 수원\\n')\n",
    "    #방법 2 (비추)\n",
    "    textlist = ['홍길동, 30, 서울\\n', '고길동, 20, 부산\\n']\n",
    "    for line in textlist:\n",
    "        f.write(line)\n",
    "    #방법 3 (추천) - 일괄\n",
    "    f.writelines(textlist) #리스트를 한꺼번에 write해 주는 함수. History 저장할 때 많이 씀"
   ]
  },
  {
   "cell_type": "code",
   "execution_count": 4,
   "id": "8132e10f",
   "metadata": {},
   "outputs": [
    {
     "data": {
      "text/plain": [
       "'홍길동, 30, 서울\\n고길동, 20, 수원\\n홍길동, 30, 서울\\n고길동, 20, 부산\\n홍길동, 30, 서울\\n고길동, 20, 부산\\n'"
      ]
     },
     "execution_count": 4,
     "metadata": {},
     "output_type": "execute_result"
    }
   ],
   "source": [
    "#파일을 한꺼번에 읽어오기\n",
    "with open('data/ch09.txt', encoding='UTF-8') as f:\n",
    "    filecontent = f.read()\n",
    "filecontent"
   ]
  },
  {
   "cell_type": "code",
   "execution_count": 5,
   "id": "5e32a657",
   "metadata": {},
   "outputs": [
    {
     "name": "stdout",
     "output_type": "stream",
     "text": [
      "홍길동, 30, 서울\n",
      "고길동, 20, 수원\n",
      "홍길동, 30, 서울\n",
      "고길동, 20, 부산\n",
      "홍길동, 30, 서울\n",
      "고길동, 20, 부산\n"
     ]
    }
   ],
   "source": [
    "#파일을 한 줄 읽고 출력하고, 한 줄 읽고 출력...\n",
    "with open('data/ch09.txt', 'r', encoding='utf-8') as txtfile:\n",
    "    line = txtfile.readline() #첫 줄 읽기\n",
    "    while line != '': #내용이 남지 않은 상태까지\n",
    "        print(line, end='') #데이터 자체에 줄나눔\\n 있으니 출력 시 줄나눔 제거\n",
    "        line = txtfile.readline() #다음 줄 읽기\n",
    "        \n",
    "#파일을 열면 파이썬은 내부적으로 커서(Cursor) 또는 파일 포인터(File Pointer)라는 것을 관리합니다. 이 커서가 '다음으로 읽거나 쓸 위치'를 기억합니다.\n",
    "#즉, readline() 함수를 호출할 때마다 파일 객체는 커서를 이동시키며 새로운 위치의 데이터를 읽어옵니다."
   ]
  },
  {
   "cell_type": "code",
   "execution_count": 8,
   "id": "c55df71e",
   "metadata": {},
   "outputs": [
    {
     "name": "stdout",
     "output_type": "stream",
     "text": [
      "['홍길동, 30, 서울\\n', '고길동, 20, 수원\\n', '홍길동, 30, 서울\\n', '고길동, 20, 부산\\n', '홍길동, 30, 서울\\n', '고길동, 20, 부산\\n']\n",
      "홍길동, 30, 서울\n",
      "고길동, 20, 수원\n",
      "홍길동, 30, 서울\n",
      "고길동, 20, 부산\n",
      "홍길동, 30, 서울\n",
      "고길동, 20, 부산\n"
     ]
    }
   ],
   "source": [
    "#파일을 한꺼번에 여러 줄 읽어, 한 줄씩 list 담아 return\n",
    "with open('data/ch09.txt', 'r', encoding='utf-8') as txtfile:\n",
    "    lines = txtfile.readlines() #한꺼번에 읽기\n",
    "print(lines)\n",
    "\n",
    "for line in lines:\n",
    "    print(line, end='')"
   ]
  },
  {
   "cell_type": "markdown",
   "id": "8ae6861b",
   "metadata": {},
   "source": [
    "# 2. pickle을 이용한 객체 저장 및 불러오기\n",
    "- 머신러닝 모델 저장, 배열 저장, 객체 저장\n",
    "## 2.1. 형식이 있는 텍스트 데이터"
   ]
  },
  {
   "cell_type": "code",
   "execution_count": 15,
   "id": "9e6061c3",
   "metadata": {},
   "outputs": [
    {
     "name": "stdout",
     "output_type": "stream",
     "text": [
      "{'name': '홍길동', 'age': 20, 'email': 'kildong@hong.com', 'address': '서울시 관악구'}\n",
      "{'name': '홍길숙', 'age': 25, 'email': 'kilsuk1@hong.com', 'address': '서울시 영등포구'}\n",
      "{'name': '신길동', 'age': 30, 'email': 'shinkil@hong.com', 'address': '서울시 동작구'}\n"
     ]
    }
   ],
   "source": [
    "with open('data/ch09_member.txt', 'r', encoding='utf-8') as f:\n",
    "    lines = f.readlines()\n",
    "#print(lines)\n",
    "for line in lines:\n",
    "    #print(line)\n",
    "    data = line.split(', ')\n",
    "    #print(data)\n",
    "    name = data[0]\n",
    "    age = int(data[1])\n",
    "    email = data[2]\n",
    "    address = data[3].strip()\n",
    "    print({'name':name, 'age':age, 'email':email, 'address':address})"
   ]
  },
  {
   "cell_type": "code",
   "execution_count": 26,
   "id": "581c8ea7",
   "metadata": {},
   "outputs": [],
   "source": [
    "class Member:\n",
    "    def __init__(self, name, age, email, address):\n",
    "        self.name = name\n",
    "        self.age = age\n",
    "        self.email = email\n",
    "        self.address = address\n",
    "    def __str__(self):\n",
    "        return \"{}, {}, {}, {}\".format(self.name, self.age, self.email, self.address)\n",
    "    def __eq__(self, other):\n",
    "#오버라이딩 전에는\n",
    "#        return id(self) == id(other)\n",
    "#오버라이딩\n",
    "#         return self.name == other.name and \\\n",
    "#                 self.age == other.age and \\\n",
    "#                 self.email == other.email and \\\n",
    "#                 self.address == other.address\n",
    "#넘모 길고 복잡하잖아. 아래로 쓰자\n",
    "        return self.__str__() == other.__str__()\n",
    "    def as_dict(self):\n",
    "        '객체를 딕셔너리로 바꿔 return(*.json 파일 저장 시 필요)'\n",
    "        return self.__dict__"
   ]
  },
  {
   "cell_type": "code",
   "execution_count": 27,
   "id": "96510b88",
   "metadata": {},
   "outputs": [
    {
     "name": "stdout",
     "output_type": "stream",
     "text": [
      "신길동, 30, shinkil@hong.com, 서울시 동작구\n",
      "신길동, 30, shinkil@hong.com, 서울시 동작구\n",
      "True\n",
      "True\n",
      "{'name': '신길동', 'age': 30, 'email': 'shinkil@hong.com', 'address': '서울시 동작구'}\n",
      "{'name': '신길동', 'age': 30, 'email': 'shinkil@hong.com', 'address': '서울시 동작구'}\n"
     ]
    }
   ],
   "source": [
    "member1 = Member('신길동', 30, 'shinkil@hong.com', '서울시 동작구')\n",
    "member2 = Member('신길동', 30, 'shinkil@hong.com', '서울시 동작구')\n",
    "print(member1)\n",
    "print(member2)\n",
    "#둘은 별개의 객체, \n",
    "print(member1 == member2)\n",
    "#print하면 __str__ 작동하듯이, ==쓰면 __eq__가 작동\n",
    "print(member2.__eq__(member1))\n",
    "print(member1.__dict__)\n",
    "print(member1.as_dict())"
   ]
  },
  {
   "cell_type": "markdown",
   "id": "d0eb7289",
   "metadata": {},
   "source": [
    "## 2.2. Pickling\n",
    "- 객체 리스트 → pickle 파일로 쓰기\n",
    "- pickle 파일 → 객체 리스트로 읽기"
   ]
  },
  {
   "cell_type": "code",
   "execution_count": 29,
   "id": "ac9b5b57",
   "metadata": {},
   "outputs": [],
   "source": [
    "#ch09_member.txt파일 → 객체 list, dict list로 읽기\n",
    "member_list = [] #Member객체 list. 여기에 append 예정\n",
    "dict_list = [] #dictionary list.\n",
    "with open('data/ch09_member.txt', encoding='utf-8') as f:\n",
    "    lines = f.readlines()\n",
    "for line in lines: #줄별로\n",
    "    data = line.split(',')\n",
    "    data = [item.strip() for item in data]\n",
    "    name = data[0] #key에 value 할당\n",
    "    age = int(data[1])\n",
    "    email = data[2]\n",
    "    address = data[3]\n",
    "    member = Member(name, age, email, address) #클래스 객체\n",
    "    member_list.append(member) #member 객체 리스트에 append\n",
    "    dict_list.append(member.__dict__) #dict 리스트에 append"
   ]
  },
  {
   "cell_type": "code",
   "execution_count": 30,
   "id": "fdb9849f",
   "metadata": {},
   "outputs": [
    {
     "name": "stdout",
     "output_type": "stream",
     "text": [
      "홍길동, 20, kildong@hong.com, 서울시 관악구\n",
      "홍길숙, 25, kilsuk1@hong.com, 서울시 영등포구\n",
      "신길동, 30, shinkil@hong.com, 서울시 동작구\n"
     ]
    }
   ],
   "source": [
    "for member in member_list: #객체 리스트 확인\n",
    "    print(member)"
   ]
  },
  {
   "cell_type": "code",
   "execution_count": 31,
   "id": "7e85cf1e",
   "metadata": {},
   "outputs": [],
   "source": [
    "#피클링(확장자: pkl, pickle, data)을 이용한 객체를 파일에 저장하기\n",
    "import pickle #python 기본 패키지에 포함\n",
    "with open('data/ch09_member.pkl', 'wb') as f: #wb: binary code로, so encoding 정보도 필요 없음\n",
    "    pickle.dump(member_list, f)"
   ]
  },
  {
   "cell_type": "code",
   "execution_count": 32,
   "id": "38b7a9d7",
   "metadata": {},
   "outputs": [],
   "source": [
    "#피클링을 이용한 파일을 객체 리스트로 읽기\n",
    "with open('data/ch09_member.pkl', 'rb') as f:\n",
    "    load_member_list = pickle.load(f)"
   ]
  },
  {
   "cell_type": "code",
   "execution_count": 34,
   "id": "02d7b7b2",
   "metadata": {},
   "outputs": [
    {
     "data": {
      "text/plain": [
       "(1786997850240, 1786998060992)"
      ]
     },
     "execution_count": 34,
     "metadata": {},
     "output_type": "execute_result"
    }
   ],
   "source": [
    "id(member_list), id(load_member_list)"
   ]
  },
  {
   "cell_type": "code",
   "execution_count": 33,
   "id": "c3e3a1f7",
   "metadata": {},
   "outputs": [
    {
     "name": "stdout",
     "output_type": "stream",
     "text": [
      "0 번째 비교:  True\n",
      "1 번째 비교:  True\n",
      "2 번째 비교:  True\n"
     ]
    }
   ],
   "source": [
    "#번거로운 방식으로는\n",
    "for idx in range(len(member_list)):\n",
    "    print(idx, '번째 비교: ', (member_list[idx]==load_member_list[idx]))"
   ]
  },
  {
   "cell_type": "code",
   "execution_count": 39,
   "id": "6abba288",
   "metadata": {},
   "outputs": [
    {
     "name": "stdout",
     "output_type": "stream",
     "text": [
      "member:  홍길동, 20, kildong@hong.com, 서울시 관악구\n",
      "load_member:  홍길동, 20, kildong@hong.com, 서울시 관악구\n",
      "member:  홍길숙, 25, kilsuk1@hong.com, 서울시 영등포구\n",
      "load_member:  홍길숙, 25, kilsuk1@hong.com, 서울시 영등포구\n",
      "member:  신길동, 30, shinkil@hong.com, 서울시 동작구\n",
      "load_member:  신길동, 30, shinkil@hong.com, 서울시 동작구\n"
     ]
    }
   ],
   "source": [
    "#이게 더 좋아요.\n",
    "for member, load_member in zip(member_list, load_member_list):    \n",
    "    print('member: ', member)\n",
    "    print('load_member: ', load_member)"
   ]
  },
  {
   "cell_type": "code",
   "execution_count": 40,
   "id": "d29ad1c1",
   "metadata": {},
   "outputs": [
    {
     "name": "stdout",
     "output_type": "stream",
     "text": [
      "0 번째 비교:  True\n",
      "1 번째 비교:  True\n",
      "2 번째 비교:  True\n"
     ]
    }
   ],
   "source": [
    "for idx, (member, load_member) in enumerate(zip(member_list, load_member_list)):\n",
    "    print(idx, '번째 비교: ', member==load_member)"
   ]
  },
  {
   "cell_type": "code",
   "execution_count": 41,
   "id": "709daf48",
   "metadata": {},
   "outputs": [
    {
     "data": {
      "text/plain": [
       "[True, True, True]"
      ]
     },
     "execution_count": 41,
     "metadata": {},
     "output_type": "execute_result"
    }
   ],
   "source": [
    "result = [] #비교결과(True/False)를 append\n",
    "for member, load_member in zip(member_list, load_member_list):\n",
    "    result.append(member==load_member)\n",
    "result"
   ]
  },
  {
   "cell_type": "code",
   "execution_count": 43,
   "id": "7c72bf82",
   "metadata": {},
   "outputs": [
    {
     "data": {
      "text/plain": [
       "True"
      ]
     },
     "execution_count": 43,
     "metadata": {},
     "output_type": "execute_result"
    }
   ],
   "source": [
    "all(result) #모든 요소들이 True인지 여부 반환"
   ]
  },
  {
   "cell_type": "code",
   "execution_count": 44,
   "id": "8db04757",
   "metadata": {},
   "outputs": [
    {
     "data": {
      "text/plain": [
       "False"
      ]
     },
     "execution_count": 44,
     "metadata": {},
     "output_type": "execute_result"
    }
   ],
   "source": [
    "all([True, True, True, True, True, True, False, True, True])"
   ]
  },
  {
   "cell_type": "markdown",
   "id": "3a7ab2ef",
   "metadata": {},
   "source": [
    "# 3. csv 파일 읽고 쓰기\n",
    "- 리스트 데이터로 읽고 쓰기. (3.1~2)\n",
    "- 딕셔너리 데이터로 읽고 쓰기. (3.3~4)\n",
    "- 데이터프레임으로 읽고 쓰기.\n",
    "## 3.1. reader"
   ]
  },
  {
   "cell_type": "code",
   "execution_count": 46,
   "id": "9ffa2b3a",
   "metadata": {},
   "outputs": [
    {
     "data": {
      "text/plain": [
       "[['홍길동', '20', 'kildong@hong.com', '서울시 관악구'],\n",
       " ['김길동', '40', 'kimdong@hong.com', '서울시 영등포구'],\n",
       " ['신길동', '30', 'sindong@hong.com', '서울시 동작구']]"
      ]
     },
     "execution_count": 46,
     "metadata": {},
     "output_type": "execute_result"
    }
   ],
   "source": [
    "import csv\n",
    "with open('data/ch09_member1.csv', 'r', encoding='utf-8') as f:\n",
    "    reader = csv.reader(f)\n",
    "    result = list(reader)\n",
    "result"
   ]
  },
  {
   "cell_type": "code",
   "execution_count": 47,
   "id": "4f72174a",
   "metadata": {},
   "outputs": [
    {
     "name": "stdout",
     "output_type": "stream",
     "text": [
      "['홍길동', 20.0, 'kildong@hong.com', '서울시 관악구']\n",
      "['김길동', 40.0, 'kimdong@hong.com', '서울시 영등포구']\n",
      "['신길동', 30.0, 'sindong@hong.com', '서울시 동작구']\n"
     ]
    }
   ],
   "source": [
    "#\"따옴표\"가 없는 데이터는 numeric으로\n",
    "with open('data/ch09_member1.csv', 'r', encoding='utf-8') as f:\n",
    "    reader = csv.reader(f, quoting=csv.QUOTE_NONNUMERIC)\n",
    "    for row in reader:\n",
    "        print(row)"
   ]
  },
  {
   "cell_type": "markdown",
   "id": "228f5801",
   "metadata": {},
   "source": [
    "## 3.2. writer\n",
    "- list → csv로 저장\n",
    "- mode 종류 : rt(r), rb, wt(w), wb, at(a)"
   ]
  },
  {
   "cell_type": "code",
   "execution_count": 48,
   "id": "4ddca7ef",
   "metadata": {},
   "outputs": [],
   "source": [
    "user_list = [['고길동', 20.0, 'koltong@hong.com', '서울시 은평구'], \n",
    "             ['홍길동', 40.0, 'theone@hong.com', '서울시 관악구'], \n",
    "             ['신길동', 30.0, 'sindong@hong.com', '서울시 동작구']]"
   ]
  },
  {
   "cell_type": "code",
   "execution_count": 50,
   "id": "2952871b",
   "metadata": {},
   "outputs": [],
   "source": [
    "#newline='\\n' default. (python 3.10)\n",
    "try:\n",
    "    with open('data/ch09_member2-write.csv', 'w', newline='') as f:\n",
    "        writer =csv. writer(f)\n",
    "#         for user in user_list:\n",
    "#             writer.writerow(user)\n",
    "        writer.writerows(user_list)\n",
    "except FileNotFoundError as e:\n",
    "    print(e)"
   ]
  },
  {
   "cell_type": "markdown",
   "id": "d41ef4ec",
   "metadata": {},
   "source": [
    "## 3.3. DictReader\n",
    "- csv 파일을 딕셔너리 데이터로 읽기"
   ]
  },
  {
   "cell_type": "code",
   "execution_count": 6,
   "id": "66d36ee0",
   "metadata": {},
   "outputs": [
    {
     "data": {
      "text/plain": [
       "[{'name': '홍길동',\n",
       "  'age': '20',\n",
       "  'email': 'h@h.com',\n",
       "  'address': '서울시 관악구',\n",
       "  'job': None},\n",
       " {'name': '신길동',\n",
       "  'age': '40',\n",
       "  'email': 's@h.com',\n",
       "  'address': '서울시 영등포구',\n",
       "  'job': '팀장'},\n",
       " {'name': '김길동',\n",
       "  'age': '30',\n",
       "  'email': 'k@h.com',\n",
       "  'address': '서울시 동작구',\n",
       "  'job': None}]"
      ]
     },
     "execution_count": 6,
     "metadata": {},
     "output_type": "execute_result"
    }
   ],
   "source": [
    "#header가 있는 csv 파일을 딕셔너리로 읽기(ch09_member3.csv)\n",
    "import csv\n",
    "with open('data/ch09_member3.csv', 'r', encoding='utf-8') as f:\n",
    "    dict_reader = csv.DictReader(f)\n",
    "    result = list(dict_reader)\n",
    "result"
   ]
  },
  {
   "cell_type": "code",
   "execution_count": 54,
   "id": "5bec22cc",
   "metadata": {},
   "outputs": [
    {
     "name": "stdout",
     "output_type": "stream",
     "text": [
      "{'name': '홍길동', 'age': '20', 'email': 'h@h.com', 'address': '서울시 관악구', 'job': '없음'}\n",
      "{'name': '신길동', 'age': '40', 'email': 's@h.com', 'address': '서울시 영등포구', 'job': '팀장'}\n",
      "{'name': '김길동', 'age': '30', 'email': 'k@h.com', 'address': '서울시 동작구', 'job': '없음'}\n"
     ]
    }
   ],
   "source": [
    "with open('data/ch09_member3.csv', 'r', encoding='utf-8') as f:\n",
    "    dict_reader = csv.DictReader(f, restval='없음') #value 빈 것들은 다 '없음'으로 치자\n",
    "    for row in dict_reader:\n",
    "        print(row)"
   ]
  },
  {
   "cell_type": "code",
   "execution_count": 2,
   "id": "790ccd84",
   "metadata": {},
   "outputs": [
    {
     "data": {
      "text/html": [
       "<div>\n",
       "<style scoped>\n",
       "    .dataframe tbody tr th:only-of-type {\n",
       "        vertical-align: middle;\n",
       "    }\n",
       "\n",
       "    .dataframe tbody tr th {\n",
       "        vertical-align: top;\n",
       "    }\n",
       "\n",
       "    .dataframe thead th {\n",
       "        text-align: right;\n",
       "    }\n",
       "</style>\n",
       "<table border=\"1\" class=\"dataframe\">\n",
       "  <thead>\n",
       "    <tr style=\"text-align: right;\">\n",
       "      <th></th>\n",
       "      <th>name</th>\n",
       "      <th>age</th>\n",
       "      <th>email</th>\n",
       "      <th>address</th>\n",
       "      <th>job</th>\n",
       "    </tr>\n",
       "  </thead>\n",
       "  <tbody>\n",
       "    <tr>\n",
       "      <th>0</th>\n",
       "      <td>홍길동</td>\n",
       "      <td>20</td>\n",
       "      <td>h@h.com</td>\n",
       "      <td>서울시 관악구</td>\n",
       "      <td>NaN</td>\n",
       "    </tr>\n",
       "    <tr>\n",
       "      <th>1</th>\n",
       "      <td>신길동</td>\n",
       "      <td>40</td>\n",
       "      <td>s@h.com</td>\n",
       "      <td>서울시 영등포구</td>\n",
       "      <td>팀장</td>\n",
       "    </tr>\n",
       "    <tr>\n",
       "      <th>2</th>\n",
       "      <td>김길동</td>\n",
       "      <td>30</td>\n",
       "      <td>k@h.com</td>\n",
       "      <td>서울시 동작구</td>\n",
       "      <td>NaN</td>\n",
       "    </tr>\n",
       "  </tbody>\n",
       "</table>\n",
       "</div>"
      ],
      "text/plain": [
       "  name  age    email   address  job\n",
       "0  홍길동   20  h@h.com   서울시 관악구  NaN\n",
       "1  신길동   40  s@h.com  서울시 영등포구   팀장\n",
       "2  김길동   30  k@h.com   서울시 동작구  NaN"
      ]
     },
     "execution_count": 2,
     "metadata": {},
     "output_type": "execute_result"
    }
   ],
   "source": [
    "#csv 파일을 데이터프레임 데이터로 읽기\n",
    "import pandas as pd\n",
    "members = pd.read_csv('data/ch09_member3.csv', encoding='utf-8') #open은 default cp949, pandas는 default utf-8\n",
    "members"
   ]
  },
  {
   "cell_type": "code",
   "execution_count": 3,
   "id": "ef8b8720",
   "metadata": {},
   "outputs": [
    {
     "data": {
      "text/plain": [
       "pandas.core.frame.DataFrame"
      ]
     },
     "execution_count": 3,
     "metadata": {},
     "output_type": "execute_result"
    }
   ],
   "source": [
    "type(members)"
   ]
  },
  {
   "cell_type": "code",
   "execution_count": 7,
   "id": "61f7b96f",
   "metadata": {},
   "outputs": [
    {
     "data": {
      "text/html": [
       "<div>\n",
       "<style scoped>\n",
       "    .dataframe tbody tr th:only-of-type {\n",
       "        vertical-align: middle;\n",
       "    }\n",
       "\n",
       "    .dataframe tbody tr th {\n",
       "        vertical-align: top;\n",
       "    }\n",
       "\n",
       "    .dataframe thead th {\n",
       "        text-align: right;\n",
       "    }\n",
       "</style>\n",
       "<table border=\"1\" class=\"dataframe\">\n",
       "  <thead>\n",
       "    <tr style=\"text-align: right;\">\n",
       "      <th></th>\n",
       "      <th>name</th>\n",
       "      <th>age</th>\n",
       "      <th>email</th>\n",
       "      <th>address</th>\n",
       "      <th>job</th>\n",
       "    </tr>\n",
       "  </thead>\n",
       "  <tbody>\n",
       "    <tr>\n",
       "      <th>0</th>\n",
       "      <td>홍길동</td>\n",
       "      <td>20</td>\n",
       "      <td>h@h.com</td>\n",
       "      <td>서울시 관악구</td>\n",
       "      <td>None</td>\n",
       "    </tr>\n",
       "    <tr>\n",
       "      <th>1</th>\n",
       "      <td>신길동</td>\n",
       "      <td>40</td>\n",
       "      <td>s@h.com</td>\n",
       "      <td>서울시 영등포구</td>\n",
       "      <td>팀장</td>\n",
       "    </tr>\n",
       "    <tr>\n",
       "      <th>2</th>\n",
       "      <td>김길동</td>\n",
       "      <td>30</td>\n",
       "      <td>k@h.com</td>\n",
       "      <td>서울시 동작구</td>\n",
       "      <td>None</td>\n",
       "    </tr>\n",
       "  </tbody>\n",
       "</table>\n",
       "</div>"
      ],
      "text/plain": [
       "  name age    email   address   job\n",
       "0  홍길동  20  h@h.com   서울시 관악구  None\n",
       "1  신길동  40  s@h.com  서울시 영등포구    팀장\n",
       "2  김길동  30  k@h.com   서울시 동작구  None"
      ]
     },
     "execution_count": 7,
     "metadata": {},
     "output_type": "execute_result"
    }
   ],
   "source": [
    "pd.DataFrame(data=result)"
   ]
  },
  {
   "cell_type": "code",
   "execution_count": 9,
   "id": "e6cc8ee5",
   "metadata": {},
   "outputs": [
    {
     "name": "stdout",
     "output_type": "stream",
     "text": [
      "{'Name': '홍길동', 'Age': '20', 'Email': 'kildong@hong.com', 'Address': '서울시 관악구', 'Job': ['']}\n",
      "{'Name': '김길동', 'Age': '40', 'Email': 'kimdong@hong.com', 'Address': '서울시 영등포구', 'Job': ['팀장']}\n",
      "{'Name': '신길동', 'Age': '30', 'Email': 'sindong@hong.com', 'Address': '서울시 동작구', 'Job': ['']}\n"
     ]
    }
   ],
   "source": [
    "#header가 없는 csv 파일을 딕셔너리 데이터로 읽기(ch09_member1-cp.csv)\n",
    "with open('data/ch09_member1-cp.csv', 'r') as f:\n",
    "    dict_reader = csv.DictReader(f, fieldnames=['Name', 'Age', 'Email', 'Address'], restkey='Job') #key 없는 value는 다 Job으로 치자\n",
    "    for row in dict_reader:\n",
    "        print(row)"
   ]
  },
  {
   "cell_type": "markdown",
   "id": "1a3c3b28",
   "metadata": {},
   "source": [
    "## 3.4. DictWriter\n",
    "- 딕셔너리 데이터(딕셔너리 list)를 csv파일로 쓰기"
   ]
  },
  {
   "cell_type": "code",
   "execution_count": 10,
   "id": "0c048422",
   "metadata": {},
   "outputs": [
    {
     "data": {
      "text/plain": [
       "[{'Name': '홍길동',\n",
       "  'Age': '20',\n",
       "  'Email': 'kildong@hong.com',\n",
       "  'Address': '서울시 관악구'},\n",
       " {'Name': '김길동',\n",
       "  'Age': '40',\n",
       "  'Email': 'kimdong@hong.com',\n",
       "  'Address': '서울시 영등포구'},\n",
       " {'Name': '신길동',\n",
       "  'Age': '30',\n",
       "  'Email': 'sindong@hong.com',\n",
       "  'Address': '서울시 동작구'}]"
      ]
     },
     "execution_count": 10,
     "metadata": {},
     "output_type": "execute_result"
    }
   ],
   "source": [
    "user1 = {'Name': '홍길동', 'Age': '20', 'Email': 'kildong@hong.com', 'Address': '서울시 관악구'}\n",
    "user2 = {'Name': '김길동', 'Age': '40', 'Email': 'kimdong@hong.com', 'Address': '서울시 영등포구'}\n",
    "user3 = {'Name': '신길동', 'Age': '30', 'Email': 'sindong@hong.com', 'Address': '서울시 동작구'}\n",
    "user_list = [user1, user2, user3]\n",
    "user_list"
   ]
  },
  {
   "cell_type": "code",
   "execution_count": 12,
   "id": "71f7f043",
   "metadata": {},
   "outputs": [
    {
     "data": {
      "text/plain": [
       "['Name', 'Age', 'Email', 'Address']"
      ]
     },
     "execution_count": 12,
     "metadata": {},
     "output_type": "execute_result"
    }
   ],
   "source": [
    "fieldnames = list(user1.keys())\n",
    "fieldnames"
   ]
  },
  {
   "cell_type": "code",
   "execution_count": 14,
   "id": "2e4fa3ed",
   "metadata": {},
   "outputs": [],
   "source": [
    "with open('data/ch09_member4.csv', 'w', encoding='utf-8', newline='') as f:\n",
    "    dict_writer = csv.DictWriter(f, fieldnames=fieldnames)\n",
    "    dict_writer.writeheader() #header 한 줄 쓰기(윗줄 fieldnames에서 가져옴)\n",
    "#     for user in user_list:\n",
    "#         dict_writer.writerow(user)\n",
    "    dict_writer.writerows(user_list)"
   ]
  },
  {
   "cell_type": "markdown",
   "id": "ea2d4447",
   "metadata": {},
   "source": [
    "# 4. JSON 파일에 저장하고 불러오기\n",
    "- 저장할 때는 dump / 불러올 때는 load\n",
    "-```[{'title':'국정자원 화재1', 'url':'http://~', 'content':'어쩌고저쩌고1'}, \n",
    "{'title':'국정자원 화재2', 'url':'http://~', 'content':'어쩌고저쩌고2'}, \n",
    "{'title':'국정자원 화재3', 'url':'http://~', 'content':'어쩌고저쩌고3'}]```\n",
    "## 4.1. JSON dump(파일에 저장)\n",
    "### 4.1.1. 딕셔너리 list를 json 파일로 저장"
   ]
  },
  {
   "cell_type": "code",
   "execution_count": 15,
   "id": "7eaf3829",
   "metadata": {},
   "outputs": [
    {
     "data": {
      "text/plain": [
       "[{'name': '홍길동', 'age': 20, 'email': 'hong@gd.com', 'address': '서울'},\n",
       " {'name': '고길동', 'age': 25, 'email': 'go@gd.com', 'address': '부산'},\n",
       " {'name': '신길동', 'age': 30, 'email': 'shin@gd.com', 'address': '대전'}]"
      ]
     },
     "execution_count": 15,
     "metadata": {},
     "output_type": "execute_result"
    }
   ],
   "source": [
    "data = [{'name': '홍길동', 'age': 20, 'email': 'hong@gd.com', 'address': '서울'},\n",
    "{'name': '고길동', 'age': 25, 'email': 'go@gd.com', 'address': '부산'},\n",
    "{'name': '신길동', 'age': 30, 'email': 'shin@gd.com', 'address': '대전'}]\n",
    "data"
   ]
  },
  {
   "cell_type": "code",
   "execution_count": 20,
   "id": "a8121711",
   "metadata": {},
   "outputs": [],
   "source": [
    "#ensure_ascii= 옵션의 역할: ASCII 코드를 벗어난 문자를 어떻게 처리할지\n",
    "#기본값(True) : 유니코드로 저장\n",
    "#False: 비ASCII코드는 원래 형태로 그대로 저장\n",
    "import json\n",
    "with open('data/ch09_member1.json', 'w') as jsonfile:\n",
    "    json.dump(data, #딕셔너리 리스트\n",
    "             jsonfile, #파일스트림\n",
    "             ensure_ascii=False, #none ASCII 코드 문자 처리 여부\n",
    "             indent='  ') #들여쓰기 여부. \\t도 가능"
   ]
  },
  {
   "cell_type": "markdown",
   "id": "ad5d8f3a",
   "metadata": {},
   "source": [
    "### 4.1.2. 객체 list를 json 파일로 저장\n",
    "- 객체를 딕셔너리로 바꾸는 함수가 필요"
   ]
  },
  {
   "cell_type": "code",
   "execution_count": 51,
   "id": "6abd3af5",
   "metadata": {},
   "outputs": [],
   "source": [
    "class Member:\n",
    "    def __init__(self, name, age, email, address):\n",
    "        self.name = name\n",
    "        self.age = age\n",
    "        self.email = email\n",
    "        self.address = address\n",
    "    def __str__(self):\n",
    "        return \"{}, {}, {}, {}\".format(self.name, self.age, self.email, self.address)\n",
    "    def __eq__(self, other):\n",
    "        return self.__str__() == other.__str__()\n",
    "    def as_dict(self):\n",
    "        '객체를 딕셔너리로 바꿔 return(*.json 파일 저장 시 필요)'\n",
    "        return self.__dict__"
   ]
  },
  {
   "cell_type": "code",
   "execution_count": 52,
   "id": "0d5625be",
   "metadata": {},
   "outputs": [
    {
     "data": {
      "text/plain": [
       "['홍길동, 30, h@gd.com, 서울', '마길동, 25, m@gd.com, 하남', '박길동, 35, p@gd.com, 대전']"
      ]
     },
     "execution_count": 52,
     "metadata": {},
     "output_type": "execute_result"
    }
   ],
   "source": [
    "member_list = [Member('홍길동', 30, 'h@gd.com', '서울'),\n",
    "              Member('마길동', 25, 'm@gd.com', '하남'),\n",
    "              Member('박길동', 35, 'p@gd.com', '대전')]\n",
    "[member.__str__() for member in member_list] #리스트 컴프리헨션 "
   ]
  },
  {
   "cell_type": "code",
   "execution_count": 53,
   "id": "04990720",
   "metadata": {},
   "outputs": [],
   "source": [
    "with open('data/ch09_member2.json', 'w', encoding='utf-8') as jsonfile:\n",
    "    json.dump(member_list, jsonfile, ensure_ascii=False, indent='\\t',\n",
    "    default=Member.as_dict) #객체를 딕셔너리 형태로 return 하는ㄹ 함수\n",
    "    #함수명()은 호출하는 거야. 여기선 호출하지 않음."
   ]
  },
  {
   "cell_type": "markdown",
   "id": "089f7086",
   "metadata": {},
   "source": [
    "## 4.2. JSON load(파일 읽기)\n",
    "### 4.2.1. json 파일을 딕셔너리 리스트로 읽기"
   ]
  },
  {
   "cell_type": "code",
   "execution_count": 54,
   "id": "9e9827d6",
   "metadata": {},
   "outputs": [
    {
     "data": {
      "text/plain": [
       "[{'name': '홍길동', 'age': 20, 'email': 'hong@gd.com', 'address': '서울'},\n",
       " {'name': '고길동', 'age': 25, 'email': 'go@gd.com', 'address': '부산'},\n",
       " {'name': '신길동', 'age': 30, 'email': 'shin@gd.com', 'address': '대전'}]"
      ]
     },
     "execution_count": 54,
     "metadata": {},
     "output_type": "execute_result"
    }
   ],
   "source": [
    "with open('data/ch09_member1.json', 'r') as jsonfile:\n",
    "    load_data = json.load(jsonfile)\n",
    "load_data"
   ]
  },
  {
   "cell_type": "code",
   "execution_count": 55,
   "id": "29b953ee",
   "metadata": {},
   "outputs": [
    {
     "data": {
      "text/plain": [
       "(list, dict)"
      ]
     },
     "execution_count": 55,
     "metadata": {},
     "output_type": "execute_result"
    }
   ],
   "source": [
    "type(load_data), type(load_data[0])"
   ]
  },
  {
   "cell_type": "markdown",
   "id": "658a9de1",
   "metadata": {},
   "source": [
    "### 4.2.2. json 파일을 객체 리스트로 읽기\n",
    "- 딕셔너리를 객체로 바꾸는 함수가 필요"
   ]
  },
  {
   "cell_type": "code",
   "execution_count": 56,
   "id": "9e9beba6",
   "metadata": {},
   "outputs": [],
   "source": [
    "# {'name': '신길동', 'age': 30, 'email': 'shin@gd.com', 'address': '대전'} → Member('신길동', 30, 'shin@gd.com', '대전')\n",
    "def as_member(dic): \n",
    "    return Member(dic.get('name'), dic.get('age'), dic.get('email'), dic.get('address'))"
   ]
  },
  {
   "cell_type": "code",
   "execution_count": 57,
   "id": "751ab9ca",
   "metadata": {},
   "outputs": [],
   "source": [
    "with open('data/ch09_member2.json', 'r', encoding='utf-8') as jsonfile:\n",
    "    load_member_list = json.load(jsonfile, object_hook=as_member) #딕셔너리를 객체로 return하는 함수"
   ]
  },
  {
   "cell_type": "code",
   "execution_count": 58,
   "id": "64443571",
   "metadata": {
    "scrolled": true
   },
   "outputs": [
    {
     "name": "stdout",
     "output_type": "stream",
     "text": [
      "홍길동, 30, h@gd.com, 서울\n",
      "마길동, 25, m@gd.com, 하남\n",
      "박길동, 35, p@gd.com, 대전\n"
     ]
    }
   ],
   "source": [
    "#pickle에서는 : member_list → pkl 파일 → load_member_list : 두 객체 리스트가 같은지 여부 검사\n",
    "#지금 json에서는 : member_list → json 파일 → load_member_list\n",
    "for load_member in load_member_list:\n",
    "    print(load_member)"
   ]
  },
  {
   "cell_type": "code",
   "execution_count": 59,
   "id": "9859dd9b",
   "metadata": {
    "scrolled": true
   },
   "outputs": [
    {
     "name": "stdout",
     "output_type": "stream",
     "text": [
      "홍길동, 30, h@gd.com, 서울 홍길동, 30, h@gd.com, 서울\n",
      "마길동, 25, m@gd.com, 하남 마길동, 25, m@gd.com, 하남\n",
      "박길동, 35, p@gd.com, 대전 박길동, 35, p@gd.com, 대전\n"
     ]
    }
   ],
   "source": [
    "result = []\n",
    "for member, load_member in zip(member_list, load_member_list):\n",
    "    print(member, load_member)"
   ]
  },
  {
   "cell_type": "code",
   "execution_count": 60,
   "id": "82b09118",
   "metadata": {},
   "outputs": [
    {
     "data": {
      "text/plain": [
       "[True, True, True]"
      ]
     },
     "execution_count": 60,
     "metadata": {},
     "output_type": "execute_result"
    }
   ],
   "source": [
    "result = [] \n",
    "for member, load_member in zip(member_list, load_member_list):\n",
    "    result.append(member==load_member)\n",
    "result"
   ]
  },
  {
   "cell_type": "code",
   "execution_count": 63,
   "id": "372a0996",
   "metadata": {},
   "outputs": [
    {
     "data": {
      "text/plain": [
       "True"
      ]
     },
     "execution_count": 63,
     "metadata": {},
     "output_type": "execute_result"
    }
   ],
   "source": [
    "all(result)"
   ]
  },
  {
   "cell_type": "code",
   "execution_count": 61,
   "id": "97a27112",
   "metadata": {},
   "outputs": [
    {
     "data": {
      "text/plain": [
       "(array([3, 5], dtype=int64),)"
      ]
     },
     "execution_count": 61,
     "metadata": {},
     "output_type": "execute_result"
    }
   ],
   "source": [
    "#False인 곳의 index가 궁금할 때\n",
    "import numpy as np\n",
    "result = np.array([True, True, True, False, True, False, True])\n",
    "np.where(result==False)"
   ]
  },
  {
   "cell_type": "code",
   "execution_count": 62,
   "id": "6f785d22",
   "metadata": {},
   "outputs": [
    {
     "data": {
      "text/plain": [
       "{True}"
      ]
     },
     "execution_count": 62,
     "metadata": {},
     "output_type": "execute_result"
    }
   ],
   "source": [
    "result = set() #빈 셋\n",
    "for member, load_member in zip(member_list, load_member_list):\n",
    "    result.add(member == load_member)\n",
    "result"
   ]
  }
 ],
 "metadata": {
  "kernelspec": {
   "display_name": "Python 3 (ipykernel)",
   "language": "python",
   "name": "python3"
  },
  "language_info": {
   "codemirror_mode": {
    "name": "ipython",
    "version": 3
   },
   "file_extension": ".py",
   "mimetype": "text/x-python",
   "name": "python",
   "nbconvert_exporter": "python",
   "pygments_lexer": "ipython3",
   "version": "3.10.9"
  },
  "toc": {
   "base_numbering": 1,
   "nav_menu": {},
   "number_sections": false,
   "sideBar": true,
   "skip_h1_title": false,
   "title_cell": "Table of Contents",
   "title_sidebar": "Contents",
   "toc_cell": false,
   "toc_position": {
    "height": "calc(100% - 180px)",
    "left": "10px",
    "top": "150px",
    "width": "240.7px"
   },
   "toc_section_display": true,
   "toc_window_display": true
  }
 },
 "nbformat": 4,
 "nbformat_minor": 5
}
