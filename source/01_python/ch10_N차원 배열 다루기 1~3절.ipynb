{
 "cells": [
  {
   "cell_type": "code",
   "execution_count": 1,
   "id": "95b99477",
   "metadata": {},
   "outputs": [
    {
     "data": {
      "text/html": [
       "\n",
       "<style>\n",
       "div.container{width:90% !important;}\n",
       "div.cell.code_cell.rendered{width:90%;}\n",
       "div.input_prompt{padding:0px;}\n",
       "div.CodeMirror {font-family:Consolas; font-size:10pt;}\n",
       "div.text_cell_render.rendered_html{font-size:10pt;}\n",
       "div.output {font-size:10pt; font-weight:bold;}\n",
       "div.input {font-family:Consolas; font-size:10pt;}\n",
       "div.prompt {min-width:70px;}\n",
       "div#toc-wrapper{padding-top:120px;}\n",
       "div.text_cell_render ul li{font-size:10pt;padding:5px;}\n",
       "table.dataframe{font-size:10px;}\n",
       "</style>\n"
      ],
      "text/plain": [
       "<IPython.core.display.HTML object>"
      ]
     },
     "metadata": {},
     "output_type": "display_data"
    }
   ],
   "source": [
    "from IPython.display import display, HTML\n",
    "display(HTML(\"\"\"\n",
    "<style>\n",
    "div.container{width:90% !important;}\n",
    "div.cell.code_cell.rendered{width:90%;}\n",
    "div.input_prompt{padding:0px;}\n",
    "div.CodeMirror {font-family:Consolas; font-size:10pt;}\n",
    "div.text_cell_render.rendered_html{font-size:10pt;}\n",
    "div.output {font-size:10pt; font-weight:bold;}\n",
    "div.input {font-family:Consolas; font-size:10pt;}\n",
    "div.prompt {min-width:70px;}\n",
    "div#toc-wrapper{padding-top:120px;}\n",
    "div.text_cell_render ul li{font-size:10pt;padding:5px;}\n",
    "table.dataframe{font-size:10px;}\n",
    "</style>\n",
    "\"\"\"))"
   ]
  },
  {
   "cell_type": "markdown",
   "id": "04e208df",
   "metadata": {},
   "source": [
    "<b><font size=\"6\" color=\"red\">Ch 10. N차원 배열 다루기</font><b>\n",
    "    <br><br>\n",
    "    - [NumPy](https://numpy.org/)<br>\n",
    "    - [NumpPy Doc](https://numpy.org/doc/)<br>\n",
    "    - 2차원 배열은 행렬 개념으로 이해<br>\n",
    "    - NumPy 패키지를 이용(C언어로 구현된 고성능 수치계산 패키지)\n",
    "    \n",
    "# 1. NumPy 패키지"
   ]
  },
  {
   "cell_type": "code",
   "execution_count": 2,
   "id": "043a4297",
   "metadata": {},
   "outputs": [
    {
     "data": {
      "text/plain": [
       "'1.23.5'"
      ]
     },
     "execution_count": 2,
     "metadata": {},
     "output_type": "execute_result"
    }
   ],
   "source": [
    "import numpy as np\n",
    "np.__version__"
   ]
  },
  {
   "cell_type": "code",
   "execution_count": 5,
   "id": "728bb8ee",
   "metadata": {},
   "outputs": [
    {
     "data": {
      "text/plain": [
       "array([ 0,  1,  2,  3,  4,  5,  6,  7,  8,  9, 10, 11, 12, 13, 14])"
      ]
     },
     "execution_count": 5,
     "metadata": {},
     "output_type": "execute_result"
    }
   ],
   "source": [
    "#np.arange(from, stop, by) : from부터 stop 앞까지 by씩 증가하는 1차원 배열 생성\n",
    "a = np.arange(15)\n",
    "a"
   ]
  },
  {
   "cell_type": "markdown",
   "id": "fab08804",
   "metadata": {},
   "source": [
    "## 1.1. 배열 속성"
   ]
  },
  {
   "cell_type": "code",
   "execution_count": 6,
   "id": "97d117cb",
   "metadata": {},
   "outputs": [
    {
     "data": {
      "text/plain": [
       "array([[ 0,  1,  2,  3,  4],\n",
       "       [ 5,  6,  7,  8,  9],\n",
       "       [10, 11, 12, 13, 14]])"
      ]
     },
     "execution_count": 6,
     "metadata": {},
     "output_type": "execute_result"
    }
   ],
   "source": [
    "from numpy import arange\n",
    "a =  arange(15).reshape(3, 5) #reshpae : 3행 5열 2차원 배열로 변환\n",
    "a"
   ]
  },
  {
   "cell_type": "code",
   "execution_count": 7,
   "id": "939fe4ac",
   "metadata": {},
   "outputs": [
    {
     "data": {
      "text/plain": [
       "numpy.ndarray"
      ]
     },
     "execution_count": 7,
     "metadata": {},
     "output_type": "execute_result"
    }
   ],
   "source": [
    "type(a) #a 변수의 type"
   ]
  },
  {
   "cell_type": "code",
   "execution_count": 8,
   "id": "c0cfa4ce",
   "metadata": {},
   "outputs": [
    {
     "data": {
      "text/plain": [
       "dtype('int32')"
      ]
     },
     "execution_count": 8,
     "metadata": {},
     "output_type": "execute_result"
    }
   ],
   "source": [
    "a.dtype #a 배열의 요소들의 type\n",
    "#정수 default int32"
   ]
  },
  {
   "cell_type": "code",
   "execution_count": 9,
   "id": "dd3e8e95",
   "metadata": {},
   "outputs": [
    {
     "data": {
      "text/plain": [
       "'int32'"
      ]
     },
     "execution_count": 9,
     "metadata": {},
     "output_type": "execute_result"
    }
   ],
   "source": [
    "a.dtype.name"
   ]
  },
  {
   "cell_type": "code",
   "execution_count": 10,
   "id": "fe102abb",
   "metadata": {},
   "outputs": [
    {
     "data": {
      "text/plain": [
       "4"
      ]
     },
     "execution_count": 10,
     "metadata": {},
     "output_type": "execute_result"
    }
   ],
   "source": [
    "a.itemsize #a 배열 안의 한 요소의 bytesize (32bit = 4byte)"
   ]
  },
  {
   "cell_type": "code",
   "execution_count": 11,
   "id": "1f836abe",
   "metadata": {},
   "outputs": [
    {
     "data": {
      "text/plain": [
       "2"
      ]
     },
     "execution_count": 11,
     "metadata": {},
     "output_type": "execute_result"
    }
   ],
   "source": [
    "a.ndim #축 개수(차원 수)"
   ]
  },
  {
   "cell_type": "code",
   "execution_count": 12,
   "id": "f942953f",
   "metadata": {},
   "outputs": [
    {
     "data": {
      "text/plain": [
       "15"
      ]
     },
     "execution_count": 12,
     "metadata": {},
     "output_type": "execute_result"
    }
   ],
   "source": [
    "a.size #배열 요소의 개수"
   ]
  },
  {
   "cell_type": "code",
   "execution_count": 13,
   "id": "512201ff",
   "metadata": {},
   "outputs": [
    {
     "data": {
      "text/plain": [
       "(3, 5)"
      ]
     },
     "execution_count": 13,
     "metadata": {},
     "output_type": "execute_result"
    }
   ],
   "source": [
    "a.shape #배열의 구조"
   ]
  },
  {
   "cell_type": "code",
   "execution_count": 15,
   "id": "49555657",
   "metadata": {},
   "outputs": [
    {
     "name": "stdout",
     "output_type": "stream",
     "text": [
      "shpae 조정 전 a\n",
      " [[ 0  1  2  3  4]\n",
      " [ 5  6  7  8  9]\n",
      " [10 11 12 13 14]]\n",
      "shape 조정 후 a\n",
      " [[ 0  1  2]\n",
      " [ 3  4  5]\n",
      " [ 6  7  8]\n",
      " [ 9 10 11]\n",
      " [12 13 14]]\n"
     ]
    }
   ],
   "source": [
    "print('shpae 조정 전 a\\n', a) #배열 print 시에 , 없어 리스트와 구별 가능\n",
    "a.shape = (5,3)\n",
    "print('shape 조정 후 a\\n', a)"
   ]
  },
  {
   "cell_type": "markdown",
   "id": "ee6946dc",
   "metadata": {},
   "source": [
    "## 1.2. 배열 타입 변경"
   ]
  },
  {
   "cell_type": "code",
   "execution_count": 16,
   "id": "39b48f10",
   "metadata": {},
   "outputs": [
    {
     "data": {
      "text/plain": [
       "array([[ 0,  1,  2,  3],\n",
       "       [ 4,  5,  6,  7],\n",
       "       [ 8,  9, 10, 11]])"
      ]
     },
     "execution_count": 16,
     "metadata": {},
     "output_type": "execute_result"
    }
   ],
   "source": [
    "a = arange(12).reshape(3,4)\n",
    "a"
   ]
  },
  {
   "cell_type": "code",
   "execution_count": 18,
   "id": "dfdd18bb",
   "metadata": {},
   "outputs": [
    {
     "data": {
      "text/plain": [
       "12"
      ]
     },
     "execution_count": 18,
     "metadata": {},
     "output_type": "execute_result"
    }
   ],
   "source": [
    "a.size"
   ]
  },
  {
   "cell_type": "code",
   "execution_count": 19,
   "id": "e0407e04",
   "metadata": {},
   "outputs": [
    {
     "data": {
      "text/plain": [
       "dtype('int32')"
      ]
     },
     "execution_count": 19,
     "metadata": {},
     "output_type": "execute_result"
    }
   ],
   "source": [
    "a.dtype"
   ]
  },
  {
   "cell_type": "code",
   "execution_count": 20,
   "id": "d8cce2a6",
   "metadata": {},
   "outputs": [
    {
     "data": {
      "text/plain": [
       "4"
      ]
     },
     "execution_count": 20,
     "metadata": {},
     "output_type": "execute_result"
    }
   ],
   "source": [
    "a.itemsize"
   ]
  },
  {
   "cell_type": "code",
   "execution_count": 21,
   "id": "73c937d5",
   "metadata": {},
   "outputs": [
    {
     "data": {
      "text/plain": [
       "dtype('int64')"
      ]
     },
     "execution_count": 21,
     "metadata": {},
     "output_type": "execute_result"
    }
   ],
   "source": [
    "#타입 변경 시 이렇게 직접 바꾸면 안 된다!\n",
    "a.dtype = np.int64 #읽을 때 int64로(64bit씩) 읽는다. \n",
    "a.dtype"
   ]
  },
  {
   "cell_type": "code",
   "execution_count": 23,
   "id": "5ebeeb23",
   "metadata": {},
   "outputs": [
    {
     "data": {
      "text/plain": [
       "array([[ 4294967296, 12884901890],\n",
       "       [21474836484, 30064771078],\n",
       "       [38654705672, 47244640266]], dtype=int64)"
      ]
     },
     "execution_count": 23,
     "metadata": {},
     "output_type": "execute_result"
    }
   ],
   "source": [
    "a #동일한 데이터를 32bit에서 64bit로 변경하면 읽는 방법이 바뀌어서 전혀 다른 숫자가 됨"
   ]
  },
  {
   "cell_type": "code",
   "execution_count": 24,
   "id": "958ea737",
   "metadata": {},
   "outputs": [
    {
     "data": {
      "text/plain": [
       "array([[ 0,  1,  2,  3],\n",
       "       [ 4,  5,  6,  7],\n",
       "       [ 8,  9, 10, 11]])"
      ]
     },
     "execution_count": 24,
     "metadata": {},
     "output_type": "execute_result"
    }
   ],
   "source": [
    "#배열 요소의 타입을 수정\n",
    "a = arange(12).reshape(3, 4)\n",
    "a"
   ]
  },
  {
   "cell_type": "code",
   "execution_count": 28,
   "id": "7c8a8f3e",
   "metadata": {},
   "outputs": [
    {
     "data": {
      "text/plain": [
       "array([[ 0,  1,  2,  3],\n",
       "       [ 4,  5,  6,  7],\n",
       "       [ 8,  9, 10, 11]], dtype=int64)"
      ]
     },
     "execution_count": 28,
     "metadata": {},
     "output_type": "execute_result"
    }
   ],
   "source": [
    "#타입을 직접 변경하는 게 아닌 셈이라, 원본에 재할당 필요\n",
    "#a.astype(np.int64)\n",
    "a = a.astype('int64')\n",
    "a"
   ]
  },
  {
   "cell_type": "code",
   "execution_count": 29,
   "id": "25733d4e",
   "metadata": {},
   "outputs": [
    {
     "data": {
      "text/plain": [
       "8"
      ]
     },
     "execution_count": 29,
     "metadata": {},
     "output_type": "execute_result"
    }
   ],
   "source": [
    "a.itemsize"
   ]
  },
  {
   "cell_type": "code",
   "execution_count": 30,
   "id": "9bfb5d0d",
   "metadata": {},
   "outputs": [
    {
     "data": {
      "text/plain": [
       "12"
      ]
     },
     "execution_count": 30,
     "metadata": {},
     "output_type": "execute_result"
    }
   ],
   "source": [
    "a.size"
   ]
  },
  {
   "cell_type": "code",
   "execution_count": 31,
   "id": "18e46748",
   "metadata": {},
   "outputs": [
    {
     "data": {
      "text/plain": [
       "array([ 0,  1,  2,  3,  4,  5,  6,  7,  8,  9, 10, 11], dtype=int64)"
      ]
     },
     "execution_count": 31,
     "metadata": {},
     "output_type": "execute_result"
    }
   ],
   "source": [
    "a.ravel() #return array flatten"
   ]
  },
  {
   "cell_type": "code",
   "execution_count": 32,
   "id": "e0c64499",
   "metadata": {},
   "outputs": [
    {
     "data": {
      "text/plain": [
       "array([ 0,  1,  2,  3,  4,  5,  6,  7,  8,  9, 10, 11], dtype=int64)"
      ]
     },
     "execution_count": 32,
     "metadata": {},
     "output_type": "execute_result"
    }
   ],
   "source": [
    "a.flatten() #함수의 결과가 return되면 배열은 수정하지 않음"
   ]
  },
  {
   "cell_type": "markdown",
   "id": "0316165c",
   "metadata": {},
   "source": [
    "## 1.3. 배열 저장\n",
    "- pkl(객체/배열/머신러닝 모델 저장) | npy(NumPy 전용 포맷, io 속도 개선)"
   ]
  },
  {
   "cell_type": "code",
   "execution_count": 33,
   "id": "a019ff2a",
   "metadata": {},
   "outputs": [
    {
     "data": {
      "text/plain": [
       "array([[ 0,  1,  2,  3],\n",
       "       [ 4,  5,  6,  7],\n",
       "       [ 8,  9, 10, 11]], dtype=int64)"
      ]
     },
     "execution_count": 33,
     "metadata": {},
     "output_type": "execute_result"
    }
   ],
   "source": [
    "a"
   ]
  },
  {
   "cell_type": "code",
   "execution_count": 37,
   "id": "1c1da3fa",
   "metadata": {},
   "outputs": [
    {
     "name": "stdout",
     "output_type": "stream",
     "text": [
      "CPU times: total: 0 ns\n",
      "Wall time: 996 µs\n"
     ]
    }
   ],
   "source": [
    "%%time #작업시간 측정하는 magic function (주피터노트북)\n",
    "import pickle\n",
    "with open('data/ch10.pkl', 'wb') as f:\n",
    "    pickle.dump(a, f)"
   ]
  },
  {
   "cell_type": "code",
   "execution_count": 38,
   "id": "978778d8",
   "metadata": {},
   "outputs": [
    {
     "name": "stdout",
     "output_type": "stream",
     "text": [
      "CPU times: total: 0 ns\n",
      "Wall time: 1.94 ms\n"
     ]
    }
   ],
   "source": [
    "%%time\n",
    "with open('data/ch10.pkl', 'rb') as f:\n",
    "    loaded_a = pickle.load(f)"
   ]
  },
  {
   "cell_type": "code",
   "execution_count": 36,
   "id": "dcbcd432",
   "metadata": {},
   "outputs": [
    {
     "data": {
      "text/plain": [
       "array([[ 0,  1,  2,  3],\n",
       "       [ 4,  5,  6,  7],\n",
       "       [ 8,  9, 10, 11]], dtype=int64)"
      ]
     },
     "execution_count": 36,
     "metadata": {},
     "output_type": "execute_result"
    }
   ],
   "source": [
    "loaded_a"
   ]
  },
  {
   "cell_type": "code",
   "execution_count": 39,
   "id": "259be92b",
   "metadata": {},
   "outputs": [
    {
     "name": "stdout",
     "output_type": "stream",
     "text": [
      "CPU times: total: 0 ns\n",
      "Wall time: 967 µs\n"
     ]
    }
   ],
   "source": [
    "%%time\n",
    "np.save('data/ch10.npy', a) #numpy객체 저장"
   ]
  },
  {
   "cell_type": "code",
   "execution_count": 40,
   "id": "1124b44b",
   "metadata": {},
   "outputs": [
    {
     "name": "stdout",
     "output_type": "stream",
     "text": [
      "CPU times: total: 0 ns\n",
      "Wall time: 12.8 ms\n"
     ]
    }
   ],
   "source": [
    "%%time\n",
    "loaded_a2 = np.load('data/ch10.npy')"
   ]
  },
  {
   "cell_type": "markdown",
   "id": "b2bcd5c4",
   "metadata": {},
   "source": [
    "# 2. NumPy 배열\n",
    "- array() 함수를 이용하여 다른 python 구조(list, tuple)를 배열로 변환\n",
    "- 기타 함수들 : arange, ones, zeros, full(255), empty, linspace, ...\n",
    "- 랜덤값 함수들 : np.random.~ 머신러닝 학습 시에 자주 사용\n",
    "## 2.1. array() 함수로 NumPy 배열 만들기\n",
    "    - array(obj, dtype=np.xx, copy=T/F)"
   ]
  },
  {
   "cell_type": "code",
   "execution_count": 41,
   "id": "d21a8466",
   "metadata": {},
   "outputs": [
    {
     "data": {
      "text/plain": [
       "array([2, 4, 6], dtype=int16)"
      ]
     },
     "execution_count": 41,
     "metadata": {},
     "output_type": "execute_result"
    }
   ],
   "source": [
    "a = np.array([2,4,6], dtype=np.int16) #int default type int32\n",
    "a"
   ]
  },
  {
   "cell_type": "code",
   "execution_count": 42,
   "id": "ed253da5",
   "metadata": {},
   "outputs": [
    {
     "data": {
      "text/plain": [
       "(2, 4, 6)"
      ]
     },
     "execution_count": 42,
     "metadata": {},
     "output_type": "execute_result"
    }
   ],
   "source": [
    "a[0], a[1], a[2]"
   ]
  },
  {
   "cell_type": "code",
   "execution_count": 43,
   "id": "afa3ade2",
   "metadata": {},
   "outputs": [
    {
     "name": "stdout",
     "output_type": "stream",
     "text": [
      "2\t4\t6\t"
     ]
    }
   ],
   "source": [
    "for i in a:\n",
    "    print(i, end='\\t')"
   ]
  },
  {
   "cell_type": "code",
   "execution_count": 58,
   "id": "2ff5d27b",
   "metadata": {},
   "outputs": [
    {
     "data": {
      "text/plain": [
       "array([[1.5, 2.3],\n",
       "       [4. , 5. ]])"
      ]
     },
     "execution_count": 58,
     "metadata": {},
     "output_type": "execute_result"
    }
   ],
   "source": [
    "b = np.array([[1.5, 2.3], #배열은 동일 자료형의 집합 : 정수 → 실수 → 문자 \n",
    "              [4, 5]]) \n",
    "b"
   ]
  },
  {
   "cell_type": "code",
   "execution_count": 48,
   "id": "0e087a5e",
   "metadata": {},
   "outputs": [
    {
     "data": {
      "text/plain": [
       "(2.3, 2.3)"
      ]
     },
     "execution_count": 48,
     "metadata": {},
     "output_type": "execute_result"
    }
   ],
   "source": [
    "b[0][1], b[0,1] #2차원(axis 0행1열)"
   ]
  },
  {
   "cell_type": "code",
   "execution_count": 47,
   "id": "d547f234",
   "metadata": {},
   "outputs": [
    {
     "data": {
      "text/plain": [
       "2.3"
      ]
     },
     "execution_count": 47,
     "metadata": {},
     "output_type": "execute_result"
    }
   ],
   "source": [
    "#리스트의 경우\n",
    "l = [[1.5, 2.3], [4, 5]]\n",
    "l[0][1]"
   ]
  },
  {
   "cell_type": "code",
   "execution_count": 50,
   "id": "369f1096",
   "metadata": {},
   "outputs": [
    {
     "name": "stdout",
     "output_type": "stream",
     "text": [
      "float64\n",
      "8\n"
     ]
    }
   ],
   "source": [
    "print(b.dtype) #default integer type: int32, default float type: float64\n",
    "print(b.itemsize)"
   ]
  },
  {
   "cell_type": "code",
   "execution_count": 63,
   "id": "8b1d3cd0",
   "metadata": {},
   "outputs": [
    {
     "data": {
      "text/plain": [
       "array([[1.5, 2.3],\n",
       "       [4. , 5. ]], dtype=float32)"
      ]
     },
     "execution_count": 63,
     "metadata": {},
     "output_type": "execute_result"
    }
   ],
   "source": [
    "#float64 → float32 변환 시 데이터 정확도 유실될 수 있음\n",
    "b = b.astype(np.float32)\n",
    "b"
   ]
  },
  {
   "cell_type": "code",
   "execution_count": 53,
   "id": "6eafc3cd",
   "metadata": {},
   "outputs": [
    {
     "name": "stdout",
     "output_type": "stream",
     "text": [
      "float32\n",
      "4\n"
     ]
    }
   ],
   "source": [
    "print(b.dtype)\n",
    "print(b.itemsize)"
   ]
  },
  {
   "cell_type": "code",
   "execution_count": 55,
   "id": "93d93cb2",
   "metadata": {},
   "outputs": [
    {
     "name": "stdout",
     "output_type": "stream",
     "text": [
      "1.5\t2.3\t\n",
      "4.0\t5.0\t\n"
     ]
    }
   ],
   "source": [
    "for row in b:\n",
    "    for item in row:\n",
    "        print(item, end='\\t')\n",
    "    print()"
   ]
  },
  {
   "cell_type": "code",
   "execution_count": 62,
   "id": "896892f8",
   "metadata": {},
   "outputs": [
    {
     "name": "stdout",
     "output_type": "stream",
     "text": [
      "0행 0열 : 1.5(1.5)\t0행 1열 : 2.3(2.3)\t\n",
      "1행 0열 : 4.0(4.0)\t1행 1열 : 5.0(5.0)\t\n"
     ]
    }
   ],
   "source": [
    "for i, row in enumerate(b):\n",
    "    for j, item in enumerate(row):\n",
    "        print('{}행 {}열 : {:.1f}({:.1f})'.format(i, j, item, b[i,j]), end='\\t')\n",
    "    print()"
   ]
  },
  {
   "cell_type": "code",
   "execution_count": 85,
   "id": "e1a2b5fb",
   "metadata": {},
   "outputs": [
    {
     "data": {
      "text/plain": [
       "array([[ 1,  2,  3,  4,  5],\n",
       "       [ 6,  7,  8,  9,  0],\n",
       "       [-5, -4, -3, -2, -1]], dtype=int16)"
      ]
     },
     "execution_count": 85,
     "metadata": {},
     "output_type": "execute_result"
    }
   ],
   "source": [
    "#행렬의 인덱싱, 슬라이싱\n",
    "b = np.array([[1,2,3,4,5], [6,7,8,9,0], [-5, -4, -3, -2, -1]], dtype=np.int16)\n",
    "b"
   ]
  },
  {
   "cell_type": "code",
   "execution_count": 76,
   "id": "df6c88eb",
   "metadata": {},
   "outputs": [
    {
     "data": {
      "text/plain": [
       "2"
      ]
     },
     "execution_count": 76,
     "metadata": {},
     "output_type": "execute_result"
    }
   ],
   "source": [
    "#없는 인덱싱 IndexError\n",
    "b[0,1]\n",
    "#b[3,1] "
   ]
  },
  {
   "cell_type": "code",
   "execution_count": 138,
   "id": "ea76bcd7",
   "metadata": {},
   "outputs": [
    {
     "name": "stdout",
     "output_type": "stream",
     "text": [
      "0~1행, 1~2열:\n",
      " [[2 3]\n",
      " [7 8]]\n",
      "2행 모두 1차원:\n",
      " [-5 -4 -3 -2 -1] [-5 -4 -3 -2 -1]\n",
      "2행 모두 2차원:\n",
      " [[-5 -4 -3 -2 -1]] [[-5 -4 -3 -2 -1]]\n",
      "4열 모두 1차원:\n",
      " [ 5  0 -1] [ 5  0 -1] [ 5  0 -1]\n",
      "2행 0~3열:\n",
      " [-5 -4 -3 -2] [-5 -4 -3 -2]\n",
      "마지막열 제외:\n",
      " [[ 1  2  3  4]\n",
      " [ 6  7  8  9]\n",
      " [-5 -4 -3 -2]]\n"
     ]
    }
   ],
   "source": [
    "#슬라이싱\n",
    "print('0~1행, 1~2열:\\n', b[0:2,1:3])\n",
    "print('2행 모두 1차원:\\n', b[2,:], b[2]) #모든 열 추출할 경우, 열 생략 가능\n",
    "print('2행 모두 2차원:\\n', b[2:3,:], b[2:3]) #모든 열 추출할 경우, 열 생략 가능\n",
    "print('4열 모두 1차원:\\n', b[:,-1], b[:,4], b[...,4])\n",
    "print('2행 0~3열:\\n', b[2,0:4], b[2, 0:-1])\n",
    "print('마지막열 제외:\\n', b[:,:-1])"
   ]
  },
  {
   "cell_type": "code",
   "execution_count": 98,
   "id": "fd3fcc8c",
   "metadata": {},
   "outputs": [
    {
     "name": "stdout",
     "output_type": "stream",
     "text": [
      "a=10, 복제본10\n",
      "a=10, 복제본-1\n"
     ]
    }
   ],
   "source": [
    "#스칼라 변수\n",
    "a = 10\n",
    "copy_a = a #깊은 복사\n",
    "print(f\"a={a}, 복제본{copy_a}\")\n",
    "copy_a = -1\n",
    "print(f\"a={a}, 복제본{copy_a}\")"
   ]
  },
  {
   "cell_type": "code",
   "execution_count": 99,
   "id": "b3da4e3a",
   "metadata": {},
   "outputs": [
    {
     "name": "stdout",
     "output_type": "stream",
     "text": [
      "a=[0, 1], 복제본[0, 1]\n",
      "a=[0, 1], 복제본[-1, 1]\n"
     ]
    }
   ],
   "source": [
    "#데이터구조\n",
    "a = [0, 1]\n",
    "#copy_a = a #얕은 복사 : 복제본 변형하면 원본도 변형됨\n",
    "copy_a = a.copy() #깊은 복사(얕은 복사의 return을 할당)\n",
    "print(f\"a={a}, 복제본{copy_a}\")\n",
    "copy_a[0] = -1\n",
    "print(f\"a={a}, 복제본{copy_a}\")"
   ]
  },
  {
   "cell_type": "code",
   "execution_count": 105,
   "id": "810462a0",
   "metadata": {},
   "outputs": [
    {
     "name": "stdout",
     "output_type": "stream",
     "text": [
      "c=\n",
      "[[1 2]\n",
      " [3 4]]\n",
      "d=\n",
      "[[1 2]\n",
      " [3 4]]\n",
      "2069217547952 2069217544688\n",
      "c=\n",
      "[[1 2]\n",
      " [3 4]]\n",
      "d=\n",
      "[[9 2]\n",
      " [3 4]]\n",
      "2069217547952 2069217544688\n"
     ]
    }
   ],
   "source": [
    "#NumPy 배열\n",
    "c = np.array([ [1,2], [3,4] ])\n",
    "#d = c #주소 할당\n",
    "d = np.array(c, copy=True) #깊은 복사\n",
    "print('c=', c, sep='\\n')\n",
    "print('d=', d, sep='\\n')\n",
    "print(id(c), id(d))\n",
    "d[0,0] = 9\n",
    "print('c=', c, sep='\\n')\n",
    "print('d=', d, sep='\\n')\n",
    "print(id(c), id(d))"
   ]
  },
  {
   "cell_type": "markdown",
   "id": "1448e24b",
   "metadata": {},
   "source": [
    "## 2.2. 기본값이 있는 배열 만들기\n",
    "    - np.zeros(tup) : 요소들이 다 0\n",
    "    - np.ones(tup) : 요소들이 다 1\n",
    "    - np.full(tup, 기본값) : 요소들이 다 두 번째 매개변수(기본값)\n",
    "    - np.empty(tup) : 초기 내용은 임의값인 배열(메모리 상태에 따라 초기값 달라짐)\n",
    "✔ 위의 함수를 이용해서 생성된 배열은 기본 dtype이 float64, dtype 속성을 따로 지정 가능"
   ]
  },
  {
   "cell_type": "code",
   "execution_count": 109,
   "id": "0eff45b3",
   "metadata": {},
   "outputs": [
    {
     "data": {
      "text/plain": [
       "array([0., 0., 0.])"
      ]
     },
     "execution_count": 109,
     "metadata": {},
     "output_type": "execute_result"
    }
   ],
   "source": [
    "np.zeros((3,)) #3열짜리 1차원 float64 0 배열"
   ]
  },
  {
   "cell_type": "code",
   "execution_count": 113,
   "id": "6de47aa2",
   "metadata": {},
   "outputs": [
    {
     "name": "stdout",
     "output_type": "stream",
     "text": [
      "[[0 0 0 0 0]\n",
      " [0 0 0 0 0]]\n",
      "int16\n",
      "2\n"
     ]
    }
   ],
   "source": [
    "x = np.zeros((2,5), dtype=np.int16)\n",
    "print(x)\n",
    "print(x.dtype)\n",
    "print(x.itemsize)"
   ]
  },
  {
   "cell_type": "code",
   "execution_count": 115,
   "id": "19e93bae",
   "metadata": {},
   "outputs": [
    {
     "data": {
      "text/plain": [
       "array([[1, 1, 1, 1, 1],\n",
       "       [1, 1, 1, 1, 1]], dtype=uint8)"
      ]
     },
     "execution_count": 115,
     "metadata": {},
     "output_type": "execute_result"
    }
   ],
   "source": [
    "np.ones((2,5), dtype=np.uint8) #uint : unsided 첫 자리 부호 없는 정수 데이터"
   ]
  },
  {
   "cell_type": "code",
   "execution_count": 119,
   "id": "f8550cd2",
   "metadata": {},
   "outputs": [
    {
     "data": {
      "text/plain": [
       "array([[255, 255, 255, 255, 255, 255, 255, 255],\n",
       "       [255, 255, 255, 255, 255, 255, 255, 255],\n",
       "       [255, 255, 255, 255, 255, 255, 255, 255],\n",
       "       [255, 255, 255, 255, 255, 255, 255, 255]])"
      ]
     },
     "execution_count": 119,
     "metadata": {},
     "output_type": "execute_result"
    }
   ],
   "source": [
    "np.full((4,8), 255)"
   ]
  },
  {
   "cell_type": "code",
   "execution_count": 132,
   "id": "1d98fa30",
   "metadata": {},
   "outputs": [
    {
     "data": {
      "text/plain": [
       "<function matplotlib.pyplot.show(close=None, block=None)>"
      ]
     },
     "execution_count": 132,
     "metadata": {},
     "output_type": "execute_result"
    },
    {
     "data": {
      "image/png": "[encoded data removed]",
      "text/plain": [
       "<Figure size 200x200 with 1 Axes>"
      ]
     },
     "metadata": {},
     "output_type": "display_data"
    }
   ],
   "source": [
    "import matplotlib.pyplot as plt\n",
    "plt.figure(figsize=(2,2)) #시각화한 그래프 크기 figsize=(가로,세로)\n",
    "img = np.full((28,28), 128, dtype=np.uint8)\n",
    "plt.imshow(img, cmap='gray', vmin=0, vmax=255)\n",
    "plt.axis('off') #축 없애기\n",
    "plt.show"
   ]
  },
  {
   "cell_type": "code",
   "execution_count": 137,
   "id": "fed333da",
   "metadata": {},
   "outputs": [
    {
     "data": {
      "text/plain": [
       "array([[ True, False, False],\n",
       "       [False,  True, False],\n",
       "       [False, False,  True]])"
      ]
     },
     "execution_count": 137,
     "metadata": {},
     "output_type": "execute_result"
    }
   ],
   "source": [
    "np.empty((3, 3), dtype=np.bool8) #초기값이 메모리 상태에 따라 다름(garbage값!을 적당히 넣어 둠)"
   ]
  },
  {
   "cell_type": "markdown",
   "id": "35fd4c84",
   "metadata": {},
   "source": [
    "## 2.3. 랜덤값을 갖는 배열 만들기\n",
    "- np.random.random(tup) : 0 이상 1 미만의 균등분포를 갖는 랜덤값 배열\n",
    "- np.random.unifom(low=0.0, high=1.0, size=tup) : low 이상 high 미만의 균등 분포를 갖는 랜덤값\n",
    "- np.random.normal(loc=0.0, scale=1.0, size=tup) : 평균 loc과 표준편차 scale을 갖는 정규분포 배열\n",
    "- np.random.rand(n) : 0 이상 1 미만의 균등분포 1차원 배열\n",
    "- np.random.randn(n) : 표준정규분포\n",
    "*cf) np.random.randint(form, to) : from부터 to 미만의 정수 난수 1개 return ==random.randint(from, to-1)"
   ]
  },
  {
   "cell_type": "code",
   "execution_count": 139,
   "id": "16ea10e5",
   "metadata": {},
   "outputs": [
    {
     "data": {
      "text/plain": [
       "array([[0.50847976, 0.30566585, 0.79464859],\n",
       "       [0.32980431, 0.15270912, 0.77677077]])"
      ]
     },
     "execution_count": 139,
     "metadata": {},
     "output_type": "execute_result"
    }
   ],
   "source": [
    "np.random.random((2,3))"
   ]
  },
  {
   "cell_type": "code",
   "execution_count": 140,
   "id": "a8215551",
   "metadata": {},
   "outputs": [
    {
     "data": {
      "text/plain": [
       "array([0.72209812, 0.99205895, 0.65305839])"
      ]
     },
     "execution_count": 140,
     "metadata": {},
     "output_type": "execute_result"
    }
   ],
   "source": [
    "np.random.rand(3) #==np.random.random((3,))"
   ]
  },
  {
   "cell_type": "code",
   "execution_count": 160,
   "id": "540bf9cc",
   "metadata": {},
   "outputs": [
    {
     "data": {
      "image/png": "[encoded data removed]",
      "text/plain": [
       "<Figure size 1000x200 with 1 Axes>"
      ]
     },
     "metadata": {},
     "output_type": "display_data"
    }
   ],
   "source": [
    "x = np.random.rand(100000) #균등분포\n",
    "plt.figure(figsize=(10,2)) #그래프 크기\n",
    "plt.hist(x, bins=50) #히스토그램\n",
    "plt.show()"
   ]
  },
  {
   "cell_type": "code",
   "execution_count": 161,
   "id": "7ea97c5e",
   "metadata": {},
   "outputs": [
    {
     "data": {
      "image/png": "[encoded data removed]",
      "text/plain": [
       "<Figure size 1000x300 with 1 Axes>"
      ]
     },
     "metadata": {},
     "output_type": "display_data"
    }
   ],
   "source": [
    "x = np.random.randn(20000) #표준정규분포\n",
    "plt.figure(figsize=(10,3))\n",
    "plt.hist(x, bins=50)\n",
    "plt.show()"
   ]
  },
  {
   "cell_type": "code",
   "execution_count": 162,
   "id": "59339180",
   "metadata": {},
   "outputs": [
    {
     "name": "stdout",
     "output_type": "stream",
     "text": [
      "[0.30962918 0.69990668 0.60268508]\n",
      "[ 0.05412801 -1.04838023 -0.02865976]\n"
     ]
    }
   ],
   "source": [
    "#1차원 난수 배열\n",
    "print(np.random.rand(3)) #균등분포\n",
    "print(np.random.randn(3)) #정규분포"
   ]
  },
  {
   "cell_type": "code",
   "execution_count": 163,
   "id": "1f2044ce",
   "metadata": {},
   "outputs": [
    {
     "data": {
      "text/plain": [
       "array([[0.5796296 , 0.1071697 , 0.81958461, 0.44706519, 0.9699482 ],\n",
       "       [0.7752726 , 0.8510682 , 0.87579614, 0.05153401, 0.15670034]])"
      ]
     },
     "execution_count": 163,
     "metadata": {},
     "output_type": "execute_result"
    }
   ],
   "source": [
    "#2차원 난수 배열\n",
    "np.random.random((2,5)) #2행5열 짜리 균등분포 난수 배열"
   ]
  },
  {
   "cell_type": "code",
   "execution_count": 165,
   "id": "bf5e68a8",
   "metadata": {},
   "outputs": [
    {
     "data": {
      "text/plain": [
       "array([[-0.7103449 , -1.67424369, -0.99375405,  1.97661676,  0.79303853],\n",
       "       [ 1.87992173, -1.13084377, -0.50700888, -1.06013559,  1.4871536 ]])"
      ]
     },
     "execution_count": 165,
     "metadata": {},
     "output_type": "execute_result"
    }
   ],
   "source": [
    "np.random.uniform(low=-2, high=2, size=(2,5)) #2행5열 짜리 균등분포(-2 ~ +2) 난수 배열"
   ]
  },
  {
   "cell_type": "code",
   "execution_count": 166,
   "id": "e64d3c01",
   "metadata": {},
   "outputs": [
    {
     "data": {
      "text/plain": [
       "array([[-8.31368905e-01,  1.12361781e+00,  1.89752400e+00,\n",
       "        -1.64612701e+00, -1.31657284e+00],\n",
       "       [ 1.14813061e+00,  2.35738426e+00,  1.22632426e+00,\n",
       "         8.46303406e-01, -2.30504635e-03]])"
      ]
     },
     "execution_count": 166,
     "metadata": {},
     "output_type": "execute_result"
    }
   ],
   "source": [
    "np.random.normal(size=(2,5)) #2행5열짜리 정규분포(평균 0, 표준편차1) 난수 배열"
   ]
  },
  {
   "cell_type": "code",
   "execution_count": 167,
   "id": "76f5e05c",
   "metadata": {},
   "outputs": [
    {
     "data": {
      "text/plain": [
       "array([[-1.55687747, -1.1653691 , -0.56297192, -0.99349652, -1.62384013],\n",
       "       [-1.29376542, -0.88570219, -0.04749272, -1.34980991, -0.56657184]])"
      ]
     },
     "execution_count": 167,
     "metadata": {},
     "output_type": "execute_result"
    }
   ],
   "source": [
    "np.random.normal(-1, 0.5, size=(2,5)) #2행5열짜리 정규분포(평균 0, 표준편차1) 난수 배열"
   ]
  },
  {
   "cell_type": "markdown",
   "id": "c77307c4",
   "metadata": {},
   "source": [
    "## 2.4. 연속된 값을 갖는 배열 만들기\n",
    "- np.arange(from, to, by, dtype) : from부터 to 앞까지 by씩 건너뛴 값을 1차원 배열로 생성\n",
    "- np.linspace(from, to, num) : from부터 to까지(포함) num개 숫자들을 1차원 배열로 생성"
   ]
  },
  {
   "cell_type": "code",
   "execution_count": 169,
   "id": "537beee7",
   "metadata": {},
   "outputs": [
    {
     "data": {
      "text/plain": [
       "array([10., 15., 20., 25.])"
      ]
     },
     "execution_count": 169,
     "metadata": {},
     "output_type": "execute_result"
    }
   ],
   "source": [
    "np.arange(10, 30, 5, dtype=np.float64)"
   ]
  },
  {
   "cell_type": "code",
   "execution_count": 170,
   "id": "e09dc9bd",
   "metadata": {},
   "outputs": [
    {
     "data": {
      "text/plain": [
       "array([0. , 0.3, 0.6, 0.9, 1.2, 1.5, 1.8])"
      ]
     },
     "execution_count": 170,
     "metadata": {},
     "output_type": "execute_result"
    }
   ],
   "source": [
    "np.arange(0, 2.0, 0.3)"
   ]
  },
  {
   "cell_type": "code",
   "execution_count": 172,
   "id": "3b8b0772",
   "metadata": {},
   "outputs": [
    {
     "data": {
      "text/plain": [
       "array([0.  , 1.25, 2.5 , 3.75, 5.  ])"
      ]
     },
     "execution_count": 172,
     "metadata": {},
     "output_type": "execute_result"
    }
   ],
   "source": [
    "np.linspace(0, 5, 5)"
   ]
  },
  {
   "cell_type": "code",
   "execution_count": 188,
   "id": "41432f5e",
   "metadata": {},
   "outputs": [],
   "source": [
    "#linspace : 특정한 범위의 수들을 많이 생성할 때\n",
    "from numpy import pi, linspace\n",
    "x = linspace(0, 2*pi, 500)\n",
    "y = np.sin(x)"
   ]
  },
  {
   "cell_type": "code",
   "execution_count": 189,
   "id": "43726c85",
   "metadata": {},
   "outputs": [
    {
     "data": {
      "image/png": "[encoded data removed]",
      "text/plain": [
       "<Figure size 800x300 with 1 Axes>"
      ]
     },
     "metadata": {},
     "output_type": "display_data"
    }
   ],
   "source": [
    "plt.figure(figsize=(8,3))\n",
    "plt.scatter(x,y) #점그래프\n",
    "plt.show()"
   ]
  },
  {
   "cell_type": "markdown",
   "id": "d2ba9e43",
   "metadata": {},
   "source": [
    "## 2.5. 배열의 차원 변경\n",
    "- reshape(행수, 열수) : -1 가능\n",
    "- resize(행수, 열수) : -1 불가\n",
    "- T : 전치행렬로 변환\n",
    "- transpose() : 전치행렬로 변환\n",
    "\n",
    "※ 실행결과가 출력되면 배열이 수정되지 않음. 실행결과가 없으면 배열이 수정됨."
   ]
  },
  {
   "cell_type": "code",
   "execution_count": 195,
   "id": "29a71f0d",
   "metadata": {},
   "outputs": [
    {
     "data": {
      "text/plain": [
       "array([[0.53347018, 0.19643132, 0.95141019],\n",
       "       [0.84134696, 0.41006946, 0.27189857]])"
      ]
     },
     "execution_count": 195,
     "metadata": {},
     "output_type": "execute_result"
    }
   ],
   "source": [
    "t = np.random.random((2,3))\n",
    "t"
   ]
  },
  {
   "cell_type": "code",
   "execution_count": 196,
   "id": "ae5e4f8a",
   "metadata": {},
   "outputs": [
    {
     "data": {
      "text/plain": [
       "array([[ 5.,  2., 10.],\n",
       "       [ 8.,  4.,  3.]])"
      ]
     },
     "execution_count": 196,
     "metadata": {},
     "output_type": "execute_result"
    }
   ],
   "source": [
    "a = np.round(t*10) #반올림\n",
    "a"
   ]
  },
  {
   "cell_type": "code",
   "execution_count": 198,
   "id": "7a0497e6",
   "metadata": {},
   "outputs": [
    {
     "data": {
      "text/plain": [
       "array([[ 5,  2, 10],\n",
       "       [ 8,  4,  3]], dtype=int16)"
      ]
     },
     "execution_count": 198,
     "metadata": {},
     "output_type": "execute_result"
    }
   ],
   "source": [
    "a = a.astype(np.int16)\n",
    "a"
   ]
  },
  {
   "cell_type": "code",
   "execution_count": 199,
   "id": "90bee5af",
   "metadata": {},
   "outputs": [
    {
     "data": {
      "text/plain": [
       "array([[ 5,  2],\n",
       "       [10,  8],\n",
       "       [ 4,  3]], dtype=int16)"
      ]
     },
     "execution_count": 199,
     "metadata": {},
     "output_type": "execute_result"
    }
   ],
   "source": [
    "a.reshape(3,2) #같은 순서로 배치만 변경"
   ]
  },
  {
   "cell_type": "code",
   "execution_count": 200,
   "id": "c8bbe765",
   "metadata": {},
   "outputs": [
    {
     "data": {
      "text/plain": [
       "array([[ 5],\n",
       "       [ 2],\n",
       "       [10],\n",
       "       [ 8],\n",
       "       [ 4],\n",
       "       [ 3]], dtype=int16)"
      ]
     },
     "execution_count": 200,
     "metadata": {},
     "output_type": "execute_result"
    }
   ],
   "source": [
    "a.reshape(-1, 1) # -1이 주어지면 해당 차원의 크기가 자동 계산"
   ]
  },
  {
   "cell_type": "code",
   "execution_count": 201,
   "id": "8dd19617",
   "metadata": {},
   "outputs": [
    {
     "data": {
      "text/plain": [
       "array([[ 5,  2],\n",
       "       [10,  8],\n",
       "       [ 4,  3]], dtype=int16)"
      ]
     },
     "execution_count": 201,
     "metadata": {},
     "output_type": "execute_result"
    }
   ],
   "source": [
    "a.reshape(3, -1)"
   ]
  },
  {
   "cell_type": "code",
   "execution_count": 204,
   "id": "674a8bba",
   "metadata": {},
   "outputs": [
    {
     "data": {
      "text/plain": [
       "array([[ 5,  2],\n",
       "       [10,  8],\n",
       "       [ 4,  3]], dtype=int16)"
      ]
     },
     "execution_count": 204,
     "metadata": {},
     "output_type": "execute_result"
    }
   ],
   "source": [
    "a.resize((3,2)) #튜플로도 넣을 수 있음\n",
    "a```"
   ]
  },
  {
   "cell_type": "code",
   "execution_count": 206,
   "id": "40cb6d5b",
   "metadata": {},
   "outputs": [
    {
     "data": {
      "text/plain": [
       "array([[ 5, 10,  4],\n",
       "       [ 2,  8,  3]], dtype=int16)"
      ]
     },
     "execution_count": 206,
     "metadata": {},
     "output_type": "execute_result"
    }
   ],
   "source": [
    "#전치행렬 T (x행y열 -> y행x열)\n",
    "a.T #a의 전치행렬"
   ]
  },
  {
   "cell_type": "code",
   "execution_count": 207,
   "id": "a9ce1b9d",
   "metadata": {},
   "outputs": [
    {
     "data": {
      "text/plain": [
       "array([[ 5, 10,  4],\n",
       "       [ 2,  8,  3]], dtype=int16)"
      ]
     },
     "execution_count": 207,
     "metadata": {},
     "output_type": "execute_result"
    }
   ],
   "source": [
    "a.transpose()"
   ]
  },
  {
   "cell_type": "markdown",
   "id": "6d6fd785",
   "metadata": {},
   "source": [
    "## 2.6. 배열 출력"
   ]
  },
  {
   "cell_type": "code",
   "execution_count": 210,
   "id": "ef55d3a9",
   "metadata": {},
   "outputs": [
    {
     "data": {
      "text/plain": [
       "array([   0,    1,    2, ...,  998,  999, 1000])"
      ]
     },
     "execution_count": 210,
     "metadata": {},
     "output_type": "execute_result"
    }
   ],
   "source": [
    "np.arange(1001)"
   ]
  },
  {
   "cell_type": "code",
   "execution_count": 208,
   "id": "b59a346a",
   "metadata": {},
   "outputs": [
    {
     "data": {
      "text/plain": [
       "1000"
      ]
     },
     "execution_count": 208,
     "metadata": {},
     "output_type": "execute_result"
    }
   ],
   "source": [
    "#배열 요소가 몇 개까지 다 출력되나\n",
    "#1000개 요소 이상은 출력 생략됨\n",
    "np.get_printoptions()['threshold']"
   ]
  },
  {
   "cell_type": "code",
   "execution_count": 209,
   "id": "385981ca",
   "metadata": {},
   "outputs": [
    {
     "data": {
      "text/plain": [
       "array([[   0,    1,    2, ...,   97,   98,   99],\n",
       "       [ 100,  101,  102, ...,  197,  198,  199],\n",
       "       [ 200,  201,  202, ...,  297,  298,  299],\n",
       "       ...,\n",
       "       [9700, 9701, 9702, ..., 9797, 9798, 9799],\n",
       "       [9800, 9801, 9802, ..., 9897, 9898, 9899],\n",
       "       [9900, 9901, 9902, ..., 9997, 9998, 9999]])"
      ]
     },
     "execution_count": 209,
     "metadata": {},
     "output_type": "execute_result"
    }
   ],
   "source": [
    "#배열이 커서 인쇄가 안 되는 경우 : 모서리 부분만 출력\n",
    "np.arange(10000).reshape(100,100)"
   ]
  },
  {
   "cell_type": "code",
   "execution_count": null,
   "id": "18dbaaa0",
   "metadata": {},
   "outputs": [],
   "source": [
    "# 인쇄 옵션 변경\n",
    "import sys\n",
    "np.set_printoptions(threshold=sys.maxsize) # 정수 최대치까지 출력가능\n",
    "np.set_printoptions(threshold=np.inf) # 무한대까지 출력가능"
   ]
  },
  {
   "cell_type": "markdown",
   "id": "5f516ed2",
   "metadata": {},
   "source": [
    "## 2.7. 기본 연산 동작\n",
    "### 2.7.1. 배열의 요소별 연산"
   ]
  },
  {
   "cell_type": "code",
   "execution_count": 3,
   "id": "fba34e38",
   "metadata": {},
   "outputs": [],
   "source": [
    "import numpy as np"
   ]
  },
  {
   "cell_type": "code",
   "execution_count": 6,
   "id": "8ea771ba",
   "metadata": {},
   "outputs": [
    {
     "data": {
      "text/plain": [
       "([10, 20, 30, 40], [0, 1, 2, 3])"
      ]
     },
     "execution_count": 6,
     "metadata": {},
     "output_type": "execute_result"
    }
   ],
   "source": [
    "#리스트\n",
    "a = [10, 20, 30, 40]\n",
    "b = list(range(4))\n",
    "a, b"
   ]
  },
  {
   "cell_type": "code",
   "execution_count": 8,
   "id": "ee0a7768",
   "metadata": {},
   "outputs": [
    {
     "data": {
      "text/plain": [
       "(array([10, 20, 30, 40]), array([0, 1, 2, 3]))"
      ]
     },
     "execution_count": 8,
     "metadata": {},
     "output_type": "execute_result"
    }
   ],
   "source": [
    "#배열 (numpy array)\n",
    "a = np.array([10, 20, 30, 40])\n",
    "b = np.arange(4)\n",
    "a, b"
   ]
  },
  {
   "cell_type": "code",
   "execution_count": 12,
   "id": "71800722",
   "metadata": {},
   "outputs": [
    {
     "data": {
      "text/plain": [
       "array([10, 21, 32, 43])"
      ]
     },
     "execution_count": 12,
     "metadata": {},
     "output_type": "execute_result"
    }
   ],
   "source": [
    "#요소별 + 연산\n",
    "a + b"
   ]
  },
  {
   "cell_type": "code",
   "execution_count": 13,
   "id": "1fec129c",
   "metadata": {},
   "outputs": [
    {
     "data": {
      "text/plain": [
       "array([ 30,  60,  90, 120])"
      ]
     },
     "execution_count": 13,
     "metadata": {},
     "output_type": "execute_result"
    }
   ],
   "source": [
    "#요소별 * 연산\n",
    "a * 3"
   ]
  },
  {
   "cell_type": "code",
   "execution_count": 14,
   "id": "91a29949",
   "metadata": {},
   "outputs": [
    {
     "data": {
      "text/plain": [
       "array([  0,  20,  60, 120])"
      ]
     },
     "execution_count": 14,
     "metadata": {},
     "output_type": "execute_result"
    }
   ],
   "source": [
    "#요소별 * 연산\n",
    "a * b"
   ]
  },
  {
   "cell_type": "code",
   "execution_count": 15,
   "id": "3f282145",
   "metadata": {},
   "outputs": [
    {
     "data": {
      "text/plain": [
       "array([    1,    20,   900, 64000])"
      ]
     },
     "execution_count": 15,
     "metadata": {},
     "output_type": "execute_result"
    }
   ],
   "source": [
    "#요소별 ** 연산\n",
    "a ** b"
   ]
  },
  {
   "cell_type": "code",
   "execution_count": 17,
   "id": "4d2a7cbe",
   "metadata": {},
   "outputs": [
    {
     "data": {
      "text/plain": [
       "array([ True,  True,  True, False])"
      ]
     },
     "execution_count": 17,
     "metadata": {},
     "output_type": "execute_result"
    }
   ],
   "source": [
    "#요소별 논리 연산\n",
    "a < 40"
   ]
  },
  {
   "cell_type": "code",
   "execution_count": 18,
   "id": "39e85fed",
   "metadata": {},
   "outputs": [
    {
     "data": {
      "text/plain": [
       "array([10, 40])"
      ]
     },
     "execution_count": 18,
     "metadata": {},
     "output_type": "execute_result"
    }
   ],
   "source": [
    "a[[0,3]] #0, 3번째 index item"
   ]
  },
  {
   "cell_type": "code",
   "execution_count": 19,
   "id": "09d2a14d",
   "metadata": {},
   "outputs": [
    {
     "data": {
      "text/plain": [
       "array([10, 40])"
      ]
     },
     "execution_count": 19,
     "metadata": {},
     "output_type": "execute_result"
    }
   ],
   "source": [
    "a[[True, False, False, True]] #각 요소 선택에 o/x"
   ]
  },
  {
   "cell_type": "code",
   "execution_count": 20,
   "id": "fedaba0b",
   "metadata": {},
   "outputs": [
    {
     "data": {
      "text/plain": [
       "array([10, 20, 30])"
      ]
     },
     "execution_count": 20,
     "metadata": {},
     "output_type": "execute_result"
    }
   ],
   "source": [
    "#a 배열에서 40보다 작은 데이터만 추출 (boolean indexing)\n",
    "a[a<40]"
   ]
  },
  {
   "cell_type": "code",
   "execution_count": 21,
   "id": "fc170034",
   "metadata": {},
   "outputs": [
    {
     "data": {
      "text/plain": [
       "(array([0, 1, 2], dtype=int64),)"
      ]
     },
     "execution_count": 21,
     "metadata": {},
     "output_type": "execute_result"
    }
   ],
   "source": [
    "#a 배열에서 40보다 작은 데이터의 index\n",
    "np.where(a<40)"
   ]
  },
  {
   "cell_type": "markdown",
   "id": "1ff76790",
   "metadata": {},
   "source": [
    "### 2.7.2 행렬의 곱 (@, dot 함수)\n",
    "- cf. *(요소별 곱)\n",
    "- MxN 행렬 @ NxR 행렬 = MxR 행렬"
   ]
  },
  {
   "cell_type": "code",
   "execution_count": 22,
   "id": "9fc2b978",
   "metadata": {},
   "outputs": [
    {
     "data": {
      "text/plain": [
       "(array([[1, 1],\n",
       "        [0, 1]]),\n",
       " array([[2, 0],\n",
       "        [3, 4]]))"
      ]
     },
     "execution_count": 22,
     "metadata": {},
     "output_type": "execute_result"
    }
   ],
   "source": [
    "A = np.array([ [1,1], \n",
    "               [0,1]])\n",
    "B = np.array([ [2,0],\n",
    "               [3,4]])\n",
    "A, B"
   ]
  },
  {
   "cell_type": "code",
   "execution_count": 26,
   "id": "e635bb98",
   "metadata": {},
   "outputs": [
    {
     "name": "stdout",
     "output_type": "stream",
     "text": [
      "요소별 곱 A*B = \n",
      "[[2 0]\n",
      " [0 4]]\n",
      "행렬곱 A@B = \n",
      "[[5 4]\n",
      " [3 4]]\n",
      "행렬곱 A.dot(B) = \n",
      "[[5 4]\n",
      " [3 4]]\n"
     ]
    }
   ],
   "source": [
    "print('요소별 곱 A*B = ', A*B, sep='\\n')\n",
    "print('행렬곱 A@B = ', A@B, sep='\\n')\n",
    "print('행렬곱 A.dot(B) = ', A.dot(B), sep='\\n')"
   ]
  },
  {
   "cell_type": "code",
   "execution_count": 28,
   "id": "50ed4f9a",
   "metadata": {},
   "outputs": [
    {
     "name": "stdout",
     "output_type": "stream",
     "text": [
      "A@B =\n",
      "[[5 4]\n",
      " [3 4]]\n",
      "B@A =\n",
      "[[2 2]\n",
      " [3 7]]\n"
     ]
    }
   ],
   "source": [
    "#일반적으로는 행렬곱은 교환법칙이 성립 안 함\n",
    "print('A@B =', A@B, sep='\\n')\n",
    "print('B@A =', B@A, sep='\\n')"
   ]
  },
  {
   "cell_type": "code",
   "execution_count": 29,
   "id": "c2f899a8",
   "metadata": {},
   "outputs": [
    {
     "data": {
      "text/plain": [
       "(array([[1, 1],\n",
       "        [1, 1]]),\n",
       " array([[-4, -6],\n",
       "        [ 4,  6]]))"
      ]
     },
     "execution_count": 29,
     "metadata": {},
     "output_type": "execute_result"
    }
   ],
   "source": [
    "#PDF 자료 p.19 확인 (1)\n",
    "A = np.array([ [1,2], \n",
    "               [3,4]])\n",
    "B = np.array([ [-1,-1],\n",
    "               [1,1]])\n",
    "A@B, B@A"
   ]
  },
  {
   "cell_type": "code",
   "execution_count": 32,
   "id": "0a9697de",
   "metadata": {},
   "outputs": [
    {
     "data": {
      "text/plain": [
       "(array([[20],\n",
       "        [46]]),)"
      ]
     },
     "execution_count": 32,
     "metadata": {},
     "output_type": "execute_result"
    }
   ],
   "source": [
    "#PDF 자료 p.19 확인 (2)\n",
    "A = np.array([ [1,2], \n",
    "               [3,4]])\n",
    "B = np.array([ [6],\n",
    "               [7]])\n",
    "A@B, #B@A는 에러"
   ]
  },
  {
   "cell_type": "code",
   "execution_count": 30,
   "id": "e68531ed",
   "metadata": {},
   "outputs": [
    {
     "data": {
      "text/plain": [
       "(array([[-1,  8],\n",
       "        [ 3,  6]]),\n",
       " array([[ 0,  0,  0],\n",
       "        [ 4,  6,  4],\n",
       "        [ 5,  6, -1]]))"
      ]
     },
     "execution_count": 30,
     "metadata": {},
     "output_type": "execute_result"
    }
   ],
   "source": [
    "#PDF 자료 p.19 확인 (3)\n",
    "A = np.array([ [1,2,3], \n",
    "               [3,4,1]])\n",
    "B = np.array([ [0,0],\n",
    "               [1,1],\n",
    "               [-1,2]])\n",
    "A@B, B@A"
   ]
  },
  {
   "cell_type": "code",
   "execution_count": 33,
   "id": "d8ac892a",
   "metadata": {},
   "outputs": [
    {
     "data": {
      "text/plain": [
       "(array([[2, 0],\n",
       "        [3, 4]]),\n",
       " array([[2, 0],\n",
       "        [3, 4]]))"
      ]
     },
     "execution_count": 33,
     "metadata": {},
     "output_type": "execute_result"
    }
   ],
   "source": [
    "#단위행렬에서는 교환법칙 성립\n",
    "#PDF 자료 p.19 확인 (4)\n",
    "A = np.array([ [2,0], \n",
    "               [3,4]])\n",
    "B = np.array([ [1,0],\n",
    "               [0,1]])\n",
    "A@B, B@A"
   ]
  },
  {
   "cell_type": "code",
   "execution_count": 34,
   "id": "7d68cde8",
   "metadata": {},
   "outputs": [
    {
     "data": {
      "text/plain": [
       "array([[1., 0.],\n",
       "       [0., 1.]])"
      ]
     },
     "execution_count": 34,
     "metadata": {},
     "output_type": "execute_result"
    }
   ],
   "source": [
    "np.eye(2) #2행2열짜리 단위행렬"
   ]
  },
  {
   "cell_type": "code",
   "execution_count": 35,
   "id": "63f04cd3",
   "metadata": {},
   "outputs": [
    {
     "data": {
      "text/plain": [
       "array([[1., 0., 0.],\n",
       "       [0., 1., 0.],\n",
       "       [0., 0., 1.]])"
      ]
     },
     "execution_count": 35,
     "metadata": {},
     "output_type": "execute_result"
    }
   ],
   "source": [
    "np.eye(3) #3행3열짜리 단위행렬"
   ]
  },
  {
   "cell_type": "markdown",
   "id": "766b097f",
   "metadata": {},
   "source": [
    "### 2.7.3. 복합대입연산자의 사용 (+=, -=, *=, ...)\n",
    "- 배열에서의 a += b 는 a= a+b와 다소 다르게 작동한다. 잘 사용하지 않음."
   ]
  },
  {
   "cell_type": "code",
   "execution_count": 41,
   "id": "4e34e05c",
   "metadata": {},
   "outputs": [
    {
     "name": "stdout",
     "output_type": "stream",
     "text": [
      "[[1 1 1]\n",
      " [1 1 1]]\n",
      "[[0.67614273 0.75112173 0.64337368]\n",
      " [0.82948293 0.95978965 0.36206164]]\n"
     ]
    }
   ],
   "source": [
    "a = np.ones((2,3), dtype='int8') #2행3열짜리 int8 배열\n",
    "b = np.random.random((2,3)) #2행3열짜리 random값(0~1 균등분포) float64 배열\n",
    "print(a, b, sep='\\n')"
   ]
  },
  {
   "cell_type": "code",
   "execution_count": 42,
   "id": "add22b0a",
   "metadata": {},
   "outputs": [
    {
     "data": {
      "text/plain": [
       "array([[4, 4, 4],\n",
       "       [4, 4, 4]], dtype=int8)"
      ]
     },
     "execution_count": 42,
     "metadata": {},
     "output_type": "execute_result"
    }
   ],
   "source": [
    "a += 3\n",
    "a"
   ]
  },
  {
   "cell_type": "code",
   "execution_count": 43,
   "id": "734d04e2",
   "metadata": {},
   "outputs": [
    {
     "data": {
      "text/plain": [
       "array([[7, 7, 7],\n",
       "       [7, 7, 7]], dtype=int8)"
      ]
     },
     "execution_count": 43,
     "metadata": {},
     "output_type": "execute_result"
    }
   ],
   "source": [
    "a = a + 3\n",
    "a"
   ]
  },
  {
   "cell_type": "code",
   "execution_count": 44,
   "id": "d31bcfc7",
   "metadata": {},
   "outputs": [
    {
     "data": {
      "text/plain": [
       "array([[7, 7, 7],\n",
       "       [7, 7, 7]], dtype=int8)"
      ]
     },
     "execution_count": 44,
     "metadata": {},
     "output_type": "execute_result"
    }
   ],
   "source": [
    "a += 256 #a+256 결과를 a에 넣는데, 공간이 부족하면 앞이 짤림 (연산 무효)\n",
    "a"
   ]
  },
  {
   "cell_type": "code",
   "execution_count": 45,
   "id": "36d70ead",
   "metadata": {},
   "outputs": [
    {
     "data": {
      "text/plain": [
       "array([[263, 263, 263],\n",
       "       [263, 263, 263]], dtype=int16)"
      ]
     },
     "execution_count": 45,
     "metadata": {},
     "output_type": "execute_result"
    }
   ],
   "source": [
    "a = a + 256 #a+256 결과를 새로운 a에 할당\n",
    "a"
   ]
  },
  {
   "cell_type": "code",
   "execution_count": 46,
   "id": "bb52e739",
   "metadata": {},
   "outputs": [
    {
     "data": {
      "text/plain": [
       "dtype('float64')"
      ]
     },
     "execution_count": 46,
     "metadata": {},
     "output_type": "execute_result"
    }
   ],
   "source": [
    "# a는 int16, b는 float64\n",
    "b.dtype"
   ]
  },
  {
   "cell_type": "code",
   "execution_count": 47,
   "id": "6692ed5c",
   "metadata": {},
   "outputs": [
    {
     "data": {
      "text/plain": [
       "array([[263.67614273, 263.75112173, 263.64337368],\n",
       "       [263.82948293, 263.95978965, 263.36206164]])"
      ]
     },
     "execution_count": 47,
     "metadata": {},
     "output_type": "execute_result"
    }
   ],
   "source": [
    "b += a # b+a의 결과를 b에 넣는다\n",
    "b"
   ]
  },
  {
   "cell_type": "code",
   "execution_count": 48,
   "id": "ecfcb298",
   "metadata": {},
   "outputs": [
    {
     "ename": "UFuncTypeError",
     "evalue": "Cannot cast ufunc 'add' output from dtype('float64') to dtype('int16') with casting rule 'same_kind'",
     "output_type": "error",
     "traceback": [
      "\u001b[1;31m------------\u001b[0m",
      "\u001b[1;31mUFuncTypeError\u001b[0mTraceback (most recent call last)",
      "Cell \u001b[1;32mIn[48], line 1\u001b[0m\n\u001b[1;32m----> 1\u001b[0m a \u001b[38;5;241m+\u001b[39m\u001b[38;5;241m=\u001b[39m b \u001b[38;5;66;03m# b+a의 결과를 b에 넣는다\u001b[39;00m\n\u001b[0;32m      2\u001b[0m a\n",
      "\u001b[1;31mUFuncTypeError\u001b[0m: Cannot cast ufunc 'add' output from dtype('float64') to dtype('int16') with casting rule 'same_kind'"
     ]
    }
   ],
   "source": [
    "a += b # b+a의 결과를 b에 넣는다\n",
    "#a "
   ]
  },
  {
   "cell_type": "markdown",
   "id": "2e415204",
   "metadata": {},
   "source": [
    "### 2.7.4. 배열 요소별 집계\n",
    "- sum, min, max, mean, var(분산), std(표준편차)"
   ]
  },
  {
   "cell_type": "code",
   "execution_count": 50,
   "id": "d8d28f29",
   "metadata": {},
   "outputs": [
    {
     "data": {
      "text/plain": [
       "array([[2, 2, 2, 3],\n",
       "       [4, 3, 2, 1]])"
      ]
     },
     "execution_count": 50,
     "metadata": {},
     "output_type": "execute_result"
    }
   ],
   "source": [
    "a = np.array([[2,2,2,3], [4,3,2,1]])\n",
    "a"
   ]
  },
  {
   "cell_type": "code",
   "execution_count": 53,
   "id": "a6e05a0d",
   "metadata": {},
   "outputs": [
    {
     "name": "stdout",
     "output_type": "stream",
     "text": [
      "전체 합: 19 19\n",
      "전체 평균: 2.375 2.375\n",
      "전체 최소값: 1 1\n",
      "전체 최대값: 4 4\n",
      "전체 분산: 0.734375 0.734375\n",
      "전체 표준편차: 0.8569568250501305 0.8569568250501305\n"
     ]
    }
   ],
   "source": [
    "print('전체 합:', a.sum(), np.sum(a))\n",
    "print('전체 평균:', a.mean(), np.mean(a))\n",
    "print('전체 최소값:', a.min(), np.min(a))\n",
    "print('전체 최대값:', a.max(), np.max(a))\n",
    "print('전체 분산:', a.var(), np.var(a))\n",
    "print('전체 표준편차:', a.std(), np.std(a))"
   ]
  },
  {
   "cell_type": "code",
   "execution_count": 55,
   "id": "7b6603cd",
   "metadata": {},
   "outputs": [
    {
     "data": {
      "text/plain": [
       "0.8569568250501305"
      ]
     },
     "execution_count": 55,
     "metadata": {},
     "output_type": "execute_result"
    }
   ],
   "source": [
    "#분산에 루트를 씌우면 표준편차\n",
    "import math\n",
    "math.sqrt(a.var())\n",
    "#math.sqrt(스칼라데이터) sqrt 안에 배열 등 들어가면 에러"
   ]
  },
  {
   "cell_type": "markdown",
   "id": "4c4565e0",
   "metadata": {},
   "source": [
    "### 2.7.5. 배열 축별 집계\n",
    "- 행별/열별 sum, min, max, mean, var, std, argmax(최대값 index)"
   ]
  },
  {
   "cell_type": "code",
   "execution_count": 62,
   "id": "f5c243b8",
   "metadata": {},
   "outputs": [
    {
     "data": {
      "text/plain": [
       "array([[2, 2, 2, 3],\n",
       "       [4, 3, 2, 1]])"
      ]
     },
     "execution_count": 62,
     "metadata": {},
     "output_type": "execute_result"
    }
   ],
   "source": [
    "a"
   ]
  },
  {
   "cell_type": "code",
   "execution_count": 60,
   "id": "846042e6",
   "metadata": {},
   "outputs": [
    {
     "name": "stdout",
     "output_type": "stream",
     "text": [
      "a의 행별 합:  [ 9 10] [ 9 10]\n",
      "a의 행별 병균:  [2.25 2.5 ] [2.25 2.5 ]\n"
     ]
    }
   ],
   "source": [
    "#행별 합계 : axis=0(행), axis=1)열) #행을 고정하고 열(axis1축)들을 합함\n",
    "print('a의 행별 합: ', a.sum(axis=1), np.sum(a, axis=1)) #같은 행 내 열들의/ 합 개념\n",
    "print('a의 행별 평균: ', a.mean(axis=1), np.mean(a, axis=1))"
   ]
  },
  {
   "cell_type": "code",
   "execution_count": 61,
   "id": "db56407f",
   "metadata": {},
   "outputs": [
    {
     "name": "stdout",
     "output_type": "stream",
     "text": [
      "a 열별 합:  [6 5 4 4] [6 5 4 4]\n",
      "a의 열별 병균:  [3.  2.5 2.  2. ] [3.  2.5 2.  2. ]\n"
     ]
    }
   ],
   "source": [
    "#열별 합계 : 열을 고정하고 행(axis0축)들을 합함\n",
    "print('a 열별 합: ', a.sum(axis=0), np.sum(a, axis=0))\n",
    "print('a의 열별 병균: ', a.mean(axis=0), np.mean(a, axis=0))"
   ]
  },
  {
   "cell_type": "markdown",
   "id": "5eeca022",
   "metadata": {},
   "source": [
    "## 2.8. 그 외 요소별 계산하는 범용 함수들\n",
    "- 메모리를 효율적으로 사용할 수 있음\n",
    "    * np.add(A, B, C) : C=A+B\n",
    "    * np.multiply(A, B, C) : C=A*B\n",
    "    * np.subtract(A, B, C) : ...\n",
    "    * np.sqrt(배열) : 제곱근 cf. math.sqrt(스칼라변수)"
   ]
  },
  {
   "cell_type": "code",
   "execution_count": 63,
   "id": "2a381f90",
   "metadata": {},
   "outputs": [
    {
     "data": {
      "text/plain": [
       "(array([1, 2]), array([3, 4]), array([1.06099790e-313, 8.48798317e-314]))"
      ]
     },
     "execution_count": 63,
     "metadata": {},
     "output_type": "execute_result"
    }
   ],
   "source": [
    "a = np.array([1,2])\n",
    "b = np.array([3,4])\n",
    "c = np.empty((2,))\n",
    "a, b, c"
   ]
  },
  {
   "cell_type": "code",
   "execution_count": 65,
   "id": "6258993b",
   "metadata": {},
   "outputs": [
    {
     "name": "stdout",
     "output_type": "stream",
     "text": [
      "CPU times: total: 0 ns\n",
      "Wall time: 0 ns\n"
     ]
    },
    {
     "data": {
      "text/plain": [
       "array([4., 6.])"
      ]
     },
     "execution_count": 65,
     "metadata": {},
     "output_type": "execute_result"
    }
   ],
   "source": [
    "%%time\n",
    "np.add(a,b,c)\n",
    "c"
   ]
  },
  {
   "cell_type": "code",
   "execution_count": 66,
   "id": "71aa8659",
   "metadata": {},
   "outputs": [
    {
     "name": "stdout",
     "output_type": "stream",
     "text": [
      "CPU times: total: 0 ns\n",
      "Wall time: 0 ns\n"
     ]
    },
    {
     "data": {
      "text/plain": [
       "array([4, 6])"
      ]
     },
     "execution_count": 66,
     "metadata": {},
     "output_type": "execute_result"
    }
   ],
   "source": [
    "%%time\n",
    "c = a+b\n",
    "c"
   ]
  },
  {
   "cell_type": "code",
   "execution_count": 68,
   "id": "45b9385e",
   "metadata": {},
   "outputs": [
    {
     "name": "stdout",
     "output_type": "stream",
     "text": [
      "The memory_profiler extension is already loaded. To reload it, use:\n",
      "  %reload_ext memory_profiler\n"
     ]
    },
    {
     "data": {
      "text/plain": [
       "(array([-0.81351759, -0.7515202 , -1.01803881, ...,  0.66513531,\n",
       "         2.49727806, -0.18975777]),\n",
       " array([-0.81998856, -1.34704228,  0.76460663, ..., -1.37180011,\n",
       "         1.16143274, -1.27001655]),\n",
       " array([-0.04288599,  0.69898276,  0.50148689, ...,  0.58079206,\n",
       "         1.02218794,  0.42525519]))"
      ]
     },
     "execution_count": 68,
     "metadata": {},
     "output_type": "execute_result"
    }
   ],
   "source": [
    "#메모리 사용량과 속도 측정을 해 주는 메모리 프로파일러를 로드\n",
    "#아나콘다 프롬프트에서 pip install memory_profiler\n",
    "%load_ext memory_profiler\n",
    "A = np.random.randn(100000000)\n",
    "B = np.random.randn(100000000)\n",
    "C = np.random.randn(100000000)\n",
    "A, B, C"
   ]
  },
  {
   "cell_type": "markdown",
   "id": "88f0b536",
   "metadata": {},
   "source": [
    "```\n",
    "%%time : 셀 실행 시 소요시간 출력(셀 맨 위에 배치)\n",
    "%memit : 메모리 사용량 출력\n",
    "↓ 범용함수가 더 메모리 사용도 적고 빠름 \n",
    "```"
   ]
  },
  {
   "cell_type": "code",
   "execution_count": 72,
   "id": "c8d2de96",
   "metadata": {},
   "outputs": [
    {
     "name": "stdout",
     "output_type": "stream",
     "text": [
      "peak memory: 4567.73 MiB, increment: 1410.61 MiB\n",
      "[ 0.62418913  1.71131224 -0.27691233 ... -0.33164062  3.92260843\n",
      "  0.6662507 ]\n",
      "CPU times: total: 500 ms\n",
      "Wall time: 1.18 s\n"
     ]
    }
   ],
   "source": [
    "%%time\n",
    "%memit G = A*B + C\n",
    "print(G)"
   ]
  },
  {
   "cell_type": "code",
   "execution_count": 73,
   "id": "f13d1e87",
   "metadata": {},
   "outputs": [
    {
     "name": "stdout",
     "output_type": "stream",
     "text": [
      "peak memory: 3151.65 MiB, increment: 0.00 MiB\n",
      "[ 0.62418913  1.71131224 -0.27691233 ... -0.33164062  3.92260843\n",
      "  0.6662507 ]\n",
      "CPU times: total: 250 ms\n",
      "Wall time: 953 ms\n"
     ]
    }
   ],
   "source": [
    "%%time\n",
    "%memit np.multiply(A,B,G); np.add(G,C,G)\n",
    "print(G)"
   ]
  },
  {
   "cell_type": "markdown",
   "id": "aca5f4de",
   "metadata": {},
   "source": [
    "## 2.9. 브로드캐스팅\n",
    "- 서로 다른 크기의 배열 간 연산을 수행할 수 있도록 해 주는 강력한 기능"
   ]
  },
  {
   "cell_type": "code",
   "execution_count": 74,
   "id": "a9fc0e3f",
   "metadata": {},
   "outputs": [
    {
     "name": "stdout",
     "output_type": "stream",
     "text": [
      "[11 12 13]\n",
      "[11 12 13]\n"
     ]
    }
   ],
   "source": [
    "a = np.array([1,2,3])\n",
    "b = 10\n",
    "print(a+b) #요소별 연산\n",
    "print(np.add(a,b))"
   ]
  },
  {
   "cell_type": "code",
   "execution_count": 77,
   "id": "6220deda",
   "metadata": {},
   "outputs": [
    {
     "name": "stdout",
     "output_type": "stream",
     "text": [
      "[11 12 13]\n",
      "[10 20 30]\n",
      "[11 12 13]\n"
     ]
    }
   ],
   "source": [
    "#1차원 배열의 브로드캐스팅\n",
    "a = np.array([1,2,3])\n",
    "b = np.array([10]) #[10,10,10]으로 간주\n",
    "print(a+b)\n",
    "print(a*b)\n",
    "print(np.add(a,b))"
   ]
  },
  {
   "cell_type": "code",
   "execution_count": 78,
   "id": "d6530489",
   "metadata": {},
   "outputs": [
    {
     "data": {
      "text/plain": [
       "(array([[ 0,  1,  2],\n",
       "        [10, 11, 12],\n",
       "        [20, 21, 22],\n",
       "        [30, 31, 32]]),\n",
       " array([[ 0,  0,  0],\n",
       "        [ 0, 10, 20],\n",
       "        [ 0, 20, 40],\n",
       "        [ 0, 30, 60]]))"
      ]
     },
     "execution_count": 78,
     "metadata": {},
     "output_type": "execute_result"
    }
   ],
   "source": [
    "#2차원 배열의 브로드캐스팅\n",
    "a = np.array([[0,0,0],\n",
    "             [10,10,10],\n",
    "             [20,20,20],\n",
    "             [30,30,30]]) #4x3 2차원 배열\n",
    "b = np.array([0,1,2]) #3열짜리 1차원 배열, 1행 내용이 나머지 행으로 복사되듯\n",
    "np.add(a,b), np.multiply(a, b)"
   ]
  },
  {
   "cell_type": "code",
   "execution_count": 79,
   "id": "1d82d492",
   "metadata": {},
   "outputs": [
    {
     "data": {
      "text/plain": [
       "(array([[ 0,  0,  0],\n",
       "        [11, 11, 11],\n",
       "        [22, 22, 22],\n",
       "        [33, 33, 33]]),\n",
       " array([[ 0,  0,  0],\n",
       "        [10, 10, 10],\n",
       "        [40, 40, 40],\n",
       "        [90, 90, 90]]))"
      ]
     },
     "execution_count": 79,
     "metadata": {},
     "output_type": "execute_result"
    }
   ],
   "source": [
    "#2차원 배열의 브로드캐스팅\n",
    "a = np.array([[0,0,0],\n",
    "             [10,10,10],\n",
    "             [20,20,20],\n",
    "             [30,30,30]]) #4x3 2차원 배열\n",
    "b = np.array([[0],[1],[2],[3]]) #4행1열 1차원 배열\n",
    "np.add(a,b), np.multiply(a, b)"
   ]
  },
  {
   "cell_type": "code",
   "execution_count": 86,
   "id": "978322fc",
   "metadata": {},
   "outputs": [
    {
     "data": {
      "text/plain": [
       "array([[ 0],\n",
       "       [10],\n",
       "       [20],\n",
       "       [30]])"
      ]
     },
     "execution_count": 86,
     "metadata": {},
     "output_type": "execute_result"
    }
   ],
   "source": [
    "#a, b를 모든 쌍 조합에 대해 계산하고 싶을 때\n",
    "a = np.array([0, 10, 20, 30]) #4열짜리 1차원 배열\n",
    "b = np.array([1, 2, 3])\n",
    "#1차원 배열 a를 2차원 배열 A로 전환\n",
    "#방법 1 차원 변환\n",
    "A = a.reshape(4,1)\n",
    "#방법 1-1. 차원 변환(권장) : reshape(-1, ) '알아서 맞춰'\n",
    "A = a.reshape(-1,1)\n",
    "#방법 2. 새 축 추가 : newaxis를 이용해 배열에 새로운 축을 추가 →2차원\n",
    "# 기존 데이터는 건드리지 않은 채 특정 위치에 새로운 차원(축)을 추가\n",
    "# :는 모든 요소를 선택한다는 의미\n",
    "A = a[:, np.newaxis]\n",
    "#방법 3. 차원 확장 함수\n",
    "# axis=1 : 새로운 차원을 1번 축(열) 위치에 추가하라는 의미.\n",
    "# np.newaxis보다 코드가 길지만, 어떤 축에 차원을 추가하는지 명시하므로 코드 가독성을 높일 수 있음\n",
    "A = np.expand_dims(a, axis=1)\n",
    "A"
   ]
  },
  {
   "cell_type": "code",
   "execution_count": 87,
   "id": "8101cff1",
   "metadata": {},
   "outputs": [
    {
     "data": {
      "text/plain": [
       "(array([[ 0],\n",
       "        [10],\n",
       "        [20],\n",
       "        [30]]),\n",
       " array([[1, 2, 3]]))"
      ]
     },
     "execution_count": 87,
     "metadata": {},
     "output_type": "execute_result"
    }
   ],
   "source": [
    "a = np.array([0, 10, 20, 30]) #4열짜리 1차원 배열\n",
    "b = np.array([1, 2, 3])\n",
    "#방법 4. 두 배열을 입력받아, 이 두 배열이 서로 브로드캐스팅(모든 쌍 조합) 연산을 할 수 있도록 가장 효율적인 2차원 배열 형태로 변환하여 튜플로 반환하는 특수 함수\n",
    "A, B = np.ix_(a, b)\n",
    "A, B"
   ]
  },
  {
   "cell_type": "code",
   "execution_count": 85,
   "id": "3bc7af05",
   "metadata": {},
   "outputs": [
    {
     "data": {
      "text/plain": [
       "array([[ 1,  2,  3],\n",
       "       [11, 12, 13],\n",
       "       [21, 22, 23],\n",
       "       [31, 32, 33]])"
      ]
     },
     "execution_count": 85,
     "metadata": {},
     "output_type": "execute_result"
    }
   ],
   "source": [
    "A + b #A and b both broadcasted as 4x3 each."
   ]
  },
  {
   "cell_type": "markdown",
   "id": "ac5d4995",
   "metadata": {},
   "source": [
    "# 3. 배열 합치기/분리하기\n",
    "- 두 배열을 합치는 함수\n",
    "- r_, c_\n",
    "- 슬라이싱\n",
    "- 하나의 배열을 여러 개 작은 배열로 분리하는 함수"
   ]
  },
  {
   "cell_type": "markdown",
   "id": "9158bce9",
   "metadata": {},
   "source": [
    "## 3.1. 슬라이싱"
   ]
  },
  {
   "cell_type": "code",
   "execution_count": 88,
   "id": "043fbb94",
   "metadata": {},
   "outputs": [
    {
     "data": {
      "text/plain": [
       "array([[[ 0,  1,  2,  3],\n",
       "        [ 4,  5,  6,  7],\n",
       "        [ 8,  9, 10, 11]],\n",
       "\n",
       "       [[12, 13, 14, 15],\n",
       "        [16, 17, 18, 19],\n",
       "        [20, 21, 22, 23]]])"
      ]
     },
     "execution_count": 88,
     "metadata": {},
     "output_type": "execute_result"
    }
   ],
   "source": [
    "c = np.arange(24).reshape(2,3,4)\n",
    "c"
   ]
  },
  {
   "cell_type": "code",
   "execution_count": 89,
   "id": "009e0af1",
   "metadata": {},
   "outputs": [
    {
     "data": {
      "text/plain": [
       "9"
      ]
     },
     "execution_count": 89,
     "metadata": {},
     "output_type": "execute_result"
    }
   ],
   "source": [
    "c[0,2,1]"
   ]
  },
  {
   "cell_type": "code",
   "execution_count": 90,
   "id": "e1f4fd4c",
   "metadata": {},
   "outputs": [
    {
     "data": {
      "text/plain": [
       "array([[ 0,  1,  2,  3],\n",
       "       [ 4,  5,  6,  7],\n",
       "       [ 8,  9, 10, 11]])"
      ]
     },
     "execution_count": 90,
     "metadata": {},
     "output_type": "execute_result"
    }
   ],
   "source": [
    "#0면의 모든 데이터\n",
    "c[0]\n",
    "#c[0, :, :]\n",
    "#c[0, ...]"
   ]
  },
  {
   "cell_type": "code",
   "execution_count": 92,
   "id": "79befcec",
   "metadata": {},
   "outputs": [
    {
     "data": {
      "text/plain": [
       "array([12, 13, 14, 15])"
      ]
     },
     "execution_count": 92,
     "metadata": {},
     "output_type": "execute_result"
    }
   ],
   "source": [
    "#1면0행의 모든 데이터\n",
    "c[1,0]\n",
    "#c[1,0,:]\n",
    "#c[1,0,...]"
   ]
  },
  {
   "cell_type": "code",
   "execution_count": 94,
   "id": "1c63c3d7",
   "metadata": {},
   "outputs": [
    {
     "data": {
      "text/plain": [
       "array([13, 17, 21])"
      ]
     },
     "execution_count": 94,
     "metadata": {},
     "output_type": "execute_result"
    }
   ],
   "source": [
    "#1면1열의 모든 데이터\n",
    "c[1,:,1]"
   ]
  },
  {
   "cell_type": "code",
   "execution_count": 99,
   "id": "730839e9",
   "metadata": {},
   "outputs": [
    {
     "data": {
      "text/plain": [
       "array([[[ 6,  7],\n",
       "        [10, 11]],\n",
       "\n",
       "       [[18, 19],\n",
       "        [22, 23]]])"
      ]
     },
     "execution_count": 99,
     "metadata": {},
     "output_type": "execute_result"
    }
   ],
   "source": [
    "#모든 면의 1~2행, 2~3열 데이터\n",
    "c[:,1:3,2:4]\n",
    "#c[:,1:,2:]"
   ]
  },
  {
   "cell_type": "markdown",
   "id": "cf527f8c",
   "metadata": {},
   "source": [
    "## 3.2. 두 개 이상의 배열을 쌓아 합치는 함수\n",
    "- vstack(tup) : vertical, 아래로 추가하는 방식. 2차원 이상일 경우 열 수가 맞아야.\n",
    "- hstack(tup) : horizontal, 옆으로 추가하는 방식. 2차원 이상일 경우 행 수가 맞아야.\n",
    "- dstack(tup) : depth, 마지막 축(열)을 쌓아 합침(차원 증가) 짝 짓기. 3차원 결합을 강제"
   ]
  },
  {
   "cell_type": "code",
   "execution_count": 101,
   "id": "07a56b33",
   "metadata": {},
   "outputs": [
    {
     "name": "stdout",
     "output_type": "stream",
     "text": [
      "vstack 아래로 추가하여 합치기: \n",
      "[[1 2 3]\n",
      " [4 5 6]]\n",
      "(2, 3)\n",
      "hstack 옆으로 추가하여 합치기: \n",
      "[1 2 3 4 5 6]\n",
      "(6,)\n",
      "dstack 축을 depth로 합치기: \n",
      "[[[1 4]\n",
      "  [2 5]\n",
      "  [3 6]]]\n",
      "(1, 3, 2)\n"
     ]
    }
   ],
   "source": [
    "a = np.array([1,2,3])\n",
    "b = np.array([4,5,6])\n",
    "v = np.vstack( (a, b) )\n",
    "print('vstack 아래로 추가하여 합치기: ', v, v.shape, sep='\\n')\n",
    "h = np.hstack( (a, b) )\n",
    "print('hstack 옆으로 추가하여 합치기: ', h, h.shape, sep='\\n') \n",
    "d = np.dstack( (a, b) )\n",
    "print('dstack 축을 depth로 합치기: ', d, d.shape, sep='\\n')"
   ]
  },
  {
   "cell_type": "code",
   "execution_count": 104,
   "id": "d06b7954",
   "metadata": {},
   "outputs": [
    {
     "data": {
      "text/plain": [
       "(array([[ 0,  1,  2,  3],\n",
       "        [ 4,  5,  6,  7],\n",
       "        [ 8,  9, 10, 11]]),\n",
       " array([[12, 13, 14, 15],\n",
       "        [16, 17, 18, 19],\n",
       "        [20, 21, 22, 23]]))"
      ]
     },
     "execution_count": 104,
     "metadata": {},
     "output_type": "execute_result"
    }
   ],
   "source": [
    "a = np.arange(24).reshape(2, 3, 4)\n",
    "a, b = c #c[0]이 a, c[1]이 b\n",
    "a, b"
   ]
  },
  {
   "cell_type": "code",
   "execution_count": 105,
   "id": "edb4c1cd",
   "metadata": {},
   "outputs": [
    {
     "data": {
      "text/plain": [
       "array([[ 0,  1,  2,  3],\n",
       "       [ 4,  5,  6,  7],\n",
       "       [ 8,  9, 10, 11],\n",
       "       [12, 13, 14, 15],\n",
       "       [16, 17, 18, 19],\n",
       "       [20, 21, 22, 23]])"
      ]
     },
     "execution_count": 105,
     "metadata": {},
     "output_type": "execute_result"
    }
   ],
   "source": [
    "#수직으로 합치기\n",
    "np.vstack( (a, b) ) #2차원+2차원 : 이어붙이기라 2차원"
   ]
  },
  {
   "cell_type": "code",
   "execution_count": 106,
   "id": "21c9a22d",
   "metadata": {},
   "outputs": [
    {
     "data": {
      "text/plain": [
       "array([[ 0,  1,  2,  3],\n",
       "       [ 4,  5,  6,  7],\n",
       "       [ 8,  9, 10, 11],\n",
       "       [12, 13, 14, 15],\n",
       "       [16, 17, 18, 19],\n",
       "       [20, 21, 22, 23]])"
      ]
     },
     "execution_count": 106,
     "metadata": {},
     "output_type": "execute_result"
    }
   ],
   "source": [
    "np.concatenate( (a, b), axis=0 ) #axis=0. 즉, 행으로, 수직으로 합치는 게 기본값"
   ]
  },
  {
   "cell_type": "code",
   "execution_count": 107,
   "id": "c679aa95",
   "metadata": {},
   "outputs": [
    {
     "data": {
      "text/plain": [
       "array([[ 0,  1,  2,  3, 12, 13, 14, 15],\n",
       "       [ 4,  5,  6,  7, 16, 17, 18, 19],\n",
       "       [ 8,  9, 10, 11, 20, 21, 22, 23]])"
      ]
     },
     "execution_count": 107,
     "metadata": {},
     "output_type": "execute_result"
    }
   ],
   "source": [
    "#수평으로 합치기\n",
    "np.hstack( (a, b) )"
   ]
  },
  {
   "cell_type": "code",
   "execution_count": 108,
   "id": "9450f94e",
   "metadata": {},
   "outputs": [
    {
     "data": {
      "text/plain": [
       "array([[ 0,  1,  2,  3, 12, 13, 14, 15],\n",
       "       [ 4,  5,  6,  7, 16, 17, 18, 19],\n",
       "       [ 8,  9, 10, 11, 20, 21, 22, 23]])"
      ]
     },
     "execution_count": 108,
     "metadata": {},
     "output_type": "execute_result"
    }
   ],
   "source": [
    "np.concatenate( (a, b), axis=1 ) #axis=1, 열로 합치기"
   ]
  },
  {
   "cell_type": "code",
   "execution_count": 109,
   "id": "00deefad",
   "metadata": {},
   "outputs": [
    {
     "data": {
      "text/plain": [
       "array([[[ 0, 12],\n",
       "        [ 1, 13],\n",
       "        [ 2, 14],\n",
       "        [ 3, 15]],\n",
       "\n",
       "       [[ 4, 16],\n",
       "        [ 5, 17],\n",
       "        [ 6, 18],\n",
       "        [ 7, 19]],\n",
       "\n",
       "       [[ 8, 20],\n",
       "        [ 9, 21],\n",
       "        [10, 22],\n",
       "        [11, 23]]])"
      ]
     },
     "execution_count": 109,
     "metadata": {},
     "output_type": "execute_result"
    }
   ],
   "source": [
    "np.dstack( (a, b) )"
   ]
  },
  {
   "cell_type": "markdown",
   "id": "afd75551",
   "metadata": {},
   "source": [
    "- column_stack(tup) : 1차원 배열을 2차원 배열의 열 단위로 합침. dstack과 비교 가능\n",
    "- row_stack(tup) : 행 단위로 합침 == vstack()"
   ]
  },
  {
   "cell_type": "code",
   "execution_count": 110,
   "id": "f5eb6c16",
   "metadata": {},
   "outputs": [
    {
     "data": {
      "text/plain": [
       "array([[ 1,  5,  9],\n",
       "       [ 2,  6, 10],\n",
       "       [ 3,  7, 11],\n",
       "       [ 4,  8, 12]])"
      ]
     },
     "execution_count": 110,
     "metadata": {},
     "output_type": "execute_result"
    }
   ],
   "source": [
    "a = np.array([1,2,3,4])\n",
    "b = np.array([5,6,7,8])\n",
    "c = np.array([9,10,11,12])\n",
    "np.column_stack( (a,b,c) )"
   ]
  },
  {
   "cell_type": "code",
   "execution_count": 111,
   "id": "eec0da5e",
   "metadata": {},
   "outputs": [
    {
     "data": {
      "text/plain": [
       "array([[ 1,  5,  9],\n",
       "       [ 2,  6, 10],\n",
       "       [ 3,  7, 11],\n",
       "       [ 4,  8, 12]])"
      ]
     },
     "execution_count": 111,
     "metadata": {},
     "output_type": "execute_result"
    }
   ],
   "source": [
    "np.dstack( (a,b,c) ).reshape(4,3) #column_stack과 같음"
   ]
  },
  {
   "cell_type": "code",
   "execution_count": 113,
   "id": "57985efc",
   "metadata": {},
   "outputs": [
    {
     "data": {
      "text/plain": [
       "array([[ 1,  5,  9],\n",
       "       [ 2,  6, 10],\n",
       "       [ 3,  7, 11],\n",
       "       [ 4,  8, 12]])"
      ]
     },
     "execution_count": 113,
     "metadata": {},
     "output_type": "execute_result"
    }
   ],
   "source": [
    "np.hstack( (a[:, np.newaxis], b[:, np.newaxis], c[:, np.newaxis]) ) #column_stack과 같음"
   ]
  },
  {
   "cell_type": "code",
   "execution_count": 114,
   "id": "8e93f67e",
   "metadata": {},
   "outputs": [
    {
     "data": {
      "text/plain": [
       "array([[ 1,  2,  3,  4],\n",
       "       [ 5,  6,  7,  8],\n",
       "       [ 9, 10, 11, 12]])"
      ]
     },
     "execution_count": 114,
     "metadata": {},
     "output_type": "execute_result"
    }
   ],
   "source": [
    "#행 쌓기\n",
    "np.row_stack( (a,b,c) ) #vstack과 같음"
   ]
  },
  {
   "cell_type": "markdown",
   "id": "b0aff9f0",
   "metadata": {},
   "source": [
    "- stack(tup, axis=n) : axis=0은 첫 번째 차원(2차원에서는 행, 3차원에서는 면), axis=-1(열)"
   ]
  },
  {
   "cell_type": "code",
   "execution_count": 116,
   "id": "8e5273d2",
   "metadata": {},
   "outputs": [
    {
     "data": {
      "text/plain": [
       "(array([[ 0,  1,  2,  3],\n",
       "        [ 4,  5,  6,  7],\n",
       "        [ 8,  9, 10, 11]]),\n",
       " array([[12, 13, 14, 15],\n",
       "        [16, 17, 18, 19],\n",
       "        [20, 21, 22, 23]]))"
      ]
     },
     "execution_count": 116,
     "metadata": {},
     "output_type": "execute_result"
    }
   ],
   "source": [
    "a = np.arange(12).reshape(3,4)\n",
    "b = np.arange(12, 24).reshape(3,4)\n",
    "a, b"
   ]
  },
  {
   "cell_type": "code",
   "execution_count": 117,
   "id": "e4a32630",
   "metadata": {},
   "outputs": [
    {
     "data": {
      "text/plain": [
       "array([[[ 0,  1,  2,  3],\n",
       "        [ 4,  5,  6,  7],\n",
       "        [ 8,  9, 10, 11]],\n",
       "\n",
       "       [[12, 13, 14, 15],\n",
       "        [16, 17, 18, 19],\n",
       "        [20, 21, 22, 23]]])"
      ]
     },
     "execution_count": 117,
     "metadata": {},
     "output_type": "execute_result"
    }
   ],
   "source": [
    "#0면에 a, 1면에 b로 stack\n",
    "np.stack((a,b), axis=0) "
   ]
  },
  {
   "cell_type": "code",
   "execution_count": 118,
   "id": "acccab21",
   "metadata": {},
   "outputs": [
    {
     "data": {
      "text/plain": [
       "array([[[ 0,  1,  2,  3],\n",
       "        [12, 13, 14, 15]],\n",
       "\n",
       "       [[ 4,  5,  6,  7],\n",
       "        [16, 17, 18, 19]],\n",
       "\n",
       "       [[ 8,  9, 10, 11],\n",
       "        [20, 21, 22, 23]]])"
      ]
     },
     "execution_count": 118,
     "metadata": {},
     "output_type": "execute_result"
    }
   ],
   "source": [
    "#행(1축)끼리 합해서 면을 이룸\n",
    "np.stack((a,b), axis=1)"
   ]
  },
  {
   "cell_type": "code",
   "execution_count": 119,
   "id": "6219215f",
   "metadata": {},
   "outputs": [
    {
     "data": {
      "text/plain": [
       "array([[[ 0, 12],\n",
       "        [ 1, 13],\n",
       "        [ 2, 14],\n",
       "        [ 3, 15]],\n",
       "\n",
       "       [[ 4, 16],\n",
       "        [ 5, 17],\n",
       "        [ 6, 18],\n",
       "        [ 7, 19]],\n",
       "\n",
       "       [[ 8, 20],\n",
       "        [ 9, 21],\n",
       "        [10, 22],\n",
       "        [11, 23]]])"
      ]
     },
     "execution_count": 119,
     "metadata": {},
     "output_type": "execute_result"
    }
   ],
   "source": [
    "#열(2축)끼리 합해서 면을 이룸\n",
    "np.stack((a,b), axis=-1)"
   ]
  },
  {
   "cell_type": "markdown",
   "id": "4bf54e5f",
   "metadata": {},
   "source": [
    "## 3.3. r_ / c_"
   ]
  },
  {
   "cell_type": "code",
   "execution_count": 120,
   "id": "6ef062b5",
   "metadata": {},
   "outputs": [
    {
     "data": {
      "text/plain": [
       "array([ 1,  2,  3,  4,  5,  6,  7,  8,  9, 10, 11, 12])"
      ]
     },
     "execution_count": 120,
     "metadata": {},
     "output_type": "execute_result"
    }
   ],
   "source": [
    "a = np.array([1,2,3,4])\n",
    "b = np.array([5,6,7,8])\n",
    "c = np.array([9,10,11,12])\n",
    "np.r_[a,b,c] # 한 행으로"
   ]
  },
  {
   "cell_type": "code",
   "execution_count": 121,
   "id": "b3369ac0",
   "metadata": {},
   "outputs": [
    {
     "data": {
      "text/plain": [
       "array([[ 1,  2,  3,  4],\n",
       "       [ 5,  6,  7,  8],\n",
       "       [ 9, 10, 11, 12]])"
      ]
     },
     "execution_count": 121,
     "metadata": {},
     "output_type": "execute_result"
    }
   ],
   "source": [
    "np.r_[[a],[b],[c]] #vstack과 결과가 같네"
   ]
  },
  {
   "cell_type": "code",
   "execution_count": 122,
   "id": "e8da5ddc",
   "metadata": {},
   "outputs": [
    {
     "data": {
      "text/plain": [
       "array([[ 1,  5,  9],\n",
       "       [ 2,  6, 10],\n",
       "       [ 3,  7, 11],\n",
       "       [ 4,  8, 12]])"
      ]
     },
     "execution_count": 122,
     "metadata": {},
     "output_type": "execute_result"
    }
   ],
   "source": [
    "np.c_[a,b,c] #컬럼 단위로"
   ]
  },
  {
   "cell_type": "code",
   "execution_count": 123,
   "id": "57bbbbfd",
   "metadata": {},
   "outputs": [
    {
     "data": {
      "text/plain": [
       "array([[ 1,  5,  9],\n",
       "       [ 2,  6, 10],\n",
       "       [ 3,  7, 11],\n",
       "       [ 4,  8, 12]])"
      ]
     },
     "execution_count": 123,
     "metadata": {},
     "output_type": "execute_result"
    }
   ],
   "source": [
    "np.column_stack( (a,b,c) )"
   ]
  },
  {
   "cell_type": "markdown",
   "id": "14d0c98f",
   "metadata": {},
   "source": [
    "## 3.4. 배열을 분리하는 함수\n",
    "- vsplit(ary, 정수나 벡터) : 첫 번째 축(2차원에서 가로축)을 따라 분할\n",
    "- hsplit(ary, 정수나 벡터) : 두 번째 축(2차원에서 세로축)을 따라 분할\n",
    "- dsplit(ary, 정수나 벡터) : depth를 따라 분할, 3차원에서만 가능\n",
    "    * 정수 n : n개로 분리\n",
    "    * [n] : n번째 index 기점으로 분리\n",
    "    * [m, n] : m번째 부터 n번째 앞까지, n번째부터 나머지"
   ]
  },
  {
   "cell_type": "code",
   "execution_count": 124,
   "id": "5bcbde33",
   "metadata": {},
   "outputs": [
    {
     "data": {
      "text/plain": [
       "array([[ 0,  1,  2,  3],\n",
       "       [ 4,  5,  6,  7],\n",
       "       [ 8,  9, 10, 11]])"
      ]
     },
     "execution_count": 124,
     "metadata": {},
     "output_type": "execute_result"
    }
   ],
   "source": [
    "a = np.arange(12).reshape(3,4)\n",
    "a"
   ]
  },
  {
   "cell_type": "code",
   "execution_count": 125,
   "id": "85b57946",
   "metadata": {},
   "outputs": [
    {
     "data": {
      "text/plain": [
       "[array([[0, 1, 2, 3]]), array([[4, 5, 6, 7]]), array([[ 8,  9, 10, 11]])]"
      ]
     },
     "execution_count": 125,
     "metadata": {},
     "output_type": "execute_result"
    }
   ],
   "source": [
    "#가로축을 따라 3개로 분할 (분할 후 차원 유지)\n",
    "a_v = np.vsplit(a, 3)\n",
    "a_v"
   ]
  },
  {
   "cell_type": "code",
   "execution_count": 126,
   "id": "2e99e938",
   "metadata": {},
   "outputs": [
    {
     "data": {
      "text/plain": [
       "[array([[0, 1, 2, 3]]),\n",
       " array([[ 4,  5,  6,  7],\n",
       "        [ 8,  9, 10, 11]])]"
      ]
     },
     "execution_count": 126,
     "metadata": {},
     "output_type": "execute_result"
    }
   ],
   "source": [
    "#1번 행을 기점으로 가로축을 따라 분할\n",
    "a_v1 = np.vsplit(a, [1])\n",
    "a_v1"
   ]
  },
  {
   "cell_type": "code",
   "execution_count": 128,
   "id": "25462859",
   "metadata": {},
   "outputs": [
    {
     "data": {
      "text/plain": [
       "[array([[0, 1],\n",
       "        [4, 5],\n",
       "        [8, 9]]),\n",
       " array([[ 2,  3],\n",
       "        [ 6,  7],\n",
       "        [10, 11]])]"
      ]
     },
     "execution_count": 128,
     "metadata": {},
     "output_type": "execute_result"
    }
   ],
   "source": [
    "a_h = np.hsplit(a, 2)\n",
    "a_h"
   ]
  },
  {
   "cell_type": "code",
   "execution_count": 130,
   "id": "388df0bf",
   "metadata": {},
   "outputs": [
    {
     "data": {
      "text/plain": [
       "[array([[0],\n",
       "        [4],\n",
       "        [8]]),\n",
       " array([[ 1,  2],\n",
       "        [ 5,  6],\n",
       "        [ 9, 10]]),\n",
       " array([[ 3],\n",
       "        [ 7],\n",
       "        [11]])]"
      ]
     },
     "execution_count": 130,
     "metadata": {},
     "output_type": "execute_result"
    }
   ],
   "source": [
    "a_h1 = np.hsplit(a, [1,3])\n",
    "a_h1"
   ]
  },
  {
   "cell_type": "markdown",
   "id": "60cc970f",
   "metadata": {},
   "source": [
    "- split(ary, 개수나 index vector, axis=?)\n",
    "- array_split(ary, 개수나 index vector, axis=?)\n",
    "    - axis=0 : vsplit()과 동일\n",
    "    - axis=1 : hsplit()과 동일\n",
    "    - axis=2 : dsplit()과 동일\n",
    "    - array_split이 split과 다른 점 : 나눠지지 않는 정수로도 사용 가능"
   ]
  },
  {
   "cell_type": "code",
   "execution_count": 131,
   "id": "20e0b3f8",
   "metadata": {},
   "outputs": [
    {
     "data": {
      "text/plain": [
       "array([[ 0,  1,  2,  3,  4,  5,  6,  7,  8,  9],\n",
       "       [10, 11, 12, 13, 14, 15, 16, 17, 18, 19]])"
      ]
     },
     "execution_count": 131,
     "metadata": {},
     "output_type": "execute_result"
    }
   ],
   "source": [
    "a = np.arange(20).reshape(2,10)\n",
    "a"
   ]
  },
  {
   "cell_type": "code",
   "execution_count": 132,
   "id": "553a1c24",
   "metadata": {},
   "outputs": [
    {
     "data": {
      "text/plain": [
       "[array([[0, 1, 2, 3, 4, 5, 6, 7, 8, 9]]),\n",
       " array([[10, 11, 12, 13, 14, 15, 16, 17, 18, 19]])]"
      ]
     },
     "execution_count": 132,
     "metadata": {},
     "output_type": "execute_result"
    }
   ],
   "source": [
    "np.split(a, 2, axis=0) #axis=0이면 0번축 기준으로 분리 (2차원에서 행 분리)"
   ]
  },
  {
   "cell_type": "code",
   "execution_count": 133,
   "id": "37cbb5e5",
   "metadata": {},
   "outputs": [
    {
     "data": {
      "text/plain": [
       "[array([[ 0,  1,  2,  3,  4],\n",
       "        [10, 11, 12, 13, 14]]),\n",
       " array([[ 5,  6,  7,  8,  9],\n",
       "        [15, 16, 17, 18, 19]])]"
      ]
     },
     "execution_count": 133,
     "metadata": {},
     "output_type": "execute_result"
    }
   ],
   "source": [
    "np.split(a, 2, axis=1) #axis=1이면 1번축 기준으로 분리 (2차원에서 열 분리)"
   ]
  },
  {
   "cell_type": "code",
   "execution_count": 135,
   "id": "11dc0979",
   "metadata": {},
   "outputs": [
    {
     "ename": "ValueError",
     "evalue": "array split does not result in an equal division",
     "output_type": "error",
     "traceback": [
      "\u001b[1;31m------------\u001b[0m",
      "\u001b[1;31mValueError\u001b[0mTraceback (most recent call last)",
      "Cell \u001b[1;32mIn[135], line 1\u001b[0m\n\u001b[1;32m----> 1\u001b[0m \u001b[43mnp\u001b[49m\u001b[38;5;241;43m.\u001b[39;49m\u001b[43msplit\u001b[49m\u001b[43m(\u001b[49m\u001b[43ma\u001b[49m\u001b[43m,\u001b[49m\u001b[43m \u001b[49m\u001b[38;5;241;43m3\u001b[39;49m\u001b[43m,\u001b[49m\u001b[43m \u001b[49m\u001b[43maxis\u001b[49m\u001b[38;5;241;43m=\u001b[39;49m\u001b[38;5;241;43m1\u001b[39;49m\u001b[43m)\u001b[49m\n",
      "File \u001b[1;32m<__array_function__ internals>:180\u001b[0m, in \u001b[0;36msplit\u001b[1;34m(*args, **kwargs)\u001b[0m\n",
      "File \u001b[1;32m~\\anaconda3\\lib\\site-packages\\numpy\\lib\\shape_base.py:872\u001b[0m, in \u001b[0;36msplit\u001b[1;34m(ary, indices_or_sections, axis)\u001b[0m\n\u001b[0;32m    870\u001b[0m     N \u001b[38;5;241m=\u001b[39m ary\u001b[38;5;241m.\u001b[39mshape[axis]\n\u001b[0;32m    871\u001b[0m     \u001b[38;5;28;01mif\u001b[39;00m N \u001b[38;5;241m%\u001b[39m sections:\n\u001b[1;32m--> 872\u001b[0m         \u001b[38;5;28;01mraise\u001b[39;00m \u001b[38;5;167;01mValueError\u001b[39;00m(\n\u001b[0;32m    873\u001b[0m             \u001b[38;5;124m'\u001b[39m\u001b[38;5;124marray split does not result in an equal division\u001b[39m\u001b[38;5;124m'\u001b[39m) \u001b[38;5;28;01mfrom\u001b[39;00m \u001b[38;5;28mNone\u001b[39m\n\u001b[0;32m    874\u001b[0m \u001b[38;5;28;01mreturn\u001b[39;00m array_split(ary, indices_or_sections, axis)\n",
      "\u001b[1;31mValueError\u001b[0m: array split does not result in an equal division"
     ]
    }
   ],
   "source": [
    "np.split(a, 3, axis=1) #does not result in an equal division"
   ]
  },
  {
   "cell_type": "code",
   "execution_count": 139,
   "id": "036beb5f",
   "metadata": {},
   "outputs": [
    {
     "data": {
      "text/plain": [
       "[array([[ 0,  1,  2,  3],\n",
       "        [10, 11, 12, 13]]),\n",
       " array([[ 4,  5,  6],\n",
       "        [14, 15, 16]]),\n",
       " array([[ 7,  8,  9],\n",
       "        [17, 18, 19]])]"
      ]
     },
     "execution_count": 139,
     "metadata": {},
     "output_type": "execute_result"
    }
   ],
   "source": [
    "np.array_split(a, 3, axis=1) #나눠서 떨어지지 않는 수로도 분리 가능"
   ]
  }
 ],
 "metadata": {
  "kernelspec": {
   "display_name": "Python 3 (ipykernel)",
   "language": "python",
   "name": "python3"
  },
  "language_info": {
   "codemirror_mode": {
    "name": "ipython",
    "version": 3
   },
   "file_extension": ".py",
   "mimetype": "text/x-python",
   "name": "python",
   "nbconvert_exporter": "python",
   "pygments_lexer": "ipython3",
   "version": "3.10.9"
  },
  "toc": {
   "base_numbering": 1,
   "nav_menu": {},
   "number_sections": false,
   "sideBar": true,
   "skip_h1_title": false,
   "title_cell": "Table of Contents",
   "title_sidebar": "Contents",
   "toc_cell": false,
   "toc_position": {
    "height": "calc(100% - 180px)",
    "left": "10px",
    "top": "150px",
    "width": "240.7px"
   },
   "toc_section_display": true,
   "toc_window_display": true
  }
 },
 "nbformat": 4,
 "nbformat_minor": 5
}
