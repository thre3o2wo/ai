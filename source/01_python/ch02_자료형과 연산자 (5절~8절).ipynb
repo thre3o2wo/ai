{
 "cells": [
  {
   "cell_type": "code",
   "execution_count": 1,
   "id": "6e2a0efb",
   "metadata": {},
   "outputs": [
    {
     "data": {
      "text/html": [
       "\n",
       "<style>\n",
       "div.container{width:90% !important;}\n",
       "div.cell.code_cell.rendered{width:90%;}\n",
       "div.input_prompt{padding:0px;}\n",
       "div.CodeMirror {font-family:Consolas; font-size:10pt;}\n",
       "div.text_cell_render.rendered_html{font-size:10pt;}\n",
       "div.output {font-size:10pt; font-weight:bold;}\n",
       "div.input {font-family:Consolas; font-size:10pt;}\n",
       "div.prompt {min-width:70px;}\n",
       "div#toc-wrapper{padding-top:120px;}\n",
       "div.text_cell_render ul li{font-size:10pt;padding:5px;}\n",
       "table.dataframe{font-size:10px;}\n",
       "</style>\n"
      ],
      "text/plain": [
       "<IPython.core.display.HTML object>"
      ]
     },
     "metadata": {},
     "output_type": "display_data"
    }
   ],
   "source": [
    "from IPython.display import display, HTML\n",
    "display(HTML(\"\"\"\n",
    "<style>\n",
    "div.container{width:90% !important;}\n",
    "div.cell.code_cell.rendered{width:90%;}\n",
    "div.input_prompt{padding:0px;}\n",
    "div.CodeMirror {font-family:Consolas; font-size:10pt;}\n",
    "div.text_cell_render.rendered_html{font-size:10pt;}\n",
    "div.output {font-size:10pt; font-weight:bold;}\n",
    "div.input {font-family:Consolas; font-size:10pt;}\n",
    "div.prompt {min-width:70px;}\n",
    "div#toc-wrapper{padding-top:120px;}\n",
    "div.text_cell_render ul li{font-size:10pt;padding:5px;}\n",
    "table.dataframe{font-size:10px;}\n",
    "</style>\n",
    "\"\"\"))"
   ]
  },
  {
   "cell_type": "markdown",
   "id": "b11597a6",
   "metadata": {},
   "source": [
    "<b><font size=\"6\" color=\"red\">ch02. 자료형과 연산자</font><b>\n",
    "# 5. 연산자\n",
    "## 5.1. 산술 연산자 : +, -, *, /(결과 float), //(몫), %(나머지), **(제곱)"
   ]
  },
  {
   "cell_type": "code",
   "execution_count": 13,
   "id": "8701b236",
   "metadata": {},
   "outputs": [
    {
     "name": "stdout",
     "output_type": "stream",
     "text": [
      "10*5제곱 = 100000\n",
      "4/2(결과 실수) = 2.0\n",
      "4**2 = 16\n",
      "4**2.0 = 16.0\n"
     ]
    }
   ],
   "source": [
    "print(\"10*5제곱 =\",10**5)\n",
    "print(\"4/2(결과 실수) =\", 4/2)\n",
    "print(\"4**2 =\",4**2)\n",
    "# 정수끼리 연산은 결과가 정수 (단 / 제외)\n",
    "# 정수와 실수, 실수끼리의 연산 결과는 실수\n",
    "print(\"4**2.0 =\", 4**2.0)"
   ]
  },
  {
   "cell_type": "code",
   "execution_count": 15,
   "id": "92dea61d",
   "metadata": {},
   "outputs": [
    {
     "name": "stdout",
     "output_type": "stream",
     "text": [
      "5//2(몫) = 2\n",
      "5%2(나머지) = 1\n"
     ]
    }
   ],
   "source": [
    "print(\"5//2(몫) =\", 5//2)\n",
    "print(\"5%2(나머지) =\", 5%2)"
   ]
  },
  {
   "cell_type": "code",
   "execution_count": 19,
   "id": "e8acbb0c",
   "metadata": {},
   "outputs": [
    {
     "name": "stdout",
     "output_type": "stream",
     "text": [
      "정수를 입력하세요: 5\n",
      "입력하신 수는 5, 2로 나눈 나머지는 1이므로 홀수를 입력하셨습니다.\n"
     ]
    }
   ],
   "source": [
    "# Quiz 1. 정수를 입력받아 짝수인지 홀수인지 여부를 출력\n",
    "num1 = int(input(\"정수를 입력하세요: \"))\n",
    "result1 = num1 % 2 #result : -1, 0, 1\n",
    "if result1:\n",
    "    temp = \"홀수\"\n",
    "else:\n",
    "    temp = \"짝수\"\n",
    "print(f\"입력하신 수는 {num1}, 2로 나눈 나머지는 {result1}이므로 {temp}를 입력하셨습니다.\")"
   ]
  },
  {
   "cell_type": "code",
   "execution_count": 25,
   "id": "177b37ff",
   "metadata": {},
   "outputs": [
    {
     "name": "stdout",
     "output_type": "stream",
     "text": [
      "정수를 입력하세요: 10\n",
      "입력하신 수는 10, 5로 나눈 나머지는 0이므로 5의 배수를 입력하셨습니다.\n"
     ]
    }
   ],
   "source": [
    "# Quiz 2. 정수를 입력받아 5의 배수인지 여부를 출력\n",
    "num2 = int(input(\"정수를 입력하세요: \"))\n",
    "result2 = num2 % 5\n",
    "if result2:\n",
    "    temp = \"입력하지 않으셨습니다.\"\n",
    "else:\n",
    "    temp = \"입력하셨습니다.\"\n",
    "print(f\"입력하신 수는 {num2}, 5로 나눈 나머지는 {result2}이므로 5의 배수를 {temp}\")"
   ]
  },
  {
   "cell_type": "code",
   "execution_count": 32,
   "id": "4816da6c",
   "metadata": {},
   "outputs": [
    {
     "name": "stdout",
     "output_type": "stream",
     "text": [
      "국어 점수를 입력하세요: 99\n",
      "영어 점수를 입력하세요: 100\n",
      "수학 점수를 입력하세요: 100\n",
      "\n",
      "국어 :  99\t 영어: 100\t 수학: 100\n",
      "총점 : 299\t 평균:  99.7\n",
      "\n"
     ]
    }
   ],
   "source": [
    "# Quiz 3. 국어, 영어, 수학 점수를 입력받아 다음 셀에서 다음과 같이...\n",
    "kor = int(input(\"국어 점수를 입력하세요: \"))\n",
    "eng = int(input(\"영어 점수를 입력하세요: \"))\n",
    "mat = int(input(\"수학 점수를 입력하세요: \"))\n",
    "sum = kor+eng+mat\n",
    "ave = sum/3\n",
    "print('''\n",
    "국어 : {:3d}\\t 영어: {:3d}\\t 수학: {:3d}\n",
    "총점 : {:3d}\\t 평균: {:5.1f}\n",
    "'''.format(kor, eng, mat, sum, ave))"
   ]
  },
  {
   "cell_type": "markdown",
   "id": "2936a91e",
   "metadata": {},
   "source": [
    "## 5.2. 할당 연산자 : =, +=, -=, *=, /=, //=, %="
   ]
  },
  {
   "cell_type": "code",
   "execution_count": 44,
   "id": "20d66f15",
   "metadata": {},
   "outputs": [
    {
     "name": "stdout",
     "output_type": "stream",
     "text": [
      "a=15\n"
     ]
    }
   ],
   "source": [
    "# '='는 할당. 등호는 ==\n",
    "a = 10\n",
    "a += 5 # a = a + 5 # 파이썬에서는 a++ 사용하지 않음\n",
    "print(f\"a={a}\")"
   ]
  },
  {
   "cell_type": "code",
   "execution_count": 45,
   "id": "d53878e2",
   "metadata": {},
   "outputs": [
    {
     "name": "stdout",
     "output_type": "stream",
     "text": [
      "a=10\n"
     ]
    }
   ],
   "source": [
    "a -= 5 # a = a - 5\n",
    "print(f\"a={a}\")"
   ]
  },
  {
   "cell_type": "code",
   "execution_count": 46,
   "id": "8171ee96",
   "metadata": {},
   "outputs": [
    {
     "name": "stdout",
     "output_type": "stream",
     "text": [
      "a=50\n"
     ]
    }
   ],
   "source": [
    "a *= 5 # a = a * 5\n",
    "print(f\"a={a}\")"
   ]
  },
  {
   "cell_type": "code",
   "execution_count": 47,
   "id": "c2ca0f83",
   "metadata": {},
   "outputs": [
    {
     "name": "stdout",
     "output_type": "stream",
     "text": [
      "a=12.5\n"
     ]
    }
   ],
   "source": [
    "a /= 4 # a = a / 4\n",
    "print(f\"a={a}\")"
   ]
  },
  {
   "cell_type": "code",
   "execution_count": 48,
   "id": "b89c243e",
   "metadata": {},
   "outputs": [
    {
     "name": "stdout",
     "output_type": "stream",
     "text": [
      "a=6.0\n"
     ]
    }
   ],
   "source": [
    "a //= 2 # a = a // 2\n",
    "print(f\"a={a}\")"
   ]
  },
  {
   "cell_type": "code",
   "execution_count": 49,
   "id": "9b912802",
   "metadata": {},
   "outputs": [
    {
     "name": "stdout",
     "output_type": "stream",
     "text": [
      "a=2.0\n"
     ]
    }
   ],
   "source": [
    "a %= 4 # a = a % 4\n",
    "print(f\"a={a}\")"
   ]
  },
  {
   "cell_type": "markdown",
   "id": "fe81dc7d",
   "metadata": {},
   "source": [
    "## 5.3. 논리 연산자 : &, and, |, or, not"
   ]
  },
  {
   "cell_type": "code",
   "execution_count": 51,
   "id": "6ecebd80",
   "metadata": {},
   "outputs": [
    {
     "name": "stdout",
     "output_type": "stream",
     "text": [
      "True\n",
      "0\n"
     ]
    }
   ],
   "source": [
    "# & : 논리연산자, 비트연산자\n",
    "print((10>3)&(10>5)) # 논리연산 True & True\n",
    "print(12&1) # 비트 연산\n",
    "# 1 1 0 0 (12)\n",
    "# 0 0 0 1 (1)\n",
    "# 0 0 0 0 (0)"
   ]
  },
  {
   "cell_type": "code",
   "execution_count": 53,
   "id": "f925b9de",
   "metadata": {},
   "outputs": [
    {
     "name": "stdout",
     "output_type": "stream",
     "text": [
      "True\n",
      "0\n"
     ]
    }
   ],
   "source": [
    "# and : 논리연산자 False로 판별되는 첫 번째 항의 결과 반환\n",
    "print((10>3)and(10>5))\n",
    "print(0 and 1) # 연산 마지막 판별 값을 반환함\n",
    "# - and에서 첫 번째가 false라면 바로 false. 마지막까지 true라면 마지막 값을 반환"
   ]
  },
  {
   "cell_type": "code",
   "execution_count": 60,
   "id": "deee8e38",
   "metadata": {},
   "outputs": [
    {
     "name": "stdout",
     "output_type": "stream",
     "text": [
      "논리연산(연산자 앞뒤에 논리형일 때):  True\n",
      "비트연산(연산자 앞뒤에 하나라도 숫자가 있을 때):  3\n"
     ]
    }
   ],
   "source": [
    "# |: 논리연산자, 비트연산자\n",
    "result = True | False\n",
    "print('논리연산(연산자 앞뒤에 논리형일 때): ', result)\n",
    "result = 3 | False # 0011 | 00000 -> 0011\n",
    "print('비트연산(연산자 앞뒤에 하나라도 숫자가 있을 때): ', result)"
   ]
  },
  {
   "cell_type": "code",
   "execution_count": 61,
   "id": "4caba88f",
   "metadata": {},
   "outputs": [
    {
     "name": "stdout",
     "output_type": "stream",
     "text": [
      "[]\n",
      "Hong\n"
     ]
    }
   ],
   "source": [
    "# or : 논리연산자\n",
    "# 참으로 판별되는 첫 번째 항의 결과 반환\n",
    "# 모든 항이 거짓이면 마지막 항의 결과 반환\n",
    "print(False or 0 or '' or None or [])\n",
    "print(False or 0 or 'Hong' or None or [])"
   ]
  },
  {
   "cell_type": "code",
   "execution_count": 62,
   "id": "80dbb108",
   "metadata": {},
   "outputs": [
    {
     "data": {
      "text/plain": [
       "False"
      ]
     },
     "execution_count": 62,
     "metadata": {},
     "output_type": "execute_result"
    }
   ],
   "source": [
    "# not : \n",
    "not 10>5"
   ]
  },
  {
   "cell_type": "markdown",
   "id": "c6f50c88",
   "metadata": {},
   "source": [
    "## 5.4. 비교 연산자 : >, >=, <, <=, ==, !="
   ]
  },
  {
   "cell_type": "code",
   "execution_count": 67,
   "id": "977715ad",
   "metadata": {},
   "outputs": [
    {
     "name": "stdout",
     "output_type": "stream",
     "text": [
      "True\n",
      "True\n",
      "True\n"
     ]
    }
   ],
   "source": [
    "# 비교 연산자는 대부분의 다른 언어에서 이항 연산자\n",
    "x = 95\n",
    "print((90<=x)&(x<=100)) # 괄호 없으면 & 먼저 계산됨\n",
    "print(90<=x<=100) # 파이썬에서는 비교 연산자가 다항 연산자\n",
    "print(4<10>7<8>1) # 비교 연산자 한 쌍씩 순차 (and) 계산"
   ]
  },
  {
   "cell_type": "code",
   "execution_count": 68,
   "id": "7720f2e3",
   "metadata": {},
   "outputs": [
    {
     "name": "stdout",
     "output_type": "stream",
     "text": [
      "True\n",
      "False\n"
     ]
    }
   ],
   "source": [
    "# 비교 연산자의 우선순위가 비트연산자(|, &)의 우선순위보다 낮다\n",
    "print((10>5)&(10>7)) # True & True\n",
    "print(10>5 & 10>7) # 우선순위가 <, >보다 높은 5&10 먼저 비트연산(0), 즉 10>0>7로 계산"
   ]
  },
  {
   "cell_type": "code",
   "execution_count": 70,
   "id": "a6e42a8e",
   "metadata": {},
   "outputs": [
    {
     "name": "stdout",
     "output_type": "stream",
     "text": [
      "True\n",
      "True\n"
     ]
    }
   ],
   "source": [
    "address = \"목동\"\n",
    "age = 29\n",
    "print( (address==\"목동\") & (age <= 30)) # 괄호 없으면 목동 & age 에러!\n",
    "print( address==\"목동\" and age <= 30) # 이게 단순히 먹히지만, 가독성 이슈"
   ]
  },
  {
   "cell_type": "code",
   "execution_count": 73,
   "id": "376f91a0",
   "metadata": {},
   "outputs": [
    {
     "name": "stdout",
     "output_type": "stream",
     "text": [
      "True\n",
      "False\n"
     ]
    }
   ],
   "source": [
    "# 문자 비교는 ASCII 코드 순으로 비교 : 특수문자 < 숫자(문자) < 대문자 < 소문자 (abc순)\n",
    "print(\"scott\" < \"thomas\")\n",
    "print(\"고길동\" > \"홍길동\")"
   ]
  },
  {
   "cell_type": "markdown",
   "id": "a0219c8e",
   "metadata": {},
   "source": [
    "## 5.5. 비트 연산"
   ]
  },
  {
   "cell_type": "code",
   "execution_count": null,
   "id": "c8853fa5",
   "metadata": {},
   "outputs": [],
   "source": []
  },
  {
   "cell_type": "code",
   "execution_count": null,
   "id": "79ebe5f3",
   "metadata": {},
   "outputs": [],
   "source": []
  },
  {
   "cell_type": "code",
   "execution_count": null,
   "id": "93e58f9e",
   "metadata": {},
   "outputs": [],
   "source": []
  },
  {
   "cell_type": "code",
   "execution_count": null,
   "id": "e0c04923",
   "metadata": {},
   "outputs": [],
   "source": []
  },
  {
   "cell_type": "code",
   "execution_count": null,
   "id": "a23d66d2",
   "metadata": {},
   "outputs": [],
   "source": []
  }
 ],
 "metadata": {
  "kernelspec": {
   "display_name": "Python 3 (ipykernel)",
   "language": "python",
   "name": "python3"
  },
  "language_info": {
   "codemirror_mode": {
    "name": "ipython",
    "version": 3
   },
   "file_extension": ".py",
   "mimetype": "text/x-python",
   "name": "python",
   "nbconvert_exporter": "python",
   "pygments_lexer": "ipython3",
   "version": "3.10.9"
  },
  "toc": {
   "base_numbering": 1,
   "nav_menu": {},
   "number_sections": false,
   "sideBar": true,
   "skip_h1_title": false,
   "title_cell": "Table of Contents",
   "title_sidebar": "Contents",
   "toc_cell": false,
   "toc_position": {
    "height": "calc(100% - 180px)",
    "left": "10px",
    "top": "150px",
    "width": "165px"
   },
   "toc_section_display": true,
   "toc_window_display": true
  }
 },
 "nbformat": 4,
 "nbformat_minor": 5
}
