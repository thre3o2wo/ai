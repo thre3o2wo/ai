{
 "cells": [
  {
   "cell_type": "code",
   "execution_count": 1,
   "id": "6e2a0efb",
   "metadata": {},
   "outputs": [
    {
     "data": {
      "text/html": [
       "\n",
       "<style>\n",
       "div.container{width:90% !important;}\n",
       "div.cell.code_cell.rendered{width:90%;}\n",
       "div.input_prompt{padding:0px;}\n",
       "div.CodeMirror {font-family:Consolas; font-size:10pt;}\n",
       "div.text_cell_render.rendered_html{font-size:10pt;}\n",
       "div.output {font-size:10pt; font-weight:bold;}\n",
       "div.input {font-family:Consolas; font-size:10pt;}\n",
       "div.prompt {min-width:70px;}\n",
       "div#toc-wrapper{padding-top:120px;}\n",
       "div.text_cell_render ul li{font-size:10pt;padding:5px;}\n",
       "table.dataframe{font-size:10px;}\n",
       "</style>\n"
      ],
      "text/plain": [
       "<IPython.core.display.HTML object>"
      ]
     },
     "metadata": {},
     "output_type": "display_data"
    }
   ],
   "source": [
    "from IPython.display import display, HTML\n",
    "display(HTML(\"\"\"\n",
    "<style>\n",
    "div.container{width:90% !important;}\n",
    "div.cell.code_cell.rendered{width:90%;}\n",
    "div.input_prompt{padding:0px;}\n",
    "div.CodeMirror {font-family:Consolas; font-size:10pt;}\n",
    "div.text_cell_render.rendered_html{font-size:10pt;}\n",
    "div.output {font-size:10pt; font-weight:bold;}\n",
    "div.input {font-family:Consolas; font-size:10pt;}\n",
    "div.prompt {min-width:70px;}\n",
    "div#toc-wrapper{padding-top:120px;}\n",
    "div.text_cell_render ul li{font-size:10pt;padding:5px;}\n",
    "table.dataframe{font-size:10px;}\n",
    "</style>\n",
    "\"\"\"))"
   ]
  },
  {
   "cell_type": "markdown",
   "id": "b11597a6",
   "metadata": {},
   "source": [
    "<b><font size=\"6\" color=\"red\">ch02. 자료형과 연산자</font><b>\n",
    "# 5. 연산자\n",
    "## 5.1. 산술 연산자 : +, -, *, /(결과 float), //(몫), %(나머지), **(제곱)"
   ]
  },
  {
   "cell_type": "code",
   "execution_count": 13,
   "id": "8701b236",
   "metadata": {},
   "outputs": [
    {
     "name": "stdout",
     "output_type": "stream",
     "text": [
      "10*5제곱 = 100000\n",
      "4/2(결과 실수) = 2.0\n",
      "4**2 = 16\n",
      "4**2.0 = 16.0\n"
     ]
    }
   ],
   "source": [
    "print(\"10*5제곱 =\",10**5)\n",
    "print(\"4/2(결과 실수) =\", 4/2)\n",
    "print(\"4**2 =\",4**2)\n",
    "# 정수끼리 연산은 결과가 정수 (단 / 제외)\n",
    "# 정수와 실수, 실수끼리의 연산 결과는 실수\n",
    "print(\"4**2.0 =\", 4**2.0)"
   ]
  },
  {
   "cell_type": "code",
   "execution_count": 15,
   "id": "92dea61d",
   "metadata": {},
   "outputs": [
    {
     "name": "stdout",
     "output_type": "stream",
     "text": [
      "5//2(몫) = 2\n",
      "5%2(나머지) = 1\n"
     ]
    }
   ],
   "source": [
    "print(\"5//2(몫) =\", 5//2)\n",
    "print(\"5%2(나머지) =\", 5%2)"
   ]
  },
  {
   "cell_type": "code",
   "execution_count": 19,
   "id": "e8acbb0c",
   "metadata": {},
   "outputs": [
    {
     "name": "stdout",
     "output_type": "stream",
     "text": [
      "정수를 입력하세요: 5\n",
      "입력하신 수는 5, 2로 나눈 나머지는 1이므로 홀수를 입력하셨습니다.\n"
     ]
    }
   ],
   "source": [
    "# Quiz 1. 정수를 입력받아 짝수인지 홀수인지 여부를 출력\n",
    "num1 = int(input(\"정수를 입력하세요: \"))\n",
    "result1 = num1 % 2 #result : -1, 0, 1\n",
    "if result1:\n",
    "    temp = \"홀수\"\n",
    "else:\n",
    "    temp = \"짝수\"\n",
    "print(f\"입력하신 수는 {num1}, 2로 나눈 나머지는 {result1}이므로 {temp}를 입력하셨습니다.\")"
   ]
  },
  {
   "cell_type": "code",
   "execution_count": 25,
   "id": "177b37ff",
   "metadata": {},
   "outputs": [
    {
     "name": "stdout",
     "output_type": "stream",
     "text": [
      "정수를 입력하세요: 10\n",
      "입력하신 수는 10, 5로 나눈 나머지는 0이므로 5의 배수를 입력하셨습니다.\n"
     ]
    }
   ],
   "source": [
    "# Quiz 2. 정수를 입력받아 5의 배수인지 여부를 출력\n",
    "num2 = int(input(\"정수를 입력하세요: \"))\n",
    "result2 = num2 % 5\n",
    "if result2:\n",
    "    temp = \"입력하지 않으셨습니다.\"\n",
    "else:\n",
    "    temp = \"입력하셨습니다.\"\n",
    "print(f\"입력하신 수는 {num2}, 5로 나눈 나머지는 {result2}이므로 5의 배수를 {temp}\")"
   ]
  },
  {
   "cell_type": "code",
   "execution_count": 32,
   "id": "4816da6c",
   "metadata": {},
   "outputs": [
    {
     "name": "stdout",
     "output_type": "stream",
     "text": [
      "국어 점수를 입력하세요: 99\n",
      "영어 점수를 입력하세요: 100\n",
      "수학 점수를 입력하세요: 100\n",
      "\n",
      "국어 :  99\t 영어: 100\t 수학: 100\n",
      "총점 : 299\t 평균:  99.7\n",
      "\n"
     ]
    }
   ],
   "source": [
    "# Quiz 3. 국어, 영어, 수학 점수를 입력받아 다음 셀에서 다음과 같이...\n",
    "kor = int(input(\"국어 점수를 입력하세요: \"))\n",
    "eng = int(input(\"영어 점수를 입력하세요: \"))\n",
    "mat = int(input(\"수학 점수를 입력하세요: \"))\n",
    "sum = kor+eng+mat\n",
    "ave = sum/3\n",
    "print('''\n",
    "국어 : {:3d}\\t 영어: {:3d}\\t 수학: {:3d}\n",
    "총점 : {:3d}\\t 평균: {:5.1f}\n",
    "'''.format(kor, eng, mat, sum, ave))"
   ]
  },
  {
   "cell_type": "markdown",
   "id": "2936a91e",
   "metadata": {},
   "source": [
    "## 5.2. 할당 연산자 : =, +=, -=, *=, /=, //=, %="
   ]
  },
  {
   "cell_type": "code",
   "execution_count": 44,
   "id": "20d66f15",
   "metadata": {},
   "outputs": [
    {
     "name": "stdout",
     "output_type": "stream",
     "text": [
      "a=15\n"
     ]
    }
   ],
   "source": [
    "# '='는 할당. 등호는 ==\n",
    "a = 10\n",
    "a += 5 # a = a + 5 # 파이썬에서는 a++ 사용하지 않음\n",
    "print(f\"a={a}\")"
   ]
  },
  {
   "cell_type": "code",
   "execution_count": 45,
   "id": "d53878e2",
   "metadata": {},
   "outputs": [
    {
     "name": "stdout",
     "output_type": "stream",
     "text": [
      "a=10\n"
     ]
    }
   ],
   "source": [
    "a -= 5 # a = a - 5\n",
    "print(f\"a={a}\")"
   ]
  },
  {
   "cell_type": "code",
   "execution_count": 46,
   "id": "8171ee96",
   "metadata": {},
   "outputs": [
    {
     "name": "stdout",
     "output_type": "stream",
     "text": [
      "a=50\n"
     ]
    }
   ],
   "source": [
    "a *= 5 # a = a * 5\n",
    "print(f\"a={a}\")"
   ]
  },
  {
   "cell_type": "code",
   "execution_count": 47,
   "id": "c2ca0f83",
   "metadata": {},
   "outputs": [
    {
     "name": "stdout",
     "output_type": "stream",
     "text": [
      "a=12.5\n"
     ]
    }
   ],
   "source": [
    "a /= 4 # a = a / 4\n",
    "print(f\"a={a}\")"
   ]
  },
  {
   "cell_type": "code",
   "execution_count": 48,
   "id": "b89c243e",
   "metadata": {},
   "outputs": [
    {
     "name": "stdout",
     "output_type": "stream",
     "text": [
      "a=6.0\n"
     ]
    }
   ],
   "source": [
    "a //= 2 # a = a // 2\n",
    "print(f\"a={a}\")"
   ]
  },
  {
   "cell_type": "code",
   "execution_count": 49,
   "id": "9b912802",
   "metadata": {},
   "outputs": [
    {
     "name": "stdout",
     "output_type": "stream",
     "text": [
      "a=2.0\n"
     ]
    }
   ],
   "source": [
    "a %= 4 # a = a % 4\n",
    "print(f\"a={a}\")"
   ]
  },
  {
   "cell_type": "markdown",
   "id": "fe81dc7d",
   "metadata": {},
   "source": [
    "## 5.3. 논리 연산자 : &, and, |, or, not"
   ]
  },
  {
   "cell_type": "code",
   "execution_count": 51,
   "id": "6ecebd80",
   "metadata": {},
   "outputs": [
    {
     "name": "stdout",
     "output_type": "stream",
     "text": [
      "True\n",
      "0\n"
     ]
    }
   ],
   "source": [
    "# & : 논리연산자, 비트연산자\n",
    "print((10>3)&(10>5)) # 논리연산 True & True\n",
    "print(12&1) # 비트 연산\n",
    "# 1 1 0 0 (12)\n",
    "# 0 0 0 1 (1)\n",
    "# 0 0 0 0 (0)"
   ]
  },
  {
   "cell_type": "code",
   "execution_count": 53,
   "id": "f925b9de",
   "metadata": {},
   "outputs": [
    {
     "name": "stdout",
     "output_type": "stream",
     "text": [
      "True\n",
      "0\n"
     ]
    }
   ],
   "source": [
    "# and : 논리연산자 False로 판별되는 첫 번째 항의 결과 반환\n",
    "print((10>3)and(10>5))\n",
    "print(0 and 1) # 연산 마지막 판별 값을 반환함\n",
    "# - and에서 첫 번째가 false라면 바로 false. 마지막까지 true라면 마지막 값을 반환"
   ]
  },
  {
   "cell_type": "code",
   "execution_count": 60,
   "id": "deee8e38",
   "metadata": {},
   "outputs": [
    {
     "name": "stdout",
     "output_type": "stream",
     "text": [
      "논리연산(연산자 앞뒤에 논리형일 때):  True\n",
      "비트연산(연산자 앞뒤에 하나라도 숫자가 있을 때):  3\n"
     ]
    }
   ],
   "source": [
    "# |: 논리연산자, 비트연산자\n",
    "result = True | False\n",
    "print('논리연산(연산자 앞뒤에 논리형일 때): ', result)\n",
    "result = 3 | False # 0011 | 00000 -> 0011\n",
    "print('비트연산(연산자 앞뒤에 하나라도 숫자가 있을 때): ', result)"
   ]
  },
  {
   "cell_type": "code",
   "execution_count": 61,
   "id": "4caba88f",
   "metadata": {},
   "outputs": [
    {
     "name": "stdout",
     "output_type": "stream",
     "text": [
      "[]\n",
      "Hong\n"
     ]
    }
   ],
   "source": [
    "# or : 논리연산자\n",
    "# 참으로 판별되는 첫 번째 항의 결과 반환\n",
    "# 모든 항이 거짓이면 마지막 항의 결과 반환\n",
    "print(False or 0 or '' or None or [])\n",
    "print(False or 0 or 'Hong' or None or [])"
   ]
  },
  {
   "cell_type": "code",
   "execution_count": 62,
   "id": "80dbb108",
   "metadata": {},
   "outputs": [
    {
     "data": {
      "text/plain": [
       "False"
      ]
     },
     "execution_count": 62,
     "metadata": {},
     "output_type": "execute_result"
    }
   ],
   "source": [
    "# not : \n",
    "not 10>5"
   ]
  },
  {
   "cell_type": "markdown",
   "id": "c6f50c88",
   "metadata": {},
   "source": [
    "## 5.4. 비교 연산자 : >, >=, <, <=, ==, !="
   ]
  },
  {
   "cell_type": "code",
   "execution_count": 67,
   "id": "977715ad",
   "metadata": {},
   "outputs": [
    {
     "name": "stdout",
     "output_type": "stream",
     "text": [
      "True\n",
      "True\n",
      "True\n"
     ]
    }
   ],
   "source": [
    "# 비교 연산자는 대부분의 다른 언어에서 이항 연산자\n",
    "x = 95\n",
    "print((90<=x)&(x<=100)) # 괄호 없으면 & 먼저 계산됨\n",
    "print(90<=x<=100) # 파이썬에서는 비교 연산자가 다항 연산자\n",
    "print(4<10>7<8>1) # 비교 연산자 한 쌍씩 순차 (and) 계산"
   ]
  },
  {
   "cell_type": "code",
   "execution_count": 68,
   "id": "7720f2e3",
   "metadata": {},
   "outputs": [
    {
     "name": "stdout",
     "output_type": "stream",
     "text": [
      "True\n",
      "False\n"
     ]
    }
   ],
   "source": [
    "# 비교 연산자의 우선순위가 비트연산자(|, &)의 우선순위보다 낮다\n",
    "print((10>5)&(10>7)) # True & True\n",
    "print(10>5 & 10>7) # 우선순위가 <, >보다 높은 5&10 먼저 비트연산(0), 즉 10>0>7로 계산"
   ]
  },
  {
   "cell_type": "code",
   "execution_count": 70,
   "id": "a6e42a8e",
   "metadata": {},
   "outputs": [
    {
     "name": "stdout",
     "output_type": "stream",
     "text": [
      "True\n",
      "True\n"
     ]
    }
   ],
   "source": [
    "address = \"목동\"\n",
    "age = 29\n",
    "print( (address==\"목동\") & (age <= 30)) # 괄호 없으면 목동 & age 에러!\n",
    "print( address==\"목동\" and age <= 30) # 이게 단순히 먹히지만, 가독성 이슈"
   ]
  },
  {
   "cell_type": "code",
   "execution_count": 73,
   "id": "376f91a0",
   "metadata": {},
   "outputs": [
    {
     "name": "stdout",
     "output_type": "stream",
     "text": [
      "True\n",
      "False\n"
     ]
    }
   ],
   "source": [
    "# 문자 비교는 ASCII 코드 순으로 비교 : 특수문자 < 숫자(문자) < 대문자 < 소문자 (abc순)\n",
    "print(\"scott\" < \"thomas\")\n",
    "print(\"고길동\" > \"홍길동\")"
   ]
  },
  {
   "cell_type": "markdown",
   "id": "a0219c8e",
   "metadata": {},
   "source": [
    "## 5.5. 비트 연산\n",
    "- &, |, ^(XOR), ~(반대)\n",
    "^(XOR): 같으면 0, 다르면 1\n",
    "- x     y    x&y   x|y   x^y   ~x\n",
    "- -------------------------------\n",
    "- 0     0     0     0     0     1\n",
    "- 0     1     0     1     1     1\n",
    "- 1     0     0     1     1     0\n",
    "- 1     1     1     1     0     0"
   ]
  },
  {
   "cell_type": "code",
   "execution_count": 7,
   "id": "c8853fa5",
   "metadata": {},
   "outputs": [
    {
     "name": "stdout",
     "output_type": "stream",
     "text": [
      "  a = 15 : 1111\n",
      "  b =  2 : 0010\n",
      "a&b =  2 : 0010\n",
      "a|b = 15 : 1111\n",
      "a^b = 13 : 1101\n"
     ]
    }
   ],
   "source": [
    "a = 15 #1111 (8+4+2+1)\n",
    "b = 2  #0010 \n",
    "print(\"  a = {0:2} : {0:04b}\".format(a))\n",
    "print(\"  b = {0:2} : {0:04b}\".format(b))\n",
    "print(\"a&b = {0:2} : {0:04b}\".format(a&b))\n",
    "print(\"a|b = {0:2} : {0:04b}\".format(a|b))\n",
    "print(\"a^b = {0:2} : {0:04b}\".format(a^b))"
   ]
  },
  {
   "cell_type": "markdown",
   "id": "13b6be1c",
   "metadata": {},
   "source": [
    "# 6. 문자열 다루기\n",
    "\n",
    "- 문자열변수[from:to:step] : 일부 문자 추출\n",
    "- len(문자열변수) : 문자수 카운트\n",
    "- 변수.upper() : 대문자로 변경\n",
    "- 변수.lower() : 소문자로 변경\n",
    "- title() : 각 어절의 앞글자만 대문자로\n",
    "- capitalize() : 첫문자만 대문자로\n",
    "- count(\"찾을 문자(열)\") : \"찾을 문자(열)\"가 몇 개 들어 있는지 갯수 반환\n",
    "- find(\"찾을 문자\") : \"찾을 문자\"를 왼쪽부터 색인, index를 반환\n",
    "- rfind(\"찾을 문자\") : \"찾을 문자\"가 오른쪽부터 색인, index를 반환\n",
    "    - cf. index(\"찾을 문자') : \"찾을 문자\"가 왼쪽부터 몇 번째에 있는지 index를 반환 (없으면 error)\n",
    "- replace(oldStr, newStr) : oldStr을 newStr로 변경"
   ]
  },
  {
   "cell_type": "code",
   "execution_count": 41,
   "id": "f6a577f3",
   "metadata": {},
   "outputs": [
    {
     "name": "stdout",
     "output_type": "stream",
     "text": [
      "temp 문자 수:  39\n",
      "upper() 대문자로 : PYTHON IS EASY. PYTHON IS SMART. PYTHON\n",
      "lower() 소문자로 : python is easy. python is smart. python\n",
      "capitalize() : Python is easy. python is smart. python\n",
      "title() : Python Is Easy. Python Is Smart. Python\n",
      "count('java') : 0\n",
      "count('python') : 2\n",
      "count('python') 대소구분 없이 : 3\n"
     ]
    }
   ],
   "source": [
    "temp = \"python is easy. python is smart. Python\"\n",
    "#len() 문자수 카운트\n",
    "print(\"temp 문자 수: \", len(temp))\n",
    "#upper() 대문자로 변경 / lower() 소문자로 변경\n",
    "print(\"upper() 대문자로 :\", temp.upper())\n",
    "print(\"lower() 소문자로 :\", temp.lower())\n",
    "#capitalize() 전체 첫 문자만 대문자로 / title() 각 어절 첫 문자를 대문자로\n",
    "print(\"capitalize() :\", temp.capitalize())\n",
    "print(\"title() :\", temp.title())\n",
    "#count() 찾을 문자가 몇 개 들어 있는지 갯수 반환\n",
    "print(\"count('java') :\", temp.count(\"java\"))\n",
    "print(\"count('python') :\", temp.count(\"python\"))\n",
    "print(\"count('python') 대소구분 없이 :\", temp.lower().count(\"python\"))"
   ]
  },
  {
   "cell_type": "code",
   "execution_count": 39,
   "id": "e5565d58",
   "metadata": {},
   "outputs": [
    {
     "name": "stdout",
     "output_type": "stream",
     "text": [
      "find('python') 첫 index 위치 : 0\n",
      "rfind('python') 마지막 index 위치 : 16\n",
      "rfind('python') 마지막 index 위치 대소구분 없이 : 33\n",
      "C라는 문자가 나오는 index 위치:  -1\n",
      "python이 나오는 첫 index 위치:  0\n"
     ]
    }
   ],
   "source": [
    "#find() 찾을 문자를 왼쪽부터 색인, index 반환\n",
    "#rfind() 찾을 문자를 오른쪽부터 색인, index 반환\n",
    "print(\"find('python') 첫 index 위치 :\", temp.find(\"python\"))\n",
    "print(\"rfind('python') 마지막 index 위치 :\", temp.rfind(\"python\"))\n",
    "print(\"rfind('python') 마지막 index 위치 대소구분 없이 :\", temp.lower().rfind(\"python\"))\n",
    "print(\"C라는 문자가 나오는 index 위치: \", temp.find(\"C\")) #찾을 문자가 없을 경우 -1\n",
    "#index\n",
    "print(\"python이 나오는 첫 index 위치: \", temp.index(\"python\"))\n",
    "#[에러] print(\"java가 나오는 첫 index 위치: \", temp.index(\"java\"))"
   ]
  },
  {
   "cell_type": "code",
   "execution_count": 44,
   "id": "ee6e8ce6",
   "metadata": {},
   "outputs": [
    {
     "name": "stdout",
     "output_type": "stream",
     "text": [
      "python으로 시작 여부 : True\n",
      "python으로 시작 여부, 대소구분 없이 : True\n",
      "python으로 끝남 여부 : False\n",
      "python으로 끝남 여부, 대소구분 없이 : True\n"
     ]
    }
   ],
   "source": [
    "#startswith() : 특정 문자로 시작하는지 여부 반환\n",
    "print(\"python으로 시작 여부 :\", temp.startswith(\"python\"))\n",
    "print(\"python으로 시작 여부, 대소구분 없이 :\", temp.lower().startswith(\"python\"))\n",
    "#ends with() : 특정 문자로 끝나는지 여부\n",
    "print(\"python으로 끝남 여부 :\", temp.endswith(\"python\"))\n",
    "print(\"python으로 끝남 여부, 대소구분 없이 :\", temp.lower().endswith(\"python\"))"
   ]
  },
  {
   "cell_type": "code",
   "execution_count": 45,
   "id": "7471202d",
   "metadata": {},
   "outputs": [
    {
     "name": "stdout",
     "output_type": "stream",
     "text": [
      "python을 Snake로 변경 : Snake is easy. Snake is smart. Python\n",
      "python is easy. python is smart. Python\n"
     ]
    }
   ],
   "source": [
    "#replace\n",
    "print(\"python을 Snake로 변경 :\", temp.replace(\"python\", \"Snake\"))\n",
    "print(temp)"
   ]
  },
  {
   "cell_type": "code",
   "execution_count": 58,
   "id": "70f87bae",
   "metadata": {},
   "outputs": [
    {
     "name": "stdout",
     "output_type": "stream",
     "text": [
      "좌우 공백 제거 : [python is easy]\n",
      "왼쪽 공백 제거 : [python is easy    ]\n",
      "오른쪽 공백 제거 : [    python is easy]\n",
      "isdigit(숫자문자)인지 여부 : False\n",
      "replace 후 isdigit :  True\n",
      "소문자인지 여부 : True\n",
      "대문자인지 여부 : False\n",
      "space 단위로 names 분리(list) ['홍길동', '김길동', '고길동', '박길동', '주길동']\n",
      "홍길동 김길동\n"
     ]
    }
   ],
   "source": [
    "temp = \"    python is easy    \"\n",
    "notdigit=\"1,000\"\n",
    "#strip() : 좌우 공백 제거(trim)\n",
    "print(\"좌우 공백 제거 : [{}]\".format(temp.strip()))\n",
    "#lstrip() : 왼쪽 공백 제거\n",
    "print(\"왼쪽 공백 제거 : [{}]\".format(temp.lstrip()))\n",
    "#rstrip() : 오른쪽 공백 제거\n",
    "print(\"오른쪽 공백 제거 : [{}]\".format(temp.rstrip()))\n",
    "#isdigit(): 문자열이 숫자문자열인지 여부 반환\n",
    "print(\"isdigit(숫자문자)인지 여부 :\", notdigit.isdigit())\n",
    "print(\"replace 후 isdigit : \", notdigit.replace(\",\",\"\").isdigit())\n",
    "#islower(): 문자열이 소문자인지 여부 반환\n",
    "print(\"소문자인지 여부 :\", temp.islower())\n",
    "#isupper(): 문자열이 대문자인지 여부 반환\n",
    "print(\"대문자인지 여부 :\", temp.isupper())\n",
    "#split() : 문자열을 공백이나 다른 문자 기준으로 나누어 리스트로 반환\n",
    "names = \"홍길동 김길동 고길동  박길동 주길동\"\n",
    "name_list = names.split()\n",
    "print(\"space 단위로 names 분리(list)\", name_list)\n",
    "print(name_list[0], name_list[1])"
   ]
  },
  {
   "cell_type": "code",
   "execution_count": 62,
   "id": "93e58f9e",
   "metadata": {},
   "outputs": [
    {
     "name": "stdout",
     "output_type": "stream",
     "text": [
      "['2025', '09', '17']\n",
      "년도 : 2025\n",
      "월 : 09\n",
      "일 : 17\n"
     ]
    }
   ],
   "source": [
    "date_str = \"2025-09-17\"\n",
    "date_list=date_str.split(\"-\")\n",
    "print(date_list)\n",
    "print(\"년도 :\", date_list[0])\n",
    "print(\"월 :\", date_list[1])\n",
    "print(\"일 :\", date_list[2])"
   ]
  },
  {
   "cell_type": "code",
   "execution_count": 69,
   "id": "e0c04923",
   "metadata": {},
   "outputs": [
    {
     "name": "stdout",
     "output_type": "stream",
     "text": [
      "splited temp : ['Python', '웹(HTML/CSS/JS)', 'Oracle/MySQL(DBMS)', 'DL/ML(M/DNN/CNN/RNN)', 'LLM(RAG)']\n",
      "joined temp : Python/웹(HTML/CSS/JS)/Oracle/MySQL(DBMS)/DL/ML(M/DNN/CNN/RNN)/LLM(RAG)\n"
     ]
    }
   ],
   "source": [
    "# -을 /로 바꾸기\n",
    "temp = \"Python - 웹(HTML/CSS/JS) - Oracle/MySQL(DBMS) - DL/ML(M/DNN/CNN/RNN) - LLM(RAG)\"\n",
    "# temp.replace(\" - \", \"/\")\n",
    "# split()과 join() 이용하여 replace 역할\n",
    "splited_temp = temp.split(\" - \")\n",
    "print('splited temp :', splited_temp)\n",
    "joined_temp = \"/\".join(splited_temp)\n",
    "print(\"joined temp :\", joined_temp)"
   ]
  },
  {
   "cell_type": "code",
   "execution_count": 71,
   "id": "a23d66d2",
   "metadata": {
    "collapsed": true
   },
   "outputs": [
    {
     "data": {
      "text/plain": [
       "['__add__',\n",
       " '__class__',\n",
       " '__contains__',\n",
       " '__delattr__',\n",
       " '__dir__',\n",
       " '__doc__',\n",
       " '__eq__',\n",
       " '__format__',\n",
       " '__ge__',\n",
       " '__getattribute__',\n",
       " '__getitem__',\n",
       " '__getnewargs__',\n",
       " '__gt__',\n",
       " '__hash__',\n",
       " '__init__',\n",
       " '__init_subclass__',\n",
       " '__iter__',\n",
       " '__le__',\n",
       " '__len__',\n",
       " '__lt__',\n",
       " '__mod__',\n",
       " '__mul__',\n",
       " '__ne__',\n",
       " '__new__',\n",
       " '__reduce__',\n",
       " '__reduce_ex__',\n",
       " '__repr__',\n",
       " '__rmod__',\n",
       " '__rmul__',\n",
       " '__setattr__',\n",
       " '__sizeof__',\n",
       " '__str__',\n",
       " '__subclasshook__',\n",
       " 'capitalize',\n",
       " 'casefold',\n",
       " 'center',\n",
       " 'count',\n",
       " 'encode',\n",
       " 'endswith',\n",
       " 'expandtabs',\n",
       " 'find',\n",
       " 'format',\n",
       " 'format_map',\n",
       " 'index',\n",
       " 'isalnum',\n",
       " 'isalpha',\n",
       " 'isascii',\n",
       " 'isdecimal',\n",
       " 'isdigit',\n",
       " 'isidentifier',\n",
       " 'islower',\n",
       " 'isnumeric',\n",
       " 'isprintable',\n",
       " 'isspace',\n",
       " 'istitle',\n",
       " 'isupper',\n",
       " 'join',\n",
       " 'ljust',\n",
       " 'lower',\n",
       " 'lstrip',\n",
       " 'maketrans',\n",
       " 'partition',\n",
       " 'removeprefix',\n",
       " 'removesuffix',\n",
       " 'replace',\n",
       " 'rfind',\n",
       " 'rindex',\n",
       " 'rjust',\n",
       " 'rpartition',\n",
       " 'rsplit',\n",
       " 'rstrip',\n",
       " 'split',\n",
       " 'splitlines',\n",
       " 'startswith',\n",
       " 'strip',\n",
       " 'swapcase',\n",
       " 'title',\n",
       " 'translate',\n",
       " 'upper',\n",
       " 'zfill']"
      ]
     },
     "execution_count": 71,
     "metadata": {},
     "output_type": "execute_result"
    }
   ],
   "source": [
    "# 문자열을 다룰 수 있는ㄷ 함수들 목록\n",
    "dir(str)"
   ]
  },
  {
   "cell_type": "markdown",
   "id": "688f176b",
   "metadata": {},
   "source": [
    "# 7. 시간, 날짜 다루기"
   ]
  },
  {
   "cell_type": "code",
   "execution_count": 73,
   "id": "06513908",
   "metadata": {},
   "outputs": [
    {
     "data": {
      "text/plain": [
       "'C:\\\\Users\\\\Admin\\\\anaconda3\\\\lib\\\\datetime.py'"
      ]
     },
     "execution_count": 73,
     "metadata": {},
     "output_type": "execute_result"
    }
   ],
   "source": [
    "import datetime \n",
    "datetime.__file__"
   ]
  },
  {
   "cell_type": "code",
   "execution_count": 2,
   "id": "ebd6614b",
   "metadata": {},
   "outputs": [],
   "source": [
    "#datetime 모듈(datetime.py) 안의 datetime, date, time만 load\n",
    "from datetime import datetime, date, time"
   ]
  },
  {
   "cell_type": "markdown",
   "id": "f687b823",
   "metadata": {},
   "source": [
    "## 7.1. 시간과 날짜"
   ]
  },
  {
   "cell_type": "code",
   "execution_count": 5,
   "id": "a2eea077",
   "metadata": {},
   "outputs": [
    {
     "data": {
      "text/plain": [
       "datetime.datetime(2025, 9, 11, 9, 30)"
      ]
     },
     "execution_count": 5,
     "metadata": {},
     "output_type": "execute_result"
    }
   ],
   "source": [
    "#특정 시점을 갖는 datetime 객체 생성\n",
    "thatday = datetime(2025, 9, 11, 9, 30)\n",
    "thatday"
   ]
  },
  {
   "cell_type": "code",
   "execution_count": 10,
   "id": "7ea77180",
   "metadata": {},
   "outputs": [
    {
     "name": "stdout",
     "output_type": "stream",
     "text": [
      "25년 09월 11일(Thursday) 09:30:00\n",
      "25년 09월 11일(Thursday) 09:30:00)\n",
      "Thu Sep 11 09:30:00 2025\n"
     ]
    }
   ],
   "source": [
    "#날짜를 문자열로 전환해 출력\n",
    "print(\"{:%y년 %m월 %d일(%A) %H:%M:%S}\".format(thatday))\n",
    "print(thatday.strftime(\"%y년 %m월 %d일(%A) %H:%M:%S)\"))\n",
    "print(thatday.ctime()) #ctime() : 미국사람이 읽기 쉬운 형태로 convert"
   ]
  },
  {
   "cell_type": "code",
   "execution_count": 13,
   "id": "fb011e67",
   "metadata": {},
   "outputs": [
    {
     "name": "stdout",
     "output_type": "stream",
     "text": [
      "2025-09-17 14:24:35.139501\n",
      "Wed Sep 17 14:24:35 2025\n",
      "2025년 09월 17일 PM 02:24:35\n"
     ]
    }
   ],
   "source": [
    "#지금을 저장하는 datetime 객체 생성\n",
    "now = datetime.now()\n",
    "print(now)\n",
    "print(now.ctime())\n",
    "print(now.strftime(\"%Y년 %m월 %d일 %p %I:%M:%S\"))"
   ]
  },
  {
   "cell_type": "code",
   "execution_count": 18,
   "id": "c1dd8155",
   "metadata": {},
   "outputs": [
    {
     "name": "stdout",
     "output_type": "stream",
     "text": [
      "6 days, 4:54:35.139501\n",
      "6\n"
     ]
    }
   ],
   "source": [
    "diff = now-thatday\n",
    "print(diff)\n",
    "print(diff.days)"
   ]
  },
  {
   "cell_type": "markdown",
   "id": "3e99947d",
   "metadata": {},
   "source": [
    "## 7.2. 날짜"
   ]
  },
  {
   "cell_type": "code",
   "execution_count": 20,
   "id": "99e53c12",
   "metadata": {},
   "outputs": [
    {
     "data": {
      "text/plain": [
       "datetime.date(2025, 9, 11)"
      ]
     },
     "execution_count": 20,
     "metadata": {},
     "output_type": "execute_result"
    }
   ],
   "source": [
    "#특정한 날짜를 갖는 date 객체 생성\n",
    "someday = date(2025, 9, 11) #datetime과 달리 시간 정보 저장 불가\n",
    "someday"
   ]
  },
  {
   "cell_type": "code",
   "execution_count": 21,
   "id": "ff16917b",
   "metadata": {},
   "outputs": [
    {
     "name": "stdout",
     "output_type": "stream",
     "text": [
      "2025-09-11\n",
      "2025년 09월 11일 00:00\n"
     ]
    }
   ],
   "source": [
    "print(someday)\n",
    "print(someday.strftime(\"%Y년 %m월 %d일 %H:%M\"))"
   ]
  },
  {
   "cell_type": "code",
   "execution_count": 23,
   "id": "69bf0fa3",
   "metadata": {},
   "outputs": [
    {
     "name": "stdout",
     "output_type": "stream",
     "text": [
      "True\n"
     ]
    }
   ],
   "source": [
    "#오늘을 갖는 date 객체 생성\n",
    "today1 = date.today()\n",
    "today2 = datetime.now().date()\n",
    "print(today1==today2)"
   ]
  },
  {
   "cell_type": "code",
   "execution_count": 25,
   "id": "e62b911f",
   "metadata": {},
   "outputs": [
    {
     "name": "stdout",
     "output_type": "stream",
     "text": [
      "2025년 09월 17일 00:00\n",
      "2025년 09월 17일 00:00\n"
     ]
    }
   ],
   "source": [
    "print(today1.strftime(\"%Y년 %m월 %d일 %H:%M\"))\n",
    "print(today2.strftime(\"%Y년 %m월 %d일 %H:%M\"))"
   ]
  },
  {
   "cell_type": "code",
   "execution_count": 26,
   "id": "5e50e81b",
   "metadata": {},
   "outputs": [
    {
     "name": "stdout",
     "output_type": "stream",
     "text": [
      "-6 days, 0:00:00\n",
      "-6\n"
     ]
    }
   ],
   "source": [
    "diff = someday - today1\n",
    "print(diff)\n",
    "print(diff.days)"
   ]
  },
  {
   "cell_type": "markdown",
   "id": "a75281a3",
   "metadata": {},
   "source": [
    "## 7.3. 시간"
   ]
  },
  {
   "cell_type": "code",
   "execution_count": 27,
   "id": "24d34a24",
   "metadata": {},
   "outputs": [
    {
     "data": {
      "text/plain": [
       "datetime.time(14, 39)"
      ]
     },
     "execution_count": 27,
     "metadata": {},
     "output_type": "execute_result"
    }
   ],
   "source": [
    "#특정한 시간을 저장하는 time 객체 생성\n",
    "t = time(14, 39, 0)\n",
    "t"
   ]
  },
  {
   "cell_type": "code",
   "execution_count": 30,
   "id": "f82dcfdc",
   "metadata": {},
   "outputs": [
    {
     "name": "stdout",
     "output_type": "stream",
     "text": [
      "PM 02:39\n"
     ]
    }
   ],
   "source": [
    "#print(t.strftime(\"%Y년 %m월 %d일 %p %I:%M\")) # 1900년 01월 01일 PM 02:39 1900년이 0이라서는 아니고, default\n",
    "print(t.strftime(\"%p %I:%M\"))"
   ]
  },
  {
   "cell_type": "code",
   "execution_count": 31,
   "id": "9a48cf61",
   "metadata": {},
   "outputs": [
    {
     "name": "stdout",
     "output_type": "stream",
     "text": [
      "14:45:12.527428\n"
     ]
    }
   ],
   "source": [
    "#현재 시간\n",
    "nowtime=datetime.now().time()\n",
    "print(nowtime)"
   ]
  },
  {
   "cell_type": "markdown",
   "id": "8cc28069",
   "metadata": {},
   "source": [
    "# 8. 연습 문제"
   ]
  },
  {
   "cell_type": "code",
   "execution_count": 33,
   "id": "0f0eb9e5",
   "metadata": {},
   "outputs": [
    {
     "name": "stdout",
     "output_type": "stream",
     "text": [
      "홍길동님의 나이는 23살입니다.\n"
     ]
    }
   ],
   "source": [
    "#1\n",
    "name = \"홍길동\"\n",
    "age = 23\n",
    "print(\"{}님의 나이는 {}살입니다.\".format(name,age))"
   ]
  },
  {
   "cell_type": "code",
   "execution_count": 22,
   "id": "f59adb6c",
   "metadata": {},
   "outputs": [
    {
     "name": "stdout",
     "output_type": "stream",
     "text": [
      "정수1 :5\n",
      "정수2 :0\n",
      "정수1 + 정수2 =  5\n",
      "정수1 - 정수2 =  5\n",
      "정수1 * 정수2 =  0\n",
      "0으로 나눌 수 없습니다.\n"
     ]
    }
   ],
   "source": [
    "#2\n",
    "int1 = int(input(\"정수1 :\"))\n",
    "int2 = int(input(\"정수2 :\"))\n",
    "print('정수1 + 정수2 = ', int1 + int2)\n",
    "print('정수1 - 정수2 = ', int1 - int2)\n",
    "print('정수1 * 정수2 = ', int1 * int2)\n",
    "if int2!=0:\n",
    "    print('정수1 / 정수2 = ', int1 / int2)\n",
    "    print('정수1 // 정수2 = ', int1 // int2)\n",
    "    print('정수1 % 정수2 = ', int1 % int2)\n",
    "else:\n",
    "    print(\"0으로 나눌 수 없습니다.\")"
   ]
  },
  {
   "cell_type": "code",
   "execution_count": 36,
   "id": "4a9a3054",
   "metadata": {},
   "outputs": [
    {
     "name": "stdout",
     "output_type": "stream",
     "text": [
      "World Hello\n"
     ]
    }
   ],
   "source": [
    "#3\n",
    "temp = 'Hello World'\n",
    "temp_list = temp.split()\n",
    "print(temp_list[1], temp_list[0])"
   ]
  },
  {
   "cell_type": "code",
   "execution_count": 40,
   "id": "3cb472ce",
   "metadata": {},
   "outputs": [
    {
     "name": "stdout",
     "output_type": "stream",
     "text": [
      "bcdefa\n"
     ]
    }
   ],
   "source": [
    "#4\n",
    "x='abcdef'\n",
    "print(x[1:7], x[0], sep=\"\")"
   ]
  },
  {
   "cell_type": "code",
   "execution_count": 43,
   "id": "9650d705",
   "metadata": {},
   "outputs": [
    {
     "name": "stdout",
     "output_type": "stream",
     "text": [
      "fedcba\n"
     ]
    }
   ],
   "source": [
    "#5\n",
    "print(x[::-1])"
   ]
  },
  {
   "cell_type": "code",
   "execution_count": 24,
   "id": "a8b7ce51",
   "metadata": {},
   "outputs": [
    {
     "name": "stdout",
     "output_type": "stream",
     "text": [
      "오늘의 섭씨 온도 :0\n",
      "오늘의 화씨 온도는 32℉입니다.\n"
     ]
    }
   ],
   "source": [
    "#6\n",
    "C = float(input(\"오늘의 섭씨 온도 :\"))\n",
    "F = (C * 1.8) + 32\n",
    "intF = int(F)\n",
    "\n",
    "if F == intF:\n",
    "    print(\"오늘의 화씨 온도는 {:d}℉입니다.\".format(intF))\n",
    "else:\n",
    "    print(\"오늘의 화씨 온도는 {:.2f}℉입니다.\".format(F))\n",
    "      \n",
    "#if F%1==0\n",
    "#if F.is_integer()\n",
    "#if f==round(f)"
   ]
  },
  {
   "cell_type": "code",
   "execution_count": 19,
   "id": "6f38cb5d",
   "metadata": {},
   "outputs": [
    {
     "name": "stdout",
     "output_type": "stream",
     "text": [
      "섭씨 온도를 입력하세요1\n",
      "입력하신 섭씨 1도는 화씨온도 33.80도입니다\n"
     ]
    }
   ],
   "source": [
    "c = int(input(\"섭씨 온도를 입력하세요\"))\n",
    "f = (c*1.8)+32\n",
    "\n",
    "if f%1==0:\n",
    "    print(\"입력하신 섭씨 {}도는 화씨온도 {:.0f}도입니다\".format(c, f))\n",
    "else:\n",
    "    print(\"입력하신 섭씨 {}도는 화씨온도 {:.2f}도입니다\".format(c, f))"
   ]
  },
  {
   "cell_type": "code",
   "execution_count": 15,
   "id": "7bc2d057",
   "metadata": {},
   "outputs": [],
   "source": [
    "#7\n",
    "모두\n",
    "1: for는 예약어, 2: 문자로 시작해야, 3: 마침표 사용 불가, 4:문자로 시작해야"
   ]
  },
  {
   "cell_type": "code",
   "execution_count": 16,
   "id": "0ea0cbfa",
   "metadata": {},
   "outputs": [
    {
     "name": "stdout",
     "output_type": "stream",
     "text": [
      "SeounSeoul\n",
      "Seou n Seoul\n"
     ]
    }
   ],
   "source": [
    "#8\n",
    "text = \"Seoul A001 - programming with python\"\n",
    "print(text[:4]+text[-1]+text.split()[0])\n",
    "print(text[:4], text[-1], text.split()[0])"
   ]
  },
  {
   "cell_type": "code",
   "execution_count": 17,
   "id": "dc1eafac",
   "metadata": {},
   "outputs": [],
   "source": [
    "#9\n",
    "모두 옳음"
   ]
  },
  {
   "cell_type": "code",
   "execution_count": null,
   "id": "2e7c2d20",
   "metadata": {},
   "outputs": [],
   "source": [
    "#10\n",
    "에러\n",
    "x를 문자화해야"
   ]
  },
  {
   "cell_type": "code",
   "execution_count": 20,
   "id": "044b8126",
   "metadata": {},
   "outputs": [
    {
     "name": "stdout",
     "output_type": "stream",
     "text": [
      "나라\n"
     ]
    }
   ],
   "source": [
    "#11\n",
    "str_ = \"우리 나라 대한 민국\"\n",
    "str_split = str_.split()\n",
    "print(str_split[1])        "
   ]
  }
 ],
 "metadata": {
  "kernelspec": {
   "display_name": "Python 3 (ipykernel)",
   "language": "python",
   "name": "python3"
  },
  "language_info": {
   "codemirror_mode": {
    "name": "ipython",
    "version": 3
   },
   "file_extension": ".py",
   "mimetype": "text/x-python",
   "name": "python",
   "nbconvert_exporter": "python",
   "pygments_lexer": "ipython3",
   "version": "3.10.9"
  },
  "toc": {
   "base_numbering": 1,
   "nav_menu": {},
   "number_sections": false,
   "sideBar": true,
   "skip_h1_title": false,
   "title_cell": "Table of Contents",
   "title_sidebar": "Contents",
   "toc_cell": false,
   "toc_position": {
    "height": "calc(100% - 180px)",
    "left": "10px",
    "top": "150px",
    "width": "165px"
   },
   "toc_section_display": true,
   "toc_window_display": true
  }
 },
 "nbformat": 4,
 "nbformat_minor": 5
}
