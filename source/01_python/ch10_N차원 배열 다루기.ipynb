{
 "cells": [
  {
   "cell_type": "code",
   "execution_count": 1,
   "id": "95b99477",
   "metadata": {},
   "outputs": [
    {
     "data": {
      "text/html": [
       "\n",
       "<style>\n",
       "div.container{width:90% !important;}\n",
       "div.cell.code_cell.rendered{width:90%;}\n",
       "div.input_prompt{padding:0px;}\n",
       "div.CodeMirror {font-family:Consolas; font-size:10pt;}\n",
       "div.text_cell_render.rendered_html{font-size:10pt;}\n",
       "div.output {font-size:10pt; font-weight:bold;}\n",
       "div.input {font-family:Consolas; font-size:10pt;}\n",
       "div.prompt {min-width:70px;}\n",
       "div#toc-wrapper{padding-top:120px;}\n",
       "div.text_cell_render ul li{font-size:10pt;padding:5px;}\n",
       "table.dataframe{font-size:10px;}\n",
       "</style>\n"
      ],
      "text/plain": [
       "<IPython.core.display.HTML object>"
      ]
     },
     "metadata": {},
     "output_type": "display_data"
    }
   ],
   "source": [
    "from IPython.display import display, HTML\n",
    "display(HTML(\"\"\"\n",
    "<style>\n",
    "div.container{width:90% !important;}\n",
    "div.cell.code_cell.rendered{width:90%;}\n",
    "div.input_prompt{padding:0px;}\n",
    "div.CodeMirror {font-family:Consolas; font-size:10pt;}\n",
    "div.text_cell_render.rendered_html{font-size:10pt;}\n",
    "div.output {font-size:10pt; font-weight:bold;}\n",
    "div.input {font-family:Consolas; font-size:10pt;}\n",
    "div.prompt {min-width:70px;}\n",
    "div#toc-wrapper{padding-top:120px;}\n",
    "div.text_cell_render ul li{font-size:10pt;padding:5px;}\n",
    "table.dataframe{font-size:10px;}\n",
    "</style>\n",
    "\"\"\"))"
   ]
  },
  {
   "cell_type": "markdown",
   "id": "04e208df",
   "metadata": {},
   "source": [
    "<b><font size=\"6\" color=\"red\">Ch 10. N차원 배열 다루기</font><b>\n",
    "    <br><br>\n",
    "    - [NumPy](https://numpy.org/)<br>\n",
    "    - [NumpPy Doc](https://numpy.org/doc/)<br>\n",
    "    - 2차원 배열은 행렬 개념으로 이해<br>\n",
    "    - NumPy 패키지를 이용(C언어로 구현된 고성능 수치계산 패키지)\n",
    "    \n",
    "# 1. NumPy 패키지"
   ]
  },
  {
   "cell_type": "code",
   "execution_count": 2,
   "id": "043a4297",
   "metadata": {},
   "outputs": [
    {
     "data": {
      "text/plain": [
       "'1.23.5'"
      ]
     },
     "execution_count": 2,
     "metadata": {},
     "output_type": "execute_result"
    }
   ],
   "source": [
    "import numpy as np\n",
    "np.__version__"
   ]
  },
  {
   "cell_type": "code",
   "execution_count": 5,
   "id": "728bb8ee",
   "metadata": {},
   "outputs": [
    {
     "data": {
      "text/plain": [
       "array([ 0,  1,  2,  3,  4,  5,  6,  7,  8,  9, 10, 11, 12, 13, 14])"
      ]
     },
     "execution_count": 5,
     "metadata": {},
     "output_type": "execute_result"
    }
   ],
   "source": [
    "#np.arange(from, stop, by) : from부터 stop 앞까지 by씩 증가하는 1차원 배열 생성\n",
    "a = np.arange(15)\n",
    "a"
   ]
  },
  {
   "cell_type": "markdown",
   "id": "fab08804",
   "metadata": {},
   "source": [
    "## 1.1. 배열 속성"
   ]
  },
  {
   "cell_type": "code",
   "execution_count": 6,
   "id": "97d117cb",
   "metadata": {},
   "outputs": [
    {
     "data": {
      "text/plain": [
       "array([[ 0,  1,  2,  3,  4],\n",
       "       [ 5,  6,  7,  8,  9],\n",
       "       [10, 11, 12, 13, 14]])"
      ]
     },
     "execution_count": 6,
     "metadata": {},
     "output_type": "execute_result"
    }
   ],
   "source": [
    "from numpy import arange\n",
    "a =  arange(15).reshape(3, 5) #reshpae : 3행 5열 2차원 배열로 변환\n",
    "a"
   ]
  },
  {
   "cell_type": "code",
   "execution_count": 7,
   "id": "939fe4ac",
   "metadata": {},
   "outputs": [
    {
     "data": {
      "text/plain": [
       "numpy.ndarray"
      ]
     },
     "execution_count": 7,
     "metadata": {},
     "output_type": "execute_result"
    }
   ],
   "source": [
    "type(a) #a 변수의 type"
   ]
  },
  {
   "cell_type": "code",
   "execution_count": 8,
   "id": "c0cfa4ce",
   "metadata": {},
   "outputs": [
    {
     "data": {
      "text/plain": [
       "dtype('int32')"
      ]
     },
     "execution_count": 8,
     "metadata": {},
     "output_type": "execute_result"
    }
   ],
   "source": [
    "a.dtype #a 배열의 요소들의 type\n",
    "#정수 default int32"
   ]
  },
  {
   "cell_type": "code",
   "execution_count": 9,
   "id": "dd3e8e95",
   "metadata": {},
   "outputs": [
    {
     "data": {
      "text/plain": [
       "'int32'"
      ]
     },
     "execution_count": 9,
     "metadata": {},
     "output_type": "execute_result"
    }
   ],
   "source": [
    "a.dtype.name"
   ]
  },
  {
   "cell_type": "code",
   "execution_count": 10,
   "id": "fe102abb",
   "metadata": {},
   "outputs": [
    {
     "data": {
      "text/plain": [
       "4"
      ]
     },
     "execution_count": 10,
     "metadata": {},
     "output_type": "execute_result"
    }
   ],
   "source": [
    "a.itemsize #a 배열 안의 한 요소의 bytesize (32bit = 4byte)"
   ]
  },
  {
   "cell_type": "code",
   "execution_count": 11,
   "id": "1f836abe",
   "metadata": {},
   "outputs": [
    {
     "data": {
      "text/plain": [
       "2"
      ]
     },
     "execution_count": 11,
     "metadata": {},
     "output_type": "execute_result"
    }
   ],
   "source": [
    "a.ndim #축 개수(차원 수)"
   ]
  },
  {
   "cell_type": "code",
   "execution_count": 12,
   "id": "f942953f",
   "metadata": {},
   "outputs": [
    {
     "data": {
      "text/plain": [
       "15"
      ]
     },
     "execution_count": 12,
     "metadata": {},
     "output_type": "execute_result"
    }
   ],
   "source": [
    "a.size #배열 요소의 개수"
   ]
  },
  {
   "cell_type": "code",
   "execution_count": 13,
   "id": "512201ff",
   "metadata": {},
   "outputs": [
    {
     "data": {
      "text/plain": [
       "(3, 5)"
      ]
     },
     "execution_count": 13,
     "metadata": {},
     "output_type": "execute_result"
    }
   ],
   "source": [
    "a.shape #배열의 구조"
   ]
  },
  {
   "cell_type": "code",
   "execution_count": 15,
   "id": "49555657",
   "metadata": {},
   "outputs": [
    {
     "name": "stdout",
     "output_type": "stream",
     "text": [
      "shpae 조정 전 a\n",
      " [[ 0  1  2  3  4]\n",
      " [ 5  6  7  8  9]\n",
      " [10 11 12 13 14]]\n",
      "shape 조정 후 a\n",
      " [[ 0  1  2]\n",
      " [ 3  4  5]\n",
      " [ 6  7  8]\n",
      " [ 9 10 11]\n",
      " [12 13 14]]\n"
     ]
    }
   ],
   "source": [
    "print('shpae 조정 전 a\\n', a) #배열 print 시에 , 없어 리스트와 구별 가능\n",
    "a.shape = (5,3)\n",
    "print('shape 조정 후 a\\n', a)"
   ]
  },
  {
   "cell_type": "markdown",
   "id": "ee6946dc",
   "metadata": {},
   "source": [
    "## 1.2. 배열 타입 변경"
   ]
  },
  {
   "cell_type": "code",
   "execution_count": 16,
   "id": "39b48f10",
   "metadata": {},
   "outputs": [
    {
     "data": {
      "text/plain": [
       "array([[ 0,  1,  2,  3],\n",
       "       [ 4,  5,  6,  7],\n",
       "       [ 8,  9, 10, 11]])"
      ]
     },
     "execution_count": 16,
     "metadata": {},
     "output_type": "execute_result"
    }
   ],
   "source": [
    "a = arange(12).reshape(3,4)\n",
    "a"
   ]
  },
  {
   "cell_type": "code",
   "execution_count": 18,
   "id": "dfdd18bb",
   "metadata": {},
   "outputs": [
    {
     "data": {
      "text/plain": [
       "12"
      ]
     },
     "execution_count": 18,
     "metadata": {},
     "output_type": "execute_result"
    }
   ],
   "source": [
    "a.size"
   ]
  },
  {
   "cell_type": "code",
   "execution_count": 19,
   "id": "e0407e04",
   "metadata": {},
   "outputs": [
    {
     "data": {
      "text/plain": [
       "dtype('int32')"
      ]
     },
     "execution_count": 19,
     "metadata": {},
     "output_type": "execute_result"
    }
   ],
   "source": [
    "a.dtype"
   ]
  },
  {
   "cell_type": "code",
   "execution_count": 20,
   "id": "d8cce2a6",
   "metadata": {},
   "outputs": [
    {
     "data": {
      "text/plain": [
       "4"
      ]
     },
     "execution_count": 20,
     "metadata": {},
     "output_type": "execute_result"
    }
   ],
   "source": [
    "a.itemsize"
   ]
  },
  {
   "cell_type": "code",
   "execution_count": 21,
   "id": "73c937d5",
   "metadata": {},
   "outputs": [
    {
     "data": {
      "text/plain": [
       "dtype('int64')"
      ]
     },
     "execution_count": 21,
     "metadata": {},
     "output_type": "execute_result"
    }
   ],
   "source": [
    "#타입 변경 시 이렇게 직접 바꾸면 안 된다!\n",
    "a.dtype = np.int64 #읽을 때 int64로(64bit씩) 읽는다. \n",
    "a.dtype"
   ]
  },
  {
   "cell_type": "code",
   "execution_count": 23,
   "id": "5ebeeb23",
   "metadata": {},
   "outputs": [
    {
     "data": {
      "text/plain": [
       "array([[ 4294967296, 12884901890],\n",
       "       [21474836484, 30064771078],\n",
       "       [38654705672, 47244640266]], dtype=int64)"
      ]
     },
     "execution_count": 23,
     "metadata": {},
     "output_type": "execute_result"
    }
   ],
   "source": [
    "a #동일한 데이터를 32bit에서 64bit로 변경하면 읽는 방법이 바뀌어서 전혀 다른 숫자가 됨"
   ]
  },
  {
   "cell_type": "code",
   "execution_count": 24,
   "id": "958ea737",
   "metadata": {},
   "outputs": [
    {
     "data": {
      "text/plain": [
       "array([[ 0,  1,  2,  3],\n",
       "       [ 4,  5,  6,  7],\n",
       "       [ 8,  9, 10, 11]])"
      ]
     },
     "execution_count": 24,
     "metadata": {},
     "output_type": "execute_result"
    }
   ],
   "source": [
    "#배열 요소의 타입을 수정\n",
    "a = arange(12).reshape(3, 4)\n",
    "a"
   ]
  },
  {
   "cell_type": "code",
   "execution_count": 28,
   "id": "7c8a8f3e",
   "metadata": {},
   "outputs": [
    {
     "data": {
      "text/plain": [
       "array([[ 0,  1,  2,  3],\n",
       "       [ 4,  5,  6,  7],\n",
       "       [ 8,  9, 10, 11]], dtype=int64)"
      ]
     },
     "execution_count": 28,
     "metadata": {},
     "output_type": "execute_result"
    }
   ],
   "source": [
    "#타입을 직접 변경하는 게 아닌 셈이라, 원본에 재할당 필요\n",
    "#a.astype(np.int64)\n",
    "a = a.astype('int64')\n",
    "a"
   ]
  },
  {
   "cell_type": "code",
   "execution_count": 29,
   "id": "25733d4e",
   "metadata": {},
   "outputs": [
    {
     "data": {
      "text/plain": [
       "8"
      ]
     },
     "execution_count": 29,
     "metadata": {},
     "output_type": "execute_result"
    }
   ],
   "source": [
    "a.itemsize"
   ]
  },
  {
   "cell_type": "code",
   "execution_count": 30,
   "id": "9bfb5d0d",
   "metadata": {},
   "outputs": [
    {
     "data": {
      "text/plain": [
       "12"
      ]
     },
     "execution_count": 30,
     "metadata": {},
     "output_type": "execute_result"
    }
   ],
   "source": [
    "a.size"
   ]
  },
  {
   "cell_type": "code",
   "execution_count": 31,
   "id": "18e46748",
   "metadata": {},
   "outputs": [
    {
     "data": {
      "text/plain": [
       "array([ 0,  1,  2,  3,  4,  5,  6,  7,  8,  9, 10, 11], dtype=int64)"
      ]
     },
     "execution_count": 31,
     "metadata": {},
     "output_type": "execute_result"
    }
   ],
   "source": [
    "a.ravel() #return array flatten"
   ]
  },
  {
   "cell_type": "code",
   "execution_count": 32,
   "id": "e0c64499",
   "metadata": {},
   "outputs": [
    {
     "data": {
      "text/plain": [
       "array([ 0,  1,  2,  3,  4,  5,  6,  7,  8,  9, 10, 11], dtype=int64)"
      ]
     },
     "execution_count": 32,
     "metadata": {},
     "output_type": "execute_result"
    }
   ],
   "source": [
    "a.flatten() #함수의 결과가 return되면 배열은 수정하지 않음"
   ]
  },
  {
   "cell_type": "markdown",
   "id": "0316165c",
   "metadata": {},
   "source": [
    "## 1.3. 배열 저장\n",
    "- pkl(객체/배열/머신러닝 모델 저장) | npy(NumPy 전용 포맷, io 속도 개선)"
   ]
  },
  {
   "cell_type": "code",
   "execution_count": 33,
   "id": "a019ff2a",
   "metadata": {},
   "outputs": [
    {
     "data": {
      "text/plain": [
       "array([[ 0,  1,  2,  3],\n",
       "       [ 4,  5,  6,  7],\n",
       "       [ 8,  9, 10, 11]], dtype=int64)"
      ]
     },
     "execution_count": 33,
     "metadata": {},
     "output_type": "execute_result"
    }
   ],
   "source": [
    "a"
   ]
  },
  {
   "cell_type": "code",
   "execution_count": 37,
   "id": "1c1da3fa",
   "metadata": {},
   "outputs": [
    {
     "name": "stdout",
     "output_type": "stream",
     "text": [
      "CPU times: total: 0 ns\n",
      "Wall time: 996 µs\n"
     ]
    }
   ],
   "source": [
    "%%time #작업시간 측정하는 magic function (주피터노트북)\n",
    "import pickle\n",
    "with open('data/ch10.pkl', 'wb') as f:\n",
    "    pickle.dump(a, f)"
   ]
  },
  {
   "cell_type": "code",
   "execution_count": 38,
   "id": "978778d8",
   "metadata": {},
   "outputs": [
    {
     "name": "stdout",
     "output_type": "stream",
     "text": [
      "CPU times: total: 0 ns\n",
      "Wall time: 1.94 ms\n"
     ]
    }
   ],
   "source": [
    "%%time\n",
    "with open('data/ch10.pkl', 'rb') as f:\n",
    "    loaded_a = pickle.load(f)"
   ]
  },
  {
   "cell_type": "code",
   "execution_count": 36,
   "id": "dcbcd432",
   "metadata": {},
   "outputs": [
    {
     "data": {
      "text/plain": [
       "array([[ 0,  1,  2,  3],\n",
       "       [ 4,  5,  6,  7],\n",
       "       [ 8,  9, 10, 11]], dtype=int64)"
      ]
     },
     "execution_count": 36,
     "metadata": {},
     "output_type": "execute_result"
    }
   ],
   "source": [
    "loaded_a"
   ]
  },
  {
   "cell_type": "code",
   "execution_count": 39,
   "id": "259be92b",
   "metadata": {},
   "outputs": [
    {
     "name": "stdout",
     "output_type": "stream",
     "text": [
      "CPU times: total: 0 ns\n",
      "Wall time: 967 µs\n"
     ]
    }
   ],
   "source": [
    "%%time\n",
    "np.save('data/ch10.npy', a) #numpy객체 저장"
   ]
  },
  {
   "cell_type": "code",
   "execution_count": 40,
   "id": "1124b44b",
   "metadata": {},
   "outputs": [
    {
     "name": "stdout",
     "output_type": "stream",
     "text": [
      "CPU times: total: 0 ns\n",
      "Wall time: 12.8 ms\n"
     ]
    }
   ],
   "source": [
    "%%time\n",
    "loaded_a2 = np.load('data/ch10.npy')"
   ]
  },
  {
   "cell_type": "markdown",
   "id": "b2bcd5c4",
   "metadata": {},
   "source": [
    "# 2. NumPy 배열\n",
    "- array() 함수를 이용하여 다른 python 구조(list, tuple)를 배열로 변환\n",
    "- 기타 함수들 : arange, ones, zeros, full(255), empty, linspace, ...\n",
    "- 랜덤값 함수들 : np.random.~ 머신러닝 학습 시에 자주 사용\n",
    "## 2.1. array() 함수로 NumPy 배열 만들기\n",
    "    - array(obj, dtype=np.xx, copy=T/F)"
   ]
  },
  {
   "cell_type": "code",
   "execution_count": 41,
   "id": "d21a8466",
   "metadata": {},
   "outputs": [
    {
     "data": {
      "text/plain": [
       "array([2, 4, 6], dtype=int16)"
      ]
     },
     "execution_count": 41,
     "metadata": {},
     "output_type": "execute_result"
    }
   ],
   "source": [
    "a = np.array([2,4,6], dtype=np.int16) #int default type int32\n",
    "a"
   ]
  },
  {
   "cell_type": "code",
   "execution_count": 42,
   "id": "ed253da5",
   "metadata": {},
   "outputs": [
    {
     "data": {
      "text/plain": [
       "(2, 4, 6)"
      ]
     },
     "execution_count": 42,
     "metadata": {},
     "output_type": "execute_result"
    }
   ],
   "source": [
    "a[0], a[1], a[2]"
   ]
  },
  {
   "cell_type": "code",
   "execution_count": 43,
   "id": "afa3ade2",
   "metadata": {},
   "outputs": [
    {
     "name": "stdout",
     "output_type": "stream",
     "text": [
      "2\t4\t6\t"
     ]
    }
   ],
   "source": [
    "for i in a:\n",
    "    print(i, end='\\t')"
   ]
  },
  {
   "cell_type": "code",
   "execution_count": 58,
   "id": "2ff5d27b",
   "metadata": {},
   "outputs": [
    {
     "data": {
      "text/plain": [
       "array([[1.5, 2.3],\n",
       "       [4. , 5. ]])"
      ]
     },
     "execution_count": 58,
     "metadata": {},
     "output_type": "execute_result"
    }
   ],
   "source": [
    "b = np.array([[1.5, 2.3], #배열은 동일 자료형의 집합 : 정수 → 실수 → 문자 \n",
    "              [4, 5]]) \n",
    "b"
   ]
  },
  {
   "cell_type": "code",
   "execution_count": 48,
   "id": "0e087a5e",
   "metadata": {},
   "outputs": [
    {
     "data": {
      "text/plain": [
       "(2.3, 2.3)"
      ]
     },
     "execution_count": 48,
     "metadata": {},
     "output_type": "execute_result"
    }
   ],
   "source": [
    "b[0][1], b[0,1] #2차원(axis 0행1열)"
   ]
  },
  {
   "cell_type": "code",
   "execution_count": 47,
   "id": "d547f234",
   "metadata": {},
   "outputs": [
    {
     "data": {
      "text/plain": [
       "2.3"
      ]
     },
     "execution_count": 47,
     "metadata": {},
     "output_type": "execute_result"
    }
   ],
   "source": [
    "#리스트의 경우\n",
    "l = [[1.5, 2.3], [4, 5]]\n",
    "l[0][1]"
   ]
  },
  {
   "cell_type": "code",
   "execution_count": 50,
   "id": "369f1096",
   "metadata": {},
   "outputs": [
    {
     "name": "stdout",
     "output_type": "stream",
     "text": [
      "float64\n",
      "8\n"
     ]
    }
   ],
   "source": [
    "print(b.dtype) #default integer type: int32, default float type: float64\n",
    "print(b.itemsize)"
   ]
  },
  {
   "cell_type": "code",
   "execution_count": 63,
   "id": "8b1d3cd0",
   "metadata": {},
   "outputs": [
    {
     "data": {
      "text/plain": [
       "array([[1.5, 2.3],\n",
       "       [4. , 5. ]], dtype=float32)"
      ]
     },
     "execution_count": 63,
     "metadata": {},
     "output_type": "execute_result"
    }
   ],
   "source": [
    "#float64 → float32 변환 시 데이터 정확도 유실될 수 있음\n",
    "b = b.astype(np.float32)\n",
    "b"
   ]
  },
  {
   "cell_type": "code",
   "execution_count": 53,
   "id": "6eafc3cd",
   "metadata": {},
   "outputs": [
    {
     "name": "stdout",
     "output_type": "stream",
     "text": [
      "float32\n",
      "4\n"
     ]
    }
   ],
   "source": [
    "print(b.dtype)\n",
    "print(b.itemsize)"
   ]
  },
  {
   "cell_type": "code",
   "execution_count": 55,
   "id": "93d93cb2",
   "metadata": {},
   "outputs": [
    {
     "name": "stdout",
     "output_type": "stream",
     "text": [
      "1.5\t2.3\t\n",
      "4.0\t5.0\t\n"
     ]
    }
   ],
   "source": [
    "for row in b:\n",
    "    for item in row:\n",
    "        print(item, end='\\t')\n",
    "    print()"
   ]
  },
  {
   "cell_type": "code",
   "execution_count": 62,
   "id": "896892f8",
   "metadata": {},
   "outputs": [
    {
     "name": "stdout",
     "output_type": "stream",
     "text": [
      "0행 0열 : 1.5(1.5)\t0행 1열 : 2.3(2.3)\t\n",
      "1행 0열 : 4.0(4.0)\t1행 1열 : 5.0(5.0)\t\n"
     ]
    }
   ],
   "source": [
    "for i, row in enumerate(b):\n",
    "    for j, item in enumerate(row):\n",
    "        print('{}행 {}열 : {:.1f}({:.1f})'.format(i, j, item, b[i,j]), end='\\t')\n",
    "    print()"
   ]
  },
  {
   "cell_type": "code",
   "execution_count": 85,
   "id": "e1a2b5fb",
   "metadata": {},
   "outputs": [
    {
     "data": {
      "text/plain": [
       "array([[ 1,  2,  3,  4,  5],\n",
       "       [ 6,  7,  8,  9,  0],\n",
       "       [-5, -4, -3, -2, -1]], dtype=int16)"
      ]
     },
     "execution_count": 85,
     "metadata": {},
     "output_type": "execute_result"
    }
   ],
   "source": [
    "#행렬의 인덱싱, 슬라이싱\n",
    "b = np.array([[1,2,3,4,5], [6,7,8,9,0], [-5, -4, -3, -2, -1]], dtype=np.int16)\n",
    "b"
   ]
  },
  {
   "cell_type": "code",
   "execution_count": 76,
   "id": "df6c88eb",
   "metadata": {},
   "outputs": [
    {
     "data": {
      "text/plain": [
       "2"
      ]
     },
     "execution_count": 76,
     "metadata": {},
     "output_type": "execute_result"
    }
   ],
   "source": [
    "#없는 인덱싱 IndexError\n",
    "b[0,1]\n",
    "#b[3,1] "
   ]
  },
  {
   "cell_type": "code",
   "execution_count": 138,
   "id": "ea76bcd7",
   "metadata": {},
   "outputs": [
    {
     "name": "stdout",
     "output_type": "stream",
     "text": [
      "0~1행, 1~2열:\n",
      " [[2 3]\n",
      " [7 8]]\n",
      "2행 모두 1차원:\n",
      " [-5 -4 -3 -2 -1] [-5 -4 -3 -2 -1]\n",
      "2행 모두 2차원:\n",
      " [[-5 -4 -3 -2 -1]] [[-5 -4 -3 -2 -1]]\n",
      "4열 모두 1차원:\n",
      " [ 5  0 -1] [ 5  0 -1] [ 5  0 -1]\n",
      "2행 0~3열:\n",
      " [-5 -4 -3 -2] [-5 -4 -3 -2]\n",
      "마지막열 제외:\n",
      " [[ 1  2  3  4]\n",
      " [ 6  7  8  9]\n",
      " [-5 -4 -3 -2]]\n"
     ]
    }
   ],
   "source": [
    "#슬라이싱\n",
    "print('0~1행, 1~2열:\\n', b[0:2,1:3])\n",
    "print('2행 모두 1차원:\\n', b[2,:], b[2]) #모든 열 추출할 경우, 열 생략 가능\n",
    "print('2행 모두 2차원:\\n', b[2:3,:], b[2:3]) #모든 열 추출할 경우, 열 생략 가능\n",
    "print('4열 모두 1차원:\\n', b[:,-1], b[:,4], b[...,4])\n",
    "print('2행 0~3열:\\n', b[2,0:4], b[2, 0:-1])\n",
    "print('마지막열 제외:\\n', b[:,:-1])"
   ]
  },
  {
   "cell_type": "code",
   "execution_count": 98,
   "id": "fd3fcc8c",
   "metadata": {},
   "outputs": [
    {
     "name": "stdout",
     "output_type": "stream",
     "text": [
      "a=10, 복제본10\n",
      "a=10, 복제본-1\n"
     ]
    }
   ],
   "source": [
    "#스칼라 변수\n",
    "a = 10\n",
    "copy_a = a #깊은 복사\n",
    "print(f\"a={a}, 복제본{copy_a}\")\n",
    "copy_a = -1\n",
    "print(f\"a={a}, 복제본{copy_a}\")"
   ]
  },
  {
   "cell_type": "code",
   "execution_count": 99,
   "id": "b3da4e3a",
   "metadata": {},
   "outputs": [
    {
     "name": "stdout",
     "output_type": "stream",
     "text": [
      "a=[0, 1], 복제본[0, 1]\n",
      "a=[0, 1], 복제본[-1, 1]\n"
     ]
    }
   ],
   "source": [
    "#데이터구조\n",
    "a = [0, 1]\n",
    "#copy_a = a #얕은 복사 : 복제본 변형하면 원본도 변형됨\n",
    "copy_a = a.copy() #깊은 복사(얕은 복사의 return을 할당)\n",
    "print(f\"a={a}, 복제본{copy_a}\")\n",
    "copy_a[0] = -1\n",
    "print(f\"a={a}, 복제본{copy_a}\")"
   ]
  },
  {
   "cell_type": "code",
   "execution_count": 105,
   "id": "810462a0",
   "metadata": {},
   "outputs": [
    {
     "name": "stdout",
     "output_type": "stream",
     "text": [
      "c=\n",
      "[[1 2]\n",
      " [3 4]]\n",
      "d=\n",
      "[[1 2]\n",
      " [3 4]]\n",
      "2069217547952 2069217544688\n",
      "c=\n",
      "[[1 2]\n",
      " [3 4]]\n",
      "d=\n",
      "[[9 2]\n",
      " [3 4]]\n",
      "2069217547952 2069217544688\n"
     ]
    }
   ],
   "source": [
    "#NumPy 배열\n",
    "c = np.array([ [1,2], [3,4] ])\n",
    "#d = c #주소 할당\n",
    "d = np.array(c, copy=True) #깊은 복사\n",
    "print('c=', c, sep='\\n')\n",
    "print('d=', d, sep='\\n')\n",
    "print(id(c), id(d))\n",
    "d[0,0] = 9\n",
    "print('c=', c, sep='\\n')\n",
    "print('d=', d, sep='\\n')\n",
    "print(id(c), id(d))"
   ]
  },
  {
   "cell_type": "markdown",
   "id": "1448e24b",
   "metadata": {},
   "source": [
    "## 2.2. 기본값이 있는 배열 만들기\n",
    "    - np.zeros(tup) : 요소들이 다 0\n",
    "    - np.ones(tup) : 요소들이 다 1\n",
    "    - np.full(tup, 기본값) : 요소들이 다 두 번째 매개변수(기본값)\n",
    "    - np.empty(tup) : 초기 내용은 임의값인 배열(메모리 상태에 따라 초기값 달라짐)\n",
    "✔ 위의 함수를 이용해서 생성된 배열은 기본 dtype이 float64, dtype 속성을 따로 지정 가능"
   ]
  },
  {
   "cell_type": "code",
   "execution_count": 109,
   "id": "0eff45b3",
   "metadata": {},
   "outputs": [
    {
     "data": {
      "text/plain": [
       "array([0., 0., 0.])"
      ]
     },
     "execution_count": 109,
     "metadata": {},
     "output_type": "execute_result"
    }
   ],
   "source": [
    "np.zeros((3,)) #3열짜리 1차원 float64 0 배열"
   ]
  },
  {
   "cell_type": "code",
   "execution_count": 113,
   "id": "6de47aa2",
   "metadata": {},
   "outputs": [
    {
     "name": "stdout",
     "output_type": "stream",
     "text": [
      "[[0 0 0 0 0]\n",
      " [0 0 0 0 0]]\n",
      "int16\n",
      "2\n"
     ]
    }
   ],
   "source": [
    "x = np.zeros((2,5), dtype=np.int16)\n",
    "print(x)\n",
    "print(x.dtype)\n",
    "print(x.itemsize)"
   ]
  },
  {
   "cell_type": "code",
   "execution_count": 115,
   "id": "19e93bae",
   "metadata": {},
   "outputs": [
    {
     "data": {
      "text/plain": [
       "array([[1, 1, 1, 1, 1],\n",
       "       [1, 1, 1, 1, 1]], dtype=uint8)"
      ]
     },
     "execution_count": 115,
     "metadata": {},
     "output_type": "execute_result"
    }
   ],
   "source": [
    "np.ones((2,5), dtype=np.uint8) #uint : unsided 첫 자리 부호 없는 정수 데이터"
   ]
  },
  {
   "cell_type": "code",
   "execution_count": 119,
   "id": "f8550cd2",
   "metadata": {},
   "outputs": [
    {
     "data": {
      "text/plain": [
       "array([[255, 255, 255, 255, 255, 255, 255, 255],\n",
       "       [255, 255, 255, 255, 255, 255, 255, 255],\n",
       "       [255, 255, 255, 255, 255, 255, 255, 255],\n",
       "       [255, 255, 255, 255, 255, 255, 255, 255]])"
      ]
     },
     "execution_count": 119,
     "metadata": {},
     "output_type": "execute_result"
    }
   ],
   "source": [
    "np.full((4,8), 255)"
   ]
  },
  {
   "cell_type": "code",
   "execution_count": 132,
   "id": "1d98fa30",
   "metadata": {},
   "outputs": [
    {
     "data": {
      "text/plain": [
       "<function matplotlib.pyplot.show(close=None, block=None)>"
      ]
     },
     "execution_count": 132,
     "metadata": {},
     "output_type": "execute_result"
    },
    {
     "data": {
      "image/png": "[encoded data removed]",
      "text/plain": [
       "<Figure size 200x200 with 1 Axes>"
      ]
     },
     "metadata": {},
     "output_type": "display_data"
    }
   ],
   "source": [
    "import matplotlib.pyplot as plt\n",
    "plt.figure(figsize=(2,2)) #시각화한 그래프 크기 figsize=(가로,세로)\n",
    "img = np.full((28,28), 128, dtype=np.uint8)\n",
    "plt.imshow(img, cmap='gray', vmin=0, vmax=255)\n",
    "plt.axis('off') #축 없애기\n",
    "plt.show"
   ]
  },
  {
   "cell_type": "code",
   "execution_count": 137,
   "id": "fed333da",
   "metadata": {},
   "outputs": [
    {
     "data": {
      "text/plain": [
       "array([[ True, False, False],\n",
       "       [False,  True, False],\n",
       "       [False, False,  True]])"
      ]
     },
     "execution_count": 137,
     "metadata": {},
     "output_type": "execute_result"
    }
   ],
   "source": [
    "np.empty((3, 3), dtype=np.bool8) #초기값이 메모리 상태에 따라 다름(garbage값!을 적당히 넣어 둠)"
   ]
  },
  {
   "cell_type": "markdown",
   "id": "35fd4c84",
   "metadata": {},
   "source": [
    "## 2.3. 랜덤값을 갖는 배열 만들기\n",
    "- np.random.random(tup) : 0 이상 1 미만의 균등분포를 갖는 랜덤값 배열\n",
    "- np.random.unifom(low=0.0, high=1.0, size=tup) : low 이상 high 미만의 균등 분포를 갖는 랜덤값\n",
    "- np.random.normal(loc=0.0, scale=1.0, size=tup) : 평균 loc과 표준편차 scale을 갖는 정규분포 배열\n",
    "- np.random.rand(n) : 0 이상 1 미만의 균등분포 1차원 배열\n",
    "- np.random.randn(n) : 표준정규분포\n",
    "*cf) np.random.randint(form, to) : from부터 to 미만의 정수 난수 1개 return ==random.randint(from, to-1)"
   ]
  },
  {
   "cell_type": "code",
   "execution_count": 139,
   "id": "16ea10e5",
   "metadata": {},
   "outputs": [
    {
     "data": {
      "text/plain": [
       "array([[0.50847976, 0.30566585, 0.79464859],\n",
       "       [0.32980431, 0.15270912, 0.77677077]])"
      ]
     },
     "execution_count": 139,
     "metadata": {},
     "output_type": "execute_result"
    }
   ],
   "source": [
    "np.random.random((2,3))"
   ]
  },
  {
   "cell_type": "code",
   "execution_count": 140,
   "id": "a8215551",
   "metadata": {},
   "outputs": [
    {
     "data": {
      "text/plain": [
       "array([0.72209812, 0.99205895, 0.65305839])"
      ]
     },
     "execution_count": 140,
     "metadata": {},
     "output_type": "execute_result"
    }
   ],
   "source": [
    "np.random.rand(3) #==np.random.random((3,))"
   ]
  },
  {
   "cell_type": "code",
   "execution_count": 160,
   "id": "540bf9cc",
   "metadata": {},
   "outputs": [
    {
     "data": {
      "image/png": "[encoded data removed]",
      "text/plain": [
       "<Figure size 1000x200 with 1 Axes>"
      ]
     },
     "metadata": {},
     "output_type": "display_data"
    }
   ],
   "source": [
    "x = np.random.rand(100000) #균등분포\n",
    "plt.figure(figsize=(10,2)) #그래프 크기\n",
    "plt.hist(x, bins=50) #히스토그램\n",
    "plt.show()"
   ]
  },
  {
   "cell_type": "code",
   "execution_count": 161,
   "id": "7ea97c5e",
   "metadata": {},
   "outputs": [
    {
     "data": {
      "image/png": "[encoded data removed]",
      "text/plain": [
       "<Figure size 1000x300 with 1 Axes>"
      ]
     },
     "metadata": {},
     "output_type": "display_data"
    }
   ],
   "source": [
    "x = np.random.randn(20000) #표준정규분포\n",
    "plt.figure(figsize=(10,3))\n",
    "plt.hist(x, bins=50)\n",
    "plt.show()"
   ]
  },
  {
   "cell_type": "code",
   "execution_count": 162,
   "id": "59339180",
   "metadata": {},
   "outputs": [
    {
     "name": "stdout",
     "output_type": "stream",
     "text": [
      "[0.30962918 0.69990668 0.60268508]\n",
      "[ 0.05412801 -1.04838023 -0.02865976]\n"
     ]
    }
   ],
   "source": [
    "#1차원 난수 배열\n",
    "print(np.random.rand(3)) #균등분포\n",
    "print(np.random.randn(3)) #정규분포"
   ]
  },
  {
   "cell_type": "code",
   "execution_count": 163,
   "id": "1f2044ce",
   "metadata": {},
   "outputs": [
    {
     "data": {
      "text/plain": [
       "array([[0.5796296 , 0.1071697 , 0.81958461, 0.44706519, 0.9699482 ],\n",
       "       [0.7752726 , 0.8510682 , 0.87579614, 0.05153401, 0.15670034]])"
      ]
     },
     "execution_count": 163,
     "metadata": {},
     "output_type": "execute_result"
    }
   ],
   "source": [
    "#2차원 난수 배열\n",
    "np.random.random((2,5)) #2행5열 짜리 균등분포 난수 배열"
   ]
  },
  {
   "cell_type": "code",
   "execution_count": 165,
   "id": "bf5e68a8",
   "metadata": {},
   "outputs": [
    {
     "data": {
      "text/plain": [
       "array([[-0.7103449 , -1.67424369, -0.99375405,  1.97661676,  0.79303853],\n",
       "       [ 1.87992173, -1.13084377, -0.50700888, -1.06013559,  1.4871536 ]])"
      ]
     },
     "execution_count": 165,
     "metadata": {},
     "output_type": "execute_result"
    }
   ],
   "source": [
    "np.random.uniform(low=-2, high=2, size=(2,5)) #2행5열 짜리 균등분포(-2 ~ +2) 난수 배열"
   ]
  },
  {
   "cell_type": "code",
   "execution_count": 166,
   "id": "e64d3c01",
   "metadata": {},
   "outputs": [
    {
     "data": {
      "text/plain": [
       "array([[-8.31368905e-01,  1.12361781e+00,  1.89752400e+00,\n",
       "        -1.64612701e+00, -1.31657284e+00],\n",
       "       [ 1.14813061e+00,  2.35738426e+00,  1.22632426e+00,\n",
       "         8.46303406e-01, -2.30504635e-03]])"
      ]
     },
     "execution_count": 166,
     "metadata": {},
     "output_type": "execute_result"
    }
   ],
   "source": [
    "np.random.normal(size=(2,5)) #2행5열짜리 정규분포(평균 0, 표준편차1) 난수 배열"
   ]
  },
  {
   "cell_type": "code",
   "execution_count": 167,
   "id": "76f5e05c",
   "metadata": {},
   "outputs": [
    {
     "data": {
      "text/plain": [
       "array([[-1.55687747, -1.1653691 , -0.56297192, -0.99349652, -1.62384013],\n",
       "       [-1.29376542, -0.88570219, -0.04749272, -1.34980991, -0.56657184]])"
      ]
     },
     "execution_count": 167,
     "metadata": {},
     "output_type": "execute_result"
    }
   ],
   "source": [
    "np.random.normal(-1, 0.5, size=(2,5)) #2행5열짜리 정규분포(평균 0, 표준편차1) 난수 배열"
   ]
  },
  {
   "cell_type": "markdown",
   "id": "c77307c4",
   "metadata": {},
   "source": [
    "## 2.4. 연속된 값을 갖는 배열 만들기\n",
    "- np.arange(from, to, by, dtype) : from부터 to 앞까지 by씩 건너뛴 값을 1차원 배열로 생성\n",
    "- np.linspace(from, to, num) : from부터 to까지(포함) num개 숫자들을 1차원 배열로 생성"
   ]
  },
  {
   "cell_type": "code",
   "execution_count": 169,
   "id": "537beee7",
   "metadata": {},
   "outputs": [
    {
     "data": {
      "text/plain": [
       "array([10., 15., 20., 25.])"
      ]
     },
     "execution_count": 169,
     "metadata": {},
     "output_type": "execute_result"
    }
   ],
   "source": [
    "np.arange(10, 30, 5, dtype=np.float64)"
   ]
  },
  {
   "cell_type": "code",
   "execution_count": 170,
   "id": "e09dc9bd",
   "metadata": {},
   "outputs": [
    {
     "data": {
      "text/plain": [
       "array([0. , 0.3, 0.6, 0.9, 1.2, 1.5, 1.8])"
      ]
     },
     "execution_count": 170,
     "metadata": {},
     "output_type": "execute_result"
    }
   ],
   "source": [
    "np.arange(0, 2.0, 0.3)"
   ]
  },
  {
   "cell_type": "code",
   "execution_count": 172,
   "id": "3b8b0772",
   "metadata": {},
   "outputs": [
    {
     "data": {
      "text/plain": [
       "array([0.  , 1.25, 2.5 , 3.75, 5.  ])"
      ]
     },
     "execution_count": 172,
     "metadata": {},
     "output_type": "execute_result"
    }
   ],
   "source": [
    "np.linspace(0, 5, 5)"
   ]
  },
  {
   "cell_type": "code",
   "execution_count": 188,
   "id": "41432f5e",
   "metadata": {},
   "outputs": [],
   "source": [
    "#linspace : 특정한 범위의 수들을 많이 생성할 때\n",
    "from numpy import pi, linspace\n",
    "x = linspace(0, 2*pi, 500)\n",
    "y = np.sin(x)"
   ]
  },
  {
   "cell_type": "code",
   "execution_count": 189,
   "id": "43726c85",
   "metadata": {},
   "outputs": [
    {
     "data": {
      "image/png": "[encoded data removed]",
      "text/plain": [
       "<Figure size 800x300 with 1 Axes>"
      ]
     },
     "metadata": {},
     "output_type": "display_data"
    }
   ],
   "source": [
    "plt.figure(figsize=(8,3))\n",
    "plt.scatter(x,y) #점그래프\n",
    "plt.show()"
   ]
  },
  {
   "cell_type": "markdown",
   "id": "d2ba9e43",
   "metadata": {},
   "source": [
    "## 2.5. 배열의 차원 변경\n",
    "- reshape(행수, 열수) : -1 가능\n",
    "- resize(행수, 열수) : -1 불가\n",
    "- T : 전치행렬로 변환\n",
    "- transpose() : 전치행렬로 변환\n",
    "\n",
    "※ 실행결과가 출력되면 배열이 수정되지 않음. 실행결과가 없으면 배열이 수정됨."
   ]
  },
  {
   "cell_type": "code",
   "execution_count": 195,
   "id": "29a71f0d",
   "metadata": {},
   "outputs": [
    {
     "data": {
      "text/plain": [
       "array([[0.53347018, 0.19643132, 0.95141019],\n",
       "       [0.84134696, 0.41006946, 0.27189857]])"
      ]
     },
     "execution_count": 195,
     "metadata": {},
     "output_type": "execute_result"
    }
   ],
   "source": [
    "t = np.random.random((2,3))\n",
    "t"
   ]
  },
  {
   "cell_type": "code",
   "execution_count": 196,
   "id": "ae5e4f8a",
   "metadata": {},
   "outputs": [
    {
     "data": {
      "text/plain": [
       "array([[ 5.,  2., 10.],\n",
       "       [ 8.,  4.,  3.]])"
      ]
     },
     "execution_count": 196,
     "metadata": {},
     "output_type": "execute_result"
    }
   ],
   "source": [
    "a = np.round(t*10) #반올림\n",
    "a"
   ]
  },
  {
   "cell_type": "code",
   "execution_count": 198,
   "id": "7a0497e6",
   "metadata": {},
   "outputs": [
    {
     "data": {
      "text/plain": [
       "array([[ 5,  2, 10],\n",
       "       [ 8,  4,  3]], dtype=int16)"
      ]
     },
     "execution_count": 198,
     "metadata": {},
     "output_type": "execute_result"
    }
   ],
   "source": [
    "a = a.astype(np.int16)\n",
    "a"
   ]
  },
  {
   "cell_type": "code",
   "execution_count": 199,
   "id": "90bee5af",
   "metadata": {},
   "outputs": [
    {
     "data": {
      "text/plain": [
       "array([[ 5,  2],\n",
       "       [10,  8],\n",
       "       [ 4,  3]], dtype=int16)"
      ]
     },
     "execution_count": 199,
     "metadata": {},
     "output_type": "execute_result"
    }
   ],
   "source": [
    "a.reshape(3,2) #같은 순서로 배치만 변경"
   ]
  },
  {
   "cell_type": "code",
   "execution_count": 200,
   "id": "c8bbe765",
   "metadata": {},
   "outputs": [
    {
     "data": {
      "text/plain": [
       "array([[ 5],\n",
       "       [ 2],\n",
       "       [10],\n",
       "       [ 8],\n",
       "       [ 4],\n",
       "       [ 3]], dtype=int16)"
      ]
     },
     "execution_count": 200,
     "metadata": {},
     "output_type": "execute_result"
    }
   ],
   "source": [
    "a.reshape(-1, 1) # -1이 주어지면 해당 차원의 크기가 자동 계산"
   ]
  },
  {
   "cell_type": "code",
   "execution_count": 201,
   "id": "8dd19617",
   "metadata": {},
   "outputs": [
    {
     "data": {
      "text/plain": [
       "array([[ 5,  2],\n",
       "       [10,  8],\n",
       "       [ 4,  3]], dtype=int16)"
      ]
     },
     "execution_count": 201,
     "metadata": {},
     "output_type": "execute_result"
    }
   ],
   "source": [
    "a.reshape(3, -1)"
   ]
  },
  {
   "cell_type": "code",
   "execution_count": 204,
   "id": "674a8bba",
   "metadata": {},
   "outputs": [
    {
     "data": {
      "text/plain": [
       "array([[ 5,  2],\n",
       "       [10,  8],\n",
       "       [ 4,  3]], dtype=int16)"
      ]
     },
     "execution_count": 204,
     "metadata": {},
     "output_type": "execute_result"
    }
   ],
   "source": [
    "a.resize((3,2)) #튜플로도 넣을 수 있음\n",
    "a"
   ]
  },
  {
   "cell_type": "code",
   "execution_count": 206,
   "id": "40cb6d5b",
   "metadata": {},
   "outputs": [
    {
     "data": {
      "text/plain": [
       "array([[ 5, 10,  4],\n",
       "       [ 2,  8,  3]], dtype=int16)"
      ]
     },
     "execution_count": 206,
     "metadata": {},
     "output_type": "execute_result"
    }
   ],
   "source": [
    "#전치행렬 T (x행y열 -> y행x열)\n",
    "a.T #a의 전치행렬"
   ]
  },
  {
   "cell_type": "code",
   "execution_count": 207,
   "id": "a9ce1b9d",
   "metadata": {},
   "outputs": [
    {
     "data": {
      "text/plain": [
       "array([[ 5, 10,  4],\n",
       "       [ 2,  8,  3]], dtype=int16)"
      ]
     },
     "execution_count": 207,
     "metadata": {},
     "output_type": "execute_result"
    }
   ],
   "source": [
    "a.transpose()"
   ]
  },
  {
   "cell_type": "markdown",
   "id": "6d6fd785",
   "metadata": {},
   "source": [
    "## 2.6. 배열 출력"
   ]
  },
  {
   "cell_type": "code",
   "execution_count": 210,
   "id": "ef55d3a9",
   "metadata": {},
   "outputs": [
    {
     "data": {
      "text/plain": [
       "array([   0,    1,    2, ...,  998,  999, 1000])"
      ]
     },
     "execution_count": 210,
     "metadata": {},
     "output_type": "execute_result"
    }
   ],
   "source": [
    "np.arange(1001)"
   ]
  },
  {
   "cell_type": "code",
   "execution_count": 208,
   "id": "b59a346a",
   "metadata": {},
   "outputs": [
    {
     "data": {
      "text/plain": [
       "1000"
      ]
     },
     "execution_count": 208,
     "metadata": {},
     "output_type": "execute_result"
    }
   ],
   "source": [
    "#배열 요소가 몇 개까지 다 출력되나\n",
    "#1000개 요소 이상은 출력 생략됨\n",
    "np.get_printoptions()['threshold']"
   ]
  },
  {
   "cell_type": "code",
   "execution_count": 209,
   "id": "385981ca",
   "metadata": {},
   "outputs": [
    {
     "data": {
      "text/plain": [
       "array([[   0,    1,    2, ...,   97,   98,   99],\n",
       "       [ 100,  101,  102, ...,  197,  198,  199],\n",
       "       [ 200,  201,  202, ...,  297,  298,  299],\n",
       "       ...,\n",
       "       [9700, 9701, 9702, ..., 9797, 9798, 9799],\n",
       "       [9800, 9801, 9802, ..., 9897, 9898, 9899],\n",
       "       [9900, 9901, 9902, ..., 9997, 9998, 9999]])"
      ]
     },
     "execution_count": 209,
     "metadata": {},
     "output_type": "execute_result"
    }
   ],
   "source": [
    "#배열이 커서 인쇄가 안 되는 경우 : 모서리 부분만 출력\n",
    "np.arange(10000).reshape(100,100)"
   ]
  },
  {
   "cell_type": "code",
   "execution_count": null,
   "id": "18dbaaa0",
   "metadata": {},
   "outputs": [],
   "source": [
    "# 인쇄 옵션 변경\n",
    "import sys\n",
    "np.set_printoptions(threshold=sys.maxsize) # 정수 최대치까지 출력가능\n",
    "np.set_printoptions(threshold=np.inf) # 무한대까지 출력가능"
   ]
  },
  {
   "cell_type": "code",
   "execution_count": null,
   "id": "d31bcfc7",
   "metadata": {},
   "outputs": [],
   "source": []
  }
 ],
 "metadata": {
  "kernelspec": {
   "display_name": "Python 3 (ipykernel)",
   "language": "python",
   "name": "python3"
  },
  "language_info": {
   "codemirror_mode": {
    "name": "ipython",
    "version": 3
   },
   "file_extension": ".py",
   "mimetype": "text/x-python",
   "name": "python",
   "nbconvert_exporter": "python",
   "pygments_lexer": "ipython3",
   "version": "3.10.9"
  },
  "toc": {
   "base_numbering": 1,
   "nav_menu": {},
   "number_sections": false,
   "sideBar": true,
   "skip_h1_title": false,
   "title_cell": "Table of Contents",
   "title_sidebar": "Contents",
   "toc_cell": false,
   "toc_position": {
    "height": "calc(100% - 180px)",
    "left": "10px",
    "top": "150px",
    "width": "240.7px"
   },
   "toc_section_display": true,
   "toc_window_display": true
  }
 },
 "nbformat": 4,
 "nbformat_minor": 5
}
