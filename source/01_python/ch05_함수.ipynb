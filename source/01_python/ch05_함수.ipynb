{
 "cells": [
  {
   "cell_type": "code",
   "execution_count": 8,
   "id": "85c2ebd5",
   "metadata": {},
   "outputs": [
    {
     "data": {
      "text/html": [
       "\n",
       "<style>\n",
       "div.container{width:90% !important;}\n",
       "div.cell.code_cell.rendered{width:90%;}\n",
       "div.input_prompt{padding:0px;}\n",
       "div.CodeMirror {font-family:Consolas; font-size:10pt;}\n",
       "div.text_cell_render.rendered_html{font-size:10pt;}\n",
       "div.output {font-size:10pt; font-weight:bold;}\n",
       "div.input {font-family:Consolas; font-size:10pt;}\n",
       "div.prompt {min-width:70px;}\n",
       "div#toc-wrapper{padding-top:120px;}\n",
       "div.text_cell_render ul li{font-size:10pt;padding:5px;}\n",
       "table.dataframe{font-size:10px;}\n",
       "</style>\n"
      ],
      "text/plain": [
       "<IPython.core.display.HTML object>"
      ]
     },
     "metadata": {},
     "output_type": "display_data"
    }
   ],
   "source": [
    "from IPython.display import display, HTML\n",
    "display(HTML(\"\"\"\n",
    "<style>\n",
    "div.container{width:90% !important;}\n",
    "div.cell.code_cell.rendered{width:90%;}\n",
    "div.input_prompt{padding:0px;}\n",
    "div.CodeMirror {font-family:Consolas; font-size:10pt;}\n",
    "div.text_cell_render.rendered_html{font-size:10pt;}\n",
    "div.output {font-size:10pt; font-weight:bold;}\n",
    "div.input {font-family:Consolas; font-size:10pt;}\n",
    "div.prompt {min-width:70px;}\n",
    "div#toc-wrapper{padding-top:120px;}\n",
    "div.text_cell_render ul li{font-size:10pt;padding:5px;}\n",
    "table.dataframe{font-size:10px;}\n",
    "</style>\n",
    "\"\"\"))"
   ]
  },
  {
   "cell_type": "markdown",
   "id": "8e26a646",
   "metadata": {},
   "source": [
    "<b><font size=\"6\" color=\"red\">Ch 5. 함수</font><b>\n",
    "- 반복해서 사용할 코드(들)를 묶어 놓고 그것에 이름을 붙인 것\n",
    "- 오버로딩 불가(같은 이름의 함수는 덮어씀)\n",
    "- 함수 정의\n",
    "\n",
    "```\n",
    "def 함수명([매개변수1, 매개변수2, ..]): \n",
    "    명령어1\n",
    "    명령어2\n",
    "    ...\n",
    "```\n",
    "# 1. 함수의 정의 및 사용\n",
    "## 1.1. 함수 정의"
   ]
  },
  {
   "cell_type": "code",
   "execution_count": 4,
   "id": "bdcbd34b",
   "metadata": {},
   "outputs": [],
   "source": [
    "#msg를 x번 출력하는 함수 정의\n",
    "def my_message(x, msg):\n",
    "    for i in range(x):\n",
    "        print(i, msg)"
   ]
  },
  {
   "cell_type": "code",
   "execution_count": 5,
   "id": "0ade8d61",
   "metadata": {},
   "outputs": [
    {
     "name": "stdout",
     "output_type": "stream",
     "text": [
      "0 반가워\n",
      "1 반가워\n"
     ]
    }
   ],
   "source": [
    "#함수 사용\n",
    "my_message(2, \"반가워\")"
   ]
  },
  {
   "cell_type": "code",
   "execution_count": 6,
   "id": "d64f6653",
   "metadata": {},
   "outputs": [
    {
     "name": "stdout",
     "output_type": "stream",
     "text": [
      "0 Hello\n",
      "1 Hello\n",
      "0 Python\n",
      "1 Python\n",
      "2 Python\n"
     ]
    }
   ],
   "source": [
    "#함수 이름 변경(복사)\n",
    "my_msg = my_message\n",
    "my_message(2, 'Hello')\n",
    "my_msg(3, 'Python')"
   ]
  },
  {
   "cell_type": "code",
   "execution_count": 7,
   "id": "63e51069",
   "metadata": {},
   "outputs": [
    {
     "data": {
      "text/plain": [
       "(function, function)"
      ]
     },
     "execution_count": 7,
     "metadata": {},
     "output_type": "execute_result"
    }
   ],
   "source": [
    "type(my_message), type(my_msg)"
   ]
  },
  {
   "cell_type": "code",
   "execution_count": 13,
   "id": "f164164d",
   "metadata": {},
   "outputs": [
    {
     "name": "stdout",
     "output_type": "stream",
     "text": [
      "Hello\n",
      "Hello\n"
     ]
    }
   ],
   "source": [
    "print('Hello') #파이썬 내장 함수(import 하지 않고 사용할 수 있는)\n",
    "print = 5\n",
    "#print('Hello') → Error\n",
    "del print #심볼 테이블에서 메모리 삭제\n",
    "print('Hello')"
   ]
  },
  {
   "cell_type": "markdown",
   "id": "791288de",
   "metadata": {},
   "source": [
    "* **전역(global) 심볼 테이블**: 모듈(파일)의 최상단에서 정의된 변수, 함수, 클래스 등의 이름을 저장합니다. 파이썬 프로그램이 시작될 때 생성되어 프로그램이 종료될 때까지 유지됩니다. globals() 내장 함수를 통해 이 테이블의 내용을 확인할 수 있습니다.\n",
    "* **지역(local) 심볼 테이블**: 함수가 호출될 때마다 생성되며, 그 함수 내에서 정의된 변수들의 이름을 저장합니다. 함수 실행이 끝나면 사라지므로, 지역 변수는 함수 외부에서 접근할 수 없습니다. locals() 내장 함수를 통해 현재 함수의 지역 심볼 테이블을 확인할 수 있습니다."
   ]
  },
  {
   "cell_type": "code",
   "execution_count": 11,
   "id": "fb92788c",
   "metadata": {},
   "outputs": [
    {
     "ename": "NameError",
     "evalue": "name 'my_message' is not defined",
     "output_type": "error",
     "traceback": [
      "\u001b[1;31m---------------------------------------------------------------------------\u001b[0m",
      "\u001b[1;31mNameError\u001b[0m                                 Traceback (most recent call last)",
      "Cell \u001b[1;32mIn[11], line 1\u001b[0m\n\u001b[1;32m----> 1\u001b[0m \u001b[38;5;28;01mdel\u001b[39;00m my_message\n\u001b[0;32m      2\u001b[0m my_message(\u001b[38;5;241m2\u001b[39m, \u001b[38;5;124m'\u001b[39m\u001b[38;5;124mHello\u001b[39m\u001b[38;5;124m'\u001b[39m)\n",
      "\u001b[1;31mNameError\u001b[0m: name 'my_message' is not defined"
     ]
    }
   ],
   "source": [
    "del my_message #전역 심볼 테이블에서 삭제\n",
    "my_message(2, 'Hello') #Error! 사용자 정의 함수, 라이브러리 함수는 del하여도 사용 불가 "
   ]
  },
  {
   "cell_type": "code",
   "execution_count": 14,
   "id": "6b0f2c49",
   "metadata": {},
   "outputs": [],
   "source": [
    "#함수의 중복 정의(오버로딩) → 불가!\n",
    "def my_hello():\n",
    "    print('Hello Python')\n",
    "    print('Hello World')\n",
    "def my_hello(cnt): #cnt회 출력 경우 정의. #2~4열 정의 함수를 덮어씀\n",
    "    for i in range(cnt):\n",
    "        print('Hello, Python', end=\"\\t\")\n",
    "        print('Hello, World')\n",
    "#타 언어에서는 중복 정의하는 경우가 있으나, 파이썬에서는 불가함"
   ]
  },
  {
   "cell_type": "code",
   "execution_count": 19,
   "id": "776ff17b",
   "metadata": {},
   "outputs": [
    {
     "name": "stdout",
     "output_type": "stream",
     "text": [
      "Hello, Python\tHello, World\n",
      "Hello, Python\tHello, World\n"
     ]
    }
   ],
   "source": [
    "#my_hello()\n",
    "my_hello(2)"
   ]
  },
  {
   "cell_type": "code",
   "execution_count": 20,
   "id": "cedf413e",
   "metadata": {},
   "outputs": [
    {
     "data": {
      "text/plain": [
       "<function __main__.my_hello(cnt)>"
      ]
     },
     "execution_count": 20,
     "metadata": {},
     "output_type": "execute_result"
    }
   ],
   "source": [
    "my_hello"
   ]
  },
  {
   "cell_type": "code",
   "execution_count": 21,
   "id": "6c8794d3",
   "metadata": {},
   "outputs": [
    {
     "data": {
      "text/plain": [
       "'__main__'"
      ]
     },
     "execution_count": 21,
     "metadata": {},
     "output_type": "execute_result"
    }
   ],
   "source": [
    "__name__"
   ]
  },
  {
   "cell_type": "code",
   "execution_count": 23,
   "id": "71f05a27",
   "metadata": {},
   "outputs": [
    {
     "name": "stdout",
     "output_type": "stream",
     "text": [
      "Hello, Python\tHello, World\n",
      "Hello, Python\tHello, World\n"
     ]
    }
   ],
   "source": [
    "if __name__ == '__main__':\n",
    "    #'여기서 정의한 걸 여기서 실행한 거야?'라고 묻는 의미\n",
    "    my_hello(2)"
   ]
  },
  {
   "cell_type": "code",
   "execution_count": 1,
   "id": "27f0ff99",
   "metadata": {},
   "outputs": [],
   "source": [
    "import ch05 #ch05 모듈이 해석돼서 메모리 로드"
   ]
  },
  {
   "cell_type": "code",
   "execution_count": 4,
   "id": "8d7d24cc",
   "metadata": {},
   "outputs": [
    {
     "name": "stdout",
     "output_type": "stream",
     "text": [
      "ch05\n",
      "Hello, Python\tHello, World\n",
      "Hello, Python\tHello, World\n"
     ]
    }
   ],
   "source": [
    "ch05.my_hello(2)"
   ]
  },
  {
   "cell_type": "code",
   "execution_count": 5,
   "id": "f4384307",
   "metadata": {},
   "outputs": [
    {
     "name": "stdout",
     "output_type": "stream",
     "text": [
      "ch05\n",
      "Hello, Python\tHello, World\n",
      "Hello, Python\tHello, World\n",
      "Hello, Python\tHello, World\n"
     ]
    }
   ],
   "source": [
    "from ch05 import my_hello #my_hello만 메모리 로드\n",
    "my_hello(3)"
   ]
  },
  {
   "cell_type": "markdown",
   "id": "a805b6de",
   "metadata": {},
   "source": [
    "## 1.2. docstring"
   ]
  },
  {
   "cell_type": "code",
   "execution_count": 10,
   "id": "4c424aaa",
   "metadata": {},
   "outputs": [],
   "source": [
    "def my_function():\n",
    "    \"\"\"\n",
    "    함수의 첫 라인에 독스트링('or\" 세 쌍)을 포함할 수 있습니다.\n",
    "    독스트링은 함수의 설명서를 달아 주는 역할\n",
    "    주석보다 많은 기능(함수 호출 시 shft+tab^2으로 독스트링 볼 수 있음)\n",
    "    #주석은 shft+tab^2 사용 시 볼 수 없음\n",
    "    \"\"\"\n",
    "    pass"
   ]
  },
  {
   "cell_type": "code",
   "execution_count": 11,
   "id": "0464c76e",
   "metadata": {},
   "outputs": [
    {
     "name": "stdout",
     "output_type": "stream",
     "text": [
      "\n",
      "    함수의 첫 라인에 독스트링('or\" 세 쌍)을 포함할 수 있습니다.\n",
      "    독스트링은 함수의 설명서를 달아 주는 역할\n",
      "    주석보다 많은 기능(함수 호출 시 shft+tab^2으로 독스트링 볼 수 있음)\n",
      "    #주석은 shft+tab^2 사용 시 볼 수 없음\n",
      "    \n"
     ]
    }
   ],
   "source": [
    "print(my_function.__doc__)"
   ]
  },
  {
   "cell_type": "code",
   "execution_count": 12,
   "id": "81943e3e",
   "metadata": {},
   "outputs": [],
   "source": [
    "def fibonacci(n):\n",
    "    \"\"\"\n",
    "    매개변수로 들어온 n값 미만의 피보나치 수열을 출력하는 함수\n",
    "    ex. n=10: 0 1 1 2 3 5 8\n",
    "        n=100: 0 1 1 2 3 5 8 13 21 34 55 89\n",
    "    \"\"\"\n",
    "    a, b = 0, 1 #함수 내에 선언한 변수: 지역 변수(↔전역 변수)\n",
    "    while a < n:\n",
    "        print(a, end=' ')\n",
    "        a, b = b, a+b\n",
    "    print() #줄바꿈"
   ]
  },
  {
   "cell_type": "code",
   "execution_count": 14,
   "id": "81d16d57",
   "metadata": {},
   "outputs": [
    {
     "name": "stdout",
     "output_type": "stream",
     "text": [
      "0 1 1 2 3 5 8 13 21 34 55 89 144 233 377 610 987 \n"
     ]
    }
   ],
   "source": [
    "fibonacci(1000)"
   ]
  },
  {
   "cell_type": "code",
   "execution_count": 15,
   "id": "ab5d4317",
   "metadata": {},
   "outputs": [
    {
     "ename": "NameError",
     "evalue": "name 'a' is not defined",
     "output_type": "error",
     "traceback": [
      "\u001b[1;31m---------------------------------------------------------------------------\u001b[0m",
      "\u001b[1;31mNameError\u001b[0m                                 Traceback (most recent call last)",
      "Cell \u001b[1;32mIn[15], line 1\u001b[0m\n\u001b[1;32m----> 1\u001b[0m \u001b[43ma\u001b[49m, b\n",
      "\u001b[1;31mNameError\u001b[0m: name 'a' is not defined"
     ]
    }
   ],
   "source": [
    "a, b #지역 변수는 함수 내에서만 사용 가능"
   ]
  },
  {
   "cell_type": "markdown",
   "id": "29bc093f",
   "metadata": {},
   "source": [
    "## 1.3. 지역 변수(local var)와 전역 변수(global var)"
   ]
  },
  {
   "cell_type": "code",
   "execution_count": 16,
   "id": "9c308ced",
   "metadata": {},
   "outputs": [
    {
     "name": "stdout",
     "output_type": "stream",
     "text": [
      "함수 안:  100\n",
      "함수 밖:  100\n"
     ]
    }
   ],
   "source": [
    "global_var = 100\n",
    "def func1():\n",
    "    print('함수 안: ', global_var)\n",
    "func1()\n",
    "print('함수 밖: ', global_var)"
   ]
  },
  {
   "cell_type": "code",
   "execution_count": 17,
   "id": "3661cd83",
   "metadata": {},
   "outputs": [
    {
     "name": "stdout",
     "output_type": "stream",
     "text": [
      "함수 안:  200\n"
     ]
    },
    {
     "ename": "NameError",
     "evalue": "name 'local_var' is not defined",
     "output_type": "error",
     "traceback": [
      "\u001b[1;31m---------------------------------------------------------------------------\u001b[0m",
      "\u001b[1;31mNameError\u001b[0m                                 Traceback (most recent call last)",
      "Cell \u001b[1;32mIn[17], line 5\u001b[0m\n\u001b[0;32m      3\u001b[0m     \u001b[38;5;28mprint\u001b[39m(\u001b[38;5;124m'\u001b[39m\u001b[38;5;124m함수 안: \u001b[39m\u001b[38;5;124m'\u001b[39m, local_var)\n\u001b[0;32m      4\u001b[0m func2()\n\u001b[1;32m----> 5\u001b[0m \u001b[38;5;28mprint\u001b[39m(\u001b[38;5;124m'\u001b[39m\u001b[38;5;124m함수 밖: \u001b[39m\u001b[38;5;124m'\u001b[39m, \u001b[43mlocal_var\u001b[49m)\n",
      "\u001b[1;31mNameError\u001b[0m: name 'local_var' is not defined"
     ]
    }
   ],
   "source": [
    "def func2():\n",
    "    local_var = 200 #지역 변수(함수 내에서 할당)\n",
    "    print('함수 안: ', local_var)\n",
    "func2()\n",
    "print('함수 밖: ', local_var)"
   ]
  },
  {
   "cell_type": "code",
   "execution_count": 19,
   "id": "77af1304",
   "metadata": {},
   "outputs": [
    {
     "name": "stdout",
     "output_type": "stream",
     "text": [
      "지역변수 g_var:  200\n",
      "전역변수 g_var:  100\n"
     ]
    }
   ],
   "source": [
    "g_var = 100 #전역 변수 할당(전역 심볼 테이블에 저장)\n",
    "def func3():\n",
    "    g_var = 200 #지역 변수 할당(지역 심볼 테이블에 저장)\n",
    "    print('지역변수 g_var: ', g_var)\n",
    "func3()\n",
    "print('전역변수 g_var: ', g_var)"
   ]
  },
  {
   "cell_type": "code",
   "execution_count": 20,
   "id": "1942d178",
   "metadata": {},
   "outputs": [
    {
     "ename": "UnboundLocalError",
     "evalue": "local variable 'g_var' referenced before assignment",
     "output_type": "error",
     "traceback": [
      "\u001b[1;31m---------------------------------------------------------------------------\u001b[0m",
      "\u001b[1;31mUnboundLocalError\u001b[0m                         Traceback (most recent call last)",
      "Cell \u001b[1;32mIn[20], line 6\u001b[0m\n\u001b[0;32m      4\u001b[0m     \u001b[38;5;28mprint\u001b[39m(\u001b[38;5;124m'\u001b[39m\u001b[38;5;124m지역변수 g_var: \u001b[39m\u001b[38;5;124m'\u001b[39m, g_var) \u001b[38;5;66;03m#Error! g_var 로컬에 안 잡혀 있는데 호출되므로\u001b[39;00m\n\u001b[0;32m      5\u001b[0m     g_var \u001b[38;5;241m=\u001b[39m \u001b[38;5;241m200\u001b[39m\n\u001b[1;32m----> 6\u001b[0m \u001b[43mfunc3\u001b[49m\u001b[43m(\u001b[49m\u001b[43m)\u001b[49m\n\u001b[0;32m      7\u001b[0m \u001b[38;5;28mprint\u001b[39m(\u001b[38;5;124m'\u001b[39m\u001b[38;5;124m전역변수 g_var: \u001b[39m\u001b[38;5;124m'\u001b[39m, g_var)\n",
      "Cell \u001b[1;32mIn[20], line 4\u001b[0m, in \u001b[0;36mfunc3\u001b[1;34m()\u001b[0m\n\u001b[0;32m      3\u001b[0m \u001b[38;5;28;01mdef\u001b[39;00m \u001b[38;5;21mfunc3\u001b[39m():\n\u001b[1;32m----> 4\u001b[0m     \u001b[38;5;28mprint\u001b[39m(\u001b[38;5;124m'\u001b[39m\u001b[38;5;124m지역변수 g_var: \u001b[39m\u001b[38;5;124m'\u001b[39m, \u001b[43mg_var\u001b[49m) \u001b[38;5;66;03m#Error! g_var 로컬에 안 잡혀 있는데 호출되므로\u001b[39;00m\n\u001b[0;32m      5\u001b[0m     g_var \u001b[38;5;241m=\u001b[39m \u001b[38;5;241m200\u001b[39m\n",
      "\u001b[1;31mUnboundLocalError\u001b[0m: local variable 'g_var' referenced before assignment"
     ]
    }
   ],
   "source": [
    "#렉시컬 특성: 변수가 어디서 선언되었는지에 따라 변수의 범위(지역/전역)가 정해짐\n",
    "g_var = 100\n",
    "def func3():\n",
    "    print('지역변수 g_var: ', g_var) #Error! g_var 로컬에 안 잡혀 있는데 호출되므로\n",
    "    g_var = 200\n",
    "func3() \n",
    "print('전역변수 g_var: ', g_var)"
   ]
  },
  {
   "cell_type": "code",
   "execution_count": 21,
   "id": "4513c631",
   "metadata": {},
   "outputs": [
    {
     "name": "stdout",
     "output_type": "stream",
     "text": [
      "전역변수 g_var:  100\n",
      "전역변수 g_var:  200\n"
     ]
    }
   ],
   "source": [
    "#렉시컬 특성\n",
    "g_var = 100\n",
    "def func3():\n",
    "    global g_var #이 함수 내에서 g_var는 전역 변수라 선언\n",
    "    print('전역변수 g_var: ', g_var) #Error! g_var 로컬에 안 잡혀 있는데 호출되므로\n",
    "    g_var = 200 #전역변수 g_var에 200 할당 \n",
    "func3() \n",
    "print('전역변수 g_var: ', g_var)"
   ]
  },
  {
   "cell_type": "code",
   "execution_count": 23,
   "id": "357eead8",
   "metadata": {},
   "outputs": [
    {
     "name": "stdout",
     "output_type": "stream",
     "text": [
      "전역변수 g_var:  200\n",
      "전역변수 g_var:  200\n"
     ]
    }
   ],
   "source": [
    "#렉시컬 특성\n",
    "g_var = 100\n",
    "def func3():\n",
    "    global g_var #이 함수 내에서 g_var는 전역 변수라 선언\n",
    "    print('전역변수 g_var: ', g_var) #Error! g_var 로컬에 안 잡혀 있는데 호출되므로\n",
    "    g_var = 200 #전역변수 g_var에 200 할당 \n",
    "func3() \n",
    "print('전역변수 g_var: ', g_var)"
   ]
  },
  {
   "cell_type": "markdown",
   "id": "761dc99e",
   "metadata": {},
   "source": [
    "## 1.4. 값에 의한 호출\n",
    "(↔참조에 의한 호출)\n",
    "- 함수에 인수로 전달되는 변수가 스칼라 변수(단일 문자형, 숫자형, 논리형 데이터)일 때"
   ]
  },
  {
   "cell_type": "code",
   "execution_count": 24,
   "id": "bd543489",
   "metadata": {},
   "outputs": [
    {
     "data": {
      "text/plain": [
       "1193214109488"
      ]
     },
     "execution_count": 24,
     "metadata": {},
     "output_type": "execute_result"
    }
   ],
   "source": [
    "foo = 'a' #전역 변수\n",
    "id(foo)"
   ]
  },
  {
   "cell_type": "code",
   "execution_count": 25,
   "id": "123e48cd",
   "metadata": {},
   "outputs": [
    {
     "name": "stdout",
     "output_type": "stream",
     "text": [
      "Before:  a 의 주소는  1193214109488\n",
      "After:  aaa 의 주소는  1193325462832\n"
     ]
    }
   ],
   "source": [
    "def func1(f): #매개 변수는 지역 변수임\n",
    "    print('Before: ', f, '의 주소는 ', id(f))\n",
    "    f = f*3\n",
    "    print('After: ', f, '의 주소는 ', id(f))\n",
    "func1(foo)"
   ]
  },
  {
   "cell_type": "code",
   "execution_count": 26,
   "id": "9b9c8d14",
   "metadata": {},
   "outputs": [
    {
     "name": "stdout",
     "output_type": "stream",
     "text": [
      "foo =  a 의 주소는 1193214109488\n"
     ]
    }
   ],
   "source": [
    "print('foo = ', foo, '의 주소는', id(foo))"
   ]
  },
  {
   "cell_type": "markdown",
   "id": "082acaf9",
   "metadata": {},
   "source": [
    "## 1.5. 참조에 의한 호출\n",
    "(↔값에 의한 호출)\n",
    "- 함수에 인수로 전달되는 변수가 리스트, 튜플, 셋, 딕셔너리, 기타 객체일 때"
   ]
  },
  {
   "cell_type": "code",
   "execution_count": 27,
   "id": "09052c07",
   "metadata": {},
   "outputs": [
    {
     "data": {
      "text/plain": [
       "1193325821824"
      ]
     },
     "execution_count": 27,
     "metadata": {},
     "output_type": "execute_result"
    }
   ],
   "source": [
    "L=[1,2,3,4,5]\n",
    "id(L)"
   ]
  },
  {
   "cell_type": "code",
   "execution_count": 28,
   "id": "eb9ecbde",
   "metadata": {},
   "outputs": [
    {
     "name": "stdout",
     "output_type": "stream",
     "text": [
      "Before:  [1, 2, 3, 4, 5] 의 주소는  1193325821824\n",
      "After:  [1, 2, 3, 4, 5, 6] 의 주소는  1193325821824\n"
     ]
    }
   ],
   "source": [
    "def func2(l): #매개 변수는 늘 지역 변수임\n",
    "    print('Before: ', l, '의 주소는 ', id(l))\n",
    "    l.append(6)\n",
    "    print('After: ', l, '의 주소는 ', id(l))\n",
    "func2(L)"
   ]
  },
  {
   "cell_type": "code",
   "execution_count": 29,
   "id": "bcc3dd73",
   "metadata": {},
   "outputs": [
    {
     "name": "stdout",
     "output_type": "stream",
     "text": [
      "L= [1, 2, 3, 4, 5, 6] 의 주소는 1193325821824\n"
     ]
    }
   ],
   "source": [
    "print('L=', L, '의 주소는', id(L))"
   ]
  },
  {
   "cell_type": "markdown",
   "id": "9746e601",
   "metadata": {},
   "source": [
    "# 2. 함수의 실행 결과를 반환하는 return문"
   ]
  },
  {
   "cell_type": "code",
   "execution_count": 30,
   "id": "dfc5cb22",
   "metadata": {},
   "outputs": [],
   "source": [
    "def fibonacci_print(n): #재정의\n",
    "    \"매개변수로 들어온 n값 미만의 피보나치 수열을 출력하는 함수\"\n",
    "    a, b = 0, 1 #함수 내에 선언한 변수: 지역 변수(↔전역 변수)\n",
    "    while a < n:\n",
    "        print(a, end=' ')\n",
    "        a, b = b, a+b\n",
    "    print() #줄바꿈\n",
    "def fibonacci(n):\n",
    "    \"n 미만의 피보나치 수열을 리스트로 return\"\n",
    "    result = [] #피보나치 수열을 append 할 리스트\n",
    "    a, b = 0, 1\n",
    "    while a<n:\n",
    "        result.append(a) #리스트에 append(추가)\n",
    "        a, b = b, a+b\n",
    "    return result"
   ]
  },
  {
   "cell_type": "code",
   "execution_count": 33,
   "id": "3550aa08",
   "metadata": {},
   "outputs": [
    {
     "name": "stdout",
     "output_type": "stream",
     "text": [
      "[0, 1, 1, 2, 3, 5, 8]\n",
      "<class 'list'>\n"
     ]
    }
   ],
   "source": [
    "x = fibonacci(10)\n",
    "print(x)\n",
    "print(type(x))"
   ]
  },
  {
   "cell_type": "code",
   "execution_count": 34,
   "id": "24875e67",
   "metadata": {},
   "outputs": [
    {
     "name": "stdout",
     "output_type": "stream",
     "text": [
      "0 1 1 2 3 5 8 \n",
      "x=  None\n",
      "<class 'NoneType'>\n"
     ]
    }
   ],
   "source": [
    "x = fibonacci_print(10)\n",
    "print('x= ',x)\n",
    "print(type(x))"
   ]
  },
  {
   "cell_type": "markdown",
   "id": "a3d00fb5",
   "metadata": {},
   "source": [
    "### 여러 개 값 return\n",
    "- 여러 개 값을 갖는 튜플로 return\n",
    "- 결국 return에는 한 데이터가 들어가는 셈"
   ]
  },
  {
   "cell_type": "code",
   "execution_count": 36,
   "id": "bdf97e5a",
   "metadata": {},
   "outputs": [],
   "source": [
    "def swap(a, b):\n",
    "    '매개변수의 순서를 바꿔서 return'\n",
    "    return b, a #자동적으로 tuple로 바뀜 #return(b,a)"
   ]
  },
  {
   "cell_type": "code",
   "execution_count": 37,
   "id": "15e117d2",
   "metadata": {},
   "outputs": [
    {
     "name": "stdout",
     "output_type": "stream",
     "text": [
      "함수 실행 전 x, y = 5 10\n",
      "함수 실행 후 x, y = 10 5\n"
     ]
    }
   ],
   "source": [
    "x = 5; y = 10\n",
    "print('함수 실행 전 x, y =', x, y)\n",
    "x, y = swap(x, y)\n",
    "print('함수 실행 후 x, y =', x, y)"
   ]
  },
  {
   "cell_type": "markdown",
   "id": "6451d7b2",
   "metadata": {},
   "source": [
    "# 3. 함수 매개변수\n",
    "## 3.1. 기본 값을 갖는 매개변수"
   ]
  },
  {
   "cell_type": "code",
   "execution_count": 38,
   "id": "09b41128",
   "metadata": {},
   "outputs": [],
   "source": [
    "def make_url(ip, port=80): #순서인수 > 기본 값을 갖는 매개변수\n",
    "    return \"http://{}:{}\".format(ip, port)"
   ]
  },
  {
   "cell_type": "code",
   "execution_count": 40,
   "id": "9b291706",
   "metadata": {},
   "outputs": [
    {
     "name": "stdout",
     "output_type": "stream",
     "text": [
      "http://localhost:8090\n",
      "http://www.naver.com:80\n",
      "http://localhost:9090\n"
     ]
    }
   ],
   "source": [
    "print(make_url(\"localhost\", 8090))\n",
    "print(make_url(\"www.naver.com\"))\n",
    "print(make_url(port=9090, ip=\"localhost\"))"
   ]
  },
  {
   "cell_type": "markdown",
   "id": "f7f44e0e",
   "metadata": {},
   "source": [
    "## 3.2. 기본 변수를 기본 값으로 갖는 매개변수\n",
    "- 기본 변수가 스칼라변수(문자, 숫자, 논리형)일 때\n",
    "- 기본 변수가 리스트, 셋, 딕셔너리, 기타 객체일 때"
   ]
  },
  {
   "cell_type": "code",
   "execution_count": 42,
   "id": "733bbbae",
   "metadata": {},
   "outputs": [],
   "source": [
    "i = 80\n",
    "#기본 변수가 스칼라 변수일 때: 함수가 정의되는 시점으로 기본 값 세팅\n",
    "def make_url(ip, port=i):\n",
    "    return \"http://{}:{}\".format(ip, port)"
   ]
  },
  {
   "cell_type": "code",
   "execution_count": 44,
   "id": "b2252bd5",
   "metadata": {},
   "outputs": [
    {
     "data": {
      "text/plain": [
       "'http://localhost:80'"
      ]
     },
     "execution_count": 44,
     "metadata": {},
     "output_type": "execute_result"
    }
   ],
   "source": [
    "i = 90\n",
    "make_url(\"localhost\")"
   ]
  },
  {
   "cell_type": "code",
   "execution_count": 46,
   "id": "3be29c1e",
   "metadata": {},
   "outputs": [
    {
     "name": "stdout",
     "output_type": "stream",
     "text": [
      "[10]\n"
     ]
    }
   ],
   "source": [
    "list_ = []\n",
    "#기본 변수가 리스트, 셋, 딕셔너리, 기타 객체일 때: 함수가 실행되는 시점으로 기본 값 세팅\n",
    "def func3(a, L=list_):\n",
    "    L.append(a)\n",
    "    return L\n",
    "print(func3(10))"
   ]
  },
  {
   "cell_type": "code",
   "execution_count": 47,
   "id": "27c64a69",
   "metadata": {},
   "outputs": [
    {
     "name": "stdout",
     "output_type": "stream",
     "text": [
      "[10, 20]\n"
     ]
    }
   ],
   "source": [
    "print(func3(20))"
   ]
  },
  {
   "cell_type": "code",
   "execution_count": 48,
   "id": "1aa9256c",
   "metadata": {},
   "outputs": [
    {
     "name": "stdout",
     "output_type": "stream",
     "text": [
      "list_= [10, 20]\n"
     ]
    }
   ],
   "source": [
    "print(\"list_=\", list_)"
   ]
  },
  {
   "cell_type": "code",
   "execution_count": 49,
   "id": "eb9f454c",
   "metadata": {},
   "outputs": [
    {
     "name": "stdout",
     "output_type": "stream",
     "text": [
      "[10, 20, 50]\n"
     ]
    }
   ],
   "source": [
    "print(func3(50))"
   ]
  },
  {
   "cell_type": "code",
   "execution_count": 76,
   "id": "fc2fd6a9",
   "metadata": {},
   "outputs": [
    {
     "name": "stdout",
     "output_type": "stream",
     "text": [
      "[10]\n",
      "[10]\n",
      "[1, 2, 3, 10]\n"
     ]
    }
   ],
   "source": [
    "#실행할 때마다 L을 공유하는 걸 원치 않으면\n",
    "def func3(a, L=None):\n",
    "    if L is None: #등호로 확인하지 않음\n",
    "        L = []\n",
    "    L.append(a)\n",
    "    return L\n",
    "print(func3(10))\n",
    "print(func3(10))\n",
    "print(func3(10, [1,2,3]))"
   ]
  },
  {
   "cell_type": "markdown",
   "id": "ac76819b",
   "metadata": {},
   "source": [
    "## 3.3. 순서 인수, 키워드 인수\n",
    "- 순서(위치)인수: 함수에 정의된 순서대로 전달 방식\n",
    "- 키워드인수: 인수의 이름을 명시하는 방식\n",
    "- 함수 정의 시, 순서인수와 키워드인수를 같이 넣을 때는 순서인수→키워드인수 순으로 (안 그럼 에러)"
   ]
  },
  {
   "cell_type": "code",
   "execution_count": 52,
   "id": "79e98b4a",
   "metadata": {},
   "outputs": [],
   "source": [
    "def func3(a, L=None):\n",
    "    if L is None: #등호로 확인하지 않음\n",
    "        L = []\n",
    "    L.append(a)\n",
    "    return L"
   ]
  },
  {
   "cell_type": "code",
   "execution_count": 53,
   "id": "3b17c3c7",
   "metadata": {},
   "outputs": [
    {
     "name": "stdout",
     "output_type": "stream",
     "text": [
      "[10]\n",
      "[10, 20]\n"
     ]
    }
   ],
   "source": [
    "lst = []\n",
    "print(func3(10, lst)) #순서 인수: 함수 정의된 순서대로 전달하는 방식\n",
    "print(func3(L=lst, a=20)) #키워드 인수 : 인수의 이름을 명시하여 전달하는 방식"
   ]
  },
  {
   "cell_type": "markdown",
   "id": "877b4e00",
   "metadata": {},
   "source": [
    "## 3.4. 튜플 매개 변수를 이용한 가변 인수 설정\n",
    "- 가변 인수 : 매개변수의 개수가 가변"
   ]
  },
  {
   "cell_type": "code",
   "execution_count": 55,
   "id": "5229c7ee",
   "metadata": {},
   "outputs": [
    {
     "ename": "TypeError",
     "evalue": "add() missing 1 required positional argument: 'c'",
     "output_type": "error",
     "traceback": [
      "\u001b[1;31m---------------------------------------------------------------------------\u001b[0m",
      "\u001b[1;31mTypeError\u001b[0m                                 Traceback (most recent call last)",
      "Cell \u001b[1;32mIn[55], line 6\u001b[0m\n\u001b[0;32m      4\u001b[0m \u001b[38;5;28;01mdef\u001b[39;00m \u001b[38;5;21madd\u001b[39m(a, b, c): \u001b[38;5;66;03m#중복정의\u001b[39;00m\n\u001b[0;32m      5\u001b[0m     \u001b[38;5;28;01mreturn\u001b[39;00m a\u001b[38;5;241m+\u001b[39mb\u001b[38;5;241m+\u001b[39mc\n\u001b[1;32m----> 6\u001b[0m \u001b[43madd\u001b[49m\u001b[43m(\u001b[49m\u001b[38;5;241;43m3\u001b[39;49m\u001b[43m,\u001b[49m\u001b[38;5;241;43m5\u001b[39;49m\u001b[43m)\u001b[49m\n",
      "\u001b[1;31mTypeError\u001b[0m: add() missing 1 required positional argument: 'c'"
     ]
    }
   ],
   "source": [
    "#파이썬은 함수의 중복정의(오버로딩)을 지원하지 않음\n",
    "def add(a, b):\n",
    "    return a+b\n",
    "def add(a, b, c): #중복정의\n",
    "    return a+b+c\n",
    "add(3,5) #변수 모자라 TypeError"
   ]
  },
  {
   "cell_type": "code",
   "execution_count": 62,
   "id": "d0793852",
   "metadata": {},
   "outputs": [],
   "source": [
    "#args 앞에 *표: args가 튜플로 전달받는다\n",
    "def add(*args):\n",
    "    #print('args =', args)\n",
    "    '전달받은 매개변수들의 합을 return. 매개변수가 없는 경우 0을 return'\n",
    "    sum = 0 #누적시킬 변수\n",
    "    for num in args:\n",
    "        sum += num\n",
    "    return sum"
   ]
  },
  {
   "cell_type": "code",
   "execution_count": 67,
   "id": "b2f81a16",
   "metadata": {},
   "outputs": [
    {
     "name": "stdout",
     "output_type": "stream",
     "text": [
      "0\n",
      "1\n",
      "55\n"
     ]
    }
   ],
   "source": [
    "print(add())\n",
    "print(add(1))\n",
    "print(add(1,2,3,4,5,6,7,8,9,10))"
   ]
  },
  {
   "cell_type": "code",
   "execution_count": 70,
   "id": "f88a7d9a",
   "metadata": {},
   "outputs": [
    {
     "data": {
      "text/plain": [
       "'Python-Web-JavaScript-DBMS'"
      ]
     },
     "execution_count": 70,
     "metadata": {},
     "output_type": "execute_result"
    }
   ],
   "source": [
    "subject = ('Python', 'Web', 'JavaScript', 'DBMS')\n",
    "'-'.join(subject)"
   ]
  },
  {
   "cell_type": "code",
   "execution_count": 71,
   "id": "59376ba0",
   "metadata": {},
   "outputs": [],
   "source": [
    "#튜플 매개변수와 일반 매개변수가 같이 있을 때\n",
    "def concat(*subject, sep):\n",
    "    return sep.join(subject)"
   ]
  },
  {
   "cell_type": "code",
   "execution_count": 72,
   "id": "9b983cdc",
   "metadata": {},
   "outputs": [
    {
     "ename": "TypeError",
     "evalue": "concat() missing 1 required keyword-only argument: 'sep'",
     "output_type": "error",
     "traceback": [
      "\u001b[1;31m---------------------------------------------------------------------------\u001b[0m",
      "\u001b[1;31mTypeError\u001b[0m                                 Traceback (most recent call last)",
      "Cell \u001b[1;32mIn[72], line 1\u001b[0m\n\u001b[1;32m----> 1\u001b[0m \u001b[43mconcat\u001b[49m\u001b[43m(\u001b[49m\u001b[38;5;124;43m'\u001b[39;49m\u001b[38;5;124;43mPython\u001b[39;49m\u001b[38;5;124;43m'\u001b[39;49m\u001b[43m,\u001b[49m\u001b[43m \u001b[49m\u001b[38;5;124;43m'\u001b[39;49m\u001b[38;5;124;43mWeb\u001b[39;49m\u001b[38;5;124;43m'\u001b[39;49m\u001b[43m,\u001b[49m\u001b[43m \u001b[49m\u001b[38;5;124;43m'\u001b[39;49m\u001b[38;5;124;43mJavaScript\u001b[39;49m\u001b[38;5;124;43m'\u001b[39;49m\u001b[43m,\u001b[49m\u001b[43m \u001b[49m\u001b[38;5;124;43m'\u001b[39;49m\u001b[38;5;124;43mDBMS\u001b[39;49m\u001b[38;5;124;43m'\u001b[39;49m\u001b[43m,\u001b[49m\u001b[43m \u001b[49m\u001b[38;5;124;43m'\u001b[39;49m\u001b[38;5;124;43m-\u001b[39;49m\u001b[38;5;124;43m'\u001b[39;49m\u001b[43m)\u001b[49m\n",
      "\u001b[1;31mTypeError\u001b[0m: concat() missing 1 required keyword-only argument: 'sep'"
     ]
    }
   ],
   "source": [
    "concat('Python', 'Web', 'JavaScript', 'DBMS', '-')\n",
    "#의도한 바와 달리 '-'가 sep에 들어가지 않고 subject로 처리됨."
   ]
  },
  {
   "cell_type": "code",
   "execution_count": 73,
   "id": "8da56c9b",
   "metadata": {},
   "outputs": [
    {
     "data": {
      "text/plain": [
       "'Python-Web-JavaScript-DBMS'"
      ]
     },
     "execution_count": 73,
     "metadata": {},
     "output_type": "execute_result"
    }
   ],
   "source": [
    "#Solution 1. 매개변수 이름을 지정해 호출\n",
    "concat('Python', 'Web', 'JavaScript', 'DBMS', sep='-')"
   ]
  },
  {
   "cell_type": "code",
   "execution_count": 78,
   "id": "a49ff30f",
   "metadata": {},
   "outputs": [
    {
     "name": "stdout",
     "output_type": "stream",
     "text": [
      "Python ~ Web ~ JavaScript ~ DBMS ~ -\n",
      "Python-Web-JavaScript-DBMS\n"
     ]
    }
   ],
   "source": [
    "#Solution 2. 기본값을 갖는 키워드 인수 사용\n",
    "def concat(*subject, sep=' ~ '):\n",
    "    return sep.join(subject)\n",
    "print(concat('Python', 'Web', 'JavaScript', 'DBMS', '-')) #마지막 인수를 subject로 인지\n",
    "print(concat('Python', 'Web', 'JavaScript', 'DBMS', sep='-'))"
   ]
  },
  {
   "cell_type": "code",
   "execution_count": 81,
   "id": "d1d17137",
   "metadata": {},
   "outputs": [],
   "source": [
    "#👍Better Solution 3. sep을 순서인수로 앞에서 선언 \n",
    "def concat(sep, *subject):\n",
    "    return sep.join(subject)"
   ]
  },
  {
   "cell_type": "code",
   "execution_count": 80,
   "id": "5dcfede6",
   "metadata": {},
   "outputs": [
    {
     "data": {
      "text/plain": [
       "'Python~Web~DB~MLDL'"
      ]
     },
     "execution_count": 80,
     "metadata": {},
     "output_type": "execute_result"
    }
   ],
   "source": [
    "concat('~', 'Python', 'Web', 'DB', 'MLDL')"
   ]
  },
  {
   "cell_type": "markdown",
   "id": "5bd3c64e",
   "metadata": {},
   "source": [
    "## 3.5. 딕셔너리 매개변수\n",
    "- 딕셔너리 인수: 여러 개의 키워드 인수를 딕셔너리 형태로 받아서 가변인수로 처리"
   ]
  },
  {
   "cell_type": "code",
   "execution_count": 98,
   "id": "f1645b2e",
   "metadata": {},
   "outputs": [],
   "source": [
    "def func5(**args): #**딕셔너리 매개변수, args를 딕셔너리로 전달받음\n",
    "    print('이름: ', args.get('name', '무명'))\n",
    "    print('나이: ', args.get('age', '미상'))\n",
    "    print('전화: ', args.get('tel', '없음'))\n",
    "    print('주소: ', args.get('address', '미상'))"
   ]
  },
  {
   "cell_type": "code",
   "execution_count": 97,
   "id": "d75be8cd",
   "metadata": {},
   "outputs": [],
   "source": [
    "def func5(**args):\n",
    "    print(args)\n",
    "    print(type(args))\n",
    "    for key, value in args.items():\n",
    "        print(\"{}: {}\".format(key, value))"
   ]
  },
  {
   "cell_type": "code",
   "execution_count": 100,
   "id": "c20a1e6a",
   "metadata": {},
   "outputs": [],
   "source": [
    "def func5(**args):\n",
    "    '딕셔너리 매개변수로 받아 address 키가 없으면 서울시 관악구로 추가하고 키-값을 출력'\n",
    "    if 'address' not in args: #args에 address 키가 없으면 if문 True\n",
    "        args['address']='서울시 관악구'\n",
    "#        args.update({'address':'서울시 관악구'})\n",
    "#        args.update(address='서울시 관악구')\n",
    "    for key, value in args.items():\n",
    "        print(\"{}: {}\".format(key, value))"
   ]
  },
  {
   "cell_type": "code",
   "execution_count": 101,
   "id": "30f9c3e5",
   "metadata": {},
   "outputs": [
    {
     "name": "stdout",
     "output_type": "stream",
     "text": [
      "name: 홍길동\n",
      "tel: 010-1111-2222\n",
      "address: 서울 구로구\n"
     ]
    }
   ],
   "source": [
    "func5(name='홍길동', \n",
    "      tel='010-1111-2222',\n",
    "      address='서울 구로구')"
   ]
  },
  {
   "cell_type": "markdown",
   "id": "5c383e6e",
   "metadata": {},
   "source": [
    "## 3.6. 함수 정의 시 매개 변수의 순서\n",
    "- 순서 인수 > 튜플 인수(*) > 키워드 인수(기본값) > 딕셔너리 인수(**)"
   ]
  },
  {
   "cell_type": "code",
   "execution_count": 103,
   "id": "7f4b1e07",
   "metadata": {},
   "outputs": [],
   "source": [
    "#순서인수>튜플인수>딕셔너리인수\n",
    "def func6(a, b, *c, **d):\n",
    "    print('순서인수 a=', a)\n",
    "    print('순서인수 b=', b)\n",
    "    print('튜플인수 c=', c)\n",
    "    print('딕셔너리인수 d=', d)"
   ]
  },
  {
   "cell_type": "code",
   "execution_count": 105,
   "id": "1b7ea88b",
   "metadata": {},
   "outputs": [
    {
     "name": "stdout",
     "output_type": "stream",
     "text": [
      "순서인수 a= 10\n",
      "순서인수 b= 20\n",
      "튜플인수 c= (1, 2, 3, 4, 5, 6, 'a', 'b', True)\n",
      "딕셔너리인수 d= {'name': '홍', 'age': 30, 'address': '신림'}\n"
     ]
    }
   ],
   "source": [
    "func6(10, 20, 1, 2, 3, 4,5,6, 'a', 'b', True, name='홍', age=30, address='신림')"
   ]
  },
  {
   "cell_type": "code",
   "execution_count": 106,
   "id": "f0f1f9d4",
   "metadata": {},
   "outputs": [],
   "source": [
    "#순서인수>튜플인수>키워드인수>딕셔너리인수\n",
    "def func7(a, b, c, *d, e=10, **f):\n",
    "    print('순서인수 a =', a)\n",
    "    print('순서인수 b =', b)\n",
    "    print('순서인수 c =', c)\n",
    "    print('튜플인수 d =', d)\n",
    "    print('키워드인수(기본값 10) e =', e)\n",
    "    print('딕셔너리인수 f =', f)"
   ]
  },
  {
   "cell_type": "code",
   "execution_count": 111,
   "id": "1b365cc6",
   "metadata": {},
   "outputs": [
    {
     "name": "stdout",
     "output_type": "stream",
     "text": [
      "순서인수 a = 10\n",
      "순서인수 b = 20\n",
      "순서인수 c = 30\n",
      "튜플인수 d = ()\n",
      "키워드인수(기본값 10) e = 99\n",
      "딕셔너리인수 f = {}\n"
     ]
    }
   ],
   "source": [
    "func7(10, 20, 30, e=99)"
   ]
  },
  {
   "cell_type": "code",
   "execution_count": 109,
   "id": "093da2d2",
   "metadata": {},
   "outputs": [
    {
     "name": "stdout",
     "output_type": "stream",
     "text": [
      "순서인수 a = 10\n",
      "순서인수 b = 20\n",
      "순서인수 c = 30\n",
      "튜플인수 d = (1, 2, 3, 4, 5)\n",
      "키워드인수(기본값 10) e = 100\n",
      "딕셔너리인수 f = {'shape': 'rect', 'width': 20, 'height': 30}\n"
     ]
    }
   ],
   "source": [
    "func7(10, 20, 30, 1,2,3,4,5, e=100, shape='rect', width=20, height=30)"
   ]
  },
  {
   "cell_type": "markdown",
   "id": "17d52cbd",
   "metadata": {},
   "source": [
    "## 3.7. 인수의 언패킹"
   ]
  },
  {
   "cell_type": "markdown",
   "id": "e6a482b2",
   "metadata": {},
   "source": [
    "### 튜플 인수 언패킹\n",
    "- 패킹 : 함수 정의 시 매개변수 앞에 *붙임(튜플매개변수)\n",
    "- 언패킹: 함수 호출 시 튜플매개변수 앞에 *붙임"
   ]
  },
  {
   "cell_type": "code",
   "execution_count": 112,
   "id": "093ceef7",
   "metadata": {},
   "outputs": [],
   "source": [
    "def add(*args):\n",
    "    #print(args)\n",
    "    sum = 0\n",
    "    for num in args:\n",
    "        sum += num\n",
    "    return sum"
   ]
  },
  {
   "cell_type": "code",
   "execution_count": 114,
   "id": "d172fb22",
   "metadata": {},
   "outputs": [
    {
     "data": {
      "text/plain": [
       "6"
      ]
     },
     "execution_count": 114,
     "metadata": {},
     "output_type": "execute_result"
    }
   ],
   "source": [
    "add(1,2,3) #1,2,3이 튜플로 패킹"
   ]
  },
  {
   "cell_type": "code",
   "execution_count": 116,
   "id": "5feecd6f",
   "metadata": {},
   "outputs": [
    {
     "data": {
      "text/plain": [
       "6"
      ]
     },
     "execution_count": 116,
     "metadata": {},
     "output_type": "execute_result"
    }
   ],
   "source": [
    "numbers = (1,2,3)\n",
    "add(*numbers) # ==add(1,2,3)"
   ]
  },
  {
   "cell_type": "code",
   "execution_count": 119,
   "id": "dab81375",
   "metadata": {},
   "outputs": [
    {
     "name": "stdout",
     "output_type": "stream",
     "text": [
      "(1, 2, 3)\n",
      "1 2 3\n"
     ]
    }
   ],
   "source": [
    "print(numbers)\n",
    "print(*numbers)"
   ]
  },
  {
   "cell_type": "markdown",
   "id": "58a7283d",
   "metadata": {},
   "source": [
    "### 딕셔너리 인수 언패킹\n",
    "- 패킹 : 함수 정의 시 매개변수 앞에 **붙임(딕셔너리매개변수)\n",
    "- 언패킹: 함수 호출 시 딕셔너리 매개변수 앞에 **붙임"
   ]
  },
  {
   "cell_type": "code",
   "execution_count": 120,
   "id": "e1338027",
   "metadata": {},
   "outputs": [],
   "source": [
    "def func8(**data):\n",
    "    print(data)\n",
    "    for item in data.items():\n",
    "        print(item)"
   ]
  },
  {
   "cell_type": "code",
   "execution_count": 121,
   "id": "40dc024b",
   "metadata": {},
   "outputs": [
    {
     "name": "stdout",
     "output_type": "stream",
     "text": [
      "{'shape': 'rect', 'width': 40, 'height': 30}\n",
      "('shape', 'rect')\n",
      "('width', 40)\n",
      "('height', 30)\n"
     ]
    }
   ],
   "source": [
    "func8(shape='rect', width=40, height=30) #패킹"
   ]
  },
  {
   "cell_type": "code",
   "execution_count": 122,
   "id": "f4fb787a",
   "metadata": {},
   "outputs": [
    {
     "name": "stdout",
     "output_type": "stream",
     "text": [
      "{'shape': 'rect', 'width': 40, 'height': 30}\n",
      "('shape', 'rect')\n",
      "('width', 40)\n",
      "('height', 30)\n"
     ]
    }
   ],
   "source": [
    "#키워드 인자로 넣을 것을 딕셔너리로 패킹해 놓으면 func8에 넣을 수 없음\n",
    "info = {'shape':'rect', 'width':40, 'height':30} \n",
    "func8(**info) #언패킹"
   ]
  },
  {
   "cell_type": "markdown",
   "id": "02e6b063",
   "metadata": {},
   "source": [
    "# 4. 람다식\n",
    "- retrun 한 줄짜리 작은 익명함수\n",
    "## 4.1. 람다식 연습"
   ]
  },
  {
   "cell_type": "code",
   "execution_count": 2,
   "id": "abe94b6d",
   "metadata": {},
   "outputs": [
    {
     "name": "stdout",
     "output_type": "stream",
     "text": [
      "7\n",
      "<class 'function'>\n"
     ]
    }
   ],
   "source": [
    "#덧셈식 함수 정의\n",
    "def add(a, b):\n",
    "    return a+b\n",
    "print(add(2,5))\n",
    "print(type(add))"
   ]
  },
  {
   "cell_type": "code",
   "execution_count": 3,
   "id": "a586cf37",
   "metadata": {},
   "outputs": [
    {
     "name": "stdout",
     "output_type": "stream",
     "text": [
      "7\n",
      "<class 'function'>\n"
     ]
    }
   ],
   "source": [
    "add2 = lambda a, b: a + b\n",
    "print(add2(2,5))\n",
    "print(type(add2))"
   ]
  },
  {
   "cell_type": "code",
   "execution_count": 5,
   "id": "8792d6e5",
   "metadata": {},
   "outputs": [
    {
     "data": {
      "text/plain": [
       "('홀수', '짝수')"
      ]
     },
     "execution_count": 5,
     "metadata": {},
     "output_type": "execute_result"
    }
   ],
   "source": [
    "#Ex.1 매개변수로 들어온 값이 짝수인지 홀수인지 return하는 함수를 람다식으로 만들어 보세요.\n",
    "def evenodd1(num):\n",
    "    if num%2:\n",
    "        result = \"홀수\"\n",
    "    else:\n",
    "        result = \"짝수\"\n",
    "    return result\n",
    "evenodd1(5), evenodd1(6)"
   ]
  },
  {
   "cell_type": "code",
   "execution_count": 6,
   "id": "8e2cff55",
   "metadata": {},
   "outputs": [
    {
     "data": {
      "text/plain": [
       "('홀수', '짝수')"
      ]
     },
     "execution_count": 6,
     "metadata": {},
     "output_type": "execute_result"
    }
   ],
   "source": [
    "#간소화\n",
    "def evenodd2(num):\n",
    "    result = \"홀수\" if num%2 else \"짝수\"\n",
    "    return result\n",
    "evenodd2(5), evenodd2(6)"
   ]
  },
  {
   "cell_type": "code",
   "execution_count": 9,
   "id": "9f3d12f1",
   "metadata": {},
   "outputs": [
    {
     "data": {
      "text/plain": [
       "('홀수', '짝수')"
      ]
     },
     "execution_count": 9,
     "metadata": {},
     "output_type": "execute_result"
    }
   ],
   "source": [
    "#람다식\n",
    "evenodd = lambda num : \"홀수\" if num%2 else \"짝수\"\n",
    "evenodd(5), evenodd(6)"
   ]
  },
  {
   "cell_type": "code",
   "execution_count": 14,
   "id": "be4d19d6",
   "metadata": {},
   "outputs": [
    {
     "data": {
      "text/plain": [
       "(1, 3)"
      ]
     },
     "execution_count": 14,
     "metadata": {},
     "output_type": "execute_result"
    }
   ],
   "source": [
    "#Ex. 2 두 매개변수의 차이를 return하는 함수를 람다식으로 만들어 보세요.\n",
    "def diff1(a,b):\n",
    "    if a >= b:\n",
    "        result = a-b\n",
    "    else:\n",
    "        result = b-a\n",
    "    return result\n",
    "diff1(3,2), diff1(2,5)"
   ]
  },
  {
   "cell_type": "code",
   "execution_count": 15,
   "id": "443747cd",
   "metadata": {},
   "outputs": [
    {
     "data": {
      "text/plain": [
       "(1, 3)"
      ]
     },
     "execution_count": 15,
     "metadata": {},
     "output_type": "execute_result"
    }
   ],
   "source": [
    "#간소화\n",
    "def diff2(a,b):\n",
    "    return a-b if a>=b else b-a\n",
    "diff2(3,2), diff2(2,5)"
   ]
  },
  {
   "cell_type": "code",
   "execution_count": 16,
   "id": "e4941a62",
   "metadata": {},
   "outputs": [
    {
     "data": {
      "text/plain": [
       "(1, 3)"
      ]
     },
     "execution_count": 16,
     "metadata": {},
     "output_type": "execute_result"
    }
   ],
   "source": [
    "#람다식\n",
    "diff = lambda a, b: a-b if a>=b else b-a\n",
    "diff(3,2), diff(2,5)"
   ]
  },
  {
   "cell_type": "code",
   "execution_count": 18,
   "id": "277178b8",
   "metadata": {},
   "outputs": [
    {
     "data": {
      "text/plain": [
       "(1000, 0, 'negative')"
      ]
     },
     "execution_count": 18,
     "metadata": {},
     "output_type": "execute_result"
    }
   ],
   "source": [
    "#Ex. 3 매개변수로 잔액을 받아, 잔액이 0 이상이면 잔액을 return하고, 음수면 'negative'를 리턴하는 함수를 람다식으로\n",
    "fex3 = lambda balance : balance if balance >= 0 else 'negative'\n",
    "fex3(1000), fex3(0), fex3(-100)"
   ]
  },
  {
   "cell_type": "code",
   "execution_count": 21,
   "id": "ec0b3d5c",
   "metadata": {},
   "outputs": [
    {
     "data": {
      "text/plain": [
       "'A학점'"
      ]
     },
     "execution_count": 21,
     "metadata": {},
     "output_type": "execute_result"
    }
   ],
   "source": [
    "#Ex. 4. 점수를 입력받아 80점 이상은 'A학점', 60점 이상은 'B학점', 60점 미만은 '재시험'\n",
    "    #100점 초과, 0점 미만은 '유효하지 않음'을 return하는 람다식\n",
    "def grade_chk(score):\n",
    "    if (score > 100) | (score < 0):\n",
    "        return \"유효하지 않음\"\n",
    "    elif score >= 80:\n",
    "        return \"A학점\"\n",
    "    elif score >= 60:\n",
    "        return \"B학점\"\n",
    "    else:\n",
    "        return \"재시험\"\n",
    "grade_chk(80)"
   ]
  },
  {
   "cell_type": "code",
   "execution_count": 27,
   "id": "09091c5a",
   "metadata": {},
   "outputs": [
    {
     "data": {
      "text/plain": [
       "'A학점'"
      ]
     },
     "execution_count": 27,
     "metadata": {},
     "output_type": "execute_result"
    }
   ],
   "source": [
    "#람다식\n",
    "gradeChk = lambda score: \"유효하지 않음\" if (score > 100) | (score < 0) else \\\n",
    "                        \"A학점\" if score >= 80 else \\\n",
    "                        \"B학점\" if score >= 60 else \\\n",
    "                        \"재시험\"\n",
    "gradeChk(90)"
   ]
  },
  {
   "cell_type": "code",
   "execution_count": 28,
   "id": "0ed21975",
   "metadata": {},
   "outputs": [
    {
     "data": {
      "text/plain": [
       "'F학점'"
      ]
     },
     "execution_count": 28,
     "metadata": {},
     "output_type": "execute_result"
    }
   ],
   "source": [
    "score_grade = lambda score: \"채점 오류\" if (score > 100) | (score < 0) else \\\n",
    "                        \"A학점\" if score >= 90 else \\\n",
    "                        \"B학점\" if score >= 80 else \\\n",
    "                        \"C학점\" if score >= 60 else \\\n",
    "                        \"D학점\" if score >= 40 else \\\n",
    "                        \"F학점\"\n",
    "score_grade(35)"
   ]
  },
  {
   "cell_type": "code",
   "execution_count": 36,
   "id": "4420e564",
   "metadata": {},
   "outputs": [
    {
     "data": {
      "text/plain": [
       "3"
      ]
     },
     "execution_count": 36,
     "metadata": {},
     "output_type": "execute_result"
    }
   ],
   "source": [
    "#Ex. 5 safe_index 함수를 람다식으로\n",
    "safe_index = lambda lst, item, start=0 : lst.index(item, start) if item in lst[start:] else -1\n",
    "# start 번째부터 item이 있는 index를 반환\n",
    "lst1 = [89, 3, 31, 96, 5, 6]\n",
    "safe_index(lst1, 96)"
   ]
  },
  {
   "cell_type": "code",
   "execution_count": 46,
   "id": "e3ef2414",
   "metadata": {},
   "outputs": [
    {
     "data": {
      "text/plain": [
       "[25, 15, 100, 4.0]"
      ]
     },
     "execution_count": 46,
     "metadata": {},
     "output_type": "execute_result"
    }
   ],
   "source": [
    "#람다식이 list에 들어갈 수 있음\n",
    "add = lambda a, b : a+b\n",
    "sub = lambda a, b : a-b\n",
    "mul = lambda a, b : a*b\n",
    "div = lambda a, b : a/b if b else \"두 번째 인자 0으로 나눌 수 없음\"\n",
    "operations = [add, sub, mul, div] #사칙연산 함수들\n",
    "\n",
    "def act_operations(a, b, operations=operations): #a, b의 연산 결과들을 return\n",
    "    result = []\n",
    "    for op in operations:\n",
    "        result.append(op(a,b))\n",
    "    return result\n",
    "\n",
    "act_operations(20,5)"
   ]
  },
  {
   "cell_type": "code",
   "execution_count": 47,
   "id": "67a94542",
   "metadata": {},
   "outputs": [
    {
     "data": {
      "text/plain": [
       "[64, 82]"
      ]
     },
     "execution_count": 47,
     "metadata": {},
     "output_type": "execute_result"
    }
   ],
   "source": [
    "act_operations(8, 2, [lambda x, y : x**y, lambda x, y : 10*x + y])"
   ]
  },
  {
   "cell_type": "code",
   "execution_count": 48,
   "id": "f693492f",
   "metadata": {},
   "outputs": [
    {
     "data": {
      "text/plain": [
       "43"
      ]
     },
     "execution_count": 48,
     "metadata": {},
     "output_type": "execute_result"
    }
   ],
   "source": [
    "(lambda x, y : 10*x + y)(4,3)"
   ]
  },
  {
   "cell_type": "code",
   "execution_count": 49,
   "id": "5fad061f",
   "metadata": {},
   "outputs": [
    {
     "data": {
      "text/plain": [
       "5"
      ]
     },
     "execution_count": 49,
     "metadata": {},
     "output_type": "execute_result"
    }
   ],
   "source": [
    "operations.append(lambda x, y : x**y)\n",
    "len(operations)"
   ]
  },
  {
   "cell_type": "code",
   "execution_count": 50,
   "id": "dff4af10",
   "metadata": {},
   "outputs": [
    {
     "data": {
      "text/plain": [
       "[10, 6, 16, 4.0, 64]"
      ]
     },
     "execution_count": 50,
     "metadata": {},
     "output_type": "execute_result"
    }
   ],
   "source": [
    "act_operations(8,2)"
   ]
  },
  {
   "cell_type": "markdown",
   "id": "a3b7c89d",
   "metadata": {},
   "source": [
    "## 4.2. 함수의 매개변수(인수)에 람다식 사용\n",
    "- 람다식을 사용하는 곳 : 함수의 매개변수 > return문\n",
    "\n",
    "### 4.2.1. map"
   ]
  },
  {
   "cell_type": "code",
   "execution_count": 60,
   "id": "3d5439b7",
   "metadata": {},
   "outputs": [],
   "source": [
    "def map_template(func, L=[]):\n",
    "    result = []\n",
    "    for item in L:\n",
    "        result.append(func(item))\n",
    "    return result"
   ]
  },
  {
   "cell_type": "code",
   "execution_count": 61,
   "id": "eabad37a",
   "metadata": {},
   "outputs": [
    {
     "data": {
      "text/plain": [
       "[1, 2, 3]"
      ]
     },
     "execution_count": 61,
     "metadata": {},
     "output_type": "execute_result"
    }
   ],
   "source": [
    "map_template(lambda a:a, [1,2,3])"
   ]
  },
  {
   "cell_type": "code",
   "execution_count": 62,
   "id": "6c2a7dc2",
   "metadata": {},
   "outputs": [
    {
     "data": {
      "text/plain": [
       "[2, 4, 6, 8, 10, 12, 14, 16, 18]"
      ]
     },
     "execution_count": 62,
     "metadata": {},
     "output_type": "execute_result"
    }
   ],
   "source": [
    "list_data = [1,2,3,4,5,6,7,8,9]\n",
    "#def x_2(x):\n",
    "#    return x*2\n",
    "x_2 = lambda x : x*2\n",
    "map_template(x_2, list_data)"
   ]
  },
  {
   "cell_type": "code",
   "execution_count": 63,
   "id": "2f48953d",
   "metadata": {},
   "outputs": [
    {
     "data": {
      "text/plain": [
       "[2, 4, 6, 8, 10, 12, 14, 16, 18]"
      ]
     },
     "execution_count": 63,
     "metadata": {},
     "output_type": "execute_result"
    }
   ],
   "source": [
    "map_template(lambda x:x*2, list_data)"
   ]
  },
  {
   "cell_type": "code",
   "execution_count": 64,
   "id": "df27748c",
   "metadata": {},
   "outputs": [
    {
     "data": {
      "text/plain": [
       "[2, 4, 6, 8, 10, 12, 14, 16, 18]"
      ]
     },
     "execution_count": 64,
     "metadata": {},
     "output_type": "execute_result"
    }
   ],
   "source": [
    "#리스트 컴프리헨션\n",
    "[item*2 for item in list_data]"
   ]
  },
  {
   "cell_type": "code",
   "execution_count": 65,
   "id": "b84e73f6",
   "metadata": {},
   "outputs": [
    {
     "data": {
      "text/plain": [
       "[2, 4, 6, 8, 10, 12, 14, 16, 18]"
      ]
     },
     "execution_count": 65,
     "metadata": {},
     "output_type": "execute_result"
    }
   ],
   "source": [
    "list(map(lambda x : x*2, list_data))"
   ]
  },
  {
   "cell_type": "code",
   "execution_count": 66,
   "id": "4a7d6d4d",
   "metadata": {},
   "outputs": [
    {
     "name": "stdout",
     "output_type": "stream",
     "text": [
      "2 4 6 8 10 12 14 16 18 "
     ]
    }
   ],
   "source": [
    "for data in map(lambda x:x*2, list_data): #list_data 전체에 첫 번째 매개변수 함수를 적용시키는 역할\n",
    "    print(data, end=' ')"
   ]
  },
  {
   "cell_type": "code",
   "execution_count": 74,
   "id": "5330ab77",
   "metadata": {},
   "outputs": [
    {
     "name": "stdout",
     "output_type": "stream",
     "text": [
      "[5000, 5000, 6000, 1000, 5000, 5000, 6000, 1000]\n"
     ]
    }
   ],
   "source": [
    "#Ex.1 prices = ['5,000', '5000', '6,000', '1000','5,000', '5000', '6,000', '1000’]를 [5000,5000,6000,1000]식으로 바꾸시오\n",
    "prices = ['5,000', '5000', '6,000', '1000', '5,000', '5000', '6,000', '1000']\n",
    "toint = lambda value : int(value.replace(',', ''))\n",
    "# prices_int = map(lambda value : int(value.replace(',', '')), prices)\n",
    "# for price in prices_int:\n",
    "#     print(price, end=' ')\n",
    "prices_int = []\n",
    "for data in map(toint, prices):\n",
    "   prices_int.append(data)\n",
    "print(prices_int)"
   ]
  },
  {
   "cell_type": "code",
   "execution_count": null,
   "id": "9aa0b6eb",
   "metadata": {},
   "outputs": [],
   "source": [
    "#Ex. 2 members 1을 members 2로\n",
    "'''\n",
    "members1 = [{'name':'홍길동', 'birth':'2000-01-01’}, {'name':'신길동', 'birth':'1995-12-18'}]를\n",
    "members2 = [{'name':'홍길동', 'year':2000, 'month':1,'day':1}, {'name':'신길동', 'year':1995, 'month':12, 'day':18}]\n",
    "'''"
   ]
  },
  {
   "cell_type": "code",
   "execution_count": 95,
   "id": "b584ab0d",
   "metadata": {},
   "outputs": [
    {
     "data": {
      "text/plain": [
       "{'year': 2025, 'month': 1, 'day': 1}"
      ]
     },
     "execution_count": 95,
     "metadata": {},
     "output_type": "execute_result"
    }
   ],
   "source": [
    "def split_date(date):\n",
    "    split_date = date.split('-')\n",
    "    return {\n",
    "        'year': int(split_date[0]),\n",
    "        'month': int(split_date[1]),\n",
    "        'day': int(split_date[2])\n",
    "    }\n",
    "split_date('2025-01-01')"
   ]
  },
  {
   "cell_type": "code",
   "execution_count": 89,
   "id": "caf7efae",
   "metadata": {},
   "outputs": [
    {
     "data": {
      "text/plain": [
       "{'year': 2025, 'month': 1, 'day': 1}"
      ]
     },
     "execution_count": 89,
     "metadata": {},
     "output_type": "execute_result"
    }
   ],
   "source": [
    "def split_date(date):\n",
    "    return {\n",
    "        'year': int(date.split('-')[0]),\n",
    "        'month': int(date.split('-')[1]),\n",
    "        'day': int(date.split('-')[2])\n",
    "    }\n",
    "split_date('2025-01-01')"
   ]
  },
  {
   "cell_type": "code",
   "execution_count": 102,
   "id": "ca06c1d9",
   "metadata": {},
   "outputs": [
    {
     "data": {
      "text/plain": [
       "{'name': '홍길동', 'year': 2000, 'month': 1, 'day': 1}"
      ]
     },
     "execution_count": 102,
     "metadata": {},
     "output_type": "execute_result"
    }
   ],
   "source": [
    "members1 = [{'name':'홍길동', 'birth':'2000-01-01'}, {'name':'신길동', 'birth':'1995-12-18'}]\n",
    "def member_preprocessing(member):\n",
    "    return {\n",
    "        'name': member.get('name'),\n",
    "        'year': int(member.get('birth').split('-')[0]),\n",
    "        'month': int(member.get('birth').split('-')[1]),\n",
    "        'day': int(member.get('birth').split('-')[2])\n",
    "    }\n",
    "member_preprocessing(members1[0])"
   ]
  },
  {
   "cell_type": "code",
   "execution_count": 105,
   "id": "8b372285",
   "metadata": {},
   "outputs": [
    {
     "data": {
      "text/plain": [
       "[{'name': '홍길동', 'year': 2000, 'month': 1, 'day': 1},\n",
       " {'name': '신길동', 'year': 1995, 'month': 12, 'day': 18}]"
      ]
     },
     "execution_count": 105,
     "metadata": {},
     "output_type": "execute_result"
    }
   ],
   "source": [
    "members2 = list(map(lambda member: {\n",
    "                                'name': member.get('name'),\n",
    "                                'year': int(member.get('birth').split('-')[0]),\n",
    "                                'month': int(member.get('birth').split('-')[1]),\n",
    "                                'day': int(member.get('birth').split('-')[2])\n",
    "                                    }, members1))\n",
    "members2"
   ]
  },
  {
   "cell_type": "code",
   "execution_count": 108,
   "id": "fe291149",
   "metadata": {},
   "outputs": [
    {
     "data": {
      "text/plain": [
       "'2000-01-01'"
      ]
     },
     "execution_count": 108,
     "metadata": {},
     "output_type": "execute_result"
    }
   ],
   "source": [
    "#members2를 members1로 전환\n",
    "def join_data(data):\n",
    "    return \"{}-{:02}-{:02}\".format(data.get('year'),data.get('month'),data.get('day'))\n",
    "join_data({'year': 2000, 'month': 1, 'day': 1})"
   ]
  },
  {
   "cell_type": "code",
   "execution_count": null,
   "id": "02e03af3",
   "metadata": {},
   "outputs": [],
   "source": [
    "def join_data(data):\n",
    "    return \"{year}-{month:02}-{day:02}\".format(data.get('year'),data.get('month'),data.get('day'))\n",
    "join_data({'year': 2000, 'month': 1, 'day': 1})"
   ]
  },
  {
   "cell_type": "code",
   "execution_count": 112,
   "id": "d15e7616",
   "metadata": {},
   "outputs": [
    {
     "data": {
      "text/plain": [
       "{'birth': '2000-01-01'}"
      ]
     },
     "execution_count": 112,
     "metadata": {},
     "output_type": "execute_result"
    }
   ],
   "source": [
    "def join_data(data):\n",
    "    return {\"birth\" : \"{year}-{month:02}-{day:02}\".format(**data)}\n",
    "join_data({'year': 2000, 'month': 1, 'day': 1})"
   ]
  },
  {
   "cell_type": "code",
   "execution_count": 117,
   "id": "bf35bc0e",
   "metadata": {},
   "outputs": [
    {
     "data": {
      "text/plain": [
       "[{'name': '홍길동', 'birth': '2000-01-01'},\n",
       " {'name': '신길동', 'birth': '1995-12-18'}]"
      ]
     },
     "execution_count": 117,
     "metadata": {},
     "output_type": "execute_result"
    }
   ],
   "source": [
    "members1 = list(map(lambda member: {\"name\" : member.get('name'), \n",
    "                                    \"birth\" : \"{year}-{month:02}-{day:02}\".format(**member)\n",
    "                                   }, members2\n",
    "                   )\n",
    "               )\n",
    "members1"
   ]
  },
  {
   "cell_type": "markdown",
   "id": "ee41cad3",
   "metadata": {},
   "source": [
    "### 4.2.2. filter\n",
    "- map : 흩뿌리기\n",
    "- filter : 골라내기"
   ]
  },
  {
   "cell_type": "code",
   "execution_count": 118,
   "id": "07cf970d",
   "metadata": {},
   "outputs": [],
   "source": [
    "def filter_template(func, L=[]):\n",
    "    result = []\n",
    "    for item in L:\n",
    "        if func(item):\n",
    "            result.append(item)\n",
    "    return result"
   ]
  },
  {
   "cell_type": "code",
   "execution_count": 119,
   "id": "d71fd429",
   "metadata": {},
   "outputs": [
    {
     "data": {
      "text/plain": [
       "[1, 3, 5, 7, 9]"
      ]
     },
     "execution_count": 119,
     "metadata": {},
     "output_type": "execute_result"
    }
   ],
   "source": [
    "list_data = [1,2,3,4,5,6,7,8,9]\n",
    "def odd_chk(value):\n",
    "    return value%2\n",
    "#     if value %2: \n",
    "#         return True\n",
    "#     else:\n",
    "#         return False\n",
    "filter_template(lambda value: value%2 != 0, list_data)"
   ]
  },
  {
   "cell_type": "code",
   "execution_count": 121,
   "id": "b999fe9a",
   "metadata": {},
   "outputs": [
    {
     "data": {
      "text/plain": [
       "[1, 3, 5, 7, 9]"
      ]
     },
     "execution_count": 121,
     "metadata": {},
     "output_type": "execute_result"
    }
   ],
   "source": [
    "#리스트 컴프리헨션\n",
    "[value for value in list_data if value % 2 != 0]"
   ]
  },
  {
   "cell_type": "code",
   "execution_count": 120,
   "id": "3dbd4c04",
   "metadata": {},
   "outputs": [
    {
     "data": {
      "text/plain": [
       "[1, 3, 5, 7, 9]"
      ]
     },
     "execution_count": 120,
     "metadata": {},
     "output_type": "execute_result"
    }
   ],
   "source": [
    "list_data[0::2]"
   ]
  },
  {
   "cell_type": "code",
   "execution_count": 125,
   "id": "1e36abba",
   "metadata": {},
   "outputs": [
    {
     "data": {
      "text/plain": [
       "[1, 3.0, 100, -2.0]"
      ]
     },
     "execution_count": 125,
     "metadata": {},
     "output_type": "execute_result"
    }
   ],
   "source": [
    "#ex. 다음 리스트에서 소수점 이하가 0인 수만 추출(filter)\n",
    "L = [1, 1.2, 1.5, 3.0, 10.5, 100, -2.0]\n",
    "list(filter(lambda value : value%1 == 0, L))"
   ]
  },
  {
   "cell_type": "code",
   "execution_count": 127,
   "id": "991c35e5",
   "metadata": {},
   "outputs": [
    {
     "data": {
      "text/plain": [
       "[1, 3.0, 100, -2.0]"
      ]
     },
     "execution_count": 127,
     "metadata": {},
     "output_type": "execute_result"
    }
   ],
   "source": [
    "#EX. 리스트 컴프리헨션 사용\n",
    "[item for item in L if item % 1 == 0]"
   ]
  },
  {
   "cell_type": "markdown",
   "id": "4c8df902",
   "metadata": {},
   "source": [
    "### 4.2.3. sort"
   ]
  },
  {
   "cell_type": "code",
   "execution_count": 131,
   "id": "64c9a5b7",
   "metadata": {},
   "outputs": [
    {
     "data": {
      "text/plain": [
       "[(1, 'one'), (2, 'two'), (3, 'three'), (4, 'four')]"
      ]
     },
     "execution_count": 131,
     "metadata": {},
     "output_type": "execute_result"
    }
   ],
   "source": [
    "#무조건 0번째 item을 기준으로 오름차순 정렬\n",
    "pairs = [(2, 'two'), (1, 'one'), (3, 'three'), (4, 'four')]\n",
    "pairs.sort()\n",
    "pairs"
   ]
  },
  {
   "cell_type": "code",
   "execution_count": 133,
   "id": "5eac944f",
   "metadata": {},
   "outputs": [
    {
     "data": {
      "text/plain": [
       "[(2, 'two'), (3, 'three'), (1, 'one'), (4, 'four')]"
      ]
     },
     "execution_count": 133,
     "metadata": {},
     "output_type": "execute_result"
    }
   ],
   "source": [
    "#1번째 item 기준으로 내림차순 정렬\n",
    "pairs.sort(key= lambda data: data[1], reverse= True)\n",
    "pairs"
   ]
  },
  {
   "cell_type": "code",
   "execution_count": 139,
   "id": "2662ca2c",
   "metadata": {},
   "outputs": [
    {
     "data": {
      "text/plain": [
       "[[10, 200], [1, 100], [9, 9]]"
      ]
     },
     "execution_count": 139,
     "metadata": {},
     "output_type": "execute_result"
    }
   ],
   "source": [
    "#ex.합이 큰 순으로 정렬\n",
    "number_2d = [[9,9], [1,100], [10,200]]\n",
    "#number_2d.sort(key= lambda data: data[0]+data[1], reverse= True)\n",
    "number_2d.sort(key= lambda items: sum(items), reverse= True)\n",
    "number_2d"
   ]
  },
  {
   "cell_type": "code",
   "execution_count": 142,
   "id": "848cf4e5",
   "metadata": {},
   "outputs": [],
   "source": [
    "students = [{'name':'홍', 'score': 99},\n",
    "           {'name':'김', 'score': 50},\n",
    "           {'name':'박', 'score': 77},\n",
    "           {'score': 100}]"
   ]
  },
  {
   "cell_type": "code",
   "execution_count": 145,
   "id": "6bdf6cbc",
   "metadata": {},
   "outputs": [
    {
     "data": {
      "text/plain": [
       "99"
      ]
     },
     "execution_count": 145,
     "metadata": {},
     "output_type": "execute_result"
    }
   ],
   "source": [
    "#이름 오름차순\n",
    "name_select = lambda data: data.get('score', '힣')\n",
    "name_select({'score': 99})"
   ]
  },
  {
   "cell_type": "code",
   "execution_count": 149,
   "id": "b56706d2",
   "metadata": {},
   "outputs": [
    {
     "data": {
      "text/plain": [
       "[{'name': '김', 'score': 50},\n",
       " {'name': '박', 'score': 77},\n",
       " {'name': '홍', 'score': 99},\n",
       " {'score': 100}]"
      ]
     },
     "execution_count": 149,
     "metadata": {},
     "output_type": "execute_result"
    }
   ],
   "source": [
    "#students.sort(key= lambda data: data.get('name')) # Error : None 타입과 Str 비교\n",
    "students.sort(key= lambda data: data.get('name', '힣')) #'힣' 대신 '가' 넣으면 name 없는 항목을 제일 앞으로me 없는 항목을 제일 앞으로\n",
    "students"
   ]
  },
  {
   "cell_type": "code",
   "execution_count": 151,
   "id": "dfb33b2e",
   "metadata": {},
   "outputs": [
    {
     "data": {
      "text/plain": [
       "[{'no': 1, 'title': '더트릭컬', 'writer': '폴빠', 'price': '19,800'},\n",
       " {'no': 2, 'title': '흔한남매', 'writer': '백난도', 'price': '15,120'},\n",
       " {'no': 3, 'title': '단 한 번의 삶', 'writer': '김영하', 'price': '15,120'},\n",
       " {'no': 4, 'title': '가격잘못', 'writer': '홍길동', 'price': 'ㅁ'},\n",
       " {'no': 5, 'title': '가격이숫자', 'writer': '백난도', 'price': 30200},\n",
       " {'no': 6, 'title': '가격이없음', 'writer': '이길동'}]"
      ]
     },
     "execution_count": 151,
     "metadata": {},
     "output_type": "execute_result"
    }
   ],
   "source": [
    "#ex. 3\n",
    "books = [{'no':1, 'title': '더트릭컬', 'writer': '폴빠','price':'19,800'},\n",
    "    {'no':2, 'title':'흔한남매', 'writer':'백난도', 'price':'15,120'},\n",
    "    {'no':3, 'title':'단 한 번의 삶', 'writer':'김영하', 'price':'15,120'},\n",
    "    {'no':4, 'title':'가격잘못', 'writer':'홍길동', 'price':'ㅁ'},\n",
    "    {'no':5, 'title':'가격이숫자', 'writer':'백난도', 'price':30200},\n",
    "    {'no':6, 'title':'가격이없음', 'writer':'이길동'},]\n",
    "books"
   ]
  },
  {
   "cell_type": "code",
   "execution_count": 155,
   "id": "06af9934",
   "metadata": {},
   "outputs": [
    {
     "data": {
      "text/plain": [
       "[{'no': 1, 'title': '더트릭컬', 'writer': '폴빠', 'price': '19,800'},\n",
       " {'no': 2, 'title': '흔한남매', 'writer': '백난도', 'price': '15,120'},\n",
       " {'no': 3, 'title': '단 한 번의 삶', 'writer': '김영하', 'price': '15,120'},\n",
       " {'no': 4, 'title': '가격잘못', 'writer': '홍길동', 'price': 'ㅁ'},\n",
       " {'no': 5, 'title': '가격이숫자', 'writer': '백난도', 'price': 30200},\n",
       " {'no': 6, 'title': '가격이없음', 'writer': '이길동'}]"
      ]
     },
     "execution_count": 155,
     "metadata": {},
     "output_type": "execute_result"
    }
   ],
   "source": [
    "#no 기준으로 sort\n",
    "books.sort(key = lambda book : book['no'])\n",
    "books"
   ]
  },
  {
   "cell_type": "code",
   "execution_count": 156,
   "id": "2cf5a0e4",
   "metadata": {},
   "outputs": [
    {
     "data": {
      "text/plain": [
       "[{'no': 5, 'title': '가격이숫자', 'writer': '백난도', 'price': 30200},\n",
       " {'no': 6, 'title': '가격이없음', 'writer': '이길동'},\n",
       " {'no': 4, 'title': '가격잘못', 'writer': '홍길동', 'price': 'ㅁ'},\n",
       " {'no': 3, 'title': '단 한 번의 삶', 'writer': '김영하', 'price': '15,120'},\n",
       " {'no': 1, 'title': '더트릭컬', 'writer': '폴빠', 'price': '19,800'},\n",
       " {'no': 2, 'title': '흔한남매', 'writer': '백난도', 'price': '15,120'}]"
      ]
     },
     "execution_count": 156,
     "metadata": {},
     "output_type": "execute_result"
    }
   ],
   "source": [
    "#title 기준으로 sort\n",
    "books.sort(key = lambda book : book['title'])\n",
    "books"
   ]
  },
  {
   "cell_type": "code",
   "execution_count": null,
   "id": "1a412bb6",
   "metadata": {},
   "outputs": [],
   "source": [
    "#price 기준으로 sort\n",
    "# books.sort(key = lambda book : book['price'])\n",
    "# books"
   ]
  },
  {
   "cell_type": "code",
   "execution_count": null,
   "id": "33874c8d",
   "metadata": {},
   "outputs": [],
   "source": [
    "#30200, '12,000' → 12000, '5000' → 5000, 'ㅁ' → 0, None → 0"
   ]
  },
  {
   "cell_type": "code",
   "execution_count": 163,
   "id": "e9e0cac1",
   "metadata": {},
   "outputs": [
    {
     "name": "stdout",
     "output_type": "stream",
     "text": [
      "5000 12000 0 0\n"
     ]
    }
   ],
   "source": [
    "def parse_int(price):\n",
    "    if isinstance(price, str) and price.replace(',','').isdigit():\n",
    "        return int(price.replace(',',''))\n",
    "    elif isinstance(price, int):\n",
    "        return price\n",
    "    else: \n",
    "        return 0\n",
    "print(parse_int('5,000'), parse_int(12000), parse_int('ㅁ'), parse_int(None))"
   ]
  },
  {
   "cell_type": "code",
   "execution_count": 173,
   "id": "387a9234",
   "metadata": {},
   "outputs": [
    {
     "name": "stdout",
     "output_type": "stream",
     "text": [
      "5000 12000 0 0\n"
     ]
    }
   ],
   "source": [
    "def parse_int2(price):\n",
    "    if str(price).replace(',','').isdigit():\n",
    "        return str(price).replace(',','')\n",
    "    else: \n",
    "        return 0\n",
    "print(parse_int2('5,000'), parse_int2(12000), parse_int2('ㅁ'), parse_int2(None))"
   ]
  },
  {
   "cell_type": "code",
   "execution_count": 170,
   "id": "e54b7c54",
   "metadata": {},
   "outputs": [
    {
     "data": {
      "text/plain": [
       "0"
      ]
     },
     "execution_count": 170,
     "metadata": {},
     "output_type": "execute_result"
    }
   ],
   "source": [
    "parse_int = lambda book : \\\n",
    "            int(book.get('price').replace(',','')) \\\n",
    "                if isinstance(book.get('price'), str) and book.get('price').replace(',','').isdigit() \\\n",
    "                else book.get('price') if isinstance(book.get('price'), int) \\\n",
    "                else 0\n",
    "    \n",
    "parse_int({'no': 5, 'title': '가격이숫자', 'writer': '백난도', 'price': 'ㅁ'})"
   ]
  },
  {
   "cell_type": "code",
   "execution_count": 175,
   "id": "433ad4e5",
   "metadata": {},
   "outputs": [
    {
     "data": {
      "text/plain": [
       "[{'no': 5, 'title': '가격이숫자', 'writer': '백난도', 'price': 30200},\n",
       " {'no': 1, 'title': '더트릭컬', 'writer': '폴빠', 'price': '19,800'},\n",
       " {'no': 3, 'title': '단 한 번의 삶', 'writer': '김영하', 'price': '15,120'},\n",
       " {'no': 2, 'title': '흔한남매', 'writer': '백난도', 'price': '15,120'},\n",
       " {'no': 6, 'title': '가격이없음', 'writer': '이길동'},\n",
       " {'no': 4, 'title': '가격잘못', 'writer': '홍길동', 'price': 'ㅁ'}]"
      ]
     },
     "execution_count": 175,
     "metadata": {},
     "output_type": "execute_result"
    }
   ],
   "source": [
    "copyBooks = books.copy()\n",
    "copyBooks.sort(key=lambda book : \\\n",
    "            int(book.get('price').replace(',','')) \\\n",
    "                if isinstance(book.get('price'), str) and book.get('price').replace(',','').isdigit() \\\n",
    "                else book.get('price') if isinstance(book.get('price'), int) \\\n",
    "                else 0, reverse = True)\n",
    "copyBooks"
   ]
  },
  {
   "cell_type": "markdown",
   "id": "dc4cd7a7",
   "metadata": {},
   "source": [
    "# 5. 파이썬 내장 함수\n",
    "- import 하지 않고 바로 사용 가능한 함수\n",
    "- 키워드(if, while ...)처럼 간주하므로, 식별자(변수명, 함수명, 클래스명)로 사용하는 것을 피한다."
   ]
  },
  {
   "cell_type": "code",
   "execution_count": 4,
   "id": "e14393ee",
   "metadata": {},
   "outputs": [
    {
     "data": {
      "text/plain": [
       "{'__name__': '__main__',\n",
       " '__doc__': 'Automatically created module for IPython interactive environment',\n",
       " '__package__': None,\n",
       " '__loader__': None,\n",
       " '__spec__': None,\n",
       " '__builtin__': <module 'builtins' (built-in)>,\n",
       " '__builtins__': <module 'builtins' (built-in)>,\n",
       " '_ih': ['',\n",
       "  'from IPython.display import display, HTML\\ndisplay(HTML(\"\"\"\\n<style>\\ndiv.container{width:90% !important;}\\ndiv.cell.code_cell.rendered{width:90%;}\\ndiv.input_prompt{padding:0px;}\\ndiv.CodeMirror {font-family:Consolas; font-size:10pt;}\\ndiv.text_cell_render.rendered_html{font-size:10pt;}\\ndiv.output {font-size:10pt; font-weight:bold;}\\ndiv.input {font-family:Consolas; font-size:10pt;}\\ndiv.prompt {min-width:70px;}\\ndiv#toc-wrapper{padding-top:120px;}\\ndiv.text_cell_render ul li{font-size:10pt;padding:5px;}\\ntable.dataframe{font-size:10px;}\\n</style>\\n\"\"\"))',\n",
       "  'globals()',\n",
       "  'a = 10\\nglobals()',\n",
       "  'a = 10\\nglobals()'],\n",
       " '_oh': {2: {...}, 3: {...}},\n",
       " '_dh': [WindowsPath('C:/ai/source/01_python')],\n",
       " 'In': ['',\n",
       "  'from IPython.display import display, HTML\\ndisplay(HTML(\"\"\"\\n<style>\\ndiv.container{width:90% !important;}\\ndiv.cell.code_cell.rendered{width:90%;}\\ndiv.input_prompt{padding:0px;}\\ndiv.CodeMirror {font-family:Consolas; font-size:10pt;}\\ndiv.text_cell_render.rendered_html{font-size:10pt;}\\ndiv.output {font-size:10pt; font-weight:bold;}\\ndiv.input {font-family:Consolas; font-size:10pt;}\\ndiv.prompt {min-width:70px;}\\ndiv#toc-wrapper{padding-top:120px;}\\ndiv.text_cell_render ul li{font-size:10pt;padding:5px;}\\ntable.dataframe{font-size:10px;}\\n</style>\\n\"\"\"))',\n",
       "  'globals()',\n",
       "  'a = 10\\nglobals()',\n",
       "  'a = 10\\nglobals()'],\n",
       " 'Out': {2: {...}, 3: {...}},\n",
       " 'get_ipython': <bound method InteractiveShell.get_ipython of <ipykernel.zmqshell.ZMQInteractiveShell object at 0x000001FC116A3730>>,\n",
       " 'exit': <IPython.core.autocall.ZMQExitAutocall at 0x1fc116b3ee0>,\n",
       " 'quit': <IPython.core.autocall.ZMQExitAutocall at 0x1fc116b3ee0>,\n",
       " 'open': <function io.open(file, mode='r', buffering=-1, encoding=None, errors=None, newline=None, closefd=True, opener=None)>,\n",
       " '_': {...},\n",
       " '__': {...},\n",
       " '___': '',\n",
       " '_i': 'a = 10\\nglobals()',\n",
       " '_ii': 'globals()',\n",
       " '_iii': 'from IPython.display import display, HTML\\ndisplay(HTML(\"\"\"\\n<style>\\ndiv.container{width:90% !important;}\\ndiv.cell.code_cell.rendered{width:90%;}\\ndiv.input_prompt{padding:0px;}\\ndiv.CodeMirror {font-family:Consolas; font-size:10pt;}\\ndiv.text_cell_render.rendered_html{font-size:10pt;}\\ndiv.output {font-size:10pt; font-weight:bold;}\\ndiv.input {font-family:Consolas; font-size:10pt;}\\ndiv.prompt {min-width:70px;}\\ndiv#toc-wrapper{padding-top:120px;}\\ndiv.text_cell_render ul li{font-size:10pt;padding:5px;}\\ntable.dataframe{font-size:10px;}\\n</style>\\n\"\"\"))',\n",
       " '_i1': 'from IPython.display import display, HTML\\ndisplay(HTML(\"\"\"\\n<style>\\ndiv.container{width:90% !important;}\\ndiv.cell.code_cell.rendered{width:90%;}\\ndiv.input_prompt{padding:0px;}\\ndiv.CodeMirror {font-family:Consolas; font-size:10pt;}\\ndiv.text_cell_render.rendered_html{font-size:10pt;}\\ndiv.output {font-size:10pt; font-weight:bold;}\\ndiv.input {font-family:Consolas; font-size:10pt;}\\ndiv.prompt {min-width:70px;}\\ndiv#toc-wrapper{padding-top:120px;}\\ndiv.text_cell_render ul li{font-size:10pt;padding:5px;}\\ntable.dataframe{font-size:10px;}\\n</style>\\n\"\"\"))',\n",
       " 'display': <function IPython.core.display_functions.display(*objs, include=None, exclude=None, metadata=None, transient=None, display_id=None, raw=False, clear=False, **kwargs)>,\n",
       " 'HTML': IPython.core.display.HTML,\n",
       " '_i2': 'globals()',\n",
       " '_2': {...},\n",
       " '_i3': 'a = 10\\nglobals()',\n",
       " 'a': 10,\n",
       " '_3': {...},\n",
       " '_i4': 'a = 10\\nglobals()'}"
      ]
     },
     "execution_count": 4,
     "metadata": {},
     "output_type": "execute_result"
    }
   ],
   "source": [
    "a = 10\n",
    "globals()"
   ]
  },
  {
   "cell_type": "code",
   "execution_count": 5,
   "id": "ca707495",
   "metadata": {},
   "outputs": [
    {
     "data": {
      "text/plain": [
       "False"
      ]
     },
     "execution_count": 5,
     "metadata": {},
     "output_type": "execute_result"
    }
   ],
   "source": [
    "all([True, True, True, False]) #모든 요소가 True인지 판별하는 함수"
   ]
  },
  {
   "cell_type": "markdown",
   "id": "e4f597ea",
   "metadata": {},
   "source": [
    "# 6. 연습문제\n",
    "## 실습형"
   ]
  },
  {
   "cell_type": "code",
   "execution_count": 9,
   "id": "1477649c",
   "metadata": {},
   "outputs": [
    {
     "data": {
      "text/plain": [
       "{'최대값': 8, '최소값': 5}"
      ]
     },
     "execution_count": 9,
     "metadata": {},
     "output_type": "execute_result"
    }
   ],
   "source": [
    "#ex1. \n",
    "def get_max_min(data_list):\n",
    "    return {\"최대값\": max(data_list), \"최소값\": min(data_list)}\n",
    "get_max_min([5,6,7,8])"
   ]
  },
  {
   "cell_type": "code",
   "execution_count": 11,
   "id": "812911df",
   "metadata": {},
   "outputs": [
    {
     "data": {
      "text/plain": [
       "{'최대값': 7, '최소값': 4}"
      ]
     },
     "execution_count": 11,
     "metadata": {},
     "output_type": "execute_result"
    }
   ],
   "source": [
    "get_min_max = lambda data_list : {\"최대값\": max(data_list), \"최소값\": min(data_list)}\n",
    "get_min_max([4,5,6,7])"
   ]
  },
  {
   "cell_type": "code",
   "execution_count": 16,
   "id": "ba844e6b",
   "metadata": {},
   "outputs": [
    {
     "name": "stdout",
     "output_type": "stream",
     "text": [
      "마른 체형 표준 비만 고도 비만\n"
     ]
    }
   ],
   "source": [
    "#ex2. BMI 지수 - 마른 체형 / 표준 / 비만 / 고도비만 출력\n",
    "def getBMI(kg, m) :\n",
    "    bmi = (kg / m**2)\n",
    "    if 18.5<=bmi<25:\n",
    "        return '표준'\n",
    "    elif 25<=bmi<30:\n",
    "        return '비만'\n",
    "    elif bmi<18.5:\n",
    "        return '마른 체형'\n",
    "    else:\n",
    "        return '고도 비만'\n",
    "print(getBMI(50, 1.7), getBMI(80, 1.8), getBMI(75, 1.7), getBMI(90, 1.6))"
   ]
  },
  {
   "cell_type": "code",
   "execution_count": 8,
   "id": "3e3fff92",
   "metadata": {},
   "outputs": [
    {
     "data": {
      "text/plain": [
       "{'넓이': 6.0, '둘레': 12.0}"
      ]
     },
     "execution_count": 8,
     "metadata": {},
     "output_type": "execute_result"
    }
   ],
   "source": [
    "#ex3. 직각 삼각형의 밑변과 높이를 입력받은 후 삼각형 면적과 둘레를 계산하는 함수를 작성\n",
    "    #리턴값은 면적과 둘레를 return\n",
    "    #math.sqrt(): 제곱근을 구하는 함수\n",
    "import math\n",
    "def get_triangle(width, height):\n",
    "    return {\"넓이\":width*height*0.5, \"둘레\":width+height+math.sqrt((width**2)+(height**2))}\n",
    "\n",
    "get_triangle(3,4)"
   ]
  },
  {
   "cell_type": "code",
   "execution_count": 63,
   "id": "044cf1a8",
   "metadata": {},
   "outputs": [
    {
     "data": {
      "text/plain": [
       "55"
      ]
     },
     "execution_count": 63,
     "metadata": {},
     "output_type": "execute_result"
    }
   ],
   "source": [
    "#ex4. 시작과 끝 입력 후 범위 내 모든 수의 합을 출력\n",
    "def mysum(fRom, end):\n",
    "    sum = 0\n",
    "    for number in range(fRom, end + 1):\n",
    "        sum += number\n",
    "    return sum\n",
    "mysum(1,10)"
   ]
  },
  {
   "cell_type": "code",
   "execution_count": 64,
   "id": "df95ff1c",
   "metadata": {},
   "outputs": [
    {
     "name": "stdout",
     "output_type": "stream",
     "text": [
      "['Seo', 'Dae', 'Kwa', 'Jej']\n"
     ]
    }
   ],
   "source": [
    "#ex5. 입력받은 리스트의 각 문자열의 첫 세 글자로만 구성된 리스트를 리턴하는 함수와 람다식\n",
    "def get_abbrs(lst):\n",
    "    abbrs=[]\n",
    "    for i in range(len(lst)):\n",
    "        abbrs.append(lst[i][0:3])\n",
    "    print(abbrs)\n",
    "get_abbrs(['Seoul', 'Daegu', 'Kwangju', 'Jeju'])"
   ]
  },
  {
   "cell_type": "code",
   "execution_count": 65,
   "id": "1a91e321",
   "metadata": {},
   "outputs": [
    {
     "data": {
      "text/plain": [
       "['Seo', 'Dae', 'Kwa', 'Jej']"
      ]
     },
     "execution_count": 65,
     "metadata": {},
     "output_type": "execute_result"
    }
   ],
   "source": [
    "#람다식\n",
    "get_abbrs = lambda lst : list(map(lambda x:x[0:3], lst))\n",
    "get_abbrs(['Seoul', 'Daegu', 'Kwangju', 'Jeju'])"
   ]
  },
  {
   "cell_type": "code",
   "execution_count": 37,
   "id": "5209835a",
   "metadata": {},
   "outputs": [
    {
     "data": {
      "text/plain": [
       "8"
      ]
     },
     "execution_count": 37,
     "metadata": {},
     "output_type": "execute_result"
    }
   ],
   "source": [
    "#ex6. return x**y 함수 정의를 람다식으로 수정\n",
    "f = lambda x, y : x**y\n",
    "f(2,3)"
   ]
  },
  {
   "cell_type": "code",
   "execution_count": 34,
   "id": "381d4c4c",
   "metadata": {},
   "outputs": [
    {
     "data": {
      "text/plain": [
       "[1, 4, 9, 16, 25]"
      ]
     },
     "execution_count": 34,
     "metadata": {},
     "output_type": "execute_result"
    }
   ],
   "source": [
    "#ex7. input [1, 2, 3, 4, 5] output [1, 4, 9, 16, 25] (1)람다함수와 map함수 사용 / (2)리스트 컴프리헨션 사용\n",
    "input_lst=[1, 2, 3, 4, 5]\n",
    "#(1) 람다, map\n",
    "list(map(lambda x: x**2, input_lst))"
   ]
  },
  {
   "cell_type": "code",
   "execution_count": 35,
   "id": "dcef6b1b",
   "metadata": {},
   "outputs": [
    {
     "data": {
      "text/plain": [
       "[1, 4, 9, 16, 25]"
      ]
     },
     "execution_count": 35,
     "metadata": {},
     "output_type": "execute_result"
    }
   ],
   "source": [
    "#(2) 리스트 컴프리헨션\n",
    "[item**2 for item in input_lst]"
   ]
  },
  {
   "cell_type": "code",
   "execution_count": 39,
   "id": "40758863",
   "metadata": {},
   "outputs": [],
   "source": [
    "#ex8. 각 코드가 다른 결과를 return하는 이유 서술\n",
    "#print(*a)는 언패킹"
   ]
  },
  {
   "cell_type": "code",
   "execution_count": 40,
   "id": "2f9fac12",
   "metadata": {},
   "outputs": [
    {
     "data": {
      "text/plain": [
       "'2024-9-6'"
      ]
     },
     "execution_count": 40,
     "metadata": {},
     "output_type": "execute_result"
    }
   ],
   "source": [
    "#ex9. 다음 코드의 실행 결과\n",
    "date_info={'year':2024, 'month':9, 'day':6}\n",
    "result = '{year}-{month}-{day}'.format(**date_info)\n",
    "result"
   ]
  },
  {
   "cell_type": "code",
   "execution_count": 41,
   "id": "f37c545c",
   "metadata": {},
   "outputs": [
    {
     "data": {
      "text/plain": [
       "False"
      ]
     },
     "execution_count": 41,
     "metadata": {},
     "output_type": "execute_result"
    }
   ],
   "source": [
    "#ex10. 입력받은 n개의 벡터(리스트, 튜플, 셋, 딕셔너리)의 크기가 같은지 return하는 함수 (리스트컴프리헨션)\n",
    "def vector_size_check(*vector_var):\n",
    "    s=set()\n",
    "    for i in vector_var:\n",
    "        s.add(len(i))\n",
    "    if len(s) == 1:\n",
    "        return True\n",
    "    else:\n",
    "        return False\n",
    "vector_size_check(([1,2], {10,20}, {'name':'홍','age':30}), (1,))"
   ]
  },
  {
   "cell_type": "code",
   "execution_count": 45,
   "id": "dd73decd",
   "metadata": {},
   "outputs": [
    {
     "name": "stdout",
     "output_type": "stream",
     "text": [
      "[5, 10, 15, 20]\n"
     ]
    }
   ],
   "source": [
    "#ex11. 하나의 스칼라 값을 리스트나 튜플 셋 등 크기가 일정하지 않은 벡터에 곱하는 코드\n",
    "def scalar_vector_product(scalar, vector):\n",
    "      return [scalar * element for element in vector]\n",
    "print(scalar_vector_product(5, [1,2,3,4]))"
   ]
  },
  {
   "cell_type": "markdown",
   "id": "77c4afa5",
   "metadata": {},
   "source": [
    "## 서술형"
   ]
  },
  {
   "cell_type": "code",
   "execution_count": 46,
   "id": "9949e9bd",
   "metadata": {},
   "outputs": [
    {
     "data": {
      "text/plain": [
       "[(4, 'a'), (3, 'b'), (2, 'c'), (1, 'd')]"
      ]
     },
     "execution_count": 46,
     "metadata": {},
     "output_type": "execute_result"
    }
   ],
   "source": [
    "#ex1. 다음 코드의 실행 결과 → 2번!\n",
    "pairs = [(1, 'd'), (2,'c'), (3,'b'), (4,'a')]\n",
    "pairs.sort(key=lambda pair: pair[1])\n",
    "pairs"
   ]
  },
  {
   "cell_type": "code",
   "execution_count": 74,
   "id": "b4481787",
   "metadata": {},
   "outputs": [
    {
     "ename": "TypeError",
     "evalue": "'int' object is not iterable",
     "output_type": "error",
     "traceback": [
      "\u001b[1;31m---------------------------------------------------------------------------\u001b[0m",
      "\u001b[1;31mTypeError\u001b[0m                                 Traceback (most recent call last)",
      "Cell \u001b[1;32mIn[74], line 16\u001b[0m\n\u001b[0;32m     14\u001b[0m         \u001b[38;5;28mprint\u001b[39m(a, end\u001b[38;5;241m=\u001b[39m\u001b[38;5;124m'\u001b[39m\u001b[38;5;124m'\u001b[39m)\n\u001b[0;32m     15\u001b[0m         sub()\n\u001b[1;32m---> 16\u001b[0m a \u001b[38;5;241m+\u001b[39m\u001b[38;5;241m=\u001b[39m \u001b[38;5;241m1\u001b[39m \u001b[38;5;66;03m# a=11\u001b[39;00m\n\u001b[0;32m     17\u001b[0m func()\n",
      "\u001b[1;31mTypeError\u001b[0m: 'int' object is not iterable"
     ]
    }
   ],
   "source": [
    "#ex2.오류 발생 라인 판별 및 문제 해결, 실행 결과\n",
    "#오류 발생 라인: 문제의 14. func() / 11. sub()\n",
    "#sub 정의 시 a가 사용 전에 정의되지 않음\n",
    "#sub에 a=10을 포함하려는 의도라면, 다음과 같음.\n",
    "\n",
    "def sub():\n",
    "    a=10\n",
    "    a += 1\n",
    "    print(a, end='')\n",
    "def func():\n",
    "    for i in range(2):\n",
    "        a = 5\n",
    "        a += 1\n",
    "        print(a, end='')\n",
    "        sub()\n",
    "a += 1 # a=11\n",
    "func()"
   ]
  },
  {
   "cell_type": "code",
   "execution_count": 75,
   "id": "20062118",
   "metadata": {},
   "outputs": [
    {
     "name": "stdout",
     "output_type": "stream",
     "text": [
      "6(func함수에서 출력) 12(sub함수에서 출력) 6(func함수에서 출력) 13(sub함수에서 출력) "
     ]
    }
   ],
   "source": [
    "a = 10 \n",
    "def sub():\n",
    "    global a #문제해결을 위한 코드\n",
    "    a += 1\n",
    "    print(a, end='(sub함수에서 출력) ')\n",
    "def func():\n",
    "    for i in range(2):\n",
    "        a = 5 # 지역변수\n",
    "        a += 1\n",
    "        print(a, end='(func함수에서 출력) ')\n",
    "        sub()\n",
    "a += 1\n",
    "func()"
   ]
  },
  {
   "cell_type": "code",
   "execution_count": 50,
   "id": "18389dbf",
   "metadata": {},
   "outputs": [
    {
     "name": "stdout",
     "output_type": "stream",
     "text": [
      "100\n"
     ]
    }
   ],
   "source": [
    "#ex3. 다음 구문 실행한 결과\n",
    "var = 100\n",
    "def func(var):\n",
    "    var = 200\n",
    "func(var)\n",
    "print(var)"
   ]
  },
  {
   "cell_type": "code",
   "execution_count": 76,
   "id": "42422786",
   "metadata": {},
   "outputs": [
    {
     "data": {
      "text/plain": [
       "5"
      ]
     },
     "execution_count": 76,
     "metadata": {},
     "output_type": "execute_result"
    }
   ],
   "source": [
    "#ex4. 다음 구분 실행한 결과\n",
    "def my_func(func, *args):\n",
    "    return func(*args)\n",
    "import numpy as np\n",
    "my_func(np.add, 2, 3)"
   ]
  },
  {
   "cell_type": "code",
   "execution_count": 55,
   "id": "92bdbcef",
   "metadata": {},
   "outputs": [
    {
     "data": {
      "text/plain": [
       "9"
      ]
     },
     "execution_count": 55,
     "metadata": {},
     "output_type": "execute_result"
    }
   ],
   "source": [
    "#ex5. 다음 구문의 실행 결과\n",
    "def my_func(func, *args):\n",
    "    return func(*args)\n",
    "my_func(lambda a, b : a**b, 3, 2)"
   ]
  },
  {
   "cell_type": "code",
   "execution_count": 56,
   "id": "87d19a6a",
   "metadata": {},
   "outputs": [],
   "source": [
    "#ex6. 파이썬 함수에 대한 설명 중 잘못된 것은?\n",
    "#(1)"
   ]
  },
  {
   "cell_type": "code",
   "execution_count": 57,
   "id": "88a71c00",
   "metadata": {},
   "outputs": [],
   "source": [
    "#ex7. 다음과 구문이 있을 경우 오류가 발생하는 함수 호출은?\n",
    "#(4) 매개변수 순서가 다르니 L=[], a=40으로 표기해야"
   ]
  },
  {
   "cell_type": "code",
   "execution_count": 66,
   "id": "154ab0c1",
   "metadata": {},
   "outputs": [],
   "source": [
    "#ex8. 설명의 키워드 : lambda"
   ]
  },
  {
   "cell_type": "code",
   "execution_count": 73,
   "id": "a3b19c2f",
   "metadata": {},
   "outputs": [
    {
     "data": {
      "text/plain": [
       "list"
      ]
     },
     "execution_count": 73,
     "metadata": {},
     "output_type": "execute_result"
    }
   ],
   "source": [
    "a=[1,2,3]\n",
    "type(a)"
   ]
  },
  {
   "cell_type": "code",
   "execution_count": null,
   "id": "f3856ea3",
   "metadata": {},
   "outputs": [],
   "source": []
  },
  {
   "cell_type": "code",
   "execution_count": null,
   "id": "e69357c0",
   "metadata": {},
   "outputs": [],
   "source": [
    "\n"
   ]
  }
 ],
 "metadata": {
  "kernelspec": {
   "display_name": "Python 3 (ipykernel)",
   "language": "python",
   "name": "python3"
  },
  "language_info": {
   "codemirror_mode": {
    "name": "ipython",
    "version": 3
   },
   "file_extension": ".py",
   "mimetype": "text/x-python",
   "name": "python",
   "nbconvert_exporter": "python",
   "pygments_lexer": "ipython3",
   "version": "3.10.9"
  },
  "toc": {
   "base_numbering": 1,
   "nav_menu": {},
   "number_sections": false,
   "sideBar": true,
   "skip_h1_title": false,
   "title_cell": "Table of Contents",
   "title_sidebar": "Contents",
   "toc_cell": false,
   "toc_position": {
    "height": "calc(100% - 180px)",
    "left": "10px",
    "top": "150px",
    "width": "220.4px"
   },
   "toc_section_display": true,
   "toc_window_display": true
  }
 },
 "nbformat": 4,
 "nbformat_minor": 5
}
