{
 "cells": [
  {
   "cell_type": "code",
   "execution_count": 1,
   "id": "95b99477",
   "metadata": {},
   "outputs": [
    {
     "data": {
      "text/html": [
       "\n",
       "<style>\n",
       "div.container{width:90% !important;}\n",
       "div.cell.code_cell.rendered{width:90%;}\n",
       "div.input_prompt{padding:0px;}\n",
       "div.CodeMirror {font-family:Consolas; font-size:10pt;}\n",
       "div.text_cell_render.rendered_html{font-size:10pt;}\n",
       "div.output {font-size:10pt; font-weight:bold;}\n",
       "div.input {font-family:Consolas; font-size:10pt;}\n",
       "div.prompt {min-width:70px;}\n",
       "div#toc-wrapper{padding-top:120px;}\n",
       "div.text_cell_render ul li{font-size:10pt;padding:5px;}\n",
       "table.dataframe{font-size:10px;}\n",
       "</style>\n"
      ],
      "text/plain": [
       "<IPython.core.display.HTML object>"
      ]
     },
     "metadata": {},
     "output_type": "display_data"
    }
   ],
   "source": [
    "from IPython.display import display, HTML\n",
    "display(HTML(\"\"\"\n",
    "<style>\n",
    "div.container{width:90% !important;}\n",
    "div.cell.code_cell.rendered{width:90%;}\n",
    "div.input_prompt{padding:0px;}\n",
    "div.CodeMirror {font-family:Consolas; font-size:10pt;}\n",
    "div.text_cell_render.rendered_html{font-size:10pt;}\n",
    "div.output {font-size:10pt; font-weight:bold;}\n",
    "div.input {font-family:Consolas; font-size:10pt;}\n",
    "div.prompt {min-width:70px;}\n",
    "div#toc-wrapper{padding-top:120px;}\n",
    "div.text_cell_render ul li{font-size:10pt;padding:5px;}\n",
    "table.dataframe{font-size:10px;}\n",
    "</style>\n",
    "\"\"\"))"
   ]
  },
  {
   "cell_type": "markdown",
   "id": "04e208df",
   "metadata": {},
   "source": [
    "<b><font size=\"6\" color=\"red\">Ch 7. 객체지향 프로그래밍</font><b>"
   ]
  },
  {
   "cell_type": "code",
   "execution_count": 3,
   "id": "9986e405",
   "metadata": {},
   "outputs": [
    {
     "name": "stdout",
     "output_type": "stream",
     "text": [
      "홍길동 남자\n",
      "{'name': '고길동', 'gender': '남자', 'academy': 'MBC'}\n",
      "{'name': '김길숙', 'gender': '여자', 'academy': 'MBC'}\n"
     ]
    }
   ],
   "source": [
    "person1 = {'name': '홍길동', 'gender': '남자', 'academy': 'MBC'}\n",
    "person2 = {'name': '김길숙', 'gender': '여자', 'academy': 'MBC'}\n",
    "print(person1['name'], person1.get('gender'))\n",
    "person1['name'] = '고길동'\n",
    "print(person1)\n",
    "print(person2)\n",
    "#person1.my_function() 원하는 함수를 추가하는 방법을 배워 보고자 한다."
   ]
  },
  {
   "cell_type": "code",
   "execution_count": 6,
   "id": "fc13aec1",
   "metadata": {},
   "outputs": [
    {
     "name": "stdout",
     "output_type": "stream",
     "text": [
      "MBC의 김길숙님은 여자입니다.\n",
      "MBC의 홍길동님은 남자입니다.\n",
      "MBC의 홍홍홍님은 여자입니다.\n",
      "MBC의 홍길동님은 남자입니다.\n"
     ]
    }
   ],
   "source": [
    "class Person: #클래스명은 카멜/파스칼 케이스로 정의 권장\n",
    "    academy = 'MBC' #클래스 변수\n",
    "    def __init__(self, name, gender): \n",
    "        self.name = name \n",
    "        self.gender = gender #인스턴스 변수\n",
    "    def print_info(self):\n",
    "        print(\"{}의 {}님은 {}입니다.\".format(self.academy, self.name, self.gender))\n",
    "#__init__ : 객체가 생성될 때 자동으로 호출되는 생성자 함수(메서드)\n",
    "p1 = Person(\"김길숙\", \"여자\") #객체변수(인스턴스) 생성\n",
    "p1.print_info()\n",
    "p2 = Person('홍길동', '남자')\n",
    "p2.print_info()\n",
    "p1.name = \"홍홍홍\"\n",
    "p1.print_info()\n",
    "p2.print_info()"
   ]
  },
  {
   "cell_type": "code",
   "execution_count": 5,
   "id": "d7858702",
   "metadata": {},
   "outputs": [
    {
     "data": {
      "text/plain": [
       "__main__.Person"
      ]
     },
     "execution_count": 5,
     "metadata": {},
     "output_type": "execute_result"
    }
   ],
   "source": [
    "type(p1)"
   ]
  },
  {
   "cell_type": "markdown",
   "id": "1bb2703b",
   "metadata": {},
   "source": [
    "# 1. 객체와 클래스\n",
    "```\n",
    "class 클래스명(상속받을 클래스명):\n",
    "    \"독스트링\"\n",
    "    변수나 함수들을 선언\n",
    "```"
   ]
  },
  {
   "cell_type": "code",
   "execution_count": 7,
   "id": "34edc809",
   "metadata": {},
   "outputs": [
    {
     "data": {
      "text/plain": [
       "__main__.Person"
      ]
     },
     "execution_count": 7,
     "metadata": {},
     "output_type": "execute_result"
    }
   ],
   "source": [
    "class Person:\n",
    "    \"Person 클래스는 이러저러해 설명하는 독스트링\"\n",
    "#    def __init__(self, name):\n",
    "#        self.name = name\n",
    "    pass\n",
    "p1 = Person()\n",
    "type(p1)"
   ]
  },
  {
   "cell_type": "code",
   "execution_count": 9,
   "id": "0687a9df",
   "metadata": {},
   "outputs": [
    {
     "name": "stdout",
     "output_type": "stream",
     "text": [
      "<__main__.Person object at 0x000002A55B2C8A60>\n",
      "<__main__.Person object at 0x000002A55B2C8A60>\n"
     ]
    }
   ],
   "source": [
    "print(p1)\n",
    "print(p1.__str__())"
   ]
  },
  {
   "cell_type": "code",
   "execution_count": 10,
   "id": "a3b1fe55",
   "metadata": {},
   "outputs": [
    {
     "data": {
      "text/plain": [
       "True"
      ]
     },
     "execution_count": 10,
     "metadata": {},
     "output_type": "execute_result"
    }
   ],
   "source": [
    "isinstance(p1, Person)"
   ]
  },
  {
   "cell_type": "code",
   "execution_count": 11,
   "id": "850f344f",
   "metadata": {},
   "outputs": [
    {
     "data": {
      "text/plain": [
       "'Person 클래스는 이러저러해 설명하는 독스트링'"
      ]
     },
     "execution_count": 11,
     "metadata": {},
     "output_type": "execute_result"
    }
   ],
   "source": [
    "p1.__doc__"
   ]
  },
  {
   "cell_type": "markdown",
   "id": "e91891bf",
   "metadata": {},
   "source": [
    "# 2. 생성자 '__init__()'와 소멸자 '__del__()'\n",
    "- 생성자: __init__(self, [매개변수1, 매개변수2, ...]) - 객체가 생성될 때 자동 실행\n",
    "        객체 생성 시에 필요한 코드(인스턴스 변수 생성과 초기화)를 포함한다.\n",
    "- 소멸자: __del__(self) - 객체가 소멸될 때 자동 실행\n",
    "        객체 소멸 시에 필요한 코드를 포함\n",
    "        인스턴스 객체의 레퍼런스 카운트가 0이 될 때 실행"
   ]
  },
  {
   "cell_type": "code",
   "execution_count": 6,
   "id": "35cefff7",
   "metadata": {},
   "outputs": [],
   "source": [
    "class Person:\n",
    "    def __init__(self, name, gender):\n",
    "        self.name = name #인스턴스 변수를 초기화\n",
    "        self.gender = gender\n",
    "        print(\"Person형 객체를 생성\")\n",
    "    def __del__(self):\n",
    "        print(\"Person형 객체 소멸\")\n",
    "    def print_info(self):\n",
    "        print(\"{}님은 {}입니다.\".format(self.name, self.gender))\n",
    "    def __str__(self): #오버라이딩(함수 재정의)\n",
    "        return \"{}님은 {}입니다.\".format(self.name, self.gender)"
   ]
  },
  {
   "cell_type": "code",
   "execution_count": 7,
   "id": "1f43d463",
   "metadata": {},
   "outputs": [
    {
     "name": "stdout",
     "output_type": "stream",
     "text": [
      "Person형 객체를 생성\n"
     ]
    }
   ],
   "source": [
    "p1 = Person('장원영', '여자')"
   ]
  },
  {
   "cell_type": "code",
   "execution_count": 8,
   "id": "4c437a9d",
   "metadata": {},
   "outputs": [
    {
     "name": "stdout",
     "output_type": "stream",
     "text": [
      "장원영님은 여자입니다.\n"
     ]
    }
   ],
   "source": [
    "p1.print_info()"
   ]
  },
  {
   "cell_type": "code",
   "execution_count": 9,
   "id": "f847a1e8",
   "metadata": {},
   "outputs": [
    {
     "name": "stdout",
     "output_type": "stream",
     "text": [
      "장원영님은 여자입니다.\n",
      "장원영님은 여자입니다.\n"
     ]
    }
   ],
   "source": [
    "print(p1)\n",
    "print(p1.__str__())"
   ]
  },
  {
   "cell_type": "code",
   "execution_count": 10,
   "id": "fed6b8aa",
   "metadata": {},
   "outputs": [
    {
     "data": {
      "text/plain": [
       "(__main__.Person, True)"
      ]
     },
     "execution_count": 10,
     "metadata": {},
     "output_type": "execute_result"
    }
   ],
   "source": [
    "type(p1), isinstance(p1, Person)"
   ]
  },
  {
   "cell_type": "code",
   "execution_count": 11,
   "id": "75361560",
   "metadata": {},
   "outputs": [
    {
     "name": "stdout",
     "output_type": "stream",
     "text": [
      "Person형 객체 소멸\n"
     ]
    }
   ],
   "source": [
    "del p1"
   ]
  },
  {
   "cell_type": "code",
   "execution_count": 12,
   "id": "7d018e2e",
   "metadata": {},
   "outputs": [
    {
     "name": "stdout",
     "output_type": "stream",
     "text": [
      "Person형 객체를 생성\n"
     ]
    }
   ],
   "source": [
    "p2 = Person(\"홍길동\", \"남자\")"
   ]
  },
  {
   "cell_type": "code",
   "execution_count": 13,
   "id": "db2ab445",
   "metadata": {},
   "outputs": [],
   "source": [
    "p3 = p2\n",
    "#레퍼런스 카운트 증가 1→2"
   ]
  },
  {
   "cell_type": "code",
   "execution_count": 14,
   "id": "3fd73661",
   "metadata": {},
   "outputs": [],
   "source": [
    "del p2\n",
    "#레퍼런스 카운트 감소 2→1"
   ]
  },
  {
   "cell_type": "code",
   "execution_count": 15,
   "id": "5d4c0801",
   "metadata": {},
   "outputs": [
    {
     "name": "stdout",
     "output_type": "stream",
     "text": [
      "Person형 객체 소멸\n"
     ]
    }
   ],
   "source": [
    "del p3\n",
    "#레퍼런스 카운트 감소 1→0"
   ]
  },
  {
   "cell_type": "markdown",
   "id": "f82bd75a",
   "metadata": {},
   "source": [
    "- 오버라이딩(함수의 재정의)\n",
    "- 오버로딩(함수의 중복 정의, 불가함)\n",
    "- 생성자 함수의 오버로딩 역시 불가"
   ]
  },
  {
   "cell_type": "code",
   "execution_count": 21,
   "id": "f9510257",
   "metadata": {},
   "outputs": [],
   "source": [
    "class Person:\n",
    "    #생성자 함수 오버로딩 불가. 대신 기본값을 갖는 매개변수 이용\n",
    "    def __init__(self, name='신원미상', gender=\"남자\"):\n",
    "        self.name = name #인스턴스 변수를 초기화\n",
    "        self.gender = gender\n",
    "        \n",
    "    # gender 미입력 시 '남자' 출력하고 싶어도 오버로딩 안 돼\n",
    "    #     def __init__(self, name) \n",
    "    #         self.name = name\n",
    "    #         self.gender = \"남자\"\n",
    "\n",
    "    def __del__(self):\n",
    "        pass\n",
    "    def print_info(self):\n",
    "        print(\"{}님은 {}입니다.\".format(self.name, self.gender))\n",
    "    def __str__(self): #오버라이딩(함수 재정의)\n",
    "        return \"{}님은 {}입니다.\".format(self.name, self.gender)"
   ]
  },
  {
   "cell_type": "code",
   "execution_count": 22,
   "id": "05885d9b",
   "metadata": {},
   "outputs": [],
   "source": [
    "p1 = Person('박보검', '남자')\n",
    "p2 = Person(gender='여자', name='이지은')\n",
    "p3 = Person('손석구')\n",
    "p4 = Person()\n",
    "p4 = Person(gender=\"여자\")"
   ]
  },
  {
   "cell_type": "code",
   "execution_count": 23,
   "id": "b394e3e6",
   "metadata": {},
   "outputs": [
    {
     "name": "stdout",
     "output_type": "stream",
     "text": [
      "p1 = 박보검님은 남자입니다.\n",
      "p2 = 이지은님은 여자입니다.\n",
      "p3 = 손석구님은 남자입니다.\n",
      "p4 = 신원미상님은 여자입니다.\n"
     ]
    }
   ],
   "source": [
    "print('p1 =', p1)\n",
    "print('p2 =', p2)\n",
    "print('p3 =', p3)\n",
    "print('p4 =', p4)"
   ]
  },
  {
   "cell_type": "markdown",
   "id": "b61168eb",
   "metadata": {},
   "source": [
    "# 3. 변수와 메서드(함수)\n",
    "- 인스턴스 변수(객체별로 정의되는) vs 클래스 변수(클래스 공통) vs Static(정적) 변수\n",
    "- 인스턴스메서드(self) vs 클래스메서드(cls) vs Static메서드()"
   ]
  },
  {
   "cell_type": "code",
   "execution_count": 33,
   "id": "8a80a2b5",
   "metadata": {},
   "outputs": [
    {
     "name": "stdout",
     "output_type": "stream",
     "text": [
      "MBC\n",
      "p1 객체변수(인스턴스) = MBC의 이정재님은 남성입니다.\n",
      "p2 객체변수(인스턴스) = MBC의 이정재님은 남성입니다.\n",
      "p1 객체변수(인스턴스) = KBS의 이정재님은 남성입니다.\n",
      "p2 객체변수(인스턴스) = MBC의 이정재님은 남성입니다.\n",
      "MBC\n",
      "p1 객체변수(인스턴스) = KBS의 이정재님은 남성입니다.\n",
      "p2 객체변수(인스턴스) = SBS의 이정재님은 남성입니다.\n",
      "SBS\n"
     ]
    }
   ],
   "source": [
    "#클래스 변수는 클래스 내부에 선언되며, 생성된 모든 인스턴스(객체)에 동일한 값을 가진다.\n",
    "#인스턴스(객체).클래스변수 → 수정하면 해당 인스턴스 객체에만 반영\n",
    "#클래스명.클래스변수 → 수정하면 모든 인스턴스 객체에 반영\n",
    "class Person:\n",
    "    academy = 'MBC' #클래스 변수\n",
    "    def __init__(self, name='이정재', gender='남성'):\n",
    "        self.name = name\n",
    "        self.gender = gender\n",
    "    def __str__(self):\n",
    "        return \"{}의 {}님은 {}입니다.\".format(self.academy, self.name, self.gender)\n",
    "print(Person.academy) #객체 정의 전에도 스태틱 메모리에 들어간 정보\n",
    "p1 = Person()\n",
    "p2 = Person()\n",
    "print('p1 객체변수(인스턴스) =', p1)\n",
    "print('p2 객체변수(인스턴스) =', p2)\n",
    "p1.academy = 'KBS' #인스턴스.클래스변수 수정 : p1의 academy만 '다른 곳'으로 바뀜\n",
    "print('p1 객체변수(인스턴스) =', p1)\n",
    "print('p2 객체변수(인스턴스) =', p2)\n",
    "print(Person.academy) #클래스명.클래스변수 수정 : p2의 academy가 '또 다른 곳'으로 바뀜\n",
    "Person.academy = \"SBS\"\n",
    "print('p1 객체변수(인스턴스) =', p1)\n",
    "print('p2 객체변수(인스턴스) =', p2)\n",
    "print(Person.academy)"
   ]
  },
  {
   "cell_type": "markdown",
   "id": "59a0154e",
   "metadata": {},
   "source": [
    "◎ 인스턴스메서드 VS 클래스메서드 VS Static메서드\n",
    "- 인스턴스메서드 : 첫 번째 인자에 self를 명시(관습). 객체를 통해서만 호출할 수 있는 메서드 (객체명.인스턴스메서드() ex. p1.__str__())\n",
    "- 클래스메서드 : 메서드 위에 @classmethod라고 꼭 명시(문법). 첫 번째 인자에 clz, cls, clazz 등 클래스를 가리킴\n",
    "- static메서드 : 메서드 위에 @staticmethod라고 꼭 명시(문법). 디폴트 인자 없음"
   ]
  },
  {
   "cell_type": "code",
   "execution_count": 11,
   "id": "6f9aaf3a",
   "metadata": {},
   "outputs": [],
   "source": [
    "class Person:\n",
    "    academy = 'MBC' #클래스변수\n",
    "    def __init__(self, name='홍길동', gender='남자'):\n",
    "        self.name = name\n",
    "        self.gender = gender\n",
    "    def print_info(self): #인스턴스메서드. 객체변수.print_ifo()로 호출\n",
    "        print('일반(인스턴스) 메서드 - {}의 {}님은 {}입니다.'.format(self.academy, self.name, self.gender))\n",
    "    def change_info(self, name='익명', gender='여자'):\n",
    "        self.name = name\n",
    "        self.gender = gender\n",
    "        print(\"일반(인스턴스) 메서드를 통해 {}로 이름 변경, {}로 성별 변경\".format(self.name, self.gender))\n",
    "\n",
    "    @classmethod #정의할 클래스 메서드 바로 위에 annotation\n",
    "    def do_(clz): #클래스 변수를 이용한 로직 / clz → 클래스 Person을 의미\n",
    "        clz.academy = 'classAcademy'\n",
    "        print(\"클래스메서드 do_를 통해 {}로 클래스변수 변경\".format(clz.academy))\n",
    "        \n",
    "    @classmethod\n",
    "    def do_things_(clz, academy):\n",
    "        clz.academy = academy\n",
    "        print(\"클래스메서드 do_things_를 통해 {}로 클래스변수 변경\".format(clz.academy))\n",
    "        \n",
    "    @staticmethod\n",
    "    def that_():\n",
    "        Person.academy = \"staticAcademy\"\n",
    "        print(\"static메서드 that_을 통해 {}로 클래스변수 변경\".format(Person.academy))"
   ]
  },
  {
   "cell_type": "code",
   "execution_count": 12,
   "id": "4bec9a65",
   "metadata": {},
   "outputs": [
    {
     "name": "stdout",
     "output_type": "stream",
     "text": [
      "일반(인스턴스) 메서드 - MBC의 홍길동님은 남자입니다.\n"
     ]
    }
   ],
   "source": [
    "p1 = Person()\n",
    "p1.print_info()"
   ]
  },
  {
   "cell_type": "code",
   "execution_count": 13,
   "id": "d84aaef2",
   "metadata": {},
   "outputs": [
    {
     "name": "stdout",
     "output_type": "stream",
     "text": [
      "static메서드 that_을 통해 staticAcademy로 클래스변수 변경\n"
     ]
    }
   ],
   "source": [
    "Person.that_()"
   ]
  },
  {
   "cell_type": "code",
   "execution_count": 14,
   "id": "8ab15f7c",
   "metadata": {},
   "outputs": [
    {
     "name": "stdout",
     "output_type": "stream",
     "text": [
      "일반(인스턴스) 메서드 - staticAcademy의 홍길동님은 남자입니다.\n"
     ]
    }
   ],
   "source": [
    "p1.print_info()"
   ]
  },
  {
   "cell_type": "code",
   "execution_count": 15,
   "id": "b938165b",
   "metadata": {},
   "outputs": [
    {
     "name": "stdout",
     "output_type": "stream",
     "text": [
      "일반(인스턴스) 메서드를 통해 익명로 이름 변경, 여자로 성별 변경\n",
      "일반(인스턴스) 메서드 - staticAcademy의 익명님은 여자입니다.\n"
     ]
    }
   ],
   "source": [
    "p1.change_info()\n",
    "p1.print_info()"
   ]
  },
  {
   "cell_type": "code",
   "execution_count": 16,
   "id": "8b2c4adc",
   "metadata": {},
   "outputs": [
    {
     "name": "stdout",
     "output_type": "stream",
     "text": [
      "일반(인스턴스) 메서드 - staticAcademy의 홍길동님은 남자입니다.\n"
     ]
    }
   ],
   "source": [
    "p2 = Person()\n",
    "p2.print_info()"
   ]
  },
  {
   "cell_type": "code",
   "execution_count": 17,
   "id": "8d38cbe5",
   "metadata": {},
   "outputs": [
    {
     "name": "stdout",
     "output_type": "stream",
     "text": [
      "클래스메서드 do_를 통해 classAcademy로 클래스변수 변경\n",
      "일반(인스턴스) 메서드 - classAcademy의 익명님은 여자입니다.\n",
      "일반(인스턴스) 메서드 - classAcademy의 홍길동님은 남자입니다.\n"
     ]
    }
   ],
   "source": [
    "Person.do_()\n",
    "p1.print_info()\n",
    "p2.print_info()"
   ]
  },
  {
   "cell_type": "code",
   "execution_count": 18,
   "id": "11bede31",
   "metadata": {},
   "outputs": [
    {
     "name": "stdout",
     "output_type": "stream",
     "text": [
      "클래스메서드 do_things_를 통해 SBS로 클래스변수 변경\n",
      "일반(인스턴스) 메서드 - SBS의 익명님은 여자입니다.\n",
      "일반(인스턴스) 메서드 - SBS의 홍길동님은 남자입니다.\n"
     ]
    }
   ],
   "source": [
    "Person.do_things_(\"SBS\")\n",
    "p1.print_info()\n",
    "p2.print_info()"
   ]
  },
  {
   "cell_type": "markdown",
   "id": "e79d592c",
   "metadata": {},
   "source": [
    "# 4. 상속과 재정의\n",
    "- 상속 : 클래스 재사용\n",
    "- 상속을 이용하면 부모클래스의 모든 속성을 자식클래스로 물려줄 수 있음\n",
    "- 생성자 함수는 상속되지 않음\n",
    "```\n",
    "class 자식클래스명(부모클래스명):\n",
    "```    "
   ]
  },
  {
   "cell_type": "code",
   "execution_count": 22,
   "id": "9693f947",
   "metadata": {},
   "outputs": [],
   "source": [
    "class Person:\n",
    "    def __init__(self, name, gender):\n",
    "        self.name = name \n",
    "        self.gender = gender\n",
    "        print(\"Person 객체 생성합니다(부모클래스).\")\n",
    "    def print_info(self):\n",
    "        print(self)\n",
    "    def __str__(self):\n",
    "        return \"{}님은 {}입니다.\".format(self.name, self.gender)"
   ]
  },
  {
   "cell_type": "code",
   "execution_count": 27,
   "id": "1ad61852",
   "metadata": {},
   "outputs": [],
   "source": [
    "class Student(Person):\n",
    "    def __init__(self, name, gender, major):\n",
    "        self.name = name\n",
    "        self.gender = gender\n",
    "        self.major = major\n",
    "        print(\"Student 객체 생성합니다(자식클래스).\")\n",
    "    #재정의(override)\n",
    "    def __str__(self):\n",
    "        return \"{}님은 {}입니다. {} 전공입니다.\".format(self.name, self.gender, self.major)"
   ]
  },
  {
   "cell_type": "code",
   "execution_count": 28,
   "id": "58b66bb8",
   "metadata": {},
   "outputs": [
    {
     "name": "stdout",
     "output_type": "stream",
     "text": [
      "Person 객체 생성합니다(부모클래스).\n",
      "홍길동님은 남자입니다.\n",
      "True\n"
     ]
    }
   ],
   "source": [
    "p1 = Person(\"홍길동\",\"남자\")\n",
    "print(p1)\n",
    "print(isinstance(p1, Person))"
   ]
  },
  {
   "cell_type": "code",
   "execution_count": 31,
   "id": "2f3e78af",
   "metadata": {},
   "outputs": [
    {
     "name": "stdout",
     "output_type": "stream",
     "text": [
      "Student 객체 생성합니다(자식클래스).\n",
      "여자인 카리나님의 전공은 AI입니다.\n",
      "s1은 Student 타입? True\n",
      "s1은 Person 타입? True\n"
     ]
    }
   ],
   "source": [
    "s1 = Student(\"카리나\", \"여자\", \"AI\")\n",
    "print(s1)\n",
    "print(\"s1은 Student 타입?\", isinstance(s1, Student))\n",
    "print(\"s1은 Person 타입?\", isinstance(s1, Person))"
   ]
  },
  {
   "cell_type": "markdown",
   "id": "bd5bc96e",
   "metadata": {},
   "source": [
    "### super() 예약어 이용\n",
    "- super() : '부모클래스의'를 의미\n",
    "- super().상위클래스의함수명() 으로 사용"
   ]
  },
  {
   "cell_type": "code",
   "execution_count": 2,
   "id": "ee54f160",
   "metadata": {},
   "outputs": [],
   "source": [
    "class Person:\n",
    "    def __init__(self, name, gender):\n",
    "        self.name = name \n",
    "        self.gender = gender\n",
    "        print(\"Person 객체 생성합니다(부모클래스).\")\n",
    "    def print_info(self):\n",
    "        print(self)\n",
    "    def __str__(self):\n",
    "        return \"{}님은 {}입니다.\".format(self.name, self.gender)\n",
    "\n",
    "class Student(Person):\n",
    "    def __init__(self, name, gender, major):\n",
    "        super().__init__(name, gender) #부모클래스에서 가져오기\n",
    "        self.major = major\n",
    "        print(\"Student 객체 생성합니다(자식클래스).\")\n",
    "    #재정의(override)\n",
    "    def __str__(self):\n",
    "        return super().__str__() + \" {} 전공입니다.\".format(self.major) #부모클래스에서 가져오기"
   ]
  },
  {
   "cell_type": "code",
   "execution_count": 3,
   "id": "4c459a45",
   "metadata": {},
   "outputs": [
    {
     "name": "stdout",
     "output_type": "stream",
     "text": [
      "Person 객체 생성합니다(부모클래스).\n",
      "Student 객체 생성합니다(자식클래스).\n",
      "카리나님은 여자입니다. AI 전공입니다.\n"
     ]
    }
   ],
   "source": [
    "s1 = Student(\"카리나\", \"여자\", \"AI\")\n",
    "print(s1)"
   ]
  },
  {
   "cell_type": "markdown",
   "id": "be9388ed",
   "metadata": {},
   "source": [
    "### static 변수\n",
    "- 여러 객체들 사이에 데이터를 공유하고 싶을 때 사용\n",
    "- static변수: 앞에 `__`(underscore) 두 개를 붙임. 클래스명.`_`클래스명`__`static변수명 으로 참조\n",
    "- static 변수는 클래스 내부에서만 접근하도록 하려는 용도"
   ]
  },
  {
   "cell_type": "code",
   "execution_count": 22,
   "id": "94f84c06",
   "metadata": {},
   "outputs": [],
   "source": [
    "class Student(Person):\n",
    "    '''\n",
    "    name, gender에 major 변수를 갖는 Student 타입. \n",
    "    + Student 객체를 몇 번 생성했는지 카운트\n",
    "    '''\n",
    "    __count = 0 #static변수\n",
    "    def __init__(self, name='오해원', gender='여자', major='코미디'):\n",
    "        super().__init__(name, gender)\n",
    "        self.major = major\n",
    "        Student._Student__count += 1 #static변수로 작용\n",
    "        #객체가 생성될 때마다(init 실행 시마다) __count 1 증가\n",
    "    def __del__(self):\n",
    "        Student._Student__count -= 1\n",
    "        #객체가 소멸될 때마다(del 실행 시마다) __count 1 감소\n",
    "    def __str__(self):\n",
    "        return super().__str__() + \" 전공은 {}입니다. (객체 {} 생성)\".format(self.major, Student._Student__count)\n",
    "    \n",
    "    @classmethod #클래스 변수나 static 변수를 이용하는 로직에서 주로 사용\n",
    "    def get_count(cls):\n",
    "        return cls.__count\n",
    "#        return Student._Student__count"
   ]
  },
  {
   "cell_type": "code",
   "execution_count": 23,
   "id": "76fe1b0e",
   "metadata": {},
   "outputs": [
    {
     "name": "stdout",
     "output_type": "stream",
     "text": [
      "Person 객체 생성합니다(부모클래스).\n",
      "오해원님은 여자입니다. 전공은 코미디입니다. (객체 1 생성)\n",
      "객체 개수 : 1\n"
     ]
    }
   ],
   "source": [
    "s1 = Student()\n",
    "print(s1)\n",
    "print(\"객체 개수 :\", Student.get_count()) #클래스메소드는 클래스명.클래스메소드() 권장\n",
    "#print(\"객체 개수 :\", s1.get_count()) #이건 비추 "
   ]
  },
  {
   "cell_type": "code",
   "execution_count": 24,
   "id": "389313c6",
   "metadata": {},
   "outputs": [
    {
     "name": "stdout",
     "output_type": "stream",
     "text": [
      "Person 객체 생성합니다(부모클래스).\n",
      "객체 개수 : 2\n"
     ]
    }
   ],
   "source": [
    "s2 = Student(\"홍길동\", \"남자\", \"AI\")\n",
    "print(\"객체 개수 :\", Student.get_count())"
   ]
  },
  {
   "cell_type": "code",
   "execution_count": 25,
   "id": "2ff96c6c",
   "metadata": {},
   "outputs": [
    {
     "name": "stdout",
     "output_type": "stream",
     "text": [
      "Person 객체 생성합니다(부모클래스).\n",
      "객체 개수 : 1\n"
     ]
    }
   ],
   "source": [
    "s3 = Student(\"이영지\", \"여자\")\n",
    "del s2\n",
    "del s1\n",
    "print(\"객체 개수 :\", Student.get_count())"
   ]
  },
  {
   "cell_type": "code",
   "execution_count": 26,
   "id": "83ed9147",
   "metadata": {},
   "outputs": [
    {
     "name": "stdout",
     "output_type": "stream",
     "text": [
      "객체 개수 : 0\n"
     ]
    }
   ],
   "source": [
    "del s3\n",
    "print(\"객체 개수 :\", Student.get_count())"
   ]
  },
  {
   "cell_type": "markdown",
   "id": "dc8b2fb1",
   "metadata": {},
   "source": [
    "# 5. 연습문제\n",
    "## 실습형"
   ]
  },
  {
   "cell_type": "code",
   "execution_count": 3,
   "id": "21f29b4c",
   "metadata": {},
   "outputs": [],
   "source": [
    "#1. 다음 조건을 만족하는 클래스를 작성하세요.\n",
    "# - Shape (도형) 클래스와 Triangle (삼각형) 클래스 생성\n",
    "class Shape:\n",
    "    def __init__(self, x=0, y=0):\n",
    "        self.x = x\n",
    "        self.y = y\n",
    "    def move(self, dx, dy):\n",
    "        self.x += dx\n",
    "        self.y += dy\n",
    "    def __str__(self):\n",
    "        return \"x={}, y={}\".format(self.x, self.y)\n",
    "    def calc_area(self):\n",
    "        raise Exception(\"예외 메시지\") #Exception은 예외 Class \n",
    "    @staticmethod\n",
    "    def staticmethod_():\n",
    "        print('도형 클래스의 staticMethod 호출')\n",
    "\n",
    "class Triangle(Shape):\n",
    "    __count = 0\n",
    "    def __init__(self, width, height, x=0, y=0):\n",
    "        super().__init__(x, y)\n",
    "        self.width = width\n",
    "        self.height = height\n",
    "        Triangle._Triangle__count += 1\n",
    "    def __del__(self):\n",
    "        Triangle._Triangle__count -= 1\n",
    "    def __str__(self):\n",
    "        return super().__str__() + \", 폭={}, 높이={}\".format(self.width, self.height)\n",
    "    def calc_area(self):\n",
    "        return self.width*self.height*0.5\n",
    "    @classmethod\n",
    "    def get_count(cls):\n",
    "        return cls.__count"
   ]
  },
  {
   "cell_type": "code",
   "execution_count": 6,
   "id": "d50eef09",
   "metadata": {},
   "outputs": [
    {
     "name": "stdout",
     "output_type": "stream",
     "text": [
      "x=5, y=6\n",
      "x=7, y=4\n",
      "도형 클래스의 staticMethod 호출\n"
     ]
    }
   ],
   "source": [
    "shp1 = Shape(5,6)\n",
    "print(shp1.__str__())\n",
    "shp1.move(2,-2)\n",
    "print(shp1.__str__())\n",
    "Shape.staticmethod_()"
   ]
  },
  {
   "cell_type": "code",
   "execution_count": 8,
   "id": "a3e6d294",
   "metadata": {},
   "outputs": [
    {
     "ename": "Exception",
     "evalue": "예외 메시지",
     "output_type": "error",
     "traceback": [
      "\u001b[1;31m------------------------\u001b[0m",
      "\u001b[1;31mException\u001b[0mTraceback (most recent call last)",
      "Cell \u001b[1;32mIn[8], line 1\u001b[0m\n\u001b[1;32m----> 1\u001b[0m \u001b[43mshp1\u001b[49m\u001b[38;5;241;43m.\u001b[39;49m\u001b[43mcalc_area\u001b[49m\u001b[43m(\u001b[49m\u001b[43m)\u001b[49m\n",
      "Cell \u001b[1;32mIn[3], line 13\u001b[0m, in \u001b[0;36mShape.calc_area\u001b[1;34m(self)\u001b[0m\n\u001b[0;32m     12\u001b[0m \u001b[38;5;28;01mdef\u001b[39;00m \u001b[38;5;21mcalc_area\u001b[39m(\u001b[38;5;28mself\u001b[39m):\n\u001b[1;32m---> 13\u001b[0m     \u001b[38;5;28;01mraise\u001b[39;00m \u001b[38;5;167;01mException\u001b[39;00m(\u001b[38;5;124m\"\u001b[39m\u001b[38;5;124m예외 메시지\u001b[39m\u001b[38;5;124m\"\u001b[39m)\n",
      "\u001b[1;31mException\u001b[0m: 예외 메시지"
     ]
    }
   ],
   "source": [
    "shp1.calc_area()"
   ]
  },
  {
   "cell_type": "code",
   "execution_count": 9,
   "id": "2cd424d5",
   "metadata": {},
   "outputs": [
    {
     "name": "stdout",
     "output_type": "stream",
     "text": [
      "x=0, y=0, 폭=3, 높이=4\n",
      "6.0\n",
      "1\n"
     ]
    }
   ],
   "source": [
    "tri1 = Triangle(3,4) #count +1\n",
    "print(tri1.__str__())\n",
    "print(tri1.calc_area())\n",
    "print(tri1.get_count())"
   ]
  },
  {
   "cell_type": "code",
   "execution_count": 10,
   "id": "6a705d85",
   "metadata": {},
   "outputs": [
    {
     "name": "stdout",
     "output_type": "stream",
     "text": [
      "x=0, y=0, 폭=4, 높이=5\n",
      "10.0\n",
      "2\n",
      "1\n"
     ]
    }
   ],
   "source": [
    "tri2 = Triangle(4,5) #count +1\n",
    "print(tri2.__str__())\n",
    "print(tri2.calc_area())\n",
    "print(tri2.get_count())\n",
    "del tri1 #count -1\n",
    "print(tri2.get_count())"
   ]
  },
  {
   "cell_type": "markdown",
   "id": "60fd336a",
   "metadata": {},
   "source": [
    "## 서술형"
   ]
  },
  {
   "cell_type": "code",
   "execution_count": 27,
   "id": "ee34c7dd",
   "metadata": {},
   "outputs": [],
   "source": [
    "#1. 다음 중 올바른 클래스 정의는?\n",
    "''' 1번 → 정답\n",
    "2번 - ()는 함수 정의나 객체 정의에서\n",
    "3번 - 객체 정의\n",
    "4번 - def 말고 class로'''"
   ]
  },
  {
   "cell_type": "code",
   "execution_count": 28,
   "id": "e7d495a2",
   "metadata": {},
   "outputs": [],
   "source": [
    "#2. 다음 중 Person 클래스의 객체를 생성하는 올바른 방법은?\n",
    "'''1번 - 인수 필요함\n",
    "2번 → 정답 \n",
    "3번 p1이란 클래스/스태틱메서드가 있으면 ()붙여서\n",
    "4번 init함수 실행 명령'''"
   ]
  },
  {
   "cell_type": "code",
   "execution_count": null,
   "id": "2fc525d1",
   "metadata": {},
   "outputs": [],
   "source": [
    "#3. 다음 중 인스턴스 메서드를 선언하는 가장 올바른 방법은?\n",
    "'''4번 정답'''"
   ]
  },
  {
   "cell_type": "code",
   "execution_count": 68,
   "id": "7b95ec07",
   "metadata": {},
   "outputs": [
    {
     "data": {
      "text/plain": [
       "'1번 정답 - 생성자도 함수이므로 중복 정의 불가'"
      ]
     },
     "execution_count": 68,
     "metadata": {},
     "output_type": "execute_result"
    }
   ],
   "source": [
    "#4. 다음 중 생성자와 소멸자에 대해 잘못 설명한 것은?\n",
    "\"\"\"1번 정답 - 생성자도 함수이므로 중복 정의 불가\"\"\""
   ]
  },
  {
   "cell_type": "code",
   "execution_count": 69,
   "id": "9df8929f",
   "metadata": {},
   "outputs": [],
   "source": [
    "#5. 다음 중 Student is a Person을 클래스 상속으로 바르게 표현한 것은?\n",
    "# 2번 정답 : 자식클래스(부모클래스)"
   ]
  },
  {
   "cell_type": "code",
   "execution_count": null,
   "id": "eeaa87f2",
   "metadata": {},
   "outputs": [],
   "source": [
    "#6. 다음 중 상속과 재정의(Overriding)에 대해 잘못 설명한 것은?\n",
    "# 3번 정답 : 매개변수의 수도 같을 수 있다."
   ]
  },
  {
   "cell_type": "code",
   "execution_count": null,
   "id": "0c7c8983",
   "metadata": {},
   "outputs": [],
   "source": [
    "#7. 다음 클래스의 메서드를 호출하는 방법 중 잘못된 것은?\n",
    "# 3번 정답: 인스턴스메서드 함수는 인스턴스객체명.인스턴스메서드명()으로 호출"
   ]
  },
  {
   "cell_type": "code",
   "execution_count": null,
   "id": "2021aafe",
   "metadata": {},
   "outputs": [],
   "source": [
    "#8. 빈 칸에 넣을 수 없는 것을 고르세요.\n",
    "# 1번 - Super 클래스의 함수를 직접 호출\n",
    "# 2번 - super()로 부모클래스의 함수를 호출\n",
    "# 3번 정답: 이 예약어는 super() 형태로 사용."
   ]
  },
  {
   "cell_type": "code",
   "execution_count": 70,
   "id": "91889025",
   "metadata": {},
   "outputs": [
    {
     "name": "stdout",
     "output_type": "stream",
     "text": [
      "{'name': '홍길동', 'gender': '남자'}\n"
     ]
    }
   ],
   "source": [
    "#9. 2번 정답\n",
    "\n",
    "#1번 __dict__ 내용\n",
    "class Person:\n",
    "    \"9번 서술형 연습문제\"\n",
    "    def __init__(self, name, gender):\n",
    "        self.name = name\n",
    "        self.gender = gender\n",
    "    def __str__(self):\n",
    "        return \"이름은 \"+self.name\n",
    "    def print_info(self):\n",
    "        print(self.name)\n",
    "p = Person(\"홍길동\", \"남자\")\n",
    "print(p.__dict__) # 객체를 딕셔너리형태로 "
   ]
  }
 ],
 "metadata": {
  "kernelspec": {
   "display_name": "Python 3 (ipykernel)",
   "language": "python",
   "name": "python3"
  },
  "language_info": {
   "codemirror_mode": {
    "name": "ipython",
    "version": 3
   },
   "file_extension": ".py",
   "mimetype": "text/x-python",
   "name": "python",
   "nbconvert_exporter": "python",
   "pygments_lexer": "ipython3",
   "version": "3.10.9"
  },
  "toc": {
   "base_numbering": 1,
   "nav_menu": {},
   "number_sections": false,
   "sideBar": true,
   "skip_h1_title": false,
   "title_cell": "Table of Contents",
   "title_sidebar": "Contents",
   "toc_cell": false,
   "toc_position": {
    "height": "calc(100% - 180px)",
    "left": "10px",
    "top": "150px",
    "width": "240.7px"
   },
   "toc_section_display": true,
   "toc_window_display": true
  }
 },
 "nbformat": 4,
 "nbformat_minor": 5
}
