{
 "cells": [
  {
   "cell_type": "code",
   "execution_count": null,
   "id": "353edc89",
   "metadata": {
    "scrolled": true
   },
   "outputs": [],
   "source": [
    "print('Hello')"
   ]
  },
  {
   "cell_type": "code",
   "execution_count": 1,
   "id": "070b3fdd",
   "metadata": {},
   "outputs": [
    {
     "data": {
      "text/html": [
       "\n",
       "<style>\n",
       "div.container{width:90% !important;}\n",
       "div.cell.code_cell.rendered{width:90%;}\n",
       "div.input_prompt{padding:0px;}\n",
       "div.CodeMirror {font-family:Consolas; font-size:10pt;}\n",
       "div.text_cell_render.rendered_html{font-size:10pt;}\n",
       "div.output {font-size:10pt; font-weight:bold;}\n",
       "div.input {font-family:Consolas; font-size:10pt;}\n",
       "div.prompt {min-width:70px;}\n",
       "div#toc-wrapper{padding-top:120px;}\n",
       "div.text_cell_render ul li{font-size:10pt;padding:5px;}\n",
       "table.dataframe{font-size:10px;}\n",
       "</style>\n"
      ],
      "text/plain": [
       "<IPython.core.display.HTML object>"
      ]
     },
     "metadata": {},
     "output_type": "display_data"
    }
   ],
   "source": [
    "from IPython.display import display, HTML\n",
    "display(HTML(\"\"\"\n",
    "<style>\n",
    "div.container{width:90% !important;}\n",
    "div.cell.code_cell.rendered{width:90%;}\n",
    "div.input_prompt{padding:0px;}\n",
    "div.CodeMirror {font-family:Consolas; font-size:10pt;}\n",
    "div.text_cell_render.rendered_html{font-size:10pt;}\n",
    "div.output {font-size:10pt; font-weight:bold;}\n",
    "div.input {font-family:Consolas; font-size:10pt;}\n",
    "div.prompt {min-width:70px;}\n",
    "div#toc-wrapper{padding-top:120px;}\n",
    "div.text_cell_render ul li{font-size:10pt;padding:5px;}\n",
    "table.dataframe{font-size:10px;}\n",
    "</style>\n",
    "\"\"\"))"
   ]
  },
  {
   "cell_type": "markdown",
   "id": "1babd807",
   "metadata": {},
   "source": [
    "<b><font size=\"6\" color=\"red\">ch01. 파이썬 개요 및 환경 설정</font><b>\n",
    "\n",
    "# 1. 마크다운 \n",
    "- Esc + m\n",
    "- 코드 셀과 구분 -> 문서화 목적\n",
    "- 다양한 문서화 문법 ex. README.md\n",
    "- Table of Contents 제목 추가\n",
    "    \n",
    "# 2. 주피터 노트북 사용법 (큰 제목)\n",
    "- Shift + Enter : 포커스된 셀이 실행되고, 커서가 다음 셀로 이동\n",
    "- Alt + Enter : 포커스된 셀이 실행되고, 아래에 빈 셀 추가 및 이동\n",
    "- Ctrl + Enter : 포커스된 셀이 실행되고, 커서 이동 없음\n",
    "- Enter (편집 중 x) : 편집 상태로"
   ]
  },
  {
   "cell_type": "code",
   "execution_count": null,
   "id": "bfe0768c",
   "metadata": {},
   "outputs": [],
   "source": [
    "# 셀 단위 파이선 소스 입력 > 실행"
   ]
  },
  {
   "cell_type": "code",
   "execution_count": null,
   "id": "d2225e82",
   "metadata": {},
   "outputs": [],
   "source": [
    "# print() 함수를 이용해 출력\n",
    "# print('Hello, Python')\n",
    "# print('홍길동')\n",
    "print(\"Hello, Python\\n홍길동\")"
   ]
  },
  {
   "cell_type": "code",
   "execution_count": null,
   "id": "147a2fc2",
   "metadata": {},
   "outputs": [],
   "source": [
    "age = 25 # 숫자(integer) 할당\n",
    "duration = \"2\" # 문자(string) 할당\n",
    "#print(age + duration) duration 문자라 오류 발생\n",
    "print(age + int(duration)) # duration 정수화\n",
    "print(str(age) + duration) # age 문자화"
   ]
  },
  {
   "cell_type": "code",
   "execution_count": null,
   "id": "5c382c94",
   "metadata": {},
   "outputs": [],
   "source": [
    "for i in range(10):  # 10 미만 범위\n",
    "    print(i) # i 범위 출력\n",
    "# stop 기능\n",
    "# kernel 메뉴의 Restart : 메모리 리셋"
   ]
  },
  {
   "cell_type": "code",
   "execution_count": 2,
   "id": "fbedfa44",
   "metadata": {},
   "outputs": [
    {
     "name": "stdout",
     "output_type": "stream",
     "text": [
      "Hello\n"
     ]
    }
   ],
   "source": [
    "print = 5\n",
    "# 실수로 할당된 변수 삭제\n",
    "del print\n",
    "print('Hello')"
   ]
  },
  {
   "cell_type": "markdown",
   "id": "38e3f40e",
   "metadata": {},
   "source": [
    "# 3. ESC +\n",
    "- dd : 셀 삭제\n",
    "- a : 위 셀추가\n",
    "- b : 아래 셀 추가\n",
    "- m : 마크다운 셀로 변경\n",
    "- y : 코드 셀로 변경\n",
    "- h : 핫키(단축키) 안내\n",
    "- o : 선택 셀 실행결과 접기/펴기"
   ]
  },
  {
   "cell_type": "code",
   "execution_count": 3,
   "id": "d31eb2e9",
   "metadata": {},
   "outputs": [
    {
     "name": "stdout",
     "output_type": "stream",
     "text": [
      " C 드라이브의 볼륨에는 이름이 없습니다.\n",
      " 볼륨 일련 번호: A014-DCD6\n",
      "\n",
      " C:\\ai\\source\\01_python 디렉터리\n",
      "\n",
      "2025-09-12  오전 10:52    <DIR>          .\n",
      "2025-09-12  오전 10:52    <DIR>          ..\n",
      "2025-09-11  오후 05:29    <DIR>          .ipynb_checkpoints\n",
      "2025-09-12  오전 10:52             6,028 ch01_파이썬 개요 및 환경 설정.ipynb\n",
      "               1개 파일               6,028 바이트\n",
      "               3개 디렉터리  162,435,305,472 바이트 남음\n"
     ]
    }
   ],
   "source": [
    "#!: 주피터노트북에서 cmd 명령어 수행\n",
    "!dir"
   ]
  },
  {
   "cell_type": "code",
   "execution_count": 5,
   "id": "60d92d4e",
   "metadata": {},
   "outputs": [
    {
     "name": "stdout",
     "output_type": "stream",
     "text": [
      " C 드라이브의 볼륨에는 이름이 없습니다.\n",
      " 볼륨 일련 번호: A014-DCD6\n",
      "\n",
      " C:\\ai\\source\\01_python 디렉터리\n",
      "\n",
      "2025-09-12  오전 10:54    <DIR>          .\n",
      "2025-09-12  오전 10:54    <DIR>          ..\n",
      "2025-09-11  오후 05:29    <DIR>          .ipynb_checkpoints\n",
      "2025-09-12  오전 10:54             7,105 ch01_파이썬 개요 및 환경 설정.ipynb\n",
      "               1개 파일               7,105 바이트\n",
      "               3개 디렉터리  162,432,888,832 바이트 남음\n"
     ]
    }
   ],
   "source": [
    "#매직 명령어(주피터 노트북 자체 명령어)\n",
    "%ls"
   ]
  }
 ],
 "metadata": {
  "kernelspec": {
   "display_name": "Python 3 (ipykernel)",
   "language": "python",
   "name": "python3"
  },
  "language_info": {
   "codemirror_mode": {
    "name": "ipython",
    "version": 3
   },
   "file_extension": ".py",
   "mimetype": "text/x-python",
   "name": "python",
   "nbconvert_exporter": "python",
   "pygments_lexer": "ipython3",
   "version": "3.10.9"
  },
  "toc": {
   "base_numbering": 1,
   "nav_menu": {},
   "number_sections": false,
   "sideBar": true,
   "skip_h1_title": false,
   "title_cell": "Table of Contents",
   "title_sidebar": "Contents",
   "toc_cell": false,
   "toc_position": {
    "height": "calc(100% - 180px)",
    "left": "10px",
    "top": "150px",
    "width": "165px"
   },
   "toc_section_display": true,
   "toc_window_display": true
  }
 },
 "nbformat": 4,
 "nbformat_minor": 5
}
