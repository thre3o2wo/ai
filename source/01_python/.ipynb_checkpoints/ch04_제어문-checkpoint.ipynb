{
 "cells": [
  {
   "cell_type": "code",
   "execution_count": 1,
   "id": "85c2ebd5",
   "metadata": {},
   "outputs": [
    {
     "data": {
      "text/html": [
       "\n",
       "<style>\n",
       "div.container{width:90% !important;}\n",
       "div.cell.code_cell.rendered{width:90%;}\n",
       "div.input_prompt{padding:0px;}\n",
       "div.CodeMirror {font-family:Consolas; font-size:10pt;}\n",
       "div.text_cell_render.rendered_html{font-size:10pt;}\n",
       "div.output {font-size:10pt; font-weight:bold;}\n",
       "div.input {font-family:Consolas; font-size:10pt;}\n",
       "div.prompt {min-width:70px;}\n",
       "div#toc-wrapper{padding-top:120px;}\n",
       "div.text_cell_render ul li{font-size:10pt;padding:5px;}\n",
       "table.dataframe{font-size:10px;}\n",
       "</style>\n"
      ],
      "text/plain": [
       "<IPython.core.display.HTML object>"
      ]
     },
     "metadata": {},
     "output_type": "display_data"
    }
   ],
   "source": [
    "from IPython.display import display, HTML\n",
    "display(HTML(\"\"\"\n",
    "<style>\n",
    "div.container{width:90% !important;}\n",
    "div.cell.code_cell.rendered{width:90%;}\n",
    "div.input_prompt{padding:0px;}\n",
    "div.CodeMirror {font-family:Consolas; font-size:10pt;}\n",
    "div.text_cell_render.rendered_html{font-size:10pt;}\n",
    "div.output {font-size:10pt; font-weight:bold;}\n",
    "div.input {font-family:Consolas; font-size:10pt;}\n",
    "div.prompt {min-width:70px;}\n",
    "div#toc-wrapper{padding-top:120px;}\n",
    "div.text_cell_render ul li{font-size:10pt;padding:5px;}\n",
    "table.dataframe{font-size:10px;}\n",
    "</style>\n",
    "\"\"\"))"
   ]
  },
  {
   "cell_type": "markdown",
   "id": "8e26a646",
   "metadata": {},
   "source": [
    "<b><font size=\"6\" color=\"red\">Ch 4. 제어문</font><b>\n",
    "\n",
    "- 조건문: if문\n",
    "- 반복문: for문(반복 횟수 지정), while문(횟수 미지정, 조건 일치 시까지)\n",
    "- **모두 중첩 가능**\n",
    "    \n",
    "# 1. 조건문(if)\n",
    "```\n",
    "    if 조건1:\n",
    "        조건1이 True일 경우 수행할 명령어들(들여쓰기 중요. if 절 단독 가능)\n",
    "    elif 조건2:\n",
    "        조건1이 False, 조건2가 True일 경우 수행할 명령어들\n",
    "    else:\n",
    "        모든 조건 False일 경우 수행할 명령어들(elif나 else 단독 사용 불가)\n"
   ]
  },
  {
   "cell_type": "code",
   "execution_count": 2,
   "id": "884cfe72",
   "metadata": {},
   "outputs": [
    {
     "name": "stdout",
     "output_type": "stream",
     "text": [
      "Enter your score >50\n",
      "재시험에 응시하셔야 합니다.\n",
      "힘내세요.\n"
     ]
    }
   ],
   "source": [
    "score = int(input('Enter your score >'))\n",
    "if score>=80:\n",
    "    print('참 잘했어요.')\n",
    "    print('다음에도 기대할게요.')\n",
    "elif score>=60:\n",
    "    print('수고했지만 아쉽네요.')\n",
    "    print('분발하세요.')\n",
    "else:\n",
    "    print('재시험에 응시하셔야 합니다.')\n",
    "    print('힘내세요.')"
   ]
  },
  {
   "cell_type": "code",
   "execution_count": 6,
   "id": "059b8b2e",
   "metadata": {},
   "outputs": [
    {
     "name": "stdout",
     "output_type": "stream",
     "text": [
      "Enter your score >99\n",
      "입력하신 점수 99점은 A학점입니다.\n"
     ]
    }
   ],
   "source": [
    "#ex. 점수를 입력받아 학점 출력(A~D, F, 유효하지 않은 점수)\n",
    "score = int(input('Enter your score >'))\n",
    "if score>100 or score<0:\n",
    "    grade='유효하지 않은 점수'\n",
    "elif score>=90:\n",
    "    grade='A학점'\n",
    "elif score>=80:\n",
    "    grade='B학점'\n",
    "elif score>=70:\n",
    "    grade='C학점'\n",
    "elif score>=50:\n",
    "    grade='D학점'\n",
    "else:\n",
    "    grade='F학점'\n",
    "print('입력하신 점수 {}점은 {}입니다.'.format(score, grade))"
   ]
  },
  {
   "cell_type": "markdown",
   "id": "0192f6ec",
   "metadata": {},
   "source": [
    "# 2. 반복문\n",
    "## 2.1. for-in문\n",
    "```\n",
    "for 임시 변수 in 나열 가능한 자료:\n",
    "    반복할 문장1\n",
    "    반복할 문장2\n",
    "else:\n",
    "    나열 가능한 자료를 다 써서 for 블록을 다 수행한 후, 최종 한 번 실행할 문장(들)\n",
    "    else는 optional.\n",
    "    for문 안의 break를 수행할 경우, else 블록 수행하지 않음\n",
    "```"
   ]
  },
  {
   "cell_type": "code",
   "execution_count": 7,
   "id": "a2eb48bf",
   "metadata": {},
   "outputs": [
    {
     "name": "stdout",
     "output_type": "stream",
     "text": [
      "1\t3\t5\t7\t9\tDONE\n",
      "END\n"
     ]
    }
   ],
   "source": [
    "for i in range(1, 10, 2):\n",
    "    print(i, end=\"\\t\")\n",
    "else:\n",
    "    print('DONE')\n",
    "print('END')"
   ]
  },
  {
   "cell_type": "code",
   "execution_count": 10,
   "id": "59ed101a",
   "metadata": {},
   "outputs": [
    {
     "name": "stdout",
     "output_type": "stream",
     "text": [
      "0\t1\t2\t3\t4\t5\tEND\n"
     ]
    }
   ],
   "source": [
    "for i in range(10):\n",
    "    if i==5:\n",
    "        break #\"현재 반복문을 빠져나가\"\n",
    "    print(i, end='\\t') #if-break가 print 뒤에 있으면, 5까지 출력 후 break\n",
    "else:\n",
    "    print(\"\\nDONE\")\n",
    "print('END')"
   ]
  },
  {
   "cell_type": "code",
   "execution_count": 11,
   "id": "2a03b3ac",
   "metadata": {},
   "outputs": [
    {
     "name": "stdout",
     "output_type": "stream",
     "text": [
      "1~100의 합은 5050\n"
     ]
    }
   ],
   "source": [
    "#1~100 범위 합을 계산하고 출력하시오(for문)\n",
    "sum = 0 #누적변수\n",
    "for i in range(1,101):\n",
    "    #sum = sum + i\n",
    "    sum += i\n",
    "else:\n",
    "    print(\"1~100의 합은\", sum)"
   ]
  },
  {
   "cell_type": "code",
   "execution_count": 13,
   "id": "d065d58d",
   "metadata": {},
   "outputs": [
    {
     "name": "stdout",
     "output_type": "stream",
     "text": [
      "1~100 범위 짝수들의 합은 2550\n"
     ]
    }
   ],
   "source": [
    "#1~100 범위 짝수들의 합을 계산하고 출력하시오(for문)\n",
    "sum = 0 #누적변수\n",
    "for i in range(1,101):\n",
    "    if i%2==0:\n",
    "        sum += i\n",
    "print(\"1~100 범위 짝수들의 합은\", sum) #break 없으니 else 생략해도 같음"
   ]
  },
  {
   "cell_type": "markdown",
   "id": "5c32a3c0",
   "metadata": {},
   "source": [
    "## 2.2. while문\n",
    "범위를 정확히 알지 못할 때 자주 사용\n",
    "```\n",
    "while 조건:\n",
    "    조건이 True일 경우 반복할 문장(들)\n",
    "else: #선택사항\n",
    "    조건이 False일 경우 한번 실행할 문장(들)\n",
    "    while문 안의 break 수행할 경우 else블록 실행하지 않음\n",
    "```"
   ]
  },
  {
   "cell_type": "code",
   "execution_count": 14,
   "id": "18fc7fdb",
   "metadata": {},
   "outputs": [
    {
     "name": "stdout",
     "output_type": "stream",
     "text": [
      "1~100 범위 짝수들의 합은 2550\n"
     ]
    }
   ],
   "source": [
    "#1~100 범위 짝수들의 합을 계산하고 출력하시오(while문)\n",
    "sum = 0 #누적변수\n",
    "i = 1 #초기화\n",
    "while i <= 100:\n",
    "    if i%2==0:\n",
    "        sum += i\n",
    "    i += 1\n",
    "print(\"1~100 범위 짝수들의 합은\", sum) #break 없으니 else 생략해도 같음"
   ]
  },
  {
   "cell_type": "code",
   "execution_count": 55,
   "id": "7013585a",
   "metadata": {},
   "outputs": [
    {
     "name": "stdout",
     "output_type": "stream",
     "text": [
      "정수1 :5\n",
      "정수2 :3\n",
      "정수1 5과 정수2 3 사이 홀수들의 합은 8\n"
     ]
    }
   ],
   "source": [
    "#ex.1 사용자에게 두 정수를 입력받아, 작은 수부터 큰 수까지 홀수들의 합을 누적해 출력\n",
    "int1 = int(input(\"정수1 :\"))\n",
    "int2 = int(input(\"정수2 :\"))\n",
    "if int1 > int2:\n",
    "    limit = int1\n",
    "    i = int2\n",
    "else:\n",
    "    i = int1\n",
    "    limit = int2\n",
    "sum = 0\n",
    "while i <= limit:\n",
    "    if i%2 != 0:\n",
    "        sum += i\n",
    "    i += 1\n",
    "print(\"정수1 {}과 정수2 {} 사이 홀수들의 합은\".format(int1, int2), sum)"
   ]
  },
  {
   "cell_type": "code",
   "execution_count": 64,
   "id": "f98fe916",
   "metadata": {},
   "outputs": [
    {
     "name": "stdout",
     "output_type": "stream",
     "text": [
      "첫 번째 정수: 5\n",
      "두 번째 정수: 2\n",
      "두 정수 2와 5 사이 홀수들의 합은 8\n"
     ]
    }
   ],
   "source": [
    "#선생님 풀이\n",
    "first=int(input('첫 번째 정수: '))\n",
    "second=int(input('두 번째 정수: '))\n",
    "if first > second: #두 정수 값 비교\n",
    "    second, first = first, second #first가 작고 second가 크도록\n",
    "sum=0\n",
    "for i in range(first, second+1):\n",
    "    if i%2: #0(False)이 아니면\n",
    "        sum += i\n",
    "print(\"두 정수 {}와 {} 사이 홀수들의 합은\".format(first, second), sum)"
   ]
  },
  {
   "cell_type": "code",
   "execution_count": null,
   "id": "90035047",
   "metadata": {},
   "outputs": [],
   "source": [
    "#import random\n",
    "#random.random() #0 이상 1 미만의 실수 난수\n",
    "#random.randint(a,b) #a이상 b이하 정수 난수\n",
    "#random.choice(['남자','여자']) #균등 확률 랜덤 선택\n",
    "#random.choices(['사기꾼','비사기꾼'], weights=[0.1, 0.9]) #확률 지정 1:9"
   ]
  },
  {
   "cell_type": "code",
   "execution_count": 81,
   "id": "420ecdef",
   "metadata": {},
   "outputs": [
    {
     "data": {
      "text/plain": [
       "[9, 16, 24, 35, 38, 39]"
      ]
     },
     "execution_count": 81,
     "metadata": {},
     "output_type": "execute_result"
    }
   ],
   "source": [
    "#ex.2 로또 번호 6개를 랜덤 추출 후 정렬하여 출력\n",
    "import random\n",
    "random.seed(3) #시드 지정(난수 확정)\n",
    "lotto_lst = []\n",
    "while len(lotto_lst) < 6:\n",
    "    i = random.randint(1, 45) \n",
    "    if i in lotto_lst:\n",
    "        pass\n",
    "    else: \n",
    "        lotto_lst.append(i)\n",
    "lotto_lst.sort()\n",
    "lotto_lst #print(sorted(numbers))"
   ]
  },
  {
   "cell_type": "code",
   "execution_count": 85,
   "id": "74c216fc",
   "metadata": {},
   "outputs": [
    {
     "name": "stdout",
     "output_type": "stream",
     "text": [
      "9번 로또 번호 추출함 : [31, 41, 38, 31, 17, 36]\n"
     ]
    }
   ],
   "source": [
    "#선생님 풀이\n",
    "import random\n",
    "lotto_lst = []\n",
    "cnt = 0 #임의의 수 발생시킨 횟수 확인\n",
    "while len(lotto_lst) < 6:\n",
    "    temp = random.randint(1, 45)\n",
    "    cnt += 1\n",
    "    if not temp in numbers: #== if temp not in numbers:\n",
    "        lotto_lst.append(temp)\n",
    "print(\"{}번 로또 번호 추출함 : {}\".format(cnt, lotto_lst))"
   ]
  },
  {
   "cell_type": "code",
   "execution_count": 86,
   "id": "0336ea57",
   "metadata": {},
   "outputs": [
    {
     "name": "stdout",
     "output_type": "stream",
     "text": [
      "정렬 후 [17, 31, 31, 36, 38, 41]\n"
     ]
    }
   ],
   "source": [
    "#정렬 알고리즘\n",
    "for i in range(len(lotto_lst)-1):\n",
    "    for j in range(i+1, len(lotto_lst)):\n",
    "        if lotto_lst[i] > lotto_lst[j]:\n",
    "            lotto_lst[i], lotto_lst[j] = lotto_lst[j], lotto_lst[i]\n",
    "print(\"정렬 후\", lotto_lst)"
   ]
  },
  {
   "cell_type": "code",
   "execution_count": 87,
   "id": "f074f6a7",
   "metadata": {},
   "outputs": [
    {
     "data": {
      "text/plain": [
       "{13, 15, 26, 31, 35, 36}"
      ]
     },
     "execution_count": 87,
     "metadata": {},
     "output_type": "execute_result"
    }
   ],
   "source": [
    "lotto_set = set() #{}로 정의 시 딕셔너리로 판별\n",
    "while len(lotto_set) < 6:\n",
    "    lotto_set.add(random.randint(1,45))\n",
    "lotto_set  "
   ]
  },
  {
   "cell_type": "code",
   "execution_count": 90,
   "id": "55e57057",
   "metadata": {},
   "outputs": [
    {
     "data": {
      "text/plain": [
       "[1, 5, 11, 25, 38, 43]"
      ]
     },
     "execution_count": 90,
     "metadata": {},
     "output_type": "execute_result"
    }
   ],
   "source": [
    "#\"1~45 중 6개 뽑아 정렬\"\n",
    "sorted(random.sample(range(1, 46), 6))"
   ]
  },
  {
   "cell_type": "markdown",
   "id": "8e2a5299",
   "metadata": {},
   "source": [
    "## 2.3. break, continue\n",
    "- break: 현재 반복문 탈출\n",
    "- continue: 수행 중인 반복문을 멈추고 조건절로"
   ]
  },
  {
   "cell_type": "code",
   "execution_count": 95,
   "id": "5ff35ba9",
   "metadata": {},
   "outputs": [
    {
     "name": "stdout",
     "output_type": "stream",
     "text": [
      "1 2 3 4 6 7 8 9 10 END\n"
     ]
    }
   ],
   "source": [
    "num = 0\n",
    "while num<10:\n",
    "    num += 1\n",
    "    if num == 5:\n",
    "        continue #num이 5일 때 아래 줄 print 명령 생략\n",
    "    print(num, end=' ')\n",
    "print('END')"
   ]
  },
  {
   "cell_type": "code",
   "execution_count": 18,
   "id": "c2bf67da",
   "metadata": {},
   "outputs": [
    {
     "name": "stdout",
     "output_type": "stream",
     "text": [
      "1~100 사이의 정수를 맞춰 보세요: 50\n",
      "↑UP!\n",
      "남은 기회는 4번입니다\n",
      "다시 입력해 주세요. 수의 범위는 50~100입니다.75\n",
      "↑UP!\n",
      "남은 기회는 3번입니다\n",
      "다시 입력해 주세요. 수의 범위는 75~100입니다.88\n",
      "↑UP!\n",
      "남은 기회는 2번입니다\n",
      "다시 입력해 주세요. 수의 범위는 88~100입니다.94\n",
      "↓DOWN!\n",
      "남은 기회는 1번입니다\n",
      "다시 입력해 주세요. 수의 범위는 88~94입니다.90\n",
      "실패! 남은 기회가 없습니다. 정답은 93였습니다!\n"
     ]
    }
   ],
   "source": [
    "#ex. 숫자 찾기 게임\n",
    "'''\n",
    "1~100 사이의 정수 맞추기 프로그램\n",
    "(프로그램 안에서 난수를 생성하고, 그 난수를 맞추기)\n",
    "1단계 : 숫자를 못 맞추면 up/down 출력, 맞추면 축하메시지 출력 후 종료\n",
    "2단계 : 오답에 대해 다음 범위를 한정해 줌(min/max 조정)\n",
    "3단계 : 맞출 반복 횟수를 5회로 한정\n",
    "'''\n",
    "import random\n",
    "goal = random.randint(1,100)\n",
    "min, max = 1, 100\n",
    "ans = int(input(\"1~100 사이의 정수를 맞춰 보세요: \"))\n",
    "cnt = 5\n",
    "while ans != goal:\n",
    "    cnt -= 1\n",
    "    if cnt == 0:\n",
    "        print(f\"실패! 남은 기회가 없습니다. 정답은 {goal}이었습니다!\")\n",
    "        break\n",
    "    if not min <= ans <= max:\n",
    "        print(\"정답 범위를 벗어났습니다.\")\n",
    "        print(f\"남은 기회는 {cnt}번입니다\")\n",
    "        ans = int(input(\"다시 입력해 주세요. 수의 범위는 {}~{}입니다.\".format(min,max)))\n",
    "    elif min <= ans < goal:\n",
    "        min = ans\n",
    "        print(\"↑UP!\")\n",
    "        print(f\"남은 기회는 {cnt}번입니다\")\n",
    "        ans = int(input(\"다시 입력해 주세요. 수의 범위는 {}~{}입니다.\".format(min,max)))\n",
    "    elif goal < ans <= max:\n",
    "        max = ans\n",
    "        print(\"↓DOWN!\")\n",
    "        print(f\"남은 기회는 {cnt}번입니다\")\n",
    "        ans = int(input(\"다시 입력해 주세요. 수의 범위는 {}~{}입니다.\".format(min,max)))\n",
    "    else:\n",
    "        print(\"정답! 🎉축하합니다🎉\")"
   ]
  },
  {
   "cell_type": "markdown",
   "id": "3490b556",
   "metadata": {},
   "source": [
    "# 3. 중첩루프\n",
    "(반복문 안의 반복문)"
   ]
  },
  {
   "cell_type": "code",
   "execution_count": 8,
   "id": "c84577a9",
   "metadata": {},
   "outputs": [
    {
     "name": "stdout",
     "output_type": "stream",
     "text": [
      "  2단  \t  3단  \t  4단  \t  5단  \t  6단  \t  7단  \t  8단  \t  9단  \t\n",
      "2x1=2\t3x1=3\t4x1=4\t5x1=5\t6x1=6\t7x1=7\t8x1=8\t9x1=9\t\n",
      "2x2=4\t3x2=6\t4x2=8\t5x2=10\t6x2=12\t7x2=14\t8x2=16\t9x2=18\t\n",
      "2x3=6\t3x3=9\t4x3=12\t5x3=15\t6x3=18\t7x3=21\t8x3=24\t9x3=27\t\n",
      "2x4=8\t3x4=12\t4x4=16\t5x4=20\t6x4=24\t7x4=28\t8x4=32\t9x4=36\t\n",
      "2x5=10\t3x5=15\t4x5=20\t5x5=25\t6x5=30\t7x5=35\t8x5=40\t9x5=45\t\n",
      "2x6=12\t3x6=18\t4x6=24\t5x6=30\t6x6=36\t7x6=42\t8x6=48\t9x6=54\t\n",
      "2x7=14\t3x7=21\t4x7=28\t5x7=35\t6x7=42\t7x7=49\t8x7=56\t9x7=63\t\n",
      "2x8=16\t3x8=24\t4x8=32\t5x8=40\t6x8=48\t7x8=56\t8x8=64\t9x8=72\t\n",
      "2x9=18\t3x9=27\t4x9=36\t5x9=45\t6x9=54\t7x9=63\t8x9=72\t9x9=81\t\n"
     ]
    }
   ],
   "source": [
    "#ex.2~9단 구구단 출력 (1열에 2단, 2열에 3단...)\n",
    "for i in range(2, 10):\n",
    "    print(\"{:^6}\".format(str(i)+'단'), end='\\t')\n",
    "print() #줄바꿈\n",
    "for i in range(1, 10): #1~9 행 결정\n",
    "    for j in range(2, 10): #2~9 열 결정\n",
    "        print(\"{}x{}={}\".format(j, i, i*j), end=\"\\t\") #동일 행에서 열마다 x좌측 항 증가 \n",
    "    print()"
   ]
  },
  {
   "cell_type": "code",
   "execution_count": 10,
   "id": "4faac338",
   "metadata": {},
   "outputs": [
    {
     "name": "stdout",
     "output_type": "stream",
     "text": [
      "0행0열 : 1\t0행1열 : 2\t0행2열 : 3\t0행3열 : 4\t\n",
      "1행0열 : 5\t1행1열 : 6\t1행2열 : 7\t1행3열 : 8\t\n"
     ]
    }
   ],
   "source": [
    "lst_2d = [[1, 2, 3, 4],\n",
    "         [5, 6, 7, 8]]\n",
    "for i in range(len(lst_2d)):  # 행\n",
    "    for j in range(len(lst_2d[i])):  # 열\n",
    "        print(\"{}행{}열 : {}\".format(i, j, lst_2d[i][j]), end=\"\\t\")\n",
    "    print()"
   ]
  },
  {
   "cell_type": "markdown",
   "id": "e023ec37",
   "metadata": {},
   "source": [
    "# 4. 중첩루프 탈출"
   ]
  },
  {
   "cell_type": "code",
   "execution_count": 12,
   "id": "2dcc105e",
   "metadata": {},
   "outputs": [
    {
     "name": "stdout",
     "output_type": "stream",
     "text": [
      "0 1\n",
      "0 2\n",
      "a=1, b=1일 때 break함\n",
      "2 1\n",
      "a=2, b=2일 때 break함\n",
      "Done\n"
     ]
    }
   ],
   "source": [
    "for a in range(0, 3): #a=0~2일 때 수행\n",
    "    for b in range(1, 3): #b=1~2일 때 수행\n",
    "        if a==b:\n",
    "            print(\"a={}, b={}일 때 break함\".format(a,b))\n",
    "            break\n",
    "        print(a, b)\n",
    "    #break를 만나면 도달하는 곳 → for a 반복해 (1,1)과 (2,2)의 다음 숫자열 수행\n",
    "print('Done')"
   ]
  },
  {
   "cell_type": "code",
   "execution_count": 15,
   "id": "20982189",
   "metadata": {},
   "outputs": [
    {
     "name": "stdout",
     "output_type": "stream",
     "text": [
      "0 1\n",
      "0 2\n",
      "Done\n"
     ]
    }
   ],
   "source": [
    "#중첩 루프 탈출 방법 1 : flag 변수 사용\n",
    "flag = False #break를 만나면 True로 바뀔 변수\n",
    "for a in range(0, 3):\n",
    "    for b in range(1, 3):\n",
    "        if a==b:\n",
    "            flag = True\n",
    "            break\n",
    "        print(a, b)\n",
    "    if flag:\n",
    "        break\n",
    "print('Done')"
   ]
  },
  {
   "cell_type": "code",
   "execution_count": 14,
   "id": "067d34d2",
   "metadata": {},
   "outputs": [],
   "source": [
    "#중첩 루프 탈출 방법 2 : 예외(Exception) 처리 이용 - 다음에..."
   ]
  },
  {
   "cell_type": "markdown",
   "id": "a96e19ab",
   "metadata": {},
   "source": [
    "# 5. 연습문제"
   ]
  },
  {
   "cell_type": "code",
   "execution_count": 51,
   "id": "f1444815",
   "metadata": {},
   "outputs": [
    {
     "name": "stdout",
     "output_type": "stream",
     "text": [
      "양의 정수를 입력하세요: -1\n",
      "입력하신 -1는 양의 정수가 아닙니다.\n",
      "다시 양의 정수를 입력하세요.0.5\n"
     ]
    },
    {
     "ename": "ValueError",
     "evalue": "invalid literal for int() with base 10: '0.5'",
     "output_type": "error",
     "traceback": [
      "\u001b[1;31m---------------------------------------------------------------------------\u001b[0m",
      "\u001b[1;31mValueError\u001b[0m                                Traceback (most recent call last)",
      "Cell \u001b[1;32mIn[51], line 6\u001b[0m\n\u001b[0;32m      4\u001b[0m \u001b[38;5;28mprint\u001b[39m(\u001b[38;5;124mf\u001b[39m\u001b[38;5;124m\"\u001b[39m\u001b[38;5;124m입력하신 \u001b[39m\u001b[38;5;132;01m{\u001b[39;00minputStr\u001b[38;5;132;01m}\u001b[39;00m\u001b[38;5;124m는 양의 정수가 아닙니다.\u001b[39m\u001b[38;5;124m\"\u001b[39m)\n\u001b[0;32m      5\u001b[0m inputStr \u001b[38;5;241m=\u001b[39m \u001b[38;5;28minput\u001b[39m(\u001b[38;5;124m\"\u001b[39m\u001b[38;5;124m다시 양의 정수를 입력하세요.\u001b[39m\u001b[38;5;124m\"\u001b[39m)\n\u001b[1;32m----> 6\u001b[0m \u001b[38;5;28;01mif\u001b[39;00m \u001b[38;5;28;43mint\u001b[39;49m\u001b[43m(\u001b[49m\u001b[43minputStr\u001b[49m\u001b[43m)\u001b[49m\u001b[38;5;241m%\u001b[39m\u001b[38;5;241m2\u001b[39m:\n\u001b[0;32m      7\u001b[0m     \u001b[38;5;28mprint\u001b[39m(\u001b[38;5;124mf\u001b[39m\u001b[38;5;124m\"\u001b[39m\u001b[38;5;124m입력하신 정수 \u001b[39m\u001b[38;5;132;01m{\u001b[39;00minputStr\u001b[38;5;132;01m}\u001b[39;00m\u001b[38;5;124m는 홀수입니다.\u001b[39m\u001b[38;5;124m\"\u001b[39m)\n\u001b[0;32m      8\u001b[0m \u001b[38;5;28;01melse\u001b[39;00m:\n",
      "\u001b[1;31mValueError\u001b[0m: invalid literal for int() with base 10: '0.5'"
     ]
    }
   ],
   "source": [
    "#1. 양의 정수를 입력받아 홀수인지 짝수인지를 판별하는 프로그램을 작성하세요. 양의 정수가 아니면 숫자를 다시 입력받아야 합니다.\n",
    "inputStr = input('양의 정수를 입력하세요: ')\n",
    "while (inputStr.isdigit() == False) | (inputStr == '0'):\n",
    "    print(f\"입력하신 {inputStr}는 양의 정수가 아닙니다.\")\n",
    "    inputStr = input(\"다시 양의 정수를 입력하세요.\")\n",
    "    if int(inputStr)%2:\n",
    "        print(f\"입력하신 정수 {inputStr}는 홀수입니다.\")\n",
    "    else:\n",
    "        print(f\"입력하신 정수 {inputStr}는 짝수입니다.\")"
   ]
  },
  {
   "cell_type": "code",
   "execution_count": 45,
   "id": "aca9cdc5",
   "metadata": {},
   "outputs": [
    {
     "name": "stdout",
     "output_type": "stream",
     "text": [
      "양의 정수를 입력하세요0\n",
      "양의 정수를 입력하세요5\n",
      "입력하신 양의 정수는 5이고 홀수입니다\n"
     ]
    }
   ],
   "source": [
    "#1. 선생님 풀이\n",
    "inputStr = ''\n",
    "while (inputStr.isdigit()==False) | (inputStr=='0') :\n",
    "    inputStr = input('양의 정수를 입력하세요')\n",
    "inputNum = int(inputStr)\n",
    "even_odd = '홀수' if inputNum%2 else '짝수'\n",
    "print('입력하신 양의 정수는 {}이고 {}입니다'.format(inputNum, even_odd))"
   ]
  },
  {
   "cell_type": "code",
   "execution_count": 56,
   "id": "0e588816",
   "metadata": {},
   "outputs": [
    {
     "name": "stdout",
     "output_type": "stream",
     "text": [
      "(1)\t(2)\t\n",
      "*****\t *\n",
      "*****\t **\n",
      "*****\t ***\n",
      "*****\t ****\n",
      "*****\t *****\n"
     ]
    }
   ],
   "source": [
    "#2. 중첩 for문을 이용하여 아래 패턴의 별을 출력하는 프로그램을 작성하세요\n",
    "for i in range(1, 3):\n",
    "    print(\"({})\".format(i), end='\\t')\n",
    "print()\n",
    "for i in range(1,6):\n",
    "    for j in range(5):\n",
    "        print('*', end='')\n",
    "    print('\\t', '*'*i, end='\\n')"
   ]
  },
  {
   "cell_type": "code",
   "execution_count": 57,
   "id": "8f3256e0",
   "metadata": {},
   "outputs": [
    {
     "name": "stdout",
     "output_type": "stream",
     "text": [
      " (1) \t (2) \n",
      "*****\t*\n",
      "*****\t**\n",
      "*****\t***\n",
      "*****\t****\n",
      "*****\t*****\n"
     ]
    }
   ],
   "source": [
    "#2. 선생님 풀이\n",
    "print(\"{:^5}\\t{:^5}\".format(\"(1)\", \"(2)\"))\n",
    "for i in range(5):\n",
    "    print('*'*5, end='\\t')\n",
    "    for j in range(i+1):\n",
    "        print('*', end='')\n",
    "    print()"
   ]
  },
  {
   "cell_type": "code",
   "execution_count": 49,
   "id": "dd8ba891",
   "metadata": {},
   "outputs": [
    {
     "name": "stdout",
     "output_type": "stream",
     "text": [
      "165\n"
     ]
    }
   ],
   "source": [
    "#3. 다음 코드(1~30 3의 배수의 총합) 빈칸 완성\n",
    "sum = 0\n",
    "for i in range(1,31):\n",
    "    if i%3 == 0:\n",
    "        sum = sum + i\n",
    "    else:\n",
    "        pass\n",
    "print(sum)"
   ]
  },
  {
   "cell_type": "code",
   "execution_count": 50,
   "id": "b7dc6fc0",
   "metadata": {},
   "outputs": [
    {
     "name": "stdout",
     "output_type": "stream",
     "text": [
      "165\n"
     ]
    }
   ],
   "source": [
    "#3. 선생님 풀이\n",
    "sum = 0\n",
    "for i in range(1, 31):\n",
    "    if not i%3: # if i%3==0:\n",
    "        sum += i\n",
    "    else:\n",
    "        pass\n",
    "print(sum)"
   ]
  },
  {
   "cell_type": "code",
   "execution_count": 19,
   "id": "1409b8ff",
   "metadata": {},
   "outputs": [
    {
     "name": "stdout",
     "output_type": "stream",
     "text": [
      "1 3 5 7 9 "
     ]
    }
   ],
   "source": [
    "#4. 다음 코드의 실행 결과가 \"1 3 5 7 9\"가 되도록 빈칸을 완성하시오\n",
    "num = 0\n",
    "while num <= 10:\n",
    "    if num%2:\n",
    "        print(num, end=' ')\n",
    "    num += 1"
   ]
  },
  {
   "cell_type": "code",
   "execution_count": 29,
   "id": "de20cdff",
   "metadata": {},
   "outputs": [
    {
     "name": "stdout",
     "output_type": "stream",
     "text": [
      "1 2 3 \n",
      "4 5 6 7 \n",
      "8 9 \n"
     ]
    }
   ],
   "source": [
    "#5. 다음 2차원 리스트의 모든 값을 출력하는 코드입니다. 빈칸을 완성하시오.\n",
    "list2d = [[1,2,3],[4,5,6,7],[8,9]]\n",
    "for i in range(len(list2d)):\n",
    "    for j in range(len(list2d[i])):\n",
    "        data=list2d[i][j]\n",
    "        print(data, end=' ')\n",
    "    print()"
   ]
  },
  {
   "cell_type": "code",
   "execution_count": 41,
   "id": "3f612d33",
   "metadata": {},
   "outputs": [
    {
     "name": "stdout",
     "output_type": "stream",
     "text": [
      "red yellow\n",
      "apple banana\n"
     ]
    }
   ],
   "source": [
    "#6. 다음 빈칸에 들어갈 함수\n",
    "colors = {\"red\":'apple', \"yellow\":'banana'}\n",
    "for i, v in colors, (colors.values()):    \n",
    "    print(i, v)"
   ]
  },
  {
   "cell_type": "code",
   "execution_count": 31,
   "id": "85364fa2",
   "metadata": {},
   "outputs": [
    {
     "name": "stdout",
     "output_type": "stream",
     "text": [
      "1 0\n"
     ]
    }
   ],
   "source": [
    "#7.다음 코드의 실행 결과는?\n",
    "for i in range(0,2):\n",
    "    for j in range(0,2):\n",
    "        if i==j:\n",
    "            break\n",
    "        print(i,j)"
   ]
  },
  {
   "cell_type": "code",
   "execution_count": 33,
   "id": "36a32d34",
   "metadata": {},
   "outputs": [
    {
     "name": "stdout",
     "output_type": "stream",
     "text": [
      "0 0\n",
      "1 0\n",
      "1 1\n"
     ]
    }
   ],
   "source": [
    "#8. 다음 코드의 실행결과로 출력될 수 없는 것은? → 2번\n",
    "for i in range(0,2):\n",
    "    for j in range(0,2):\n",
    "        print(i, j)\n",
    "        if i==j:\n",
    "            break"
   ]
  },
  {
   "cell_type": "code",
   "execution_count": 60,
   "id": "e3b0f439",
   "metadata": {},
   "outputs": [
    {
     "name": "stdout",
     "output_type": "stream",
     "text": [
      "3 5 7 9 \n",
      "3 5 7 9 "
     ]
    }
   ],
   "source": [
    "#9. 다음 코드의 실행결과는?\n",
    "L=[3, 4, 5, 6, 7, 8, 9, 10]\n",
    "for i, data in enumerate(L):\n",
    "    if i%2 == 0:\n",
    "        print(data, end=' ')\n",
    "#참고\n",
    "print()\n",
    "for data in L[0::2]:\n",
    "    print(data, end=' ')"
   ]
  },
  {
   "cell_type": "code",
   "execution_count": 63,
   "id": "4beb01c4",
   "metadata": {},
   "outputs": [
    {
     "name": "stdout",
     "output_type": "stream",
     "text": [
      "1~100 사이의 정수를 맞춰 보세요: 50\n",
      "↓DOWN!\n",
      "남은 기회는 4번입니다\n",
      "다시 입력해 주세요. 수의 범위는 1~50입니다.25\n",
      "↓DOWN!\n",
      "남은 기회는 3번입니다\n",
      "다시 입력해 주세요. 수의 범위는 1~25입니다.12\n",
      "↓DOWN!\n",
      "남은 기회는 2번입니다\n",
      "다시 입력해 주세요. 수의 범위는 1~12입니다.6\n"
     ]
    }
   ],
   "source": [
    "#10. 숫자 찾기 게임\n",
    "import random\n",
    "goal = random.randint(1,100)\n",
    "min_, max_ = 1, 100\n",
    "ans = int(input(\"1~100 사이의 정수를 맞춰 보세요: \"))\n",
    "cnt = 5\n",
    "while ans != goal:\n",
    "    cnt -= 1\n",
    "    if cnt == 0:\n",
    "        print(f\"실패! 남은 기회가 없습니다. 정답은 {goal}이었습니다!\")\n",
    "        break\n",
    "    if not min_ <= ans <= max_:\n",
    "        print(\"정답 범위를 벗어났습니다.\")\n",
    "        print(f\"남은 기회는 {cnt}번입니다\")\n",
    "        ans = int(input(\"다시 입력해 주세요. 수의 범위는 {}~{}입니다.\".format(min_,max_)))\n",
    "    elif min_ <= ans < goal:\n",
    "        min_ = ans\n",
    "        print(\"↑UP!\")\n",
    "        print(f\"남은 기회는 {cnt}번입니다\")\n",
    "        ans = int(input(\"다시 입력해 주세요. 수의 범위는 {}~{}입니다.\".format(min_,max_)))\n",
    "    elif goal < ans <= max_:\n",
    "        max_ = ans\n",
    "        print(\"↓DOWN!\")\n",
    "        print(f\"남은 기회는 {cnt}번입니다\")\n",
    "        ans = int(input(\"다시 입력해 주세요. 수의 범위는 {}~{}입니다.\".format(min_,max_)))\n",
    "    else:\n",
    "        print(\"정답! 🎉축하합니다🎉\")"
   ]
  },
  {
   "cell_type": "code",
   "execution_count": 64,
   "id": "855dbbb0",
   "metadata": {},
   "outputs": [
    {
     "name": "stdout",
     "output_type": "stream",
     "text": [
      "컴퓨터가 발생한 random 수 : 100\n",
      "1~100 사이의 수를 맞춰 보세요(남은기회는 5):100\n",
      "축하 축하 맞추셨습니다\n",
      "BYE\n"
     ]
    }
   ],
   "source": [
    "#10. 선생님 풀이\n",
    "import random\n",
    "randomNum = random.randint(1, 100)\n",
    "fRom, to = 1, 100\n",
    "print(\"컴퓨터가 발생한 random 수 :\", randomNum)\n",
    "for cnt in range(5, 0, -1):\n",
    "    inputNum = int(input(f\"{fRom}~{to} 사이의 수를 맞춰 보세요(남은기회는 {cnt}):\"))\n",
    "    if (inputNum<fRom) | (inputNum>to):\n",
    "        print('수의 범위를 벗어났습니다')\n",
    "    elif randomNum < inputNum :\n",
    "        print('DOWN ↓')\n",
    "        to = inputNum - 1\n",
    "    elif randomNum > inputNum:\n",
    "        print('UP ↑')\n",
    "        fRom = inputNum + 1\n",
    "    else:\n",
    "        print(\"축하 축하 맞추셨습니다\")\n",
    "        break\n",
    "else:\n",
    "    print('기회를 모두 사용하셨습니다. 실패하셨습니다')\n",
    "print(\"BYE\")"
   ]
  }
 ],
 "metadata": {
  "kernelspec": {
   "display_name": "Python 3 (ipykernel)",
   "language": "python",
   "name": "python3"
  },
  "language_info": {
   "codemirror_mode": {
    "name": "ipython",
    "version": 3
   },
   "file_extension": ".py",
   "mimetype": "text/x-python",
   "name": "python",
   "nbconvert_exporter": "python",
   "pygments_lexer": "ipython3",
   "version": "3.10.9"
  },
  "toc": {
   "base_numbering": 1,
   "nav_menu": {},
   "number_sections": false,
   "sideBar": true,
   "skip_h1_title": false,
   "title_cell": "Table of Contents",
   "title_sidebar": "Contents",
   "toc_cell": false,
   "toc_position": {
    "height": "calc(100% - 180px)",
    "left": "10px",
    "top": "150px",
    "width": "165px"
   },
   "toc_section_display": true,
   "toc_window_display": true
  }
 },
 "nbformat": 4,
 "nbformat_minor": 5
}
