{
 "cells": [
  {
   "cell_type": "code",
   "execution_count": 102,
   "id": "85c2ebd5",
   "metadata": {},
   "outputs": [
    {
     "data": {
      "text/html": [
       "\n",
       "<style>\n",
       "div.container{width:90% !important;}\n",
       "div.cell.code_cell.rendered{width:90%;}\n",
       "div.input_prompt{padding:0px;}\n",
       "div.CodeMirror {font-family:Consolas; font-size:10pt;}\n",
       "div.text_cell_render.rendered_html{font-size:10pt;}\n",
       "div.output {font-size:10pt; font-weight:bold;}\n",
       "div.input {font-family:Consolas; font-size:10pt;}\n",
       "div.prompt {min-width:70px;}\n",
       "div#toc-wrapper{padding-top:120px;}\n",
       "div.text_cell_render ul li{font-size:10pt;padding:5px;}\n",
       "table.dataframe{font-size:10px;}\n",
       "</style>\n"
      ],
      "text/plain": [
       "<IPython.core.display.HTML object>"
      ]
     },
     "metadata": {},
     "output_type": "display_data"
    }
   ],
   "source": [
    "from IPython.display import display, HTML\n",
    "display(HTML(\"\"\"\n",
    "<style>\n",
    "div.container{width:90% !important;}\n",
    "div.cell.code_cell.rendered{width:90%;}\n",
    "div.input_prompt{padding:0px;}\n",
    "div.CodeMirror {font-family:Consolas; font-size:10pt;}\n",
    "div.text_cell_render.rendered_html{font-size:10pt;}\n",
    "div.output {font-size:10pt; font-weight:bold;}\n",
    "div.input {font-family:Consolas; font-size:10pt;}\n",
    "div.prompt {min-width:70px;}\n",
    "div#toc-wrapper{padding-top:120px;}\n",
    "div.text_cell_render ul li{font-size:10pt;padding:5px;}\n",
    "table.dataframe{font-size:10px;}\n",
    "</style>\n",
    "\"\"\"))"
   ]
  },
  {
   "cell_type": "markdown",
   "id": "8e26a646",
   "metadata": {},
   "source": [
    "<b><font size=\"6\" color=\"red\">Ch 5. 함수</font><b>\n",
    "- 반복해서 사용할 코드(들)를 묶어 놓고 그것에 이름을 붙인 것\n",
    "- 오버로딩 불가(같은 이름의 함수는 덮어씀)\n",
    "- 함수 정의\n",
    "\n",
    "```\n",
    "def 함수명([매개변수1, 매개변수2, ..]): \n",
    "    명령어1\n",
    "    명령어2\n",
    "    ...\n",
    "```\n",
    "# 1. 함수의 정의 및 사용\n",
    "## 1.1. 함수 정의"
   ]
  },
  {
   "cell_type": "code",
   "execution_count": 4,
   "id": "bdcbd34b",
   "metadata": {},
   "outputs": [],
   "source": [
    "#msg를 x번 출력하는 함수 정의\n",
    "def my_message(x, msg):\n",
    "    for i in range(x):\n",
    "        print(i, msg)"
   ]
  },
  {
   "cell_type": "code",
   "execution_count": 5,
   "id": "0ade8d61",
   "metadata": {},
   "outputs": [
    {
     "name": "stdout",
     "output_type": "stream",
     "text": [
      "0 반가워\n",
      "1 반가워\n"
     ]
    }
   ],
   "source": [
    "#함수 사용\n",
    "my_message(2, \"반가워\")"
   ]
  },
  {
   "cell_type": "code",
   "execution_count": 6,
   "id": "d64f6653",
   "metadata": {},
   "outputs": [
    {
     "name": "stdout",
     "output_type": "stream",
     "text": [
      "0 Hello\n",
      "1 Hello\n",
      "0 Python\n",
      "1 Python\n",
      "2 Python\n"
     ]
    }
   ],
   "source": [
    "#함수 이름 변경(복사)\n",
    "my_msg = my_message\n",
    "my_message(2, 'Hello')\n",
    "my_msg(3, 'Python')"
   ]
  },
  {
   "cell_type": "code",
   "execution_count": 7,
   "id": "63e51069",
   "metadata": {},
   "outputs": [
    {
     "data": {
      "text/plain": [
       "(function, function)"
      ]
     },
     "execution_count": 7,
     "metadata": {},
     "output_type": "execute_result"
    }
   ],
   "source": [
    "type(my_message), type(my_msg)"
   ]
  },
  {
   "cell_type": "code",
   "execution_count": 13,
   "id": "f164164d",
   "metadata": {},
   "outputs": [
    {
     "name": "stdout",
     "output_type": "stream",
     "text": [
      "Hello\n",
      "Hello\n"
     ]
    }
   ],
   "source": [
    "print('Hello') #파이썬 내장 함수(import 하지 않고 사용할 수 있는)\n",
    "print = 5\n",
    "#print('Hello') → Error\n",
    "del print #심볼 테이블에서 메모리 삭제\n",
    "print('Hello')"
   ]
  },
  {
   "cell_type": "markdown",
   "id": "791288de",
   "metadata": {},
   "source": [
    "* **전역(global) 심볼 테이블**: 모듈(파일)의 최상단에서 정의된 변수, 함수, 클래스 등의 이름을 저장합니다. 파이썬 프로그램이 시작될 때 생성되어 프로그램이 종료될 때까지 유지됩니다. globals() 내장 함수를 통해 이 테이블의 내용을 확인할 수 있습니다.\n",
    "* **지역(local) 심볼 테이블**: 함수가 호출될 때마다 생성되며, 그 함수 내에서 정의된 변수들의 이름을 저장합니다. 함수 실행이 끝나면 사라지므로, 지역 변수는 함수 외부에서 접근할 수 없습니다. locals() 내장 함수를 통해 현재 함수의 지역 심볼 테이블을 확인할 수 있습니다."
   ]
  },
  {
   "cell_type": "code",
   "execution_count": 11,
   "id": "fb92788c",
   "metadata": {},
   "outputs": [
    {
     "ename": "NameError",
     "evalue": "name 'my_message' is not defined",
     "output_type": "error",
     "traceback": [
      "\u001b[1;31m---------------------------------------------------------------------------\u001b[0m",
      "\u001b[1;31mNameError\u001b[0m                                 Traceback (most recent call last)",
      "Cell \u001b[1;32mIn[11], line 1\u001b[0m\n\u001b[1;32m----> 1\u001b[0m \u001b[38;5;28;01mdel\u001b[39;00m my_message\n\u001b[0;32m      2\u001b[0m my_message(\u001b[38;5;241m2\u001b[39m, \u001b[38;5;124m'\u001b[39m\u001b[38;5;124mHello\u001b[39m\u001b[38;5;124m'\u001b[39m)\n",
      "\u001b[1;31mNameError\u001b[0m: name 'my_message' is not defined"
     ]
    }
   ],
   "source": [
    "del my_message #전역 심볼 테이블에서 삭제\n",
    "my_message(2, 'Hello') #Error! 사용자 정의 함수, 라이브러리 함수는 del하여도 사용 불가 "
   ]
  },
  {
   "cell_type": "code",
   "execution_count": 14,
   "id": "6b0f2c49",
   "metadata": {},
   "outputs": [],
   "source": [
    "#함수의 중복 정의(오버로딩) → 불가!\n",
    "def my_hello():\n",
    "    print('Hello Python')\n",
    "    print('Hello World')\n",
    "def my_hello(cnt): #cnt회 출력 경우 정의. #2~4열 정의 함수를 덮어씀\n",
    "    for i in range(cnt):\n",
    "        print('Hello, Python', end=\"\\t\")\n",
    "        print('Hello, World')\n",
    "#타 언어에서는 중복 정의하는 경우가 있으나, 파이썬에서는 불가함"
   ]
  },
  {
   "cell_type": "code",
   "execution_count": 19,
   "id": "776ff17b",
   "metadata": {},
   "outputs": [
    {
     "name": "stdout",
     "output_type": "stream",
     "text": [
      "Hello, Python\tHello, World\n",
      "Hello, Python\tHello, World\n"
     ]
    }
   ],
   "source": [
    "#my_hello()\n",
    "my_hello(2)"
   ]
  },
  {
   "cell_type": "code",
   "execution_count": 20,
   "id": "cedf413e",
   "metadata": {},
   "outputs": [
    {
     "data": {
      "text/plain": [
       "<function __main__.my_hello(cnt)>"
      ]
     },
     "execution_count": 20,
     "metadata": {},
     "output_type": "execute_result"
    }
   ],
   "source": [
    "my_hello"
   ]
  },
  {
   "cell_type": "code",
   "execution_count": 21,
   "id": "6c8794d3",
   "metadata": {},
   "outputs": [
    {
     "data": {
      "text/plain": [
       "'__main__'"
      ]
     },
     "execution_count": 21,
     "metadata": {},
     "output_type": "execute_result"
    }
   ],
   "source": [
    "__name__"
   ]
  },
  {
   "cell_type": "code",
   "execution_count": 23,
   "id": "71f05a27",
   "metadata": {},
   "outputs": [
    {
     "name": "stdout",
     "output_type": "stream",
     "text": [
      "Hello, Python\tHello, World\n",
      "Hello, Python\tHello, World\n"
     ]
    }
   ],
   "source": [
    "if __name__ == '__main__':\n",
    "    #'여기서 정의한 걸 여기서 실행한 거야?'라고 묻는 의미\n",
    "    my_hello(2)"
   ]
  },
  {
   "cell_type": "code",
   "execution_count": 1,
   "id": "27f0ff99",
   "metadata": {},
   "outputs": [],
   "source": [
    "import ch05 #ch05 모듈이 해석돼서 메모리 로드"
   ]
  },
  {
   "cell_type": "code",
   "execution_count": 4,
   "id": "8d7d24cc",
   "metadata": {},
   "outputs": [
    {
     "name": "stdout",
     "output_type": "stream",
     "text": [
      "ch05\n",
      "Hello, Python\tHello, World\n",
      "Hello, Python\tHello, World\n"
     ]
    }
   ],
   "source": [
    "ch05.my_hello(2)"
   ]
  },
  {
   "cell_type": "code",
   "execution_count": 5,
   "id": "f4384307",
   "metadata": {},
   "outputs": [
    {
     "name": "stdout",
     "output_type": "stream",
     "text": [
      "ch05\n",
      "Hello, Python\tHello, World\n",
      "Hello, Python\tHello, World\n",
      "Hello, Python\tHello, World\n"
     ]
    }
   ],
   "source": [
    "from ch05 import my_hello #my_hello만 메모리 로드\n",
    "my_hello(3)"
   ]
  },
  {
   "cell_type": "markdown",
   "id": "a805b6de",
   "metadata": {},
   "source": [
    "## 1.2. docstring"
   ]
  },
  {
   "cell_type": "code",
   "execution_count": 10,
   "id": "4c424aaa",
   "metadata": {},
   "outputs": [],
   "source": [
    "def my_function():\n",
    "    \"\"\"\n",
    "    함수의 첫 라인에 독스트링('or\" 세 쌍)을 포함할 수 있습니다.\n",
    "    독스트링은 함수의 설명서를 달아 주는 역할\n",
    "    주석보다 많은 기능(함수 호출 시 shft+tab^2으로 독스트링 볼 수 있음)\n",
    "    #주석은 shft+tab^2 사용 시 볼 수 없음\n",
    "    \"\"\"\n",
    "    pass"
   ]
  },
  {
   "cell_type": "code",
   "execution_count": 11,
   "id": "0464c76e",
   "metadata": {},
   "outputs": [
    {
     "name": "stdout",
     "output_type": "stream",
     "text": [
      "\n",
      "    함수의 첫 라인에 독스트링('or\" 세 쌍)을 포함할 수 있습니다.\n",
      "    독스트링은 함수의 설명서를 달아 주는 역할\n",
      "    주석보다 많은 기능(함수 호출 시 shft+tab^2으로 독스트링 볼 수 있음)\n",
      "    #주석은 shft+tab^2 사용 시 볼 수 없음\n",
      "    \n"
     ]
    }
   ],
   "source": [
    "print(my_function.__doc__)"
   ]
  },
  {
   "cell_type": "code",
   "execution_count": 12,
   "id": "81943e3e",
   "metadata": {},
   "outputs": [],
   "source": [
    "def fibonacci(n):\n",
    "    \"\"\"\n",
    "    매개변수로 들어온 n값 미만의 피보나치 수열을 출력하는 함수\n",
    "    ex. n=10: 0 1 1 2 3 5 8\n",
    "        n=100: 0 1 1 2 3 5 8 13 21 34 55 89\n",
    "    \"\"\"\n",
    "    a, b = 0, 1 #함수 내에 선언한 변수: 지역 변수(↔전역 변수)\n",
    "    while a < n:\n",
    "        print(a, end=' ')\n",
    "        a, b = b, a+b\n",
    "    print() #줄바꿈"
   ]
  },
  {
   "cell_type": "code",
   "execution_count": 14,
   "id": "81d16d57",
   "metadata": {},
   "outputs": [
    {
     "name": "stdout",
     "output_type": "stream",
     "text": [
      "0 1 1 2 3 5 8 13 21 34 55 89 144 233 377 610 987 \n"
     ]
    }
   ],
   "source": [
    "fibonacci(1000)"
   ]
  },
  {
   "cell_type": "code",
   "execution_count": 15,
   "id": "ab5d4317",
   "metadata": {},
   "outputs": [
    {
     "ename": "NameError",
     "evalue": "name 'a' is not defined",
     "output_type": "error",
     "traceback": [
      "\u001b[1;31m---------------------------------------------------------------------------\u001b[0m",
      "\u001b[1;31mNameError\u001b[0m                                 Traceback (most recent call last)",
      "Cell \u001b[1;32mIn[15], line 1\u001b[0m\n\u001b[1;32m----> 1\u001b[0m \u001b[43ma\u001b[49m, b\n",
      "\u001b[1;31mNameError\u001b[0m: name 'a' is not defined"
     ]
    }
   ],
   "source": [
    "a, b #지역 변수는 함수 내에서만 사용 가능"
   ]
  },
  {
   "cell_type": "markdown",
   "id": "29bc093f",
   "metadata": {},
   "source": [
    "## 1.3. 지역 변수(local var)와 전역 변수(global var)"
   ]
  },
  {
   "cell_type": "code",
   "execution_count": 16,
   "id": "9c308ced",
   "metadata": {},
   "outputs": [
    {
     "name": "stdout",
     "output_type": "stream",
     "text": [
      "함수 안:  100\n",
      "함수 밖:  100\n"
     ]
    }
   ],
   "source": [
    "global_var = 100\n",
    "def func1():\n",
    "    print('함수 안: ', global_var)\n",
    "func1()\n",
    "print('함수 밖: ', global_var)"
   ]
  },
  {
   "cell_type": "code",
   "execution_count": 17,
   "id": "3661cd83",
   "metadata": {},
   "outputs": [
    {
     "name": "stdout",
     "output_type": "stream",
     "text": [
      "함수 안:  200\n"
     ]
    },
    {
     "ename": "NameError",
     "evalue": "name 'local_var' is not defined",
     "output_type": "error",
     "traceback": [
      "\u001b[1;31m---------------------------------------------------------------------------\u001b[0m",
      "\u001b[1;31mNameError\u001b[0m                                 Traceback (most recent call last)",
      "Cell \u001b[1;32mIn[17], line 5\u001b[0m\n\u001b[0;32m      3\u001b[0m     \u001b[38;5;28mprint\u001b[39m(\u001b[38;5;124m'\u001b[39m\u001b[38;5;124m함수 안: \u001b[39m\u001b[38;5;124m'\u001b[39m, local_var)\n\u001b[0;32m      4\u001b[0m func2()\n\u001b[1;32m----> 5\u001b[0m \u001b[38;5;28mprint\u001b[39m(\u001b[38;5;124m'\u001b[39m\u001b[38;5;124m함수 밖: \u001b[39m\u001b[38;5;124m'\u001b[39m, \u001b[43mlocal_var\u001b[49m)\n",
      "\u001b[1;31mNameError\u001b[0m: name 'local_var' is not defined"
     ]
    }
   ],
   "source": [
    "def func2():\n",
    "    local_var = 200 #지역 변수(함수 내에서 할당)\n",
    "    print('함수 안: ', local_var)\n",
    "func2()\n",
    "print('함수 밖: ', local_var)"
   ]
  },
  {
   "cell_type": "code",
   "execution_count": 19,
   "id": "77af1304",
   "metadata": {},
   "outputs": [
    {
     "name": "stdout",
     "output_type": "stream",
     "text": [
      "지역변수 g_var:  200\n",
      "전역변수 g_var:  100\n"
     ]
    }
   ],
   "source": [
    "g_var = 100 #전역 변수 할당(전역 심볼 테이블에 저장)\n",
    "def func3():\n",
    "    g_var = 200 #지역 변수 할당(지역 심볼 테이블에 저장)\n",
    "    print('지역변수 g_var: ', g_var)\n",
    "func3()\n",
    "print('전역변수 g_var: ', g_var)"
   ]
  },
  {
   "cell_type": "code",
   "execution_count": 20,
   "id": "1942d178",
   "metadata": {},
   "outputs": [
    {
     "ename": "UnboundLocalError",
     "evalue": "local variable 'g_var' referenced before assignment",
     "output_type": "error",
     "traceback": [
      "\u001b[1;31m---------------------------------------------------------------------------\u001b[0m",
      "\u001b[1;31mUnboundLocalError\u001b[0m                         Traceback (most recent call last)",
      "Cell \u001b[1;32mIn[20], line 6\u001b[0m\n\u001b[0;32m      4\u001b[0m     \u001b[38;5;28mprint\u001b[39m(\u001b[38;5;124m'\u001b[39m\u001b[38;5;124m지역변수 g_var: \u001b[39m\u001b[38;5;124m'\u001b[39m, g_var) \u001b[38;5;66;03m#Error! g_var 로컬에 안 잡혀 있는데 호출되므로\u001b[39;00m\n\u001b[0;32m      5\u001b[0m     g_var \u001b[38;5;241m=\u001b[39m \u001b[38;5;241m200\u001b[39m\n\u001b[1;32m----> 6\u001b[0m \u001b[43mfunc3\u001b[49m\u001b[43m(\u001b[49m\u001b[43m)\u001b[49m\n\u001b[0;32m      7\u001b[0m \u001b[38;5;28mprint\u001b[39m(\u001b[38;5;124m'\u001b[39m\u001b[38;5;124m전역변수 g_var: \u001b[39m\u001b[38;5;124m'\u001b[39m, g_var)\n",
      "Cell \u001b[1;32mIn[20], line 4\u001b[0m, in \u001b[0;36mfunc3\u001b[1;34m()\u001b[0m\n\u001b[0;32m      3\u001b[0m \u001b[38;5;28;01mdef\u001b[39;00m \u001b[38;5;21mfunc3\u001b[39m():\n\u001b[1;32m----> 4\u001b[0m     \u001b[38;5;28mprint\u001b[39m(\u001b[38;5;124m'\u001b[39m\u001b[38;5;124m지역변수 g_var: \u001b[39m\u001b[38;5;124m'\u001b[39m, \u001b[43mg_var\u001b[49m) \u001b[38;5;66;03m#Error! g_var 로컬에 안 잡혀 있는데 호출되므로\u001b[39;00m\n\u001b[0;32m      5\u001b[0m     g_var \u001b[38;5;241m=\u001b[39m \u001b[38;5;241m200\u001b[39m\n",
      "\u001b[1;31mUnboundLocalError\u001b[0m: local variable 'g_var' referenced before assignment"
     ]
    }
   ],
   "source": [
    "#렉시컬 특성: 변수가 어디서 선언되었는지에 따라 변수의 범위(지역/전역)가 정해짐\n",
    "g_var = 100\n",
    "def func3():\n",
    "    print('지역변수 g_var: ', g_var) #Error! g_var 로컬에 안 잡혀 있는데 호출되므로\n",
    "    g_var = 200\n",
    "func3() \n",
    "print('전역변수 g_var: ', g_var)"
   ]
  },
  {
   "cell_type": "code",
   "execution_count": 21,
   "id": "4513c631",
   "metadata": {},
   "outputs": [
    {
     "name": "stdout",
     "output_type": "stream",
     "text": [
      "전역변수 g_var:  100\n",
      "전역변수 g_var:  200\n"
     ]
    }
   ],
   "source": [
    "#렉시컬 특성\n",
    "g_var = 100\n",
    "def func3():\n",
    "    global g_var #이 함수 내에서 g_var는 전역 변수라 선언\n",
    "    print('전역변수 g_var: ', g_var) #Error! g_var 로컬에 안 잡혀 있는데 호출되므로\n",
    "    g_var = 200 #전역변수 g_var에 200 할당 \n",
    "func3() \n",
    "print('전역변수 g_var: ', g_var)"
   ]
  },
  {
   "cell_type": "code",
   "execution_count": 23,
   "id": "357eead8",
   "metadata": {},
   "outputs": [
    {
     "name": "stdout",
     "output_type": "stream",
     "text": [
      "전역변수 g_var:  200\n",
      "전역변수 g_var:  200\n"
     ]
    }
   ],
   "source": [
    "#렉시컬 특성\n",
    "g_var = 100\n",
    "def func3():\n",
    "    global g_var #이 함수 내에서 g_var는 전역 변수라 선언\n",
    "    print('전역변수 g_var: ', g_var) #Error! g_var 로컬에 안 잡혀 있는데 호출되므로\n",
    "    g_var = 200 #전역변수 g_var에 200 할당 \n",
    "func3() \n",
    "print('전역변수 g_var: ', g_var)"
   ]
  },
  {
   "cell_type": "markdown",
   "id": "761dc99e",
   "metadata": {},
   "source": [
    "## 1.4. 값에 의한 호출\n",
    "(↔참조에 의한 호출)\n",
    "- 함수에 인수로 전달되는 변수가 스칼라 변수(단일 문자형, 숫자형, 논리형 데이터)일 때"
   ]
  },
  {
   "cell_type": "code",
   "execution_count": 24,
   "id": "bd543489",
   "metadata": {},
   "outputs": [
    {
     "data": {
      "text/plain": [
       "1193214109488"
      ]
     },
     "execution_count": 24,
     "metadata": {},
     "output_type": "execute_result"
    }
   ],
   "source": [
    "foo = 'a' #전역 변수\n",
    "id(foo)"
   ]
  },
  {
   "cell_type": "code",
   "execution_count": 25,
   "id": "123e48cd",
   "metadata": {},
   "outputs": [
    {
     "name": "stdout",
     "output_type": "stream",
     "text": [
      "Before:  a 의 주소는  1193214109488\n",
      "After:  aaa 의 주소는  1193325462832\n"
     ]
    }
   ],
   "source": [
    "def func1(f): #매개 변수는 지역 변수임\n",
    "    print('Before: ', f, '의 주소는 ', id(f))\n",
    "    f = f*3\n",
    "    print('After: ', f, '의 주소는 ', id(f))\n",
    "func1(foo)"
   ]
  },
  {
   "cell_type": "code",
   "execution_count": 26,
   "id": "9b9c8d14",
   "metadata": {},
   "outputs": [
    {
     "name": "stdout",
     "output_type": "stream",
     "text": [
      "foo =  a 의 주소는 1193214109488\n"
     ]
    }
   ],
   "source": [
    "print('foo = ', foo, '의 주소는', id(foo))"
   ]
  },
  {
   "cell_type": "markdown",
   "id": "082acaf9",
   "metadata": {},
   "source": [
    "## 1.5. 참조에 의한 호출\n",
    "(↔값에 의한 호출)\n",
    "- 함수에 인수로 전달되는 변수가 리스트, 튜플, 셋, 딕셔너리, 기타 객체일 때"
   ]
  },
  {
   "cell_type": "code",
   "execution_count": 27,
   "id": "09052c07",
   "metadata": {},
   "outputs": [
    {
     "data": {
      "text/plain": [
       "1193325821824"
      ]
     },
     "execution_count": 27,
     "metadata": {},
     "output_type": "execute_result"
    }
   ],
   "source": [
    "L=[1,2,3,4,5]\n",
    "id(L)"
   ]
  },
  {
   "cell_type": "code",
   "execution_count": 28,
   "id": "eb9ecbde",
   "metadata": {},
   "outputs": [
    {
     "name": "stdout",
     "output_type": "stream",
     "text": [
      "Before:  [1, 2, 3, 4, 5] 의 주소는  1193325821824\n",
      "After:  [1, 2, 3, 4, 5, 6] 의 주소는  1193325821824\n"
     ]
    }
   ],
   "source": [
    "def func2(l): #매개 변수는 늘 지역 변수임\n",
    "    print('Before: ', l, '의 주소는 ', id(l))\n",
    "    l.append(6)\n",
    "    print('After: ', l, '의 주소는 ', id(l))\n",
    "func2(L)"
   ]
  },
  {
   "cell_type": "code",
   "execution_count": 29,
   "id": "bcc3dd73",
   "metadata": {},
   "outputs": [
    {
     "name": "stdout",
     "output_type": "stream",
     "text": [
      "L= [1, 2, 3, 4, 5, 6] 의 주소는 1193325821824\n"
     ]
    }
   ],
   "source": [
    "print('L=', L, '의 주소는', id(L))"
   ]
  },
  {
   "cell_type": "markdown",
   "id": "9746e601",
   "metadata": {},
   "source": [
    "# 2. 함수의 실행 결과를 반환하는 return문"
   ]
  },
  {
   "cell_type": "code",
   "execution_count": 30,
   "id": "dfc5cb22",
   "metadata": {},
   "outputs": [],
   "source": [
    "def fibonacci_print(n): #재정의\n",
    "    \"매개변수로 들어온 n값 미만의 피보나치 수열을 출력하는 함수\"\n",
    "    a, b = 0, 1 #함수 내에 선언한 변수: 지역 변수(↔전역 변수)\n",
    "    while a < n:\n",
    "        print(a, end=' ')\n",
    "        a, b = b, a+b\n",
    "    print() #줄바꿈\n",
    "def fibonacci(n):\n",
    "    \"n 미만의 피보나치 수열을 리스트로 return\"\n",
    "    result = [] #피보나치 수열을 append 할 리스트\n",
    "    a, b = 0, 1\n",
    "    while a<n:\n",
    "        result.append(a) #리스트에 append(추가)\n",
    "        a, b = b, a+b\n",
    "    return result"
   ]
  },
  {
   "cell_type": "code",
   "execution_count": 33,
   "id": "3550aa08",
   "metadata": {},
   "outputs": [
    {
     "name": "stdout",
     "output_type": "stream",
     "text": [
      "[0, 1, 1, 2, 3, 5, 8]\n",
      "<class 'list'>\n"
     ]
    }
   ],
   "source": [
    "x = fibonacci(10)\n",
    "print(x)\n",
    "print(type(x))"
   ]
  },
  {
   "cell_type": "code",
   "execution_count": 34,
   "id": "24875e67",
   "metadata": {},
   "outputs": [
    {
     "name": "stdout",
     "output_type": "stream",
     "text": [
      "0 1 1 2 3 5 8 \n",
      "x=  None\n",
      "<class 'NoneType'>\n"
     ]
    }
   ],
   "source": [
    "x = fibonacci_print(10)\n",
    "print('x= ',x)\n",
    "print(type(x))"
   ]
  },
  {
   "cell_type": "markdown",
   "id": "a3d00fb5",
   "metadata": {},
   "source": [
    "### 여러 개 값 return\n",
    "- 여러 개 값을 갖는 튜플로 return\n",
    "- 결국 return에는 한 데이터가 들어가는 셈"
   ]
  },
  {
   "cell_type": "code",
   "execution_count": 36,
   "id": "bdf97e5a",
   "metadata": {},
   "outputs": [],
   "source": [
    "def swap(a, b):\n",
    "    '매개변수의 순서를 바꿔서 return'\n",
    "    return b, a #자동적으로 tuple로 바뀜 #return(b,a)"
   ]
  },
  {
   "cell_type": "code",
   "execution_count": 37,
   "id": "15e117d2",
   "metadata": {},
   "outputs": [
    {
     "name": "stdout",
     "output_type": "stream",
     "text": [
      "함수 실행 전 x, y = 5 10\n",
      "함수 실행 후 x, y = 10 5\n"
     ]
    }
   ],
   "source": [
    "x = 5; y = 10\n",
    "print('함수 실행 전 x, y =', x, y)\n",
    "x, y = swap(x, y)\n",
    "print('함수 실행 후 x, y =', x, y)"
   ]
  },
  {
   "cell_type": "markdown",
   "id": "6451d7b2",
   "metadata": {},
   "source": [
    "# 3. 함수 매개변수\n",
    "## 3.1. 기본 값을 갖는 매개변수"
   ]
  },
  {
   "cell_type": "code",
   "execution_count": 38,
   "id": "09b41128",
   "metadata": {},
   "outputs": [],
   "source": [
    "def make_url(ip, port=80): #순서인수 > 기본 값을 갖는 매개변수\n",
    "    return \"http://{}:{}\".format(ip, port)"
   ]
  },
  {
   "cell_type": "code",
   "execution_count": 40,
   "id": "9b291706",
   "metadata": {},
   "outputs": [
    {
     "name": "stdout",
     "output_type": "stream",
     "text": [
      "http://localhost:8090\n",
      "http://www.naver.com:80\n",
      "http://localhost:9090\n"
     ]
    }
   ],
   "source": [
    "print(make_url(\"localhost\", 8090))\n",
    "print(make_url(\"www.naver.com\"))\n",
    "print(make_url(port=9090, ip=\"localhost\"))"
   ]
  },
  {
   "cell_type": "markdown",
   "id": "f7f44e0e",
   "metadata": {},
   "source": [
    "## 3.2. 기본 변수를 기본 값으로 갖는 매개변수\n",
    "- 기본 변수가 스칼라변수(문자, 숫자, 논리형)일 때\n",
    "- 기본 변수가 리스트, 셋, 딕셔너리, 기타 객체일 때"
   ]
  },
  {
   "cell_type": "code",
   "execution_count": 42,
   "id": "733bbbae",
   "metadata": {},
   "outputs": [],
   "source": [
    "i = 80\n",
    "#기본 변수가 스칼라 변수일 때: 함수가 정의되는 시점으로 기본 값 세팅\n",
    "def make_url(ip, port=i):\n",
    "    return \"http://{}:{}\".format(ip, port)"
   ]
  },
  {
   "cell_type": "code",
   "execution_count": 44,
   "id": "b2252bd5",
   "metadata": {},
   "outputs": [
    {
     "data": {
      "text/plain": [
       "'http://localhost:80'"
      ]
     },
     "execution_count": 44,
     "metadata": {},
     "output_type": "execute_result"
    }
   ],
   "source": [
    "i = 90\n",
    "make_url(\"localhost\")"
   ]
  },
  {
   "cell_type": "code",
   "execution_count": 46,
   "id": "3be29c1e",
   "metadata": {},
   "outputs": [
    {
     "name": "stdout",
     "output_type": "stream",
     "text": [
      "[10]\n"
     ]
    }
   ],
   "source": [
    "list_ = []\n",
    "#기본 변수가 리스트, 셋, 딕셔너리, 기타 객체일 때: 함수가 실행되는 시점으로 기본 값 세팅\n",
    "def func3(a, L=list_):\n",
    "    L.append(a)\n",
    "    return L\n",
    "print(func3(10))"
   ]
  },
  {
   "cell_type": "code",
   "execution_count": 47,
   "id": "27c64a69",
   "metadata": {},
   "outputs": [
    {
     "name": "stdout",
     "output_type": "stream",
     "text": [
      "[10, 20]\n"
     ]
    }
   ],
   "source": [
    "print(func3(20))"
   ]
  },
  {
   "cell_type": "code",
   "execution_count": 48,
   "id": "1aa9256c",
   "metadata": {},
   "outputs": [
    {
     "name": "stdout",
     "output_type": "stream",
     "text": [
      "list_= [10, 20]\n"
     ]
    }
   ],
   "source": [
    "print(\"list_=\", list_)"
   ]
  },
  {
   "cell_type": "code",
   "execution_count": 49,
   "id": "eb9f454c",
   "metadata": {},
   "outputs": [
    {
     "name": "stdout",
     "output_type": "stream",
     "text": [
      "[10, 20, 50]\n"
     ]
    }
   ],
   "source": [
    "print(func3(50))"
   ]
  },
  {
   "cell_type": "code",
   "execution_count": 76,
   "id": "fc2fd6a9",
   "metadata": {},
   "outputs": [
    {
     "name": "stdout",
     "output_type": "stream",
     "text": [
      "[10]\n",
      "[10]\n",
      "[1, 2, 3, 10]\n"
     ]
    }
   ],
   "source": [
    "#실행할 때마다 L을 공유하는 걸 원치 않으면\n",
    "def func3(a, L=None):\n",
    "    if L is None: #등호로 확인하지 않음\n",
    "        L = []\n",
    "    L.append(a)\n",
    "    return L\n",
    "print(func3(10))\n",
    "print(func3(10))\n",
    "print(func3(10, [1,2,3]))"
   ]
  },
  {
   "cell_type": "markdown",
   "id": "ac76819b",
   "metadata": {},
   "source": [
    "## 3.3. 순서 인수, 키워드 인수\n",
    "- 순서(위치)인수: 함수에 정의된 순서대로 전달 방식\n",
    "- 키워드인수: 인수의 이름을 명시하는 방식\n",
    "- 함수 정의 시, 순서인수와 키워드인수를 같이 넣을 때는 순서인수→키워드인수 순으로 (안 그럼 에러)"
   ]
  },
  {
   "cell_type": "code",
   "execution_count": 52,
   "id": "79e98b4a",
   "metadata": {},
   "outputs": [],
   "source": [
    "def func3(a, L=None):\n",
    "    if L is None: #등호로 확인하지 않음\n",
    "        L = []\n",
    "    L.append(a)\n",
    "    return L"
   ]
  },
  {
   "cell_type": "code",
   "execution_count": 53,
   "id": "3b17c3c7",
   "metadata": {},
   "outputs": [
    {
     "name": "stdout",
     "output_type": "stream",
     "text": [
      "[10]\n",
      "[10, 20]\n"
     ]
    }
   ],
   "source": [
    "lst = []\n",
    "print(func3(10, lst)) #순서 인수: 함수 정의된 순서대로 전달하는 방식\n",
    "print(func3(L=lst, a=20)) #키워드 인수 : 인수의 이름을 명시하여 전달하는 방식"
   ]
  },
  {
   "cell_type": "markdown",
   "id": "877b4e00",
   "metadata": {},
   "source": [
    "## 3.4. 튜플 매개 변수를 이용한 가변 인수 설정\n",
    "- 가변 인수 : 매개변수의 개수가 가변"
   ]
  },
  {
   "cell_type": "code",
   "execution_count": 55,
   "id": "5229c7ee",
   "metadata": {},
   "outputs": [
    {
     "ename": "TypeError",
     "evalue": "add() missing 1 required positional argument: 'c'",
     "output_type": "error",
     "traceback": [
      "\u001b[1;31m---------------------------------------------------------------------------\u001b[0m",
      "\u001b[1;31mTypeError\u001b[0m                                 Traceback (most recent call last)",
      "Cell \u001b[1;32mIn[55], line 6\u001b[0m\n\u001b[0;32m      4\u001b[0m \u001b[38;5;28;01mdef\u001b[39;00m \u001b[38;5;21madd\u001b[39m(a, b, c): \u001b[38;5;66;03m#중복정의\u001b[39;00m\n\u001b[0;32m      5\u001b[0m     \u001b[38;5;28;01mreturn\u001b[39;00m a\u001b[38;5;241m+\u001b[39mb\u001b[38;5;241m+\u001b[39mc\n\u001b[1;32m----> 6\u001b[0m \u001b[43madd\u001b[49m\u001b[43m(\u001b[49m\u001b[38;5;241;43m3\u001b[39;49m\u001b[43m,\u001b[49m\u001b[38;5;241;43m5\u001b[39;49m\u001b[43m)\u001b[49m\n",
      "\u001b[1;31mTypeError\u001b[0m: add() missing 1 required positional argument: 'c'"
     ]
    }
   ],
   "source": [
    "#파이썬은 함수의 중복정의(오버로딩)을 지원하지 않음\n",
    "def add(a, b):\n",
    "    return a+b\n",
    "def add(a, b, c): #중복정의\n",
    "    return a+b+c\n",
    "add(3,5) #변수 모자라 TypeError"
   ]
  },
  {
   "cell_type": "code",
   "execution_count": 62,
   "id": "d0793852",
   "metadata": {},
   "outputs": [],
   "source": [
    "#args 앞에 *표: args가 튜플로 전달받는다\n",
    "def add(*args):\n",
    "    #print('args =', args)\n",
    "    '전달받은 매개변수들의 합을 return. 매개변수가 없는 경우 0을 return'\n",
    "    sum = 0 #누적시킬 변수\n",
    "    for num in args:\n",
    "        sum += num\n",
    "    return sum"
   ]
  },
  {
   "cell_type": "code",
   "execution_count": 67,
   "id": "b2f81a16",
   "metadata": {},
   "outputs": [
    {
     "name": "stdout",
     "output_type": "stream",
     "text": [
      "0\n",
      "1\n",
      "55\n"
     ]
    }
   ],
   "source": [
    "print(add())\n",
    "print(add(1))\n",
    "print(add(1,2,3,4,5,6,7,8,9,10))"
   ]
  },
  {
   "cell_type": "code",
   "execution_count": 70,
   "id": "f88a7d9a",
   "metadata": {},
   "outputs": [
    {
     "data": {
      "text/plain": [
       "'Python-Web-JavaScript-DBMS'"
      ]
     },
     "execution_count": 70,
     "metadata": {},
     "output_type": "execute_result"
    }
   ],
   "source": [
    "subject = ('Python', 'Web', 'JavaScript', 'DBMS')\n",
    "'-'.join(subject)"
   ]
  },
  {
   "cell_type": "code",
   "execution_count": 71,
   "id": "59376ba0",
   "metadata": {},
   "outputs": [],
   "source": [
    "#튜플 매개변수와 일반 매개변수가 같이 있을 때\n",
    "def concat(*subject, sep):\n",
    "    return sep.join(subject)"
   ]
  },
  {
   "cell_type": "code",
   "execution_count": 72,
   "id": "9b983cdc",
   "metadata": {},
   "outputs": [
    {
     "ename": "TypeError",
     "evalue": "concat() missing 1 required keyword-only argument: 'sep'",
     "output_type": "error",
     "traceback": [
      "\u001b[1;31m---------------------------------------------------------------------------\u001b[0m",
      "\u001b[1;31mTypeError\u001b[0m                                 Traceback (most recent call last)",
      "Cell \u001b[1;32mIn[72], line 1\u001b[0m\n\u001b[1;32m----> 1\u001b[0m \u001b[43mconcat\u001b[49m\u001b[43m(\u001b[49m\u001b[38;5;124;43m'\u001b[39;49m\u001b[38;5;124;43mPython\u001b[39;49m\u001b[38;5;124;43m'\u001b[39;49m\u001b[43m,\u001b[49m\u001b[43m \u001b[49m\u001b[38;5;124;43m'\u001b[39;49m\u001b[38;5;124;43mWeb\u001b[39;49m\u001b[38;5;124;43m'\u001b[39;49m\u001b[43m,\u001b[49m\u001b[43m \u001b[49m\u001b[38;5;124;43m'\u001b[39;49m\u001b[38;5;124;43mJavaScript\u001b[39;49m\u001b[38;5;124;43m'\u001b[39;49m\u001b[43m,\u001b[49m\u001b[43m \u001b[49m\u001b[38;5;124;43m'\u001b[39;49m\u001b[38;5;124;43mDBMS\u001b[39;49m\u001b[38;5;124;43m'\u001b[39;49m\u001b[43m,\u001b[49m\u001b[43m \u001b[49m\u001b[38;5;124;43m'\u001b[39;49m\u001b[38;5;124;43m-\u001b[39;49m\u001b[38;5;124;43m'\u001b[39;49m\u001b[43m)\u001b[49m\n",
      "\u001b[1;31mTypeError\u001b[0m: concat() missing 1 required keyword-only argument: 'sep'"
     ]
    }
   ],
   "source": [
    "concat('Python', 'Web', 'JavaScript', 'DBMS', '-')\n",
    "#의도한 바와 달리 '-'가 sep에 들어가지 않고 subject로 처리됨."
   ]
  },
  {
   "cell_type": "code",
   "execution_count": 73,
   "id": "8da56c9b",
   "metadata": {},
   "outputs": [
    {
     "data": {
      "text/plain": [
       "'Python-Web-JavaScript-DBMS'"
      ]
     },
     "execution_count": 73,
     "metadata": {},
     "output_type": "execute_result"
    }
   ],
   "source": [
    "#Solution 1. 매개변수 이름을 지정해 호출\n",
    "concat('Python', 'Web', 'JavaScript', 'DBMS', sep='-')"
   ]
  },
  {
   "cell_type": "code",
   "execution_count": 78,
   "id": "a49ff30f",
   "metadata": {},
   "outputs": [
    {
     "name": "stdout",
     "output_type": "stream",
     "text": [
      "Python ~ Web ~ JavaScript ~ DBMS ~ -\n",
      "Python-Web-JavaScript-DBMS\n"
     ]
    }
   ],
   "source": [
    "#Solution 2. 기본값을 갖는 키워드 인수 사용\n",
    "def concat(*subject, sep=' ~ '):\n",
    "    return sep.join(subject)\n",
    "print(concat('Python', 'Web', 'JavaScript', 'DBMS', '-')) #마지막 인수를 subject로 인지\n",
    "print(concat('Python', 'Web', 'JavaScript', 'DBMS', sep='-'))"
   ]
  },
  {
   "cell_type": "code",
   "execution_count": 81,
   "id": "d1d17137",
   "metadata": {},
   "outputs": [],
   "source": [
    "#👍Better Solution 3. sep을 순서인수로 앞에서 선언 \n",
    "def concat(sep, *subject):\n",
    "    return sep.join(subject)"
   ]
  },
  {
   "cell_type": "code",
   "execution_count": 80,
   "id": "5dcfede6",
   "metadata": {},
   "outputs": [
    {
     "data": {
      "text/plain": [
       "'Python~Web~DB~MLDL'"
      ]
     },
     "execution_count": 80,
     "metadata": {},
     "output_type": "execute_result"
    }
   ],
   "source": [
    "concat('~', 'Python', 'Web', 'DB', 'MLDL')"
   ]
  },
  {
   "cell_type": "markdown",
   "id": "5bd3c64e",
   "metadata": {},
   "source": [
    "## 3.5. 딕셔너리 매개변수\n",
    "- 딕셔너리 인수: 여러 개의 키워드 인수를 딕셔너리 형태로 받아서 가변인수로 처리"
   ]
  },
  {
   "cell_type": "code",
   "execution_count": 98,
   "id": "f1645b2e",
   "metadata": {},
   "outputs": [],
   "source": [
    "def func5(**args): #**딕셔너리 매개변수, args를 딕셔너리로 전달받음\n",
    "    print('이름: ', args.get('name', '무명'))\n",
    "    print('나이: ', args.get('age', '미상'))\n",
    "    print('전화: ', args.get('tel', '없음'))\n",
    "    print('주소: ', args.get('address', '미상'))"
   ]
  },
  {
   "cell_type": "code",
   "execution_count": 97,
   "id": "d75be8cd",
   "metadata": {},
   "outputs": [],
   "source": [
    "def func5(**args):\n",
    "    print(args)\n",
    "    print(type(args))\n",
    "    for key, value in args.items():\n",
    "        print(\"{}: {}\".format(key, value))"
   ]
  },
  {
   "cell_type": "code",
   "execution_count": 100,
   "id": "c20a1e6a",
   "metadata": {},
   "outputs": [],
   "source": [
    "def func5(**args):\n",
    "    '딕셔너리 매개변수로 받아 address 키가 없으면 서울시 관악구로 추가하고 키-값을 출력'\n",
    "    if 'address' not in args: #args에 address 키가 없으면 if문 True\n",
    "        args['address']='서울시 관악구'\n",
    "#        args.update({'address':'서울시 관악구'})\n",
    "#        args.update(address='서울시 관악구')\n",
    "    for key, value in args.items():\n",
    "        print(\"{}: {}\".format(key, value))"
   ]
  },
  {
   "cell_type": "code",
   "execution_count": 101,
   "id": "30f9c3e5",
   "metadata": {},
   "outputs": [
    {
     "name": "stdout",
     "output_type": "stream",
     "text": [
      "name: 홍길동\n",
      "tel: 010-1111-2222\n",
      "address: 서울 구로구\n"
     ]
    }
   ],
   "source": [
    "func5(name='홍길동', \n",
    "      tel='010-1111-2222',\n",
    "      address='서울 구로구')"
   ]
  },
  {
   "cell_type": "markdown",
   "id": "5c383e6e",
   "metadata": {},
   "source": [
    "## 3.6. 함수 정의 시 매개 변수의 순서\n",
    "- 순서 인수 > 튜플 인수(*) > 키워드 인수(기본값) > 딕셔너리 인수(**)"
   ]
  },
  {
   "cell_type": "code",
   "execution_count": 103,
   "id": "7f4b1e07",
   "metadata": {},
   "outputs": [],
   "source": [
    "#순서인수>튜플인수>딕셔너리인수\n",
    "def func6(a, b, *c, **d):\n",
    "    print('순서인수 a=', a)\n",
    "    print('순서인수 b=', b)\n",
    "    print('튜플인수 c=', c)\n",
    "    print('딕셔너리인수 d=', d)"
   ]
  },
  {
   "cell_type": "code",
   "execution_count": 105,
   "id": "1b7ea88b",
   "metadata": {},
   "outputs": [
    {
     "name": "stdout",
     "output_type": "stream",
     "text": [
      "순서인수 a= 10\n",
      "순서인수 b= 20\n",
      "튜플인수 c= (1, 2, 3, 4, 5, 6, 'a', 'b', True)\n",
      "딕셔너리인수 d= {'name': '홍', 'age': 30, 'address': '신림'}\n"
     ]
    }
   ],
   "source": [
    "func6(10, 20, 1, 2, 3, 4,5,6, 'a', 'b', True, name='홍', age=30, address='신림')"
   ]
  },
  {
   "cell_type": "code",
   "execution_count": 106,
   "id": "f0f1f9d4",
   "metadata": {},
   "outputs": [],
   "source": [
    "#순서인수>튜플인수>키워드인수>딕셔너리인수\n",
    "def func7(a, b, c, *d, e=10, **f):\n",
    "    print('순서인수 a =', a)\n",
    "    print('순서인수 b =', b)\n",
    "    print('순서인수 c =', c)\n",
    "    print('튜플인수 d =', d)\n",
    "    print('키워드인수(기본값 10) e =', e)\n",
    "    print('딕셔너리인수 f =', f)"
   ]
  },
  {
   "cell_type": "code",
   "execution_count": 111,
   "id": "1b365cc6",
   "metadata": {},
   "outputs": [
    {
     "name": "stdout",
     "output_type": "stream",
     "text": [
      "순서인수 a = 10\n",
      "순서인수 b = 20\n",
      "순서인수 c = 30\n",
      "튜플인수 d = ()\n",
      "키워드인수(기본값 10) e = 99\n",
      "딕셔너리인수 f = {}\n"
     ]
    }
   ],
   "source": [
    "func7(10, 20, 30, e=99)"
   ]
  },
  {
   "cell_type": "code",
   "execution_count": 109,
   "id": "093da2d2",
   "metadata": {},
   "outputs": [
    {
     "name": "stdout",
     "output_type": "stream",
     "text": [
      "순서인수 a = 10\n",
      "순서인수 b = 20\n",
      "순서인수 c = 30\n",
      "튜플인수 d = (1, 2, 3, 4, 5)\n",
      "키워드인수(기본값 10) e = 100\n",
      "딕셔너리인수 f = {'shape': 'rect', 'width': 20, 'height': 30}\n"
     ]
    }
   ],
   "source": [
    "func7(10, 20, 30, 1,2,3,4,5, e=100, shape='rect', width=20, height=30)"
   ]
  },
  {
   "cell_type": "markdown",
   "id": "17d52cbd",
   "metadata": {},
   "source": [
    "## 3.7. 인수의 언패킹"
   ]
  },
  {
   "cell_type": "markdown",
   "id": "e6a482b2",
   "metadata": {},
   "source": [
    "### 튜플 인수 언패킹\n",
    "- 패킹 : 함수 정의 시 매개변수 앞에 *붙임(튜플매개변수)\n",
    "- 언패킹: 함수 호출 시 튜플매개변수 앞에 *붙임"
   ]
  },
  {
   "cell_type": "code",
   "execution_count": 112,
   "id": "093ceef7",
   "metadata": {},
   "outputs": [],
   "source": [
    "def add(*args):\n",
    "    #print(args)\n",
    "    sum = 0\n",
    "    for num in args:\n",
    "        sum += num\n",
    "    return sum"
   ]
  },
  {
   "cell_type": "code",
   "execution_count": 114,
   "id": "d172fb22",
   "metadata": {},
   "outputs": [
    {
     "data": {
      "text/plain": [
       "6"
      ]
     },
     "execution_count": 114,
     "metadata": {},
     "output_type": "execute_result"
    }
   ],
   "source": [
    "add(1,2,3) #1,2,3이 튜플로 패킹"
   ]
  },
  {
   "cell_type": "code",
   "execution_count": 116,
   "id": "5feecd6f",
   "metadata": {},
   "outputs": [
    {
     "data": {
      "text/plain": [
       "6"
      ]
     },
     "execution_count": 116,
     "metadata": {},
     "output_type": "execute_result"
    }
   ],
   "source": [
    "numbers = (1,2,3)\n",
    "add(*numbers) # ==add(1,2,3)"
   ]
  },
  {
   "cell_type": "code",
   "execution_count": 119,
   "id": "dab81375",
   "metadata": {},
   "outputs": [
    {
     "name": "stdout",
     "output_type": "stream",
     "text": [
      "(1, 2, 3)\n",
      "1 2 3\n"
     ]
    }
   ],
   "source": [
    "print(numbers)\n",
    "print(*numbers)"
   ]
  },
  {
   "cell_type": "markdown",
   "id": "58a7283d",
   "metadata": {},
   "source": [
    "## 딕셔너리 인수 언패킹\n",
    "- 패킹 : 함수 정의 시 매개변수 앞에 **붙임(딕셔너리매개변수)\n",
    "- 언패킹: 함수 호출 시 딕셔너리 매개변수 앞에 **붙임"
   ]
  },
  {
   "cell_type": "code",
   "execution_count": 120,
   "id": "e1338027",
   "metadata": {},
   "outputs": [],
   "source": [
    "def func8(**data):\n",
    "    print(data)\n",
    "    for item in data.items():\n",
    "        print(item)"
   ]
  },
  {
   "cell_type": "code",
   "execution_count": 121,
   "id": "40dc024b",
   "metadata": {},
   "outputs": [
    {
     "name": "stdout",
     "output_type": "stream",
     "text": [
      "{'shape': 'rect', 'width': 40, 'height': 30}\n",
      "('shape', 'rect')\n",
      "('width', 40)\n",
      "('height', 30)\n"
     ]
    }
   ],
   "source": [
    "func8(shape='rect', width=40, height=30) #패킹"
   ]
  },
  {
   "cell_type": "code",
   "execution_count": 122,
   "id": "f4fb787a",
   "metadata": {},
   "outputs": [
    {
     "name": "stdout",
     "output_type": "stream",
     "text": [
      "{'shape': 'rect', 'width': 40, 'height': 30}\n",
      "('shape', 'rect')\n",
      "('width', 40)\n",
      "('height', 30)\n"
     ]
    }
   ],
   "source": [
    "#키워드 인자로 넣을 것을 딕셔너리로 패킹해 놓으면 func8에 넣을 수 없음\n",
    "info = {'shape':'rect', 'width':40, 'height':30} \n",
    "func8(**info) #언패킹"
   ]
  }
 ],
 "metadata": {
  "kernelspec": {
   "display_name": "Python 3 (ipykernel)",
   "language": "python",
   "name": "python3"
  },
  "language_info": {
   "codemirror_mode": {
    "name": "ipython",
    "version": 3
   },
   "file_extension": ".py",
   "mimetype": "text/x-python",
   "name": "python",
   "nbconvert_exporter": "python",
   "pygments_lexer": "ipython3",
   "version": "3.10.9"
  },
  "toc": {
   "base_numbering": 1,
   "nav_menu": {},
   "number_sections": false,
   "sideBar": true,
   "skip_h1_title": false,
   "title_cell": "Table of Contents",
   "title_sidebar": "Contents",
   "toc_cell": false,
   "toc_position": {
    "height": "calc(100% - 180px)",
    "left": "10px",
    "top": "150px",
    "width": "343.6px"
   },
   "toc_section_display": true,
   "toc_window_display": true
  }
 },
 "nbformat": 4,
 "nbformat_minor": 5
}
