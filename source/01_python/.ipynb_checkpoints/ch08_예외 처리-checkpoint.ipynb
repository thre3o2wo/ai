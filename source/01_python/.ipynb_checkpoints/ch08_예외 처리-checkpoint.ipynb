{
 "cells": [
  {
   "cell_type": "code",
   "execution_count": 2,
   "id": "95b99477",
   "metadata": {},
   "outputs": [
    {
     "data": {
      "text/html": [
       "\n",
       "<style>\n",
       "div.container{width:90% !important;}\n",
       "div.cell.code_cell.rendered{width:90%;}\n",
       "div.input_prompt{padding:0px;}\n",
       "div.CodeMirror {font-family:Consolas; font-size:10pt;}\n",
       "div.text_cell_render.rendered_html{font-size:10pt;}\n",
       "div.output {font-size:10pt; font-weight:bold;}\n",
       "div.input {font-family:Consolas; font-size:10pt;}\n",
       "div.prompt {min-width:70px;}\n",
       "div#toc-wrapper{padding-top:120px;}\n",
       "div.text_cell_render ul li{font-size:10pt;padding:5px;}\n",
       "table.dataframe{font-size:10px;}\n",
       "</style>\n"
      ],
      "text/plain": [
       "<IPython.core.display.HTML object>"
      ]
     },
     "metadata": {},
     "output_type": "display_data"
    }
   ],
   "source": [
    "from IPython.display import display, HTML\n",
    "display(HTML(\"\"\"\n",
    "<style>\n",
    "div.container{width:90% !important;}\n",
    "div.cell.code_cell.rendered{width:90%;}\n",
    "div.input_prompt{padding:0px;}\n",
    "div.CodeMirror {font-family:Consolas; font-size:10pt;}\n",
    "div.text_cell_render.rendered_html{font-size:10pt;}\n",
    "div.output {font-size:10pt; font-weight:bold;}\n",
    "div.input {font-family:Consolas; font-size:10pt;}\n",
    "div.prompt {min-width:70px;}\n",
    "div#toc-wrapper{padding-top:120px;}\n",
    "div.text_cell_render ul li{font-size:10pt;padding:5px;}\n",
    "table.dataframe{font-size:10px;}\n",
    "</style>\n",
    "\"\"\"))"
   ]
  },
  {
   "cell_type": "markdown",
   "id": "04e208df",
   "metadata": {},
   "source": [
    "<b><font size=\"6\" color=\"red\">Ch 8. 예외 처리</font><b>"
   ]
  },
  {
   "cell_type": "markdown",
   "id": "69106147",
   "metadata": {},
   "source": [
    "1. 문법 에러 : 문법적으로 나타나는 에러 → 프로그램을 수정\n",
    "2. 실행 에러 : 실행 시 발생하는 에러\n",
    "    - 시스템 에러 : 프로그래머의 의지와 상관 없이 나타나는 에러\n",
    "    - 예외 : 정상적으로 동작하는 프로그램에서 나타나는 에러 (Mild한 에러)\n",
    "\n",
    "# 1. 예외 처리 필요성\n",
    "- 예외가 날 가능성이 있는 부분에 대해 미리 예상하고, 그에 대한 처리를 프로그래밍하는 것\n",
    "    - 필요한 이유: 좀 더 안정적인 시스템)\n",
    "```\n",
    "    ex. 파일을 다룰 때, 파일이 없거나 쓰기 금지, 파일 인코딩 방법에 인한 오류\n",
    "    ex. 데이터베이스 프로그래밍 시 제약조건 등에 의한 CRUD(create/read/updated/delete) 명령 수행 오류, DBMS 서버 오류\n",
    "    ex. 네트워크 프로그래밍 시 네트워크 연결 오류\n",
    "    ex. 리스트나 튜플의 인덱스를 벗어난 참조에 의한 오류\n",
    "```"
   ]
  },
  {
   "cell_type": "code",
   "execution_count": 3,
   "id": "3d6263f1",
   "metadata": {},
   "outputs": [
    {
     "name": "stdout",
     "output_type": "stream",
     "text": [
      "파일명은?ch08.txt\n",
      "Hello\n",
      "Python\n"
     ]
    }
   ],
   "source": [
    "#파일명(ch08.txt, ch02.txt)을 사용자에게 입력받아 해당 파일의 내용 출력\n",
    "filename = input('파일명은?')\n",
    "f = open('data/' + filename, 'r') #파일을 연다(스트림객체 생성)\n",
    "print(f.read())\n",
    "f.close()"
   ]
  },
  {
   "cell_type": "code",
   "execution_count": 5,
   "id": "294e0308",
   "metadata": {},
   "outputs": [
    {
     "name": "stdout",
     "output_type": "stream",
     "text": [
      "파일명은?a.txt\n"
     ]
    },
    {
     "ename": "FileNotFoundError",
     "evalue": "[Errno 2] No such file or directory: 'data/a.txt'",
     "output_type": "error",
     "traceback": [
      "\u001b[1;31m------------------------\u001b[0m",
      "\u001b[1;31mFileNotFoundError\u001b[0mTraceback (most recent call last)",
      "Cell \u001b[1;32mIn[5], line 3\u001b[0m\n\u001b[0;32m      1\u001b[0m \u001b[38;5;66;03m#예외 발생: 파일이 잘못되었거나 인코딩 방식이 다르거나\u001b[39;00m\n\u001b[0;32m      2\u001b[0m filename \u001b[38;5;241m=\u001b[39m \u001b[38;5;28minput\u001b[39m(\u001b[38;5;124m'\u001b[39m\u001b[38;5;124m파일명은?\u001b[39m\u001b[38;5;124m'\u001b[39m)\n\u001b[1;32m----> 3\u001b[0m f \u001b[38;5;241m=\u001b[39m \u001b[38;5;28;43mopen\u001b[39;49m\u001b[43m(\u001b[49m\u001b[38;5;124;43m'\u001b[39;49m\u001b[38;5;124;43mdata/\u001b[39;49m\u001b[38;5;124;43m'\u001b[39;49m\u001b[43m \u001b[49m\u001b[38;5;241;43m+\u001b[39;49m\u001b[43m \u001b[49m\u001b[43mfilename\u001b[49m\u001b[43m,\u001b[49m\u001b[43m \u001b[49m\u001b[38;5;124;43m'\u001b[39;49m\u001b[38;5;124;43mr\u001b[39;49m\u001b[38;5;124;43m'\u001b[39;49m\u001b[43m)\u001b[49m \u001b[38;5;66;03m#파일을 연다(스트림객체 생성)\u001b[39;00m\n\u001b[0;32m      4\u001b[0m \u001b[38;5;28mprint\u001b[39m(f\u001b[38;5;241m.\u001b[39mread())\n\u001b[0;32m      5\u001b[0m f\u001b[38;5;241m.\u001b[39mclose()\n",
      "File \u001b[1;32m~\\anaconda3\\lib\\site-packages\\IPython\\core\\interactiveshell.py:282\u001b[0m, in \u001b[0;36m_modified_open\u001b[1;34m(file, *args, **kwargs)\u001b[0m\n\u001b[0;32m    275\u001b[0m \u001b[38;5;28;01mif\u001b[39;00m file \u001b[38;5;129;01min\u001b[39;00m {\u001b[38;5;241m0\u001b[39m, \u001b[38;5;241m1\u001b[39m, \u001b[38;5;241m2\u001b[39m}:\n\u001b[0;32m    276\u001b[0m     \u001b[38;5;28;01mraise\u001b[39;00m \u001b[38;5;167;01mValueError\u001b[39;00m(\n\u001b[0;32m    277\u001b[0m         \u001b[38;5;124mf\u001b[39m\u001b[38;5;124m\"\u001b[39m\u001b[38;5;124mIPython won\u001b[39m\u001b[38;5;124m'\u001b[39m\u001b[38;5;124mt let you open fd=\u001b[39m\u001b[38;5;132;01m{\u001b[39;00mfile\u001b[38;5;132;01m}\u001b[39;00m\u001b[38;5;124m by default \u001b[39m\u001b[38;5;124m\"\u001b[39m\n\u001b[0;32m    278\u001b[0m         \u001b[38;5;124m\"\u001b[39m\u001b[38;5;124mas it is likely to crash IPython. If you know what you are doing, \u001b[39m\u001b[38;5;124m\"\u001b[39m\n\u001b[0;32m    279\u001b[0m         \u001b[38;5;124m\"\u001b[39m\u001b[38;5;124myou can use builtins\u001b[39m\u001b[38;5;124m'\u001b[39m\u001b[38;5;124m open.\u001b[39m\u001b[38;5;124m\"\u001b[39m\n\u001b[0;32m    280\u001b[0m     )\n\u001b[1;32m--> 282\u001b[0m \u001b[38;5;28;01mreturn\u001b[39;00m io_open(file, \u001b[38;5;241m*\u001b[39margs, \u001b[38;5;241m*\u001b[39m\u001b[38;5;241m*\u001b[39mkwargs)\n",
      "\u001b[1;31mFileNotFoundError\u001b[0m: [Errno 2] No such file or directory: 'data/a.txt'"
     ]
    }
   ],
   "source": [
    "#예외 발생: FileNotFoundError 파일명이 잘못됨\n",
    "filename = input('파일명은?')\n",
    "f = open('data/' + filename, 'r') #파일을 연다(스트림객체 생성)\n",
    "print(f.read())\n",
    "f.close()"
   ]
  },
  {
   "cell_type": "code",
   "execution_count": 9,
   "id": "a3b55e67",
   "metadata": {},
   "outputs": [
    {
     "name": "stdout",
     "output_type": "stream",
     "text": [
      "파일명은?ch08_.txt\n"
     ]
    },
    {
     "ename": "UnicodeDecodeError",
     "evalue": "'utf-8' codec can't decode byte 0xc1 in position 13: invalid start byte",
     "output_type": "error",
     "traceback": [
      "\u001b[1;31m------------------------\u001b[0m",
      "\u001b[1;31mUnicodeDecodeError\u001b[0mTraceback (most recent call last)",
      "Cell \u001b[1;32mIn[9], line 7\u001b[0m\n\u001b[0;32m      5\u001b[0m filename \u001b[38;5;241m=\u001b[39m \u001b[38;5;28minput\u001b[39m(\u001b[38;5;124m'\u001b[39m\u001b[38;5;124m파일명은?\u001b[39m\u001b[38;5;124m'\u001b[39m)\n\u001b[0;32m      6\u001b[0m f \u001b[38;5;241m=\u001b[39m \u001b[38;5;28mopen\u001b[39m(\u001b[38;5;124m'\u001b[39m\u001b[38;5;124mdata/\u001b[39m\u001b[38;5;124m'\u001b[39m \u001b[38;5;241m+\u001b[39m filename, \u001b[38;5;124m'\u001b[39m\u001b[38;5;124mr\u001b[39m\u001b[38;5;124m'\u001b[39m, encoding\u001b[38;5;241m=\u001b[39m\u001b[38;5;124m'\u001b[39m\u001b[38;5;124mutf-8\u001b[39m\u001b[38;5;124m'\u001b[39m) \u001b[38;5;66;03m#파일을 연다(cp949코드가 기본 encoding 방식)\u001b[39;00m\n\u001b[1;32m----> 7\u001b[0m \u001b[38;5;28mprint\u001b[39m(\u001b[43mf\u001b[49m\u001b[38;5;241;43m.\u001b[39;49m\u001b[43mread\u001b[49m\u001b[43m(\u001b[49m\u001b[43m)\u001b[49m)\n\u001b[0;32m      8\u001b[0m f\u001b[38;5;241m.\u001b[39mclose()\n",
      "File \u001b[1;32m~\\anaconda3\\lib\\codecs.py:322\u001b[0m, in \u001b[0;36mBufferedIncrementalDecoder.decode\u001b[1;34m(self, input, final)\u001b[0m\n\u001b[0;32m    319\u001b[0m \u001b[38;5;28;01mdef\u001b[39;00m \u001b[38;5;21mdecode\u001b[39m(\u001b[38;5;28mself\u001b[39m, \u001b[38;5;28minput\u001b[39m, final\u001b[38;5;241m=\u001b[39m\u001b[38;5;28;01mFalse\u001b[39;00m):\n\u001b[0;32m    320\u001b[0m     \u001b[38;5;66;03m# decode input (taking the buffer into account)\u001b[39;00m\n\u001b[0;32m    321\u001b[0m     data \u001b[38;5;241m=\u001b[39m \u001b[38;5;28mself\u001b[39m\u001b[38;5;241m.\u001b[39mbuffer \u001b[38;5;241m+\u001b[39m \u001b[38;5;28minput\u001b[39m\n\u001b[1;32m--> 322\u001b[0m     (result, consumed) \u001b[38;5;241m=\u001b[39m \u001b[38;5;28;43mself\u001b[39;49m\u001b[38;5;241;43m.\u001b[39;49m\u001b[43m_buffer_decode\u001b[49m\u001b[43m(\u001b[49m\u001b[43mdata\u001b[49m\u001b[43m,\u001b[49m\u001b[43m \u001b[49m\u001b[38;5;28;43mself\u001b[39;49m\u001b[38;5;241;43m.\u001b[39;49m\u001b[43merrors\u001b[49m\u001b[43m,\u001b[49m\u001b[43m \u001b[49m\u001b[43mfinal\u001b[49m\u001b[43m)\u001b[49m\n\u001b[0;32m    323\u001b[0m     \u001b[38;5;66;03m# keep undecoded input until the next call\u001b[39;00m\n\u001b[0;32m    324\u001b[0m     \u001b[38;5;28mself\u001b[39m\u001b[38;5;241m.\u001b[39mbuffer \u001b[38;5;241m=\u001b[39m data[consumed:]\n",
      "\u001b[1;31mUnicodeDecodeError\u001b[0m: 'utf-8' codec can't decode byte 0xc1 in position 13: invalid start byte"
     ]
    }
   ],
   "source": [
    "#예외 발생: UnicodeDecodeError 인코딩 방식이 다를 때의 에러\n",
    "#한글 인코딩 방법:\n",
    "#한글 완성형(euc-kr < cp949) [2바이트] : 11,172자 중 2,350자만 코드\n",
    "#한글 조합형(utf-8) [2바이트 이상] : 초/중/종성을 각각 코드값을 받아 저장\n",
    "filename = input('파일명은?')\n",
    "f = open('data/' + filename, 'r', encoding='utf-8') #파일을 연다(cp949코드가 기본 encoding 방식)\n",
    "print(f.read())\n",
    "f.close()"
   ]
  },
  {
   "cell_type": "code",
   "execution_count": 10,
   "id": "1bbbee79",
   "metadata": {},
   "outputs": [
    {
     "ename": "ZeroDivisionError",
     "evalue": "division by zero",
     "output_type": "error",
     "traceback": [
      "\u001b[1;31m------------------------\u001b[0m",
      "\u001b[1;31mZeroDivisionError\u001b[0mTraceback (most recent call last)",
      "Cell \u001b[1;32mIn[10], line 1\u001b[0m\n\u001b[1;32m----> 1\u001b[0m \u001b[38;5;241;43m4\u001b[39;49m\u001b[38;5;241;43m/\u001b[39;49m\u001b[38;5;241;43m0\u001b[39;49m\n",
      "\u001b[1;31mZeroDivisionError\u001b[0m: division by zero"
     ]
    }
   ],
   "source": [
    "4/0"
   ]
  },
  {
   "cell_type": "code",
   "execution_count": 11,
   "id": "6a6d9cdf",
   "metadata": {},
   "outputs": [
    {
     "ename": "IndexError",
     "evalue": "list index out of range",
     "output_type": "error",
     "traceback": [
      "\u001b[1;31m------------------------\u001b[0m",
      "\u001b[1;31mIndexError\u001b[0mTraceback (most recent call last)",
      "Cell \u001b[1;32mIn[11], line 2\u001b[0m\n\u001b[0;32m      1\u001b[0m a \u001b[38;5;241m=\u001b[39m [\u001b[38;5;241m1\u001b[39m,\u001b[38;5;241m2\u001b[39m,\u001b[38;5;241m3\u001b[39m]\n\u001b[1;32m----> 2\u001b[0m \u001b[43ma\u001b[49m\u001b[43m[\u001b[49m\u001b[38;5;241;43m3\u001b[39;49m\u001b[43m]\u001b[49m\n",
      "\u001b[1;31mIndexError\u001b[0m: list index out of range"
     ]
    }
   ],
   "source": [
    "a = [1,2,3]\n",
    "a[3]"
   ]
  },
  {
   "cell_type": "markdown",
   "id": "34886f09",
   "metadata": {},
   "source": [
    "# 2. try~except로 예외 처리\n",
    "## 2.1. try~except\n",
    "```\n",
    "try:\n",
    "    예외가 발생할 가능성이 있는 명령어들\n",
    "except:\n",
    "    예외가 발생했을 경우 실행할 명령어들\n",
    "```"
   ]
  },
  {
   "cell_type": "code",
   "execution_count": 21,
   "id": "b4e7a72a",
   "metadata": {},
   "outputs": [
    {
     "name": "stdout",
     "output_type": "stream",
     "text": [
      "100을 나눌 정수를 입력하세요: 3\n",
      "100을 입력하신 정수 3로 나눈 결과는 33.333입니다.\n"
     ]
    }
   ],
   "source": [
    "#100을 입력받은 정수 값으로 나눠 출력\n",
    "x = int(input(\"100을 나눌 정수를 입력하세요: \"))\n",
    "print(\"100을 입력하신 정수 {}로 나눈 결과는 {:.3f}입니다.\".format(x, 100/x))\n",
    "#ValueError : 정수를 입력하지 않은 경우(빈 스트링, str 타입 입력 시)\n",
    "#ZeroDivisionError : 0으로 나누는 연산이 있는 경우"
   ]
  },
  {
   "cell_type": "code",
   "execution_count": 24,
   "id": "979d56b2",
   "metadata": {},
   "outputs": [
    {
     "name": "stdout",
     "output_type": "stream",
     "text": [
      "100을 나눌 정수를 입력하세요: 삼\n",
      "유효한 정수가 아닙니다.\n"
     ]
    }
   ],
   "source": [
    "#try절에 예외가 발생되지 않으면 except절은 수행되지 않음\n",
    "#try절에 예외가 발생되면, try절 수행을 멈추고 except 절을 수행\n",
    "#ex. 0 입력 시 x=0까지는 수행. 문자열 입력 시 x에 할당도 되지 않음\n",
    "try:\n",
    "    x = int(input(\"100을 나눌 정수를 입력하세요: \"))\n",
    "    print(\"100을 입력하신 정수 {}로 나눈 결과는 {:.3f}입니다.\".format(x, 100/x))\n",
    "except:\n",
    "    print('유효한 정수가 아닙니다.')"
   ]
  },
  {
   "cell_type": "code",
   "execution_count": 1,
   "id": "a428ae67",
   "metadata": {},
   "outputs": [
    {
     "name": "stdout",
     "output_type": "stream",
     "text": [
      "100을 나눌 정수를 입력하세요. :a\n",
      "유효한 정수가 아닙니다.\n",
      "100을 나눌 정수를 입력하세요. :0\n",
      "유효한 정수가 아닙니다.\n",
      "100을 나눌 정수를 입력하세요. :2\n",
      "100을 입력하신 정수 2로 나누면 50.00\n"
     ]
    }
   ],
   "source": [
    "#100을 나눌 유효한 정수를 입력할 때까지 계속 입력 받아 100을 나눈 결과를 출력\n",
    "while True:\n",
    "    try:\n",
    "        x = int(input('100을 나눌 정수를 입력하세요. :'))\n",
    "        print('100을 입력하신 정수 {}로 나누면 {:.2f}'.format(x, 100/x))\n",
    "        break\n",
    "    except:\n",
    "        print('유효한 정수가 아닙니다.')"
   ]
  },
  {
   "cell_type": "markdown",
   "id": "c51230e2",
   "metadata": {},
   "source": [
    "## 2.2. 지정된 예외 처리\n",
    "```\n",
    "try: \n",
    "    예외가 발생할 수도 있는 명령어\n",
    "except (예외 타입1, 예외 타입3):\n",
    "    해당 예외가 발생할 경우 실행할 명령어\n",
    "except 예외 타입2:\n",
    "    해당 예외가 발생할 경우 실행할 명령어\n",
    "...\n",
    "```"
   ]
  },
  {
   "cell_type": "code",
   "execution_count": 5,
   "id": "dce836fe",
   "metadata": {},
   "outputs": [
    {
     "name": "stdout",
     "output_type": "stream",
     "text": [
      "100을 나눌 정수를 입력하세요. :3\n",
      "100을 입력하신 정수 3로 나누면 33.33\n"
     ]
    }
   ],
   "source": [
    "try:\n",
    "    x = int(input('100을 나눌 정수를 입력하세요. :'))\n",
    "    print('100을 입력하신 정수 {}로 나누면 {:.2f}'.format(x, 100/x))\n",
    "except ValueError:\n",
    "    print('정수를 입력하지 않았습니다.')\n",
    "except ZeroDivisionError:\n",
    "    print('0으로 나눌 수 없습니다.')\n",
    "except Exception:\n",
    "    print('기타 다른 예외입니다.')"
   ]
  },
  {
   "cell_type": "code",
   "execution_count": 6,
   "id": "56d9dcd6",
   "metadata": {},
   "outputs": [
    {
     "name": "stdout",
     "output_type": "stream",
     "text": [
      "100을 나눌 정수를 입력하세요. :0\n",
      "나눌 수 있는 유효한 수가 아닙니다.\n"
     ]
    }
   ],
   "source": [
    "try:\n",
    "    x = int(input('100을 나눌 정수를 입력하세요. :'))\n",
    "    print('100을 입력하신 정수 {}로 나누면 {:.2f}'.format(x, 100/x))\n",
    "except (ValueError, ZeroDivisionError): #괄호 반드시 넣어야\n",
    "    print('나눌 수 있는 유효한 수가 아닙니다.')\n",
    "except Exception:\n",
    "    print('기타 다른 예외입니다.')"
   ]
  },
  {
   "cell_type": "markdown",
   "id": "c3b655ba",
   "metadata": {},
   "source": [
    "## 2.3. 예외 인수(e)\n",
    "```\n",
    "try:\n",
    "    예외가 발생할 수 있는 명령어\n",
    "except 예외타입 as e:\n",
    "    print(e) → 알아서 e.__str__() 호출 → e.args[0]과 동일\n",
    "    #print(e.args[0]) #예외메시지 출력\n",
    "```"
   ]
  },
  {
   "cell_type": "code",
   "execution_count": 14,
   "id": "8a672315",
   "metadata": {},
   "outputs": [
    {
     "name": "stdout",
     "output_type": "stream",
     "text": [
      "100을 나눌 정수를 입력하세요. :0\n",
      "예외 타입 : <class 'ZeroDivisionError'>\n",
      "예외 메시지(e):  division by zero\n",
      "예외 메시지(str):  division by zero\n",
      "예외 메시지(args):  ('division by zero',)\n"
     ]
    }
   ],
   "source": [
    "try:\n",
    "    x = int(input('100을 나눌 정수를 입력하세요. :'))\n",
    "    print('100을 입력하신 정수 {}로 나누면 {:.2f}'.format(x, 100/x))\n",
    "except (ValueError, ZeroDivisionError) as e: #괄호 반드시 넣어야\n",
    "    print('예외 타입 :', type(e))\n",
    "    print('예외 메시지(e): ', e)\n",
    "    print('예외 메시지(str): ', e.__str__())\n",
    "    print('예외 메시지(args): ', e.args)\n",
    "except Exception:\n",
    "    print('기타 다른 예외입니다.')"
   ]
  },
  {
   "cell_type": "markdown",
   "id": "9a2ce299",
   "metadata": {},
   "source": [
    "```\n",
    "try: \n",
    "    예외 발생 가능 명령어\n",
    "except [예외타입 [as e]]:\n",
    "    예외 타입 발생 시 수행 명령어\n",
    "[else:\n",
    "    try절 수행하다 예외가 발생 안 되면 else절 수행\n",
    "    try절 수행하다 예외가 발생하면 except절 수행, else절 미수행]\n",
    "[finally:\n",
    "    try절에서 예외가 발생하든 안 하든 마지막에 수행]\n",
    "```"
   ]
  },
  {
   "cell_type": "code",
   "execution_count": 21,
   "id": "b390462a",
   "metadata": {},
   "outputs": [
    {
     "name": "stdout",
     "output_type": "stream",
     "text": [
      "Hello\n",
      "Python\n",
      "주피터 노트북의 txt파일 저장은 기본이 utf-8로 저장\n",
      "김설믜\n"
     ]
    }
   ],
   "source": [
    "try:\n",
    "    file = open('data/ch08.txt', 'r', encoding='utf-8')\n",
    "except FileNotFoundError as e:\n",
    "    print('해당 폴더나 파일이 없습니다')\n",
    "    print(e)\n",
    "#encoding= 부분 없이 cp949 파일가져오면 try절에서 에러x, else절 read에서 에러 발생.\n",
    "#except UnicodeDecodeError as e:\n",
    "#    print(e)\n",
    "else:\n",
    "    print(file.read())\n",
    "finally:\n",
    "    file.close()"
   ]
  },
  {
   "cell_type": "code",
   "execution_count": 22,
   "id": "e4cb6662",
   "metadata": {},
   "outputs": [
    {
     "name": "stdout",
     "output_type": "stream",
     "text": [
      "Hello\n",
      "Python\n",
      "주피터 노트북의 txt파일 저장은 기본이 utf-8로 저장\n",
      "김설믜\n"
     ]
    }
   ],
   "source": [
    "try:\n",
    "    file = open('data/ch08.txt', 'r', encoding='utf-8')\n",
    "    print(file.read())\n",
    "except FileNotFoundError as e:\n",
    "    print('해당 폴더나 파일이 없습니다')\n",
    "    print(e)\n",
    "except UnicodeDecodeError as e:\n",
    "    print(e)\n",
    "#else: 보통 없어도 돼. 거의 안 써.\n",
    "finally:\n",
    "    file.close()"
   ]
  },
  {
   "cell_type": "markdown",
   "id": "e565b0a8",
   "metadata": {},
   "source": [
    "# 3. raise\n",
    "- 강제 예외 발생"
   ]
  },
  {
   "cell_type": "code",
   "execution_count": 23,
   "id": "ede40d86",
   "metadata": {},
   "outputs": [
    {
     "ename": "Exception",
     "evalue": "예외",
     "output_type": "error",
     "traceback": [
      "\u001b[1;31m------------------------\u001b[0m",
      "\u001b[1;31mException\u001b[0mTraceback (most recent call last)",
      "Cell \u001b[1;32mIn[23], line 1\u001b[0m\n\u001b[1;32m----> 1\u001b[0m \u001b[38;5;28;01mraise\u001b[39;00m \u001b[38;5;167;01mException\u001b[39;00m(\u001b[38;5;124m\"\u001b[39m\u001b[38;5;124m예외\u001b[39m\u001b[38;5;124m\"\u001b[39m)\n",
      "\u001b[1;31mException\u001b[0m: 예외"
     ]
    }
   ],
   "source": [
    "raise Exception(\"예외\")"
   ]
  },
  {
   "cell_type": "code",
   "execution_count": 24,
   "id": "c0c79687",
   "metadata": {},
   "outputs": [
    {
     "ename": "ZeroDivisionError",
     "evalue": "0으로 나누지 말랬지",
     "output_type": "error",
     "traceback": [
      "\u001b[1;31m------------------------\u001b[0m",
      "\u001b[1;31mZeroDivisionError\u001b[0mTraceback (most recent call last)",
      "Cell \u001b[1;32mIn[24], line 1\u001b[0m\n\u001b[1;32m----> 1\u001b[0m \u001b[38;5;28;01mraise\u001b[39;00m \u001b[38;5;167;01mZeroDivisionError\u001b[39;00m(\u001b[38;5;124m\"\u001b[39m\u001b[38;5;124m0으로 나누지 말랬지\u001b[39m\u001b[38;5;124m\"\u001b[39m)\n",
      "\u001b[1;31mZeroDivisionError\u001b[0m: 0으로 나누지 말랬지"
     ]
    }
   ],
   "source": [
    "raise ZeroDivisionError(\"0으로 나누지 말랬지\")"
   ]
  },
  {
   "cell_type": "code",
   "execution_count": 26,
   "id": "3a636b9d",
   "metadata": {},
   "outputs": [],
   "source": [
    "#사용자 정의 예외: Exception 클래스로부터 상속받아 구현\n",
    "class LengthZeroError(Exception):\n",
    "    '길이가 0일 때 발생하는 예외'\n",
    "    def __init__(self, message):\n",
    "        super().__init__(message)"
   ]
  },
  {
   "cell_type": "code",
   "execution_count": 31,
   "id": "d3840cc1",
   "metadata": {},
   "outputs": [],
   "source": [
    "def insert(*data): #튜플매개변수\n",
    "    print('data = ', data)\n",
    "    if len(data)==0:\n",
    "        raise LengthZeroError(\"매개변수의 갯수가 0이면 예외입니다. 사용자 정의 예외)\")\n",
    "    for item in data:\n",
    "        print(item, end=' ')\n",
    "    print('등을 입력하였습니다.')"
   ]
  },
  {
   "cell_type": "code",
   "execution_count": 32,
   "id": "9a017d0c",
   "metadata": {},
   "outputs": [
    {
     "name": "stdout",
     "output_type": "stream",
     "text": [
      "data =  (1, 2, '3')\n",
      "1 2 3 등을 입력하였습니다.\n"
     ]
    }
   ],
   "source": [
    "insert(1, 2, '3')"
   ]
  },
  {
   "cell_type": "code",
   "execution_count": 35,
   "id": "fd9f1042",
   "metadata": {},
   "outputs": [
    {
     "name": "stdout",
     "output_type": "stream",
     "text": [
      "data =  ()\n",
      "매개변수의 갯수가 0이면 예외입니다. 사용자 정의 예외)\n",
      "예외가 발생하든 안 하든 무조건 실행\n"
     ]
    }
   ],
   "source": [
    "data = ()\n",
    "try:\n",
    "    insert(*data)\n",
    "except Exception as e:\n",
    "        print(e)\n",
    "else:\n",
    "    print('예외가 발생 안 할 때만 실행')\n",
    "finally:\n",
    "    print('예외가 발생하든 안 하든 무조건 실행')"
   ]
  },
  {
   "cell_type": "markdown",
   "id": "63ac30b0",
   "metadata": {},
   "source": [
    "# 4. 추상클래스\n",
    "- 추상 클래스: 추상메서드가 1개 이상 포함된 클래스\n",
    "    - 객체를 만들지 않음\n",
    "- 추상 메서드: 호출할 수 없는 메서드\n",
    "    - 상속받은 클래스에서 재정의하도록 강요할 때\n",
    "- python에서 추상메서드 @abstractmethod나 raise를 이용"
   ]
  },
  {
   "cell_type": "code",
   "execution_count": 42,
   "id": "af4ff82b",
   "metadata": {},
   "outputs": [],
   "source": [
    "class Shape:\n",
    "    def __init__(self):\n",
    "        raise NotImplementedError(\"추상클래스 역할\")\n",
    "    def calc_are(self):\n",
    "        raise NotImplementedError(\"추상메서드 역할\")"
   ]
  },
  {
   "cell_type": "code",
   "execution_count": 48,
   "id": "c223c4ba",
   "metadata": {},
   "outputs": [],
   "source": [
    "from abc import ABC, abstractmethod\n",
    "class Shape(ABC):\n",
    "    @abstractmethod\n",
    "    def __init__(self):\n",
    "        pass\n",
    "    @abstractmethod\n",
    "    def calc_are(self):\n",
    "        pass"
   ]
  },
  {
   "cell_type": "code",
   "execution_count": 43,
   "id": "98853561",
   "metadata": {},
   "outputs": [],
   "source": [
    "class Circle(Shape):\n",
    "    def __init__(self, radius=3):\n",
    "        self.radius = radius\n",
    "    def calc_area(self):\n",
    "        import numpy as np\n",
    "        '원의 넓이를 return'\n",
    "        return np.pi * (self.radius**2)"
   ]
  },
  {
   "cell_type": "code",
   "execution_count": 44,
   "id": "069dcecc",
   "metadata": {},
   "outputs": [
    {
     "data": {
      "text/plain": [
       "78.53981633974483"
      ]
     },
     "execution_count": 44,
     "metadata": {},
     "output_type": "execute_result"
    }
   ],
   "source": [
    "myCircle = Circle(5)\n",
    "myCircle.calc_area()"
   ]
  },
  {
   "cell_type": "markdown",
   "id": "bda37ac6",
   "metadata": {},
   "source": [
    "# 5. 파일 정리 작업(with절 이용)"
   ]
  },
  {
   "cell_type": "code",
   "execution_count": 50,
   "id": "fdb71bd9",
   "metadata": {},
   "outputs": [
    {
     "name": "stdout",
     "output_type": "stream",
     "text": [
      "['Hello\\n', 'Python\\n', '주피터 노트북의 txt파일 저장은 기본이 utf-8로 저장\\n', '김설믜']\n"
     ]
    }
   ],
   "source": [
    "try:\n",
    "    f = open('data/ch08.txt', 'r', encoding='utf-8') #이렇게 열면\n",
    "    lines = f.readlines() #한 줄 한 줄 모든 줄을 한꺼번에 list로 읽어오기 ↓ 아래 결과처럼\n",
    "    print(lines)\n",
    "except FileNotFoundError as e:\n",
    "    print(e)\n",
    "finally:\n",
    "    f.close() #이렇게 꼭 닫아야 해서, 이렇게 잘 안 씀"
   ]
  },
  {
   "cell_type": "code",
   "execution_count": 51,
   "id": "3db3f562",
   "metadata": {},
   "outputs": [
    {
     "name": "stdout",
     "output_type": "stream",
     "text": [
      "['Hello\\n', 'Python\\n', '주피터 노트북의 txt파일 저장은 기본이 utf-8로 저장\\n', '김설믜']\n"
     ]
    }
   ],
   "source": [
    "#with절 이후에는 자동적으로 close() 실행하는 셈. 그 외 작동은 open() close()와 동일.\n",
    "with open('data/ch08.txt', 'r', encoding='utf-8') as f:\n",
    "    lines = f.readlines()\n",
    "print(lines)"
   ]
  },
  {
   "cell_type": "code",
   "execution_count": 52,
   "id": "a0ac3ff6",
   "metadata": {},
   "outputs": [
    {
     "name": "stdout",
     "output_type": "stream",
     "text": [
      "['Hello\\n', 'Python\\n', '주피터 노트북의 txt파일 저장은 기본이 utf-8로 저장\\n', '김설믜']\n"
     ]
    }
   ],
   "source": [
    "try:\n",
    "    with open('data/ch08.txt', 'r', encoding='utf-8') as f:\n",
    "        lines = f.readlines()\n",
    "    print(lines)\n",
    "except (FileNotFoundError, UnicodeDecodeError) as e:\n",
    "    print(e)"
   ]
  },
  {
   "cell_type": "markdown",
   "id": "fce4a8df",
   "metadata": {},
   "source": [
    "# 6. 연습문제\n",
    "## 실습형"
   ]
  },
  {
   "cell_type": "code",
   "execution_count": 60,
   "id": "2425329d",
   "metadata": {},
   "outputs": [
    {
     "name": "stdout",
     "output_type": "stream",
     "text": [
      "첫 번째 숫자를 입력하세요: hello\n",
      "유효한 숫자가 아닙니다. 다시 시도하세요.\n",
      "첫 번째 숫자를 입력하세요: 10\n",
      "두 번째 숫자를 입력하세요: 0\n",
      "입력한 수는 10.0와 0.0입니다.\n",
      "입력한 수는 10.0와 0.0입니다.\n",
      "유효한 숫자가 아닙니다. 다시 시도하세요.\n",
      "첫 번째 숫자를 입력하세요: 3.5\n",
      "두 번째 숫자를 입력하세요: hello\n",
      "유효한 숫자가 아닙니다. 다시 시도하세요.\n",
      "첫 번째 숫자를 입력하세요: 3.5\n",
      "두 번째 숫자를 입력하세요: 2\n",
      "입력한 수는 3.5와 2.0입니다.\n",
      "3.5를 2.0로 나누면 1.75입니다.\n"
     ]
    }
   ],
   "source": [
    "#ex1.숫자 두 개를 입력받아 나눗셈 연산을 하는 프로그램을 작성\n",
    "while True:\n",
    "    try:\n",
    "        num1 = float(input(\"첫 번째 숫자를 입력하세요: \"))\n",
    "        num2 = float(input(\"두 번째 숫자를 입력하세요: \"))\n",
    "        print('입력한 수는 {}와 {}입니다.'.format(num1, num2))\n",
    "        print('{}를 {}로 나누면 {}입니다.'.format(num1, num2, num1/num2)) \n",
    "        break\n",
    "    except ValueError:\n",
    "        print('유효한 숫자가 아닙니다. 다시 시도하세요.')\n",
    "    except ZeroDivisionError:\n",
    "        print('입력한 수는 {}와 {}입니다.'.format(num1, num2))\n",
    "        print('유효한 숫자가 아닙니다. 다시 시도하세요.')"
   ]
  },
  {
   "cell_type": "code",
   "execution_count": null,
   "id": "b0313ee0",
   "metadata": {},
   "outputs": [],
   "source": [
    "#선생님 풀이\n",
    "while True:\n",
    "    try:\n",
    "        num1 = float(input('첫 번째 숫자를 입력하세요'))\n",
    "        num2 = float(input('두 번째 숫자를 입력하세요'))\n",
    "        print('입력한 수는 {}와 {}'.format(num1, num2))\n",
    "        print('{}을 {}로 나누면 {}입니다'.format(num1, num2, num1/num2))\n",
    "        break\n",
    "    except:\n",
    "        print('유효한 숫자가 아닙니다. 다시 시도하세요')"
   ]
  },
  {
   "cell_type": "code",
   "execution_count": 62,
   "id": "23e9de2f",
   "metadata": {},
   "outputs": [
    {
     "name": "stdout",
     "output_type": "stream",
     "text": [
      "첫 번째 숫자를 입력하세요: abc\n",
      "유효한 숫자가 아닙니다. 다시 시도하세요.\n",
      "첫 번째 숫자를 입력하세요: 10\n",
      "두 번째 숫자를 입력하세요: 0\n",
      "입력한 수는 10.0와 0.0입니다.\n",
      "입력한 수는 10.0와 0.0입니다.\n",
      "유효한 숫자가 아닙니다. 다시 시도하세요.\n",
      "첫 번째 숫자를 입력하세요: 5\n",
      "두 번째 숫자를 입력하세요: 3\n",
      "입력한 수는 5.0와 3.0입니다.\n",
      "5.0를 3.0로 나누면 1.6666666666666667입니다.\n"
     ]
    }
   ],
   "source": [
    "#ex2.1번 코드의 예외 처리를 예외에 따라 다르게 처리하세요. \n",
    "while True:\n",
    "    try:\n",
    "        num1 = float(input(\"첫 번째 숫자를 입력하세요: \"))\n",
    "        num2 = float(input(\"두 번째 숫자를 입력하세요: \"))\n",
    "        print('입력한 수는 {}와 {}입니다.'.format(num1, num2))\n",
    "        print('{}를 {}로 나누면 {}입니다.'.format(num1, num2, num1/num2)) \n",
    "        break\n",
    "    except ZeroDivisionError:\n",
    "        print('유효한 숫자가 아닙니다. 다시 시도하세요.')\n",
    "    except ValueError:\n",
    "        print('유효한 숫자가 아닙니다. 다시 시도하세요.')"
   ]
  },
  {
   "cell_type": "markdown",
   "id": "e7c8bec3",
   "metadata": {},
   "source": [
    "## 문제풀이형"
   ]
  },
  {
   "cell_type": "code",
   "execution_count": 55,
   "id": "b1295132",
   "metadata": {},
   "outputs": [],
   "source": [
    "#ex1.다음 중 예외 처리에 대해 잘못 설명한 것은?\n",
    "'''\n",
    "③번 → 상위 예외 처리를 먼저 선언하면 하위 예외가 포괄되어 적용되므로, 하위 예외 처리를 먼저 선언해야 한다.\n",
    "'''"
   ]
  },
  {
   "cell_type": "code",
   "execution_count": 56,
   "id": "95e9e68e",
   "metadata": {},
   "outputs": [],
   "source": [
    "#ex2.\n",
    "'''\n",
    "②번 → 다른 언어에서는 catch로, 파이썬에서는 except로\n",
    "'''"
   ]
  },
  {
   "cell_type": "code",
   "execution_count": 57,
   "id": "ed42f93e",
   "metadata": {},
   "outputs": [],
   "source": [
    "#ex3.\n",
    "'''\n",
    "④번 → e로 예외를 할당해 활용하려면 3번 형태로\n",
    "'''"
   ]
  },
  {
   "cell_type": "code",
   "execution_count": null,
   "id": "1fce1300",
   "metadata": {},
   "outputs": [],
   "source": [
    "#ex4.\n",
    "'''\n",
    "③번 → try - except - else - finally\n",
    "'''"
   ]
  }
 ],
 "metadata": {
  "kernelspec": {
   "display_name": "Python 3 (ipykernel)",
   "language": "python",
   "name": "python3"
  },
  "language_info": {
   "codemirror_mode": {
    "name": "ipython",
    "version": 3
   },
   "file_extension": ".py",
   "mimetype": "text/x-python",
   "name": "python",
   "nbconvert_exporter": "python",
   "pygments_lexer": "ipython3",
   "version": "3.10.9"
  },
  "toc": {
   "base_numbering": 1,
   "nav_menu": {},
   "number_sections": false,
   "sideBar": true,
   "skip_h1_title": false,
   "title_cell": "Table of Contents",
   "title_sidebar": "Contents",
   "toc_cell": false,
   "toc_position": {
    "height": "calc(100% - 180px)",
    "left": "10px",
    "top": "150px",
    "width": "240.696px"
   },
   "toc_section_display": true,
   "toc_window_display": true
  }
 },
 "nbformat": 4,
 "nbformat_minor": 5
}
