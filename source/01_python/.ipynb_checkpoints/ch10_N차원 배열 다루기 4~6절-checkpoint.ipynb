{
 "cells": [
  {
   "cell_type": "code",
   "execution_count": 1,
   "id": "95b99477",
   "metadata": {},
   "outputs": [
    {
     "data": {
      "text/html": [
       "\n",
       "<style>\n",
       "div.container{width:90% !important;}\n",
       "div.cell.code_cell.rendered{width:90%;}\n",
       "div.input_prompt{padding:0px;}\n",
       "div.CodeMirror {font-family:Consolas; font-size:10pt;}\n",
       "div.text_cell_render.rendered_html{font-size:10pt;}\n",
       "div.output {font-size:10pt; font-weight:bold;}\n",
       "div.input {font-family:Consolas; font-size:10pt;}\n",
       "div.prompt {min-width:70px;}\n",
       "div#toc-wrapper{padding-top:120px;}\n",
       "div.text_cell_render ul li{font-size:10pt;padding:5px;}\n",
       "table.dataframe{font-size:10px;}\n",
       "</style>\n"
      ],
      "text/plain": [
       "<IPython.core.display.HTML object>"
      ]
     },
     "metadata": {},
     "output_type": "display_data"
    }
   ],
   "source": [
    "from IPython.display import display, HTML\n",
    "display(HTML(\"\"\"\n",
    "<style>\n",
    "div.container{width:90% !important;}\n",
    "div.cell.code_cell.rendered{width:90%;}\n",
    "div.input_prompt{padding:0px;}\n",
    "div.CodeMirror {font-family:Consolas; font-size:10pt;}\n",
    "div.text_cell_render.rendered_html{font-size:10pt;}\n",
    "div.output {font-size:10pt; font-weight:bold;}\n",
    "div.input {font-family:Consolas; font-size:10pt;}\n",
    "div.prompt {min-width:70px;}\n",
    "div#toc-wrapper{padding-top:120px;}\n",
    "div.text_cell_render ul li{font-size:10pt;padding:5px;}\n",
    "table.dataframe{font-size:10px;}\n",
    "</style>\n",
    "\"\"\"))"
   ]
  },
  {
   "cell_type": "markdown",
   "id": "04e208df",
   "metadata": {},
   "source": [
    "<b><font size=\"6\" color=\"red\">Ch 10. N차원 배열 다루기</font><b>\n",
    "# 4. 복사와 뷰\n",
    "## 4.1. 할당 (Assignment)"
   ]
  },
  {
   "cell_type": "code",
   "execution_count": 3,
   "id": "9df8929f",
   "metadata": {},
   "outputs": [
    {
     "data": {
      "text/plain": [
       "array([ 0,  1,  2,  3,  4,  5,  6,  7,  8,  9, 10, 11])"
      ]
     },
     "execution_count": 3,
     "metadata": {},
     "output_type": "execute_result"
    }
   ],
   "source": [
    "import numpy as np\n",
    "a = np.arange(12)\n",
    "a"
   ]
  },
  {
   "cell_type": "code",
   "execution_count": 4,
   "id": "34545a4c",
   "metadata": {},
   "outputs": [
    {
     "data": {
      "text/plain": [
       "((12,), 1, 1924132761840, numpy.ndarray)"
      ]
     },
     "execution_count": 4,
     "metadata": {},
     "output_type": "execute_result"
    }
   ],
   "source": [
    "b = a\n",
    "a.shape, a.ndim, id(a), type(a)"
   ]
  },
  {
   "cell_type": "code",
   "execution_count": 5,
   "id": "86004849",
   "metadata": {},
   "outputs": [
    {
     "data": {
      "text/plain": [
       "((12,), 1, 1924132761840, numpy.ndarray)"
      ]
     },
     "execution_count": 5,
     "metadata": {},
     "output_type": "execute_result"
    }
   ],
   "source": [
    "b.shape, b.ndim, id(b), type(b)"
   ]
  },
  {
   "cell_type": "code",
   "execution_count": 6,
   "id": "0fa3bb64",
   "metadata": {},
   "outputs": [
    {
     "data": {
      "text/plain": [
       "True"
      ]
     },
     "execution_count": 6,
     "metadata": {},
     "output_type": "execute_result"
    }
   ],
   "source": [
    "a is b #True면 같은 객체"
   ]
  },
  {
   "cell_type": "code",
   "execution_count": 7,
   "id": "8af45848",
   "metadata": {},
   "outputs": [
    {
     "data": {
      "text/plain": [
       "array([ True,  True,  True,  True,  True,  True,  True,  True,  True,\n",
       "        True,  True,  True])"
      ]
     },
     "execution_count": 7,
     "metadata": {},
     "output_type": "execute_result"
    }
   ],
   "source": [
    "a == b"
   ]
  },
  {
   "cell_type": "code",
   "execution_count": 8,
   "id": "36586108",
   "metadata": {},
   "outputs": [
    {
     "data": {
      "text/plain": [
       "True"
      ]
     },
     "execution_count": 8,
     "metadata": {},
     "output_type": "execute_result"
    }
   ],
   "source": [
    "np.all(a==b)"
   ]
  },
  {
   "cell_type": "code",
   "execution_count": 10,
   "id": "2c6e354f",
   "metadata": {},
   "outputs": [],
   "source": [
    "b.shape = (3,4) #할당받은 b의 shape를 수정"
   ]
  },
  {
   "cell_type": "code",
   "execution_count": 11,
   "id": "84163e48",
   "metadata": {},
   "outputs": [
    {
     "data": {
      "text/plain": [
       "((3, 4), 2, 1924132761840, numpy.ndarray)"
      ]
     },
     "execution_count": 11,
     "metadata": {},
     "output_type": "execute_result"
    }
   ],
   "source": [
    "a.shape, a.ndim, id(a), type(a)"
   ]
  },
  {
   "cell_type": "code",
   "execution_count": 12,
   "id": "c0d744ad",
   "metadata": {},
   "outputs": [
    {
     "data": {
      "text/plain": [
       "((3, 4), 2, 1924132761840, numpy.ndarray)"
      ]
     },
     "execution_count": 12,
     "metadata": {},
     "output_type": "execute_result"
    }
   ],
   "source": [
    "b.shape, b.ndim, id(b), type(b)"
   ]
  },
  {
   "cell_type": "code",
   "execution_count": 13,
   "id": "2242a666",
   "metadata": {},
   "outputs": [
    {
     "data": {
      "text/plain": [
       "array([[ 0,  1,  2,  3],\n",
       "       [ 4,  5,  6,  7],\n",
       "       [ 8,  9, 10, 11]])"
      ]
     },
     "execution_count": 13,
     "metadata": {},
     "output_type": "execute_result"
    }
   ],
   "source": [
    "a = np.arange(12).reshape(3,4)\n",
    "a"
   ]
  },
  {
   "cell_type": "code",
   "execution_count": 14,
   "id": "f9439eca",
   "metadata": {},
   "outputs": [
    {
     "data": {
      "text/plain": [
       "array([[ 0,  1,  2,  3,  4,  5],\n",
       "       [ 6,  7,  8,  9, 10, 11]])"
      ]
     },
     "execution_count": 14,
     "metadata": {},
     "output_type": "execute_result"
    }
   ],
   "source": [
    "a.reshape(2,6)"
   ]
  },
  {
   "cell_type": "markdown",
   "id": "9b808549",
   "metadata": {},
   "source": [
    "## 4.2. 얕은 복사 (View)"
   ]
  },
  {
   "cell_type": "code",
   "execution_count": 15,
   "id": "2f38c124",
   "metadata": {},
   "outputs": [
    {
     "name": "stdout",
     "output_type": "stream",
     "text": [
      "1922049988656 1922022958896\n"
     ]
    }
   ],
   "source": [
    "c = a.view() #얕은 복사\n",
    "print(id(a), id(c))"
   ]
  },
  {
   "cell_type": "code",
   "execution_count": 16,
   "id": "0262d703",
   "metadata": {},
   "outputs": [
    {
     "data": {
      "text/plain": [
       "array([[ True,  True,  True,  True],\n",
       "       [ True,  True,  True,  True],\n",
       "       [ True,  True,  True,  True]])"
      ]
     },
     "execution_count": 16,
     "metadata": {},
     "output_type": "execute_result"
    }
   ],
   "source": [
    "c==a"
   ]
  },
  {
   "cell_type": "code",
   "execution_count": 17,
   "id": "75f555cb",
   "metadata": {},
   "outputs": [
    {
     "data": {
      "text/plain": [
       "array([[ 0,  1,  2,  3,  4,  5],\n",
       "       [ 6,  7,  8,  9, 10, 11]])"
      ]
     },
     "execution_count": 17,
     "metadata": {},
     "output_type": "execute_result"
    }
   ],
   "source": [
    "c.shape = (2,6)\n",
    "c"
   ]
  },
  {
   "cell_type": "code",
   "execution_count": 19,
   "id": "fe5a8a23",
   "metadata": {},
   "outputs": [],
   "source": [
    "c[1, ::2] = [9, 9, 9]"
   ]
  },
  {
   "cell_type": "code",
   "execution_count": 20,
   "id": "295b6c1d",
   "metadata": {},
   "outputs": [
    {
     "data": {
      "text/plain": [
       "array([[ 0,  1,  2,  3,  4,  5],\n",
       "       [ 9,  7,  9,  9,  9, 11]])"
      ]
     },
     "execution_count": 20,
     "metadata": {},
     "output_type": "execute_result"
    }
   ],
   "source": [
    "c"
   ]
  },
  {
   "cell_type": "code",
   "execution_count": 21,
   "id": "3d3f0be0",
   "metadata": {},
   "outputs": [
    {
     "data": {
      "text/plain": [
       "array([[ 0,  1,  2,  3],\n",
       "       [ 4,  5,  9,  7],\n",
       "       [ 9,  9,  9, 11]])"
      ]
     },
     "execution_count": 21,
     "metadata": {},
     "output_type": "execute_result"
    }
   ],
   "source": [
    "a"
   ]
  },
  {
   "cell_type": "markdown",
   "id": "e4ebe647",
   "metadata": {},
   "source": [
    "## 4.3. 깊은 복사 (Copy)"
   ]
  },
  {
   "cell_type": "code",
   "execution_count": 34,
   "id": "3475ab16",
   "metadata": {},
   "outputs": [
    {
     "data": {
      "text/plain": [
       "array([[ 5,  4, 13,  0],\n",
       "       [60,  6, 16,  1],\n",
       "       [20,  5, 14,  0]])"
      ]
     },
     "execution_count": 34,
     "metadata": {},
     "output_type": "execute_result"
    }
   ],
   "source": [
    "a = np.array([[5, 4, 13, 0],\n",
    "            [60, 6, 16, 1],\n",
    "            [20, 5, 14, 0]])\n",
    "a"
   ]
  },
  {
   "cell_type": "code",
   "execution_count": 35,
   "id": "b807c21b",
   "metadata": {},
   "outputs": [
    {
     "data": {
      "text/plain": [
       "array([[ 5,  4, 13],\n",
       "       [60,  6, 16],\n",
       "       [20,  5, 14]])"
      ]
     },
     "execution_count": 35,
     "metadata": {},
     "output_type": "execute_result"
    }
   ],
   "source": [
    "#X = a[:, :-1] #슬라이싱할 때, View가 반환(얕은 복사), 원본과 연결\n",
    "X = a[:, :-1].copy() #깊은 복사\n",
    "X = np.array(a[:,:-1], copy=True) #깊은 복사\n",
    "X"
   ]
  },
  {
   "cell_type": "code",
   "execution_count": 36,
   "id": "90e8dd90",
   "metadata": {},
   "outputs": [
    {
     "data": {
      "text/plain": [
       "array([[-9,  4, 13],\n",
       "       [-9,  6, 16],\n",
       "       [-9,  5, 14]])"
      ]
     },
     "execution_count": 36,
     "metadata": {},
     "output_type": "execute_result"
    }
   ],
   "source": [
    "X[:,0] = -9\n",
    "X"
   ]
  },
  {
   "cell_type": "code",
   "execution_count": 37,
   "id": "625daf6f",
   "metadata": {},
   "outputs": [
    {
     "data": {
      "text/plain": [
       "array([[ 5,  4, 13,  0],\n",
       "       [60,  6, 16,  1],\n",
       "       [20,  5, 14,  0]])"
      ]
     },
     "execution_count": 37,
     "metadata": {},
     "output_type": "execute_result"
    }
   ],
   "source": [
    "a"
   ]
  },
  {
   "cell_type": "markdown",
   "id": "20a1f017",
   "metadata": {},
   "source": [
    "# 5. 고급 인덱싱"
   ]
  },
  {
   "cell_type": "code",
   "execution_count": null,
   "id": "de60ac42",
   "metadata": {},
   "outputs": [],
   "source": []
  },
  {
   "cell_type": "code",
   "execution_count": null,
   "id": "32a0f3c3",
   "metadata": {},
   "outputs": [],
   "source": []
  },
  {
   "cell_type": "code",
   "execution_count": null,
   "id": "08bc7b89",
   "metadata": {},
   "outputs": [],
   "source": []
  },
  {
   "cell_type": "code",
   "execution_count": null,
   "id": "57dd085f",
   "metadata": {},
   "outputs": [],
   "source": []
  },
  {
   "cell_type": "code",
   "execution_count": null,
   "id": "043cc393",
   "metadata": {},
   "outputs": [],
   "source": []
  },
  {
   "cell_type": "code",
   "execution_count": null,
   "id": "d5ccb0ce",
   "metadata": {},
   "outputs": [],
   "source": []
  },
  {
   "cell_type": "code",
   "execution_count": null,
   "id": "1192d5ef",
   "metadata": {},
   "outputs": [],
   "source": []
  },
  {
   "cell_type": "code",
   "execution_count": null,
   "id": "08361c78",
   "metadata": {},
   "outputs": [],
   "source": []
  },
  {
   "cell_type": "code",
   "execution_count": null,
   "id": "b3e6e95f",
   "metadata": {},
   "outputs": [],
   "source": []
  },
  {
   "cell_type": "code",
   "execution_count": null,
   "id": "98d39db8",
   "metadata": {},
   "outputs": [],
   "source": []
  }
 ],
 "metadata": {
  "kernelspec": {
   "display_name": "Python 3 (ipykernel)",
   "language": "python",
   "name": "python3"
  },
  "language_info": {
   "codemirror_mode": {
    "name": "ipython",
    "version": 3
   },
   "file_extension": ".py",
   "mimetype": "text/x-python",
   "name": "python",
   "nbconvert_exporter": "python",
   "pygments_lexer": "ipython3",
   "version": "3.10.9"
  },
  "toc": {
   "base_numbering": 1,
   "nav_menu": {},
   "number_sections": false,
   "sideBar": true,
   "skip_h1_title": false,
   "title_cell": "Table of Contents",
   "title_sidebar": "Contents",
   "toc_cell": false,
   "toc_position": {
    "height": "calc(100% - 180px)",
    "left": "10px",
    "top": "150px",
    "width": "240.7px"
   },
   "toc_section_display": true,
   "toc_window_display": true
  }
 },
 "nbformat": 4,
 "nbformat_minor": 5
}
