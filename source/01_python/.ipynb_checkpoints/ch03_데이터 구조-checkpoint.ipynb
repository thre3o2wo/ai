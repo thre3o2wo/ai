{
 "cells": [
  {
   "cell_type": "code",
   "execution_count": 1,
   "id": "7a97e7f2",
   "metadata": {},
   "outputs": [
    {
     "data": {
      "text/html": [
       "\n",
       "<style>\n",
       "div.container{width:90% !important;}\n",
       "div.cell.code_cell.rendered{width:90%;}\n",
       "div.input_prompt{padding:0px;}\n",
       "div.CodeMirror {font-family:Consolas; font-size:10pt;}\n",
       "div.text_cell_render.rendered_html{font-size:10pt;}\n",
       "div.output {font-size:10pt; font-weight:bold;}\n",
       "div.input {font-family:Consolas; font-size:10pt;}\n",
       "div.prompt {min-width:70px;}\n",
       "div#toc-wrapper{padding-top:120px;}\n",
       "div.text_cell_render ul li{font-size:10pt;padding:5px;}\n",
       "table.dataframe{font-size:10px;}\n",
       "</style>\n"
      ],
      "text/plain": [
       "<IPython.core.display.HTML object>"
      ]
     },
     "metadata": {},
     "output_type": "display_data"
    }
   ],
   "source": [
    "from IPython.display import display, HTML\n",
    "display(HTML(\"\"\"\n",
    "<style>\n",
    "div.container{width:90% !important;}\n",
    "div.cell.code_cell.rendered{width:90%;}\n",
    "div.input_prompt{padding:0px;}\n",
    "div.CodeMirror {font-family:Consolas; font-size:10pt;}\n",
    "div.text_cell_render.rendered_html{font-size:10pt;}\n",
    "div.output {font-size:10pt; font-weight:bold;}\n",
    "div.input {font-family:Consolas; font-size:10pt;}\n",
    "div.prompt {min-width:70px;}\n",
    "div#toc-wrapper{padding-top:120px;}\n",
    "div.text_cell_render ul li{font-size:10pt;padding:5px;}\n",
    "table.dataframe{font-size:10px;}\n",
    "</style>\n",
    "\"\"\"))"
   ]
  },
  {
   "cell_type": "markdown",
   "id": "16310174",
   "metadata": {},
   "source": [
    "<b><font size=\"6\" color=\"red\">ch03. 데이터구조</font><b>\n",
    "- 리스트[80,99], 튜플(99,20), 딕셔너리{\"name\":\"홍\",\"score\":\"99}, 셋{10,20}\n",
    "\n",
    "# 1. 리스트\n",
    "## 1.1. 리스트 만들기\n",
    "- [대괄호]를 이용해 만들며, 여러 개 값(여러 타입)을 하나의 변수에 저장/관리할 수 있음\n",
    "- list(함수) 사용 가능 (다른 자료형을 리스트로)\n",
    "- 인덱스(각 요소의 위치, 0부터 시작해 맨 마지막은 -1) 사용 가능\n",
    "- 슬라이싱[from:to:step] 사용해 부분 데이터셋 추출 가능\n",
    "- 인덱싱과 슬라이싱 이용해 쓰기와 읽기 지원    "
   ]
  },
  {
   "cell_type": "code",
   "execution_count": 2,
   "id": "8e1c408e",
   "metadata": {},
   "outputs": [
    {
     "data": {
      "text/plain": [
       "list"
      ]
     },
     "execution_count": 2,
     "metadata": {},
     "output_type": "execute_result"
    }
   ],
   "source": [
    "fruit = 'banana'\n",
    "fruits = ['banana', 'apple', 'orange', 'grape']\n",
    "type(fruits)"
   ]
  },
  {
   "cell_type": "code",
   "execution_count": 3,
   "id": "0cbf85c0",
   "metadata": {},
   "outputs": [
    {
     "name": "stdout",
     "output_type": "stream",
     "text": [
      "['banana', 'apple', 'orange', 'grape']\n"
     ]
    },
    {
     "data": {
      "text/plain": [
       "'banana'"
      ]
     },
     "execution_count": 3,
     "metadata": {},
     "output_type": "execute_result"
    }
   ],
   "source": [
    "print(fruits)\n",
    "fruits[0] #인덱싱 이용한 읽기\n",
    "#print(fruits[4]) #없는 인덱싱 명령 시 에러"
   ]
  },
  {
   "cell_type": "code",
   "execution_count": 4,
   "id": "0c4eb731",
   "metadata": {},
   "outputs": [
    {
     "name": "stdout",
     "output_type": "stream",
     "text": [
      "['mango', 'apple', 'orange', 'grape']\n"
     ]
    }
   ],
   "source": [
    "fruits[0] = 'mango'\n",
    "print(fruits)"
   ]
  },
  {
   "cell_type": "code",
   "execution_count": 14,
   "id": "68e41879",
   "metadata": {},
   "outputs": [
    {
     "name": "stdout",
     "output_type": "stream",
     "text": [
      "x=mango\n",
      "y=apple\n",
      "z=orange\n"
     ]
    }
   ],
   "source": [
    "fruits = ['mango', 'apple', 'orange']\n",
    "x, y, z = ['mango', 'apple', 'orange']\n",
    "print(\"x={}\".format(x))\n",
    "print(f\"y={y}\")\n",
    "print(f\"z={z}\")"
   ]
  },
  {
   "cell_type": "code",
   "execution_count": 10,
   "id": "ce3554b4",
   "metadata": {},
   "outputs": [
    {
     "data": {
      "text/plain": [
       "range(0, 10)"
      ]
     },
     "execution_count": 10,
     "metadata": {},
     "output_type": "execute_result"
    }
   ],
   "source": [
    "#range(from, to, by): from부터 to 앞까지 by씩 증가하는 나열 가능한 자료\n",
    "    #숫자를 순차적으로 사용할 수 있게\n",
    "    #from 생략 시 0, by 생략 시 1, to는 생략할 수 없음\n",
    "range(10) #[0,1,2,3,4,5,6,7,8,9]"
   ]
  },
  {
   "cell_type": "code",
   "execution_count": 11,
   "id": "4061e7e4",
   "metadata": {},
   "outputs": [
    {
     "data": {
      "text/plain": [
       "[0, 1, 2, 3, 4, 5, 6, 7, 8, 9]"
      ]
     },
     "execution_count": 11,
     "metadata": {},
     "output_type": "execute_result"
    }
   ],
   "source": [
    "list(range(10))"
   ]
  },
  {
   "cell_type": "code",
   "execution_count": 12,
   "id": "a7a59cec",
   "metadata": {},
   "outputs": [
    {
     "data": {
      "text/plain": [
       "[10, 8, 6, 4, 2, 0]"
      ]
     },
     "execution_count": 12,
     "metadata": {},
     "output_type": "execute_result"
    }
   ],
   "source": [
    "list(range(10,-1,-2))"
   ]
  },
  {
   "cell_type": "code",
   "execution_count": 17,
   "id": "2b6713a3",
   "metadata": {},
   "outputs": [
    {
     "name": "stdout",
     "output_type": "stream",
     "text": [
      "0\n",
      "1\n",
      "2\n",
      "3\n",
      "4\n",
      "5\n"
     ]
    }
   ],
   "source": [
    "#for i in [0,1,2,3,4,5]:\n",
    "for i in range(6):\n",
    "    print(i)"
   ]
  },
  {
   "cell_type": "code",
   "execution_count": 21,
   "id": "47883744",
   "metadata": {},
   "outputs": [
    {
     "name": "stdout",
     "output_type": "stream",
     "text": [
      "0번째 과일은 mango\n",
      "1번째 과일은 apple\n",
      "2번째 과일은 orange\n"
     ]
    }
   ],
   "source": [
    "fruits = ['mango', 'apple', 'orange']\n",
    "#print(\"{}번째 과일은 {}\".format(0, fruits[0]))\n",
    "#print(\"{}번째 과일은 {}\".format(1, fruits[1]))\n",
    "#print(\"{}번째 과일은 {}\".format(2, fruits[2]))\n",
    "#for i in range(3):\n",
    "for i in range(len(fruits)): #len(리스트변수): 데이터 개수\n",
    "    print(\"{}번째 과일은 {}\".format(i, fruits[i]))"
   ]
  },
  {
   "cell_type": "code",
   "execution_count": 25,
   "id": "c09155fd",
   "metadata": {},
   "outputs": [
    {
     "data": {
      "text/plain": [
       "[(0, 'mango'), (1, 'apple'), (2, 'orange')]"
      ]
     },
     "execution_count": 25,
     "metadata": {},
     "output_type": "execute_result"
    }
   ],
   "source": [
    "list(enumerate(fruits))\n",
    "#1 : to ascertain the number of : count\n",
    "#2 : to specify one after another : list"
   ]
  },
  {
   "cell_type": "code",
   "execution_count": 27,
   "id": "f967bd0e",
   "metadata": {},
   "outputs": [
    {
     "name": "stdout",
     "output_type": "stream",
     "text": [
      "0번째 과일은 mango\n",
      "1번째 과일은 apple\n",
      "2번째 과일은 orange\n"
     ]
    }
   ],
   "source": [
    "#for 변수이름 in range(len(fruits)):\n",
    "for i, fruit in enumerate(fruits) : #[(0, 'mango'), (1, 'apple'), (2, 'orange')]\n",
    "    print(f\"{i}번째 과일은 {fruit}\")"
   ]
  },
  {
   "cell_type": "code",
   "execution_count": 29,
   "id": "951a9599",
   "metadata": {},
   "outputs": [
    {
     "name": "stdout",
     "output_type": "stream",
     "text": [
      "mango입니다\n",
      "apple입니다\n",
      "orange입니다\n"
     ]
    }
   ],
   "source": [
    "for fruit in fruits: #['mango', 'apple', 'orange']\n",
    "    print(f\"{fruit}입니다\")"
   ]
  },
  {
   "cell_type": "code",
   "execution_count": 35,
   "id": "511bd715",
   "metadata": {},
   "outputs": [
    {
     "data": {
      "text/plain": [
       "('2', 3)"
      ]
     },
     "execution_count": 35,
     "metadata": {},
     "output_type": "execute_result"
    }
   ],
   "source": [
    "#리스트는 여러 타입의 데이터를 담을 수 있음\n",
    "numbers = [0, True, \"2\", [2,3,4], (5,6)]\n",
    "numbers[2], numbers[3][1]"
   ]
  },
  {
   "cell_type": "code",
   "execution_count": 38,
   "id": "f118a577",
   "metadata": {},
   "outputs": [
    {
     "name": "stdout",
     "output_type": "stream",
     "text": [
      "[[1, 2, 3, 4, 5], [10, 20, 30, 40, 50], [1, 3, 5, 7, 9], [2, 4, 6, 8, 10]]\n"
     ]
    },
    {
     "data": {
      "text/plain": [
       "50"
      ]
     },
     "execution_count": 38,
     "metadata": {},
     "output_type": "execute_result"
    }
   ],
   "source": [
    "#2차원 리스트\n",
    "numbers = [1,2,3,4,5]\n",
    "numbers_2d = [[1,2,3,4,5],\n",
    "              [10,20,30,40,50],\n",
    "              [1,3,5,7,9],\n",
    "              [2,4,6,8,10]]\n",
    "print(numbers_2d)\n",
    "#특정행, 특정열 데이터 인덱싱\n",
    "numbers_2d[1][4]"
   ]
  },
  {
   "cell_type": "code",
   "execution_count": 41,
   "id": "226399c4",
   "metadata": {},
   "outputs": [
    {
     "name": "stdout",
     "output_type": "stream",
     "text": [
      "4 5\n"
     ]
    }
   ],
   "source": [
    "print(len(numbers_2d), len(numbers_2d[0]))"
   ]
  },
  {
   "cell_type": "code",
   "execution_count": 46,
   "id": "cfb2be1f",
   "metadata": {},
   "outputs": [
    {
     "name": "stdout",
     "output_type": "stream",
     "text": [
      "1\t2\t3\t4\t5\t\n",
      "10\t20\t30\t40\t50\t\n",
      "1\t3\t5\t7\t9\t\n",
      "2\t4\t6\t8\t10\t\n"
     ]
    }
   ],
   "source": [
    "for row in numbers_2d:\n",
    "    for item in row:\n",
    "        print(item, end='\\t')\n",
    "    print('')"
   ]
  },
  {
   "cell_type": "code",
   "execution_count": 49,
   "id": "af0bd4ea",
   "metadata": {},
   "outputs": [
    {
     "data": {
      "text/plain": [
       "(4, 5, 5, 5)"
      ]
     },
     "execution_count": 49,
     "metadata": {},
     "output_type": "execute_result"
    }
   ],
   "source": [
    "len(numbers_2d), len(numbers_2d[0]), len(numbers_2d[1]), len(numbers_2d[2])"
   ]
  },
  {
   "cell_type": "code",
   "execution_count": 50,
   "id": "a52d5fb7",
   "metadata": {},
   "outputs": [
    {
     "name": "stdout",
     "output_type": "stream",
     "text": [
      "0행0열 : 1\t0행1열 : 2\t0행2열 : 3\t0행3열 : 4\t0행4열 : 5\t\n",
      "1행0열 : 10\t1행1열 : 20\t1행2열 : 30\t1행3열 : 40\t1행4열 : 50\t\n",
      "2행0열 : 1\t2행1열 : 3\t2행2열 : 5\t2행3열 : 7\t2행4열 : 9\t\n",
      "3행0열 : 2\t3행1열 : 4\t3행2열 : 6\t3행3열 : 8\t3행4열 : 10\t\n"
     ]
    }
   ],
   "source": [
    "for i in range(len(numbers_2d)): #i: 행\n",
    "    for j in range(len(numbers_2d[i])): #j: 열\n",
    "        print(f\"{i}행{j}열 : {numbers_2d[i][j]}\", end=\"\\t\")\n",
    "    print() #줄바꿈"
   ]
  },
  {
   "cell_type": "code",
   "execution_count": 51,
   "id": "7b93da92",
   "metadata": {},
   "outputs": [
    {
     "data": {
      "text/plain": [
       "([(0, [1, 2, 3, 4, 5]),\n",
       "  (1, [10, 20, 30, 40, 50]),\n",
       "  (2, [1, 3, 5, 7, 9]),\n",
       "  (3, [2, 4, 6, 8, 10])],\n",
       " [(0, 1), (1, 2), (2, 3), (3, 4), (4, 5)])"
      ]
     },
     "execution_count": 51,
     "metadata": {},
     "output_type": "execute_result"
    }
   ],
   "source": [
    "list(enumerate(numbers_2d)), list(enumerate(numbers_2d[0]))"
   ]
  },
  {
   "cell_type": "code",
   "execution_count": 52,
   "id": "8351ecc0",
   "metadata": {},
   "outputs": [
    {
     "name": "stdout",
     "output_type": "stream",
     "text": [
      "0행0열 : 1\t0행1열 : 2\t0행2열 : 3\t0행3열 : 4\t0행4열 : 5\t\n",
      "1행0열 : 10\t1행1열 : 20\t1행2열 : 30\t1행3열 : 40\t1행4열 : 50\t\n",
      "2행0열 : 1\t2행1열 : 3\t2행2열 : 5\t2행3열 : 7\t2행4열 : 9\t\n",
      "3행0열 : 2\t3행1열 : 4\t3행2열 : 6\t3행3열 : 8\t3행4열 : 10\t\n"
     ]
    }
   ],
   "source": [
    "for i, row in enumerate(numbers_2d):\n",
    "    for j, item in enumerate(numbers_2d[i]):\n",
    "        print(\"{}행{}열 : {}\".format(i, j, numbers_2d[i][j]), end='\\t')\n",
    "    print()"
   ]
  },
  {
   "cell_type": "markdown",
   "id": "81d6aa38",
   "metadata": {},
   "source": [
    "## 1.2. 기본 정보 조회"
   ]
  },
  {
   "cell_type": "code",
   "execution_count": 53,
   "id": "d861dec4",
   "metadata": {},
   "outputs": [],
   "source": [
    "numbers = [1, 12, 3, 4, 5]\n",
    "numbers_2d = [[100,0,1],\n",
    "             [9,100,100],\n",
    "             [59,100,130]]"
   ]
  },
  {
   "cell_type": "code",
   "execution_count": 54,
   "id": "2bfabb13",
   "metadata": {},
   "outputs": [
    {
     "data": {
      "text/plain": [
       "(5, 3)"
      ]
     },
     "execution_count": 54,
     "metadata": {},
     "output_type": "execute_result"
    }
   ],
   "source": [
    "#item수\n",
    "len(numbers), len(numbers_2d)"
   ]
  },
  {
   "cell_type": "code",
   "execution_count": 58,
   "id": "103ae784",
   "metadata": {},
   "outputs": [
    {
     "data": {
      "text/plain": [
       "(1, [9, 100, 100], 12, [100, 0, 1])"
      ]
     },
     "execution_count": 58,
     "metadata": {},
     "output_type": "execute_result"
    }
   ],
   "source": [
    "#최소값 min 최대값 max\n",
    "#부분 리스트 중 첫 번째 item으로 비교\n",
    "min(numbers), min(numbers_2d), max(numbers), max(numbers_2d)"
   ]
  },
  {
   "cell_type": "code",
   "execution_count": 59,
   "id": "e1dd109b",
   "metadata": {},
   "outputs": [
    {
     "data": {
      "text/plain": [
       "('apple', 'orange')"
      ]
     },
     "execution_count": 59,
     "metadata": {},
     "output_type": "execute_result"
    }
   ],
   "source": [
    "#list 데이터가 문자일 경우 ASCII 코드 값으로 min/max 적용\n",
    "fruits = ['mango', 'apple', 'orange']\n",
    "min(fruits), max(fruits)"
   ]
  },
  {
   "cell_type": "code",
   "execution_count": 64,
   "id": "fbc27876",
   "metadata": {},
   "outputs": [
    {
     "name": "stdout",
     "output_type": "stream",
     "text": [
      "오름차순 정렬 : [1, 3, 4, 5, 12]\n",
      "내림차순 정렬 : [12, 5, 4, 3, 1]\n",
      "합 : 25\n",
      "평균 : 5.0\n",
      "sorted 함수 사용 시 리스트 내용이 바뀌지 않음 : [1, 12, 3, 4, 5]\n"
     ]
    }
   ],
   "source": [
    "#정렬하기 \n",
    "numbers = [1, 12, 3, 4, 5] #동일 자료형 간 정렬 가능\n",
    "print(\"오름차순 정렬 :\", sorted(numbers)) \n",
    "print(\"내림차순 정렬 :\", sorted(numbers, reverse=True))\n",
    "print(\"합 :\", sum(numbers))\n",
    "print(\"평균 :\", sum(numbers)/len(numbers))\n",
    "print(\"sorted 함수 사용 시 리스트 내용이 바뀌지 않음 :\", numbers)"
   ]
  },
  {
   "cell_type": "markdown",
   "id": "82f791f7",
   "metadata": {},
   "source": [
    "## 1.3. 요소 추가\n",
    "- +: 두 리스트 연결\n",
    "- *: 리스트를 곱한 수 만큼 반복\n",
    "- append() : 요소 맨 뒤에 추가\n",
    "- extend(list) : 리스트를 요소별로 맨 뒤에 추가\n",
    "- insert(idx, 값) : idx 번째 인덱스 위치에 값 추가"
   ]
  },
  {
   "cell_type": "code",
   "execution_count": 65,
   "id": "2fdeea96",
   "metadata": {},
   "outputs": [
    {
     "data": {
      "text/plain": [
       "[1, 2, 3, 1, 2, 3]"
      ]
     },
     "execution_count": 65,
     "metadata": {},
     "output_type": "execute_result"
    }
   ],
   "source": [
    "numbers = [1, 2, 3]\n",
    "numbers = numbers + numbers #리스트 연결\n",
    "numbers"
   ]
  },
  {
   "cell_type": "code",
   "execution_count": 66,
   "id": "c328f38e",
   "metadata": {},
   "outputs": [
    {
     "name": "stdout",
     "output_type": "stream",
     "text": [
      "[1, 2, 3, 1, 2, 3, 1, 2, 3]\n",
      "[1, 2, 3, 1, 2, 3, 1, 2, 3]\n"
     ]
    }
   ],
   "source": [
    "numbers = [1, 2, 3]\n",
    "print(numbers*3) #곱한 수 만큼 반복\n",
    "print(3*numbers)"
   ]
  },
  {
   "cell_type": "code",
   "execution_count": 68,
   "id": "340e81a4",
   "metadata": {},
   "outputs": [
    {
     "data": {
      "text/plain": [
       "[1, 2, 3, 4]"
      ]
     },
     "execution_count": 68,
     "metadata": {},
     "output_type": "execute_result"
    }
   ],
   "source": [
    "numbers.append(4)\n",
    "numbers"
   ]
  },
  {
   "cell_type": "code",
   "execution_count": 69,
   "id": "d3f204f1",
   "metadata": {},
   "outputs": [
    {
     "data": {
      "text/plain": [
       "[1, 2, 3, 4, [5, 6, 7]]"
      ]
     },
     "execution_count": 69,
     "metadata": {},
     "output_type": "execute_result"
    }
   ],
   "source": [
    "numbers.append([5,6,7])\n",
    "numbers"
   ]
  },
  {
   "cell_type": "code",
   "execution_count": 70,
   "id": "b09690f7",
   "metadata": {},
   "outputs": [
    {
     "data": {
      "text/plain": [
       "[1, 2, 3, 4, 5, 6]"
      ]
     },
     "execution_count": 70,
     "metadata": {},
     "output_type": "execute_result"
    }
   ],
   "source": [
    "numbers = [1, 2, 3]\n",
    "numbers.extend([4, 5, 6])\n",
    "numbers"
   ]
  },
  {
   "cell_type": "code",
   "execution_count": 71,
   "id": "ccd99776",
   "metadata": {},
   "outputs": [
    {
     "data": {
      "text/plain": [
       "['a', 'b', 'c', 'd']"
      ]
     },
     "execution_count": 71,
     "metadata": {},
     "output_type": "execute_result"
    }
   ],
   "source": [
    "lst = ['a', 'b', 'c']\n",
    "lst.append('d')\n",
    "lst"
   ]
  },
  {
   "cell_type": "code",
   "execution_count": 72,
   "id": "ffe1a30d",
   "metadata": {},
   "outputs": [
    {
     "data": {
      "text/plain": [
       "['a', 'b', 'c', 'd', 'hello']"
      ]
     },
     "execution_count": 72,
     "metadata": {},
     "output_type": "execute_result"
    }
   ],
   "source": [
    "lst.append('hello')\n",
    "lst"
   ]
  },
  {
   "cell_type": "code",
   "execution_count": 73,
   "id": "af911892",
   "metadata": {},
   "outputs": [
    {
     "data": {
      "text/plain": [
       "['a', 'b', 'c', 'd', 'hello', 'h', 'e', 'l', 'l', 'o']"
      ]
     },
     "execution_count": 73,
     "metadata": {},
     "output_type": "execute_result"
    }
   ],
   "source": [
    "lst.extend('hello') #문자열의 각 문자를 추가\n",
    "lst"
   ]
  },
  {
   "cell_type": "code",
   "execution_count": 74,
   "id": "7b0990d4",
   "metadata": {},
   "outputs": [
    {
     "data": {
      "text/plain": [
       "[1, 'xx', 2, 3, 4, 5]"
      ]
     },
     "execution_count": 74,
     "metadata": {},
     "output_type": "execute_result"
    }
   ],
   "source": [
    "numbers = [1,2,3,4,5]\n",
    "numbers.insert(1,'xx') #1번째 인덱스에 'xx' 추가\n",
    "numbers"
   ]
  },
  {
   "cell_type": "markdown",
   "id": "fba2f316",
   "metadata": {},
   "source": [
    "## 1.4. 인덱싱과 요소 개수\n",
    "- list변수[index] : 인덱스를 이용한 접근\n",
    "- index(타깃데이터) : 해당 타깃데이터가 있는 요소의 index를 반환\n",
    "- 타깃데이터 in list변수 : 타깃데이터가 list변수의 요소인지 여부 (없는 데이터 인덱싱할 때 에러 발생하므로)\n",
    "- count(타깃데이터) : 리스트에서 해당 타깃데이터의 개수 반환"
   ]
  },
  {
   "cell_type": "code",
   "execution_count": 77,
   "id": "1c912010",
   "metadata": {},
   "outputs": [
    {
     "data": {
      "text/plain": [
       "(2, 1)"
      ]
     },
     "execution_count": 77,
     "metadata": {},
     "output_type": "execute_result"
    }
   ],
   "source": [
    "numbers = [1,2,3, [1,2,3], 1,2,3,]\n",
    "numbers.count(1), numbers.count([1,2,3])"
   ]
  },
  {
   "cell_type": "code",
   "execution_count": 78,
   "id": "63ed304a",
   "metadata": {},
   "outputs": [
    {
     "data": {
      "text/plain": [
       "0"
      ]
     },
     "execution_count": 78,
     "metadata": {},
     "output_type": "execute_result"
    }
   ],
   "source": [
    "numbers.count(5)"
   ]
  },
  {
   "cell_type": "code",
   "execution_count": 79,
   "id": "f8c353b5",
   "metadata": {},
   "outputs": [
    {
     "name": "stdout",
     "output_type": "stream",
     "text": [
      "True\n",
      "False\n"
     ]
    }
   ],
   "source": [
    "print(2 in numbers) #numbers 요소 중 2가 있는지 여부\n",
    "print(5 in numbers) #numbers 요소 중 5가 있는지 여부"
   ]
  },
  {
   "cell_type": "code",
   "execution_count": 81,
   "id": "fd9cb4a1",
   "metadata": {},
   "outputs": [
    {
     "name": "stdout",
     "output_type": "stream",
     "text": [
      "5가 요소에 포함되지 않습니다.\n"
     ]
    }
   ],
   "source": [
    "#numbers.index(5) #에러\n",
    "if 5 in numbers: #if True\n",
    "    print(numbers.index(5))\n",
    "else:\n",
    "    print('5가 요소에 포함되지 않습니다.')"
   ]
  },
  {
   "cell_type": "code",
   "execution_count": 82,
   "id": "16efc7fd",
   "metadata": {},
   "outputs": [
    {
     "name": "stdout",
     "output_type": "stream",
     "text": [
      "5가 요소에 포함되지 않습니다.\n"
     ]
    }
   ],
   "source": [
    "if numbers.count(5): #if not 0\n",
    "    print(numbers.index(5))\n",
    "else:\n",
    "    print('5가 요소에 포함되지 않습니다.')"
   ]
  },
  {
   "cell_type": "code",
   "execution_count": 83,
   "id": "d0ef11ee",
   "metadata": {},
   "outputs": [],
   "source": [
    "#안전한 index 함수 정의\n",
    "def safe_index(lst, item):\n",
    "    '''If the item is in the the lst, returns the index of item.\n",
    "    If the item is not in the lst, returns -1.'''\n",
    "    if item in lst:\n",
    "        return lst.index(item)\n",
    "    return -1 #else 안 써도 됨. false라면 위의 return이 실행되지 않으니, 바로 아래 return으로 넘어감."
   ]
  },
  {
   "cell_type": "code",
   "execution_count": 85,
   "id": "c3491559",
   "metadata": {},
   "outputs": [
    {
     "data": {
      "text/plain": [
       "-1"
      ]
     },
     "execution_count": 85,
     "metadata": {},
     "output_type": "execute_result"
    }
   ],
   "source": [
    "safe_index(numbers, 5)"
   ]
  },
  {
   "cell_type": "code",
   "execution_count": 4,
   "id": "c7e069db",
   "metadata": {},
   "outputs": [
    {
     "data": {
      "text/plain": [
       "(2, -1)"
      ]
     },
     "execution_count": 4,
     "metadata": {},
     "output_type": "execute_result"
    }
   ],
   "source": [
    "from lst import safe_index #lst.py 모듈 안의 safe_index를 메모리에 load\n",
    "numbers = [1,2,3]\n",
    "safe_index(numbers, 3), safe_index(numbers, 4)"
   ]
  },
  {
   "cell_type": "code",
   "execution_count": 5,
   "id": "316291a9",
   "metadata": {},
   "outputs": [
    {
     "data": {
      "text/plain": [
       "[3]"
      ]
     },
     "execution_count": 5,
     "metadata": {},
     "output_type": "execute_result"
    }
   ],
   "source": [
    "#numbers[5] #벗어난 인덱스로 인덱싱 시 에러\n",
    "numbers[2:5] #벗어난 인덱스로 슬라이싱 시 에러 X"
   ]
  },
  {
   "cell_type": "markdown",
   "id": "78decd35",
   "metadata": {},
   "source": [
    "## 1.5. 원하는 요소 추출\n",
    "\n",
    "1. 리스트 슬라이싱: \n",
    "    - [from:to:step] from 번째부터 to 앞까지 step씩 증가하는 index 값 추출\n",
    "    \n",
    "        *from 생략시 처음, to 생략 시 끝, step 생략 시 1*\n",
    "    - 인덱스의 범위를 벗어난 값도 에러 나지 않음\n",
    "    - 인덱스는 음수도 가능(마지막부터 역순)\n",
    "    \n",
    "2. <b>리스트 컴프리헨션:</b>\n",
    "    - 원하는 조건의 데이터 추출"
   ]
  },
  {
   "cell_type": "code",
   "execution_count": 11,
   "id": "07c91d19",
   "metadata": {},
   "outputs": [
    {
     "name": "stdout",
     "output_type": "stream",
     "text": [
      "[20, 19, 18, 13, 12, 10, 9, 5, 3, 1]\n",
      "[1, 5, 10, 13, 19]\n",
      "[5, 9, 10, 12, 13, 18, 19, 20]\n",
      "[20, 18, 12, 9, 3]\n"
     ]
    }
   ],
   "source": [
    "numbers = [1, 3, 5, 9, 10, 12, 13, 18, 19, 20]\n",
    "print(numbers[::-1]) #거꾸로 출력\n",
    "print(numbers[0::2]) #짝수 번째 index 값 출력\n",
    "print(numbers[2:100]) #인덱스 범위 벗어난 슬라이싱 가능\n",
    "print(numbers[-1::-2])"
   ]
  },
  {
   "cell_type": "code",
   "execution_count": 14,
   "id": "551ba0bd",
   "metadata": {},
   "outputs": [
    {
     "data": {
      "text/plain": [
       "[1, 3, 5, 9, 10, 12, 13, 18, 19, 20]"
      ]
     },
     "execution_count": 14,
     "metadata": {},
     "output_type": "execute_result"
    }
   ],
   "source": [
    "#모든 데이터 추출\n",
    "# for data in numbers:\n",
    "#     print(data, end='\\t')\n",
    "[data for data in numbers] #list화"
   ]
  },
  {
   "cell_type": "code",
   "execution_count": 16,
   "id": "40b93661",
   "metadata": {},
   "outputs": [
    {
     "data": {
      "text/plain": [
       "[10, 12, 18, 20]"
      ]
     },
     "execution_count": 16,
     "metadata": {},
     "output_type": "execute_result"
    }
   ],
   "source": [
    "#짝수 데이터 추출\n",
    "# for data in numbers:\n",
    "#     if data%2==0:\n",
    "#         print(data, end='\\t')\n",
    "[data for data in numbers if data%2==0]"
   ]
  },
  {
   "cell_type": "code",
   "execution_count": 17,
   "id": "2cdf8214",
   "metadata": {},
   "outputs": [
    {
     "data": {
      "text/plain": [
       "[10, 12, 13, 18, 19, 20]"
      ]
     },
     "execution_count": 17,
     "metadata": {},
     "output_type": "execute_result"
    }
   ],
   "source": [
    "#ex.1 numbers에서 10 이상인 요소만 추출\n",
    "[data for data in numbers if data>=10]"
   ]
  },
  {
   "cell_type": "code",
   "execution_count": 18,
   "id": "7a342c7b",
   "metadata": {},
   "outputs": [
    {
     "data": {
      "text/plain": [
       "['orange', 'apple', 'mango']"
      ]
     },
     "execution_count": 18,
     "metadata": {},
     "output_type": "execute_result"
    }
   ],
   "source": [
    "#ex.2 fruits에서 5글자 이상인 과일만 추출\n",
    "fruits = ['orange', 'apple', 'mango', 'kiwi']\n",
    "[fruit for fruit in fruits if len(fruit)>=5]"
   ]
  },
  {
   "cell_type": "code",
   "execution_count": 19,
   "id": "77e0ea0b",
   "metadata": {},
   "outputs": [
    {
     "data": {
      "text/plain": [
       "[6, 5, 5, 4]"
      ]
     },
     "execution_count": 19,
     "metadata": {},
     "output_type": "execute_result"
    }
   ],
   "source": [
    "#ex.2-1 fruits 리스트의 과일 글자수\n",
    "[len(fruit) for fruit in fruits]"
   ]
  },
  {
   "cell_type": "code",
   "execution_count": 20,
   "id": "ff54aa17",
   "metadata": {},
   "outputs": [
    {
     "data": {
      "text/plain": [
       "[9, 16, 25]"
      ]
     },
     "execution_count": 20,
     "metadata": {},
     "output_type": "execute_result"
    }
   ],
   "source": [
    "#ex.3 3 이상인 요소들의 제곱을 추출\n",
    "L = [1,2,3,4,5]\n",
    "[l**2 for l in L if l>=3]"
   ]
  },
  {
   "cell_type": "code",
   "execution_count": 21,
   "id": "5c17617e",
   "metadata": {},
   "outputs": [
    {
     "data": {
      "text/plain": [
       "[2, 4, 6, 8, 10]"
      ]
     },
     "execution_count": 21,
     "metadata": {},
     "output_type": "execute_result"
    }
   ],
   "source": [
    "#ex.4 리스트 요소의 값의 2배를 추출 (리스트 변수)\n",
    "[2*l for l in L]"
   ]
  },
  {
   "cell_type": "markdown",
   "id": "4e7f6317",
   "metadata": {},
   "source": [
    "## 1.6. 요소 수정하기\n",
    "- 인덱싱, 슬라이싱을 이용해 수정"
   ]
  },
  {
   "cell_type": "code",
   "execution_count": 22,
   "id": "fcb3c127",
   "metadata": {},
   "outputs": [
    {
     "data": {
      "text/plain": [
       "[0, 1, 22, 3, 4, 5, 6, 7, 8, 9]"
      ]
     },
     "execution_count": 22,
     "metadata": {},
     "output_type": "execute_result"
    }
   ],
   "source": [
    "#인덱싱을 이용하여 개별 요소 수정\n",
    "numbers = [0,1,2,3,4,5,6,7,8,9]\n",
    "numbers[2] = 22\n",
    "numbers"
   ]
  },
  {
   "cell_type": "code",
   "execution_count": 23,
   "id": "c3e57235",
   "metadata": {},
   "outputs": [
    {
     "data": {
      "text/plain": [
       "['xx', 'xx', 'xx', 'xx', 22, 3, 4, 5, 6, 7, 8, 9]"
      ]
     },
     "execution_count": 23,
     "metadata": {},
     "output_type": "execute_result"
    }
   ],
   "source": [
    "#슬라이싱(step 부분 미포함)을 이용하여 부분 리스트를 통째로 수정\n",
    "numbers[0:2] = ['xx', 'xx', 'xx', 'xx']\n",
    "numbers"
   ]
  },
  {
   "cell_type": "code",
   "execution_count": 26,
   "id": "4edac78a",
   "metadata": {},
   "outputs": [
    {
     "name": "stdout",
     "output_type": "stream",
     "text": [
      "수정 전:  [0, 0, 0, 0, 0, 0, 0, 0, 0, 0]\n",
      "수정 후:  [7, 0, 7, 0, 7, 0, 7, 0, 7, 0]\n"
     ]
    }
   ],
   "source": [
    "#슬라이싱(step 부분 포함)을 이용하여 부분 수정 시 요소 개수가 일치해야\n",
    "numbers = [0]*10\n",
    "print('수정 전: ',numbers)\n",
    "numbers[0::2] = [7, 7, 7, 7, 7]\n",
    "print('수정 후: ',numbers)"
   ]
  },
  {
   "cell_type": "markdown",
   "id": "d291a508",
   "metadata": {},
   "source": [
    "## 1.7. 요소 삭제하기\n",
    "- pop() : 가장 마지막 인덱스의 요소를 반환하고 삭제\n",
    "- pop(idx) : idx번째 요소를 반환하고 삭제\n",
    "- remove(data) : list 안의 data를 삭제 (반환x)\n",
    "- del list변수[idx] : idx 번째 요소 삭제 (반환x)"
   ]
  },
  {
   "cell_type": "code",
   "execution_count": 42,
   "id": "1cbce095",
   "metadata": {},
   "outputs": [
    {
     "name": "stdout",
     "output_type": "stream",
     "text": [
      "삭제한 데이터 : 5\n",
      "삭제 후 numbers : [1, 2, 3, 4]\n"
     ]
    }
   ],
   "source": [
    "numbers = [1,2,3,4,5]\n",
    "print(\"삭제한 데이터 :\", numbers.pop())\n",
    "print(\"삭제 후 numbers :\", numbers)"
   ]
  },
  {
   "cell_type": "code",
   "execution_count": 43,
   "id": "d0a6f5a1",
   "metadata": {},
   "outputs": [
    {
     "name": "stdout",
     "output_type": "stream",
     "text": [
      "삭제한 데이터 : 2\n",
      "삭제 후 numbers : [1, 3, 4]\n"
     ]
    }
   ],
   "source": [
    "print(\"삭제한 데이터 :\", numbers.pop(1))\n",
    "print(\"삭제 후 numbers :\", numbers)"
   ]
  },
  {
   "cell_type": "code",
   "execution_count": 44,
   "id": "8447d515",
   "metadata": {},
   "outputs": [
    {
     "name": "stdout",
     "output_type": "stream",
     "text": [
      "데이터1 삭제 후 numbers : [3, 4]\n"
     ]
    }
   ],
   "source": [
    "numbers.remove(1)\n",
    "print(\"데이터1 삭제 후 numbers :\", numbers)"
   ]
  },
  {
   "cell_type": "code",
   "execution_count": 45,
   "id": "a1dd1b4c",
   "metadata": {},
   "outputs": [
    {
     "name": "stdout",
     "output_type": "stream",
     "text": [
      "0번째 요소 삭제 후 numbers:  [4]\n"
     ]
    }
   ],
   "source": [
    "del numbers[0]\n",
    "print(\"0번째 요소 삭제 후 numbers: \", numbers)"
   ]
  },
  {
   "cell_type": "code",
   "execution_count": 46,
   "id": "5f083ba5",
   "metadata": {},
   "outputs": [
    {
     "name": "stdout",
     "output_type": "stream",
     "text": [
      "해당 데이터는 없는 item입니다.\n"
     ]
    }
   ],
   "source": [
    "#numbers.remove(9)\n",
    "if 9 in numbers:\n",
    "    numbers.remove(9)\n",
    "else:\n",
    "    print('해당 데이터는 없는 item입니다.')"
   ]
  },
  {
   "cell_type": "code",
   "execution_count": 47,
   "id": "68ec01cc",
   "metadata": {},
   "outputs": [
    {
     "data": {
      "text/plain": [
       "[]"
      ]
     },
     "execution_count": 47,
     "metadata": {},
     "output_type": "execute_result"
    }
   ],
   "source": [
    "numbers.clear() #numbers의 모든 요소를 삭제 != del numbers\n",
    "numbers"
   ]
  },
  {
   "cell_type": "markdown",
   "id": "e08b0c6a",
   "metadata": {},
   "source": [
    "## 1.8. 정렬하기"
   ]
  },
  {
   "cell_type": "code",
   "execution_count": 49,
   "id": "d5e65840",
   "metadata": {},
   "outputs": [
    {
     "name": "stdout",
     "output_type": "stream",
     "text": [
      "리스트는 정렬하지 않고, 출력 결과만 정렬 : [0, 5, 6, 8, 9]\n",
      "numbers:  [9, 5, 0, 8, 6]\n"
     ]
    }
   ],
   "source": [
    "numbers = [9, 5, 0, 8, 6]\n",
    "print(\"리스트는 정렬하지 않고, 출력 결과만 정렬 :\", sorted(numbers))\n",
    "print(\"numbers: \", numbers)"
   ]
  },
  {
   "cell_type": "code",
   "execution_count": 50,
   "id": "65032e31",
   "metadata": {},
   "outputs": [
    {
     "data": {
      "text/plain": [
       "[0, 5, 6, 8, 9]"
      ]
     },
     "execution_count": 50,
     "metadata": {},
     "output_type": "execute_result"
    }
   ],
   "source": [
    "numbers.sort() #반환 값 없이, numbers 리스트 순서 정렬\n",
    "numbers"
   ]
  },
  {
   "cell_type": "code",
   "execution_count": 51,
   "id": "c92f7c9a",
   "metadata": {},
   "outputs": [
    {
     "data": {
      "text/plain": [
       "[9, 8, 6, 5, 0]"
      ]
     },
     "execution_count": 51,
     "metadata": {},
     "output_type": "execute_result"
    }
   ],
   "source": [
    "numbers.sort(reverse=True) #내림차순 (default는 오름차순)\n",
    "numbers"
   ]
  },
  {
   "cell_type": "code",
   "execution_count": 52,
   "id": "3876d2d8",
   "metadata": {},
   "outputs": [
    {
     "data": {
      "text/plain": [
       "[9, 8, 6, 5, 0]"
      ]
     },
     "execution_count": 52,
     "metadata": {},
     "output_type": "execute_result"
    }
   ],
   "source": [
    "numbers.reverse #리스트를 역순으로 변경\n",
    "#numbers=numbers[::-1]\n",
    "numbers"
   ]
  },
  {
   "cell_type": "markdown",
   "id": "84a6a350",
   "metadata": {},
   "source": [
    "## 1.9. 리스트 복제"
   ]
  },
  {
   "cell_type": "code",
   "execution_count": 54,
   "id": "ddb7d6fc",
   "metadata": {},
   "outputs": [
    {
     "name": "stdout",
     "output_type": "stream",
     "text": [
      "원본 i = 10, 복사본 cp_i = 10 / 원본 주소 = 2228964688400, 복사본 주소 = 2228964688400\n",
      "원본 i = 10, 복사본 cp_i = 99 / 원본 주소 = 2228964688400, 복사본 주소 = 2228964691248\n"
     ]
    }
   ],
   "source": [
    "#스칼라 데이터의 복제\n",
    "i = 10\n",
    "cp_i = i\n",
    "print(f\"원본 i = {i}, 복사본 cp_i = {cp_i} / 원본 주소 = {id(i)}, 복사본 주소 = {id(cp_i)}\")\n",
    "cp_i = 99\n",
    "print(f\"원본 i = {i}, 복사본 cp_i = {cp_i} / 원본 주소 = {id(i)}, 복사본 주소 = {id(cp_i)}\")"
   ]
  },
  {
   "cell_type": "code",
   "execution_count": 55,
   "id": "df09c0d5",
   "metadata": {},
   "outputs": [
    {
     "name": "stdout",
     "output_type": "stream",
     "text": [
      "원본 주소 : 2229075214912\n",
      "복제본 주소:  2229075214912\n"
     ]
    }
   ],
   "source": [
    "#데이터 구조의 할당 (not 복제)\n",
    "numbers = [5, 6, 1, 9]\n",
    "new_numbers = numbers #할당\n",
    "print('원본 주소 :', id(numbers))\n",
    "print('복제본 주소: ', id(new_numbers))"
   ]
  },
  {
   "cell_type": "code",
   "execution_count": 58,
   "id": "8acdcce8",
   "metadata": {},
   "outputs": [
    {
     "name": "stdout",
     "output_type": "stream",
     "text": [
      "원본 내용 : [99, 6, 1, 9]\n",
      "복제본 내용 : [99, 6, 1, 9]\n",
      "원본 주소 : 2229075214912\n",
      "복제본 주소:  2229075214912\n"
     ]
    }
   ],
   "source": [
    "new_numbers[0] = 99\n",
    "print(\"원본 내용 :\", numbers)\n",
    "print(\"복제본 내용 :\", new_numbers)\n",
    "print('원본 주소 :', id(numbers))\n",
    "print('복제본 주소: ', id(new_numbers))"
   ]
  },
  {
   "cell_type": "code",
   "execution_count": 66,
   "id": "80dc7371",
   "metadata": {},
   "outputs": [
    {
     "name": "stdout",
     "output_type": "stream",
     "text": [
      "원본 내용 : [1, 5, 6, 9]\n",
      "복제본 내용 : [1, 5, 6, 9]\n",
      "원본 주소 : 2229078322624\n",
      "복제본 주소:  2229078322624\n"
     ]
    }
   ],
   "source": [
    "numbers = [5, 6, 1, 9]\n",
    "new_numbers = numbers\n",
    "new_numbers.sort()\n",
    "print(\"원본 내용 :\", numbers)\n",
    "print(\"복제본 내용 :\", new_numbers)\n",
    "print('원본 주소 :', id(numbers))\n",
    "print('복제본 주소: ', id(new_numbers))"
   ]
  },
  {
   "cell_type": "code",
   "execution_count": 68,
   "id": "ab552634",
   "metadata": {},
   "outputs": [
    {
     "name": "stdout",
     "output_type": "stream",
     "text": [
      "원본 : [5, 6, 1, 9]\n",
      "복제본 : [9, 6, 5, 1]\n",
      "원본주소 : 2229078310016\n",
      "복제본주소 : 2229078310976\n"
     ]
    }
   ],
   "source": [
    "#리스트 복제(깊은 복사)\n",
    "numbers = [5, 6, 1, 9]\n",
    "new_numbers = numbers.copy() #numbers를 복제(깊은 복사), 주소가 다름\n",
    "new_numbers.sort(reverse=True) #내림차순 정렬\n",
    "print('원본 :', numbers)\n",
    "print('복제본 :', new_numbers)\n",
    "print('원본주소 :', id(numbers))\n",
    "print('복제본주소 :', id(new_numbers))"
   ]
  },
  {
   "cell_type": "code",
   "execution_count": 69,
   "id": "0f55c40e",
   "metadata": {},
   "outputs": [
    {
     "name": "stdout",
     "output_type": "stream",
     "text": [
      "정렬 전:  ['서울', '대전', '대구', '부산', '하남', '수원', '제주']\n",
      "정렬 후:  ['대구', '대전', '부산', '서울', '수원', '제주', '하남']\n"
     ]
    }
   ],
   "source": [
    "city = ['서울', '대전', '대구', '부산', '하남', '수원', '제주']\n",
    "temp = city.copy()\n",
    "temp.sort()\n",
    "print(\"정렬 전: \", city)\n",
    "print(\"정렬 후: \", temp)"
   ]
  },
  {
   "cell_type": "code",
   "execution_count": 70,
   "id": "1d0d5c17",
   "metadata": {},
   "outputs": [
    {
     "name": "stdout",
     "output_type": "stream",
     "text": [
      "정렬 전:  ['서울', '대전', '대구', '부산', '하남', '수원', '제주']\n",
      "정렬 후:  []\n"
     ]
    }
   ],
   "source": [
    "temp.clear()\n",
    "print(\"정렬 전: \", city)\n",
    "print(\"정렬 후: \", temp)"
   ]
  },
  {
   "cell_type": "markdown",
   "id": "18c40a16",
   "metadata": {},
   "source": [
    "# 2. 튜플\n",
    "- 리스트([])와 유사하지만 읽기 전용. 수정이 필요 없는 데이터에서 사용\n",
    "- 수정이 불가하므로, 데이터 수정/추가/삭제 불가\n",
    "- 제공되는 함수도 많지 않음"
   ]
  },
  {
   "cell_type": "code",
   "execution_count": 72,
   "id": "97107790",
   "metadata": {},
   "outputs": [
    {
     "name": "stdout",
     "output_type": "stream",
     "text": [
      "<class 'tuple'>\n",
      "('서울', '대전', '대구', '부산', '하남')\n"
     ]
    }
   ],
   "source": [
    "city = ('서울', '대전', '대구', '부산', '하남')\n",
    "#파이썬은 여러 개의 값이 전달될 때 튜플 타입으로 전달\n",
    "#city = '서울', '대전', '대구', '부산', '하남' #요거와 같아 #a,b=1,2 이것도\n",
    "print(type(city))\n",
    "print(city)"
   ]
  },
  {
   "cell_type": "code",
   "execution_count": 77,
   "id": "64c05c25",
   "metadata": {},
   "outputs": [
    {
     "data": {
      "text/plain": [
       "'서울, 대전, 대구, 부산, 하남'"
      ]
     },
     "execution_count": 77,
     "metadata": {},
     "output_type": "execute_result"
    }
   ],
   "source": [
    "#매개변수로 list가 오는 함수는 tuple 매개변수로 함수 사용 가능\n",
    "\", \".join(city)"
   ]
  },
  {
   "cell_type": "code",
   "execution_count": 78,
   "id": "959bc59a",
   "metadata": {},
   "outputs": [
    {
     "data": {
      "text/plain": [
       "1"
      ]
     },
     "execution_count": 78,
     "metadata": {},
     "output_type": "execute_result"
    }
   ],
   "source": [
    "from lst import safe_index\n",
    "safe_index(city, '대전')"
   ]
  },
  {
   "cell_type": "code",
   "execution_count": 79,
   "id": "cf708d4c",
   "metadata": {},
   "outputs": [
    {
     "name": "stdout",
     "output_type": "stream",
     "text": [
      "<class 'list'>\n",
      "['서울']\n",
      "1\n"
     ]
    }
   ],
   "source": [
    "l = ['서울'] #요소가 하나 있는 list\n",
    "print(type(l))\n",
    "print(l)\n",
    "print(len(l))"
   ]
  },
  {
   "cell_type": "code",
   "execution_count": 81,
   "id": "81718ddf",
   "metadata": {},
   "outputs": [
    {
     "name": "stdout",
     "output_type": "stream",
     "text": [
      "<class 'str'>\n",
      "서울\n",
      "2\n"
     ]
    }
   ],
   "source": [
    "city = ('서울') #요소가 하나 있는 tuple 의도, 그러나!\n",
    "print(type(city)) #str 타입이 됨\n",
    "print(city) #괄호 없이 텍스트로 출력\n",
    "print(len(city)) #글자수 출력"
   ]
  },
  {
   "cell_type": "code",
   "execution_count": 83,
   "id": "0b6d93e2",
   "metadata": {},
   "outputs": [
    {
     "name": "stdout",
     "output_type": "stream",
     "text": [
      "<class 'tuple'>\n",
      "('서울',)\n",
      "1\n"
     ]
    }
   ],
   "source": [
    "city = ('서울',) #요소가 하나 있는 tuple로 인식\n",
    "print(type(city))\n",
    "print(city)\n",
    "print(len(city))"
   ]
  },
  {
   "cell_type": "code",
   "execution_count": 84,
   "id": "4f9cedaf",
   "metadata": {},
   "outputs": [
    {
     "data": {
      "text/plain": [
       "(1, 3, 6)"
      ]
     },
     "execution_count": 84,
     "metadata": {},
     "output_type": "execute_result"
    }
   ],
   "source": [
    "numbers = (1, 2, 3)\n",
    "#numbers.append(4) 수정하기 위한 함수는 제공되지 않음\n",
    "#extends, remove 등등도 안 됨\n",
    "min(numbers), max(numbers), sum(numbers)"
   ]
  },
  {
   "cell_type": "code",
   "execution_count": 85,
   "id": "d526f941",
   "metadata": {},
   "outputs": [
    {
     "data": {
      "text/plain": [
       "(1, 2)"
      ]
     },
     "execution_count": 85,
     "metadata": {},
     "output_type": "execute_result"
    }
   ],
   "source": [
    "numbers.count(2), numbers.index(3)"
   ]
  },
  {
   "cell_type": "code",
   "execution_count": 88,
   "id": "bc9d0dfe",
   "metadata": {},
   "outputs": [
    {
     "name": "stdout",
     "output_type": "stream",
     "text": [
      "해당 데이터 없음\n"
     ]
    }
   ],
   "source": [
    "if 4 in numbers:\n",
    "    numbers.index(4)\n",
    "else:\n",
    "    print('해당 데이터 없음')"
   ]
  },
  {
   "cell_type": "code",
   "execution_count": 89,
   "id": "178fa62c",
   "metadata": {},
   "outputs": [
    {
     "data": {
      "text/plain": [
       "-1"
      ]
     },
     "execution_count": 89,
     "metadata": {},
     "output_type": "execute_result"
    }
   ],
   "source": [
    "safe_index(numbers, 4)"
   ]
  },
  {
   "cell_type": "code",
   "execution_count": null,
   "id": "04f14a9c",
   "metadata": {},
   "outputs": [],
   "source": []
  },
  {
   "cell_type": "code",
   "execution_count": null,
   "id": "15ba9ce8",
   "metadata": {},
   "outputs": [],
   "source": []
  }
 ],
 "metadata": {
  "kernelspec": {
   "display_name": "Python 3 (ipykernel)",
   "language": "python",
   "name": "python3"
  },
  "language_info": {
   "codemirror_mode": {
    "name": "ipython",
    "version": 3
   },
   "file_extension": ".py",
   "mimetype": "text/x-python",
   "name": "python",
   "nbconvert_exporter": "python",
   "pygments_lexer": "ipython3",
   "version": "3.10.9"
  },
  "toc": {
   "base_numbering": 1,
   "nav_menu": {},
   "number_sections": false,
   "sideBar": true,
   "skip_h1_title": false,
   "title_cell": "Table of Contents",
   "title_sidebar": "Contents",
   "toc_cell": false,
   "toc_position": {
    "height": "calc(100% - 180px)",
    "left": "10px",
    "top": "150px",
    "width": "182.55px"
   },
   "toc_section_display": true,
   "toc_window_display": true
  }
 },
 "nbformat": 4,
 "nbformat_minor": 5
}
