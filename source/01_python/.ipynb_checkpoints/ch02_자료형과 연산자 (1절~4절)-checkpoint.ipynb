{
 "cells": [
  {
   "cell_type": "code",
   "execution_count": 1,
   "id": "9f86eff8",
   "metadata": {},
   "outputs": [
    {
     "data": {
      "text/html": [
       "\n",
       "<style>\n",
       "div.container{width:90% !important;}\n",
       "div.cell.code_cell.rendered{width:90%;}\n",
       "div.input_prompt{padding:0px;}\n",
       "div.CodeMirror {font-family:Consolas; font-size:10pt;}\n",
       "div.text_cell_render.rendered_html{font-size:10pt;}\n",
       "div.output {font-size:10pt; font-weight:bold;}\n",
       "div.input {font-family:Consolas; font-size:10pt;}\n",
       "div.prompt {min-width:70px;}\n",
       "div#toc-wrapper{padding-top:120px;}\n",
       "div.text_cell_render ul li{font-size:10pt;padding:5px;}\n",
       "table.dataframe{font-size:10px;}\n",
       "</style>\n"
      ],
      "text/plain": [
       "<IPython.core.display.HTML object>"
      ]
     },
     "metadata": {},
     "output_type": "display_data"
    }
   ],
   "source": [
    "from IPython.display import display, HTML\n",
    "display(HTML(\"\"\"\n",
    "<style>\n",
    "div.container{width:90% !important;}\n",
    "div.cell.code_cell.rendered{width:90%;}\n",
    "div.input_prompt{padding:0px;}\n",
    "div.CodeMirror {font-family:Consolas; font-size:10pt;}\n",
    "div.text_cell_render.rendered_html{font-size:10pt;}\n",
    "div.output {font-size:10pt; font-weight:bold;}\n",
    "div.input {font-family:Consolas; font-size:10pt;}\n",
    "div.prompt {min-width:70px;}\n",
    "div#toc-wrapper{padding-top:120px;}\n",
    "div.text_cell_render ul li{font-size:10pt;padding:5px;}\n",
    "table.dataframe{font-size:10px;}\n",
    "</style>\n",
    "\"\"\"))"
   ]
  },
  {
   "cell_type": "markdown",
   "id": "da7ce655",
   "metadata": {},
   "source": [
    "<b><font size=\"6\" color=\"red\">ch02. 자료형과 연산자</font><b>\n",
    "# 1. 변수\n",
    "- 변수 : 프로그램 작업 처리를 위해, 값을 저장할 수 있는 메모리 공간\n",
    "- 파이썬은 변수 선언을 위한 타입이 없고, 별도의 선언 과정도 없음\n",
    "\n",
    "## 1.1. 변수 할당\n",
    "- 할당연산자(=)을 이용해서 값을 할당하면 자료형(타입)이 세팅\n",
    "- **파이썬에서의 모든 변수는 객체로 저장**\n",
    "    - 파이썬에서 변수는 실제 데이터를 담는 상자가 아니라, 메모리 어딘가에 존재하는 객체에 대한 참조(reference) 또는 포인터(pointer) 역할.\n",
    "- 값과 자료형 동반 -> 5 할당 시 integer, 5.0 할당 시 float"
   ]
  },
  {
   "cell_type": "code",
   "execution_count": 2,
   "id": "46fb8c37",
   "metadata": {},
   "outputs": [
    {
     "name": "stdout",
     "output_type": "stream",
     "text": [
      "넓이 : 78.5\n"
     ]
    }
   ],
   "source": [
    "r = 5\n",
    "area = 3.14*r*r\n",
    "print('넓이 :', area)"
   ]
  },
  {
   "cell_type": "code",
   "execution_count": 6,
   "id": "dc05ad52",
   "metadata": {},
   "outputs": [
    {
     "name": "stdout",
     "output_type": "stream",
     "text": [
      "넓이 : 78.53981633974483\n"
     ]
    }
   ],
   "source": [
    "import numpy as np # numpy 패키지를 np라는 이름으로 사용\n",
    "area = np.pi * r * r\n",
    "print('넓이 :', area)"
   ]
  },
  {
   "cell_type": "code",
   "execution_count": 7,
   "id": "12b2eba4",
   "metadata": {},
   "outputs": [
    {
     "name": "stdout",
     "output_type": "stream",
     "text": [
      "area의 주소:  1852446721872\n",
      "area의 타입:  <class 'float'>\n"
     ]
    }
   ],
   "source": [
    "print('area의 주소: ', id(area))\n",
    "print('area의 타입: ', type(area))"
   ]
  },
  {
   "cell_type": "code",
   "execution_count": 8,
   "id": "8d91a085",
   "metadata": {},
   "outputs": [
    {
     "data": {
      "text/plain": [
       "False"
      ]
     },
     "execution_count": 8,
     "metadata": {},
     "output_type": "execute_result"
    }
   ],
   "source": [
    "area.is_integer()"
   ]
  },
  {
   "cell_type": "code",
   "execution_count": 14,
   "id": "03406ad7",
   "metadata": {},
   "outputs": [
    {
     "name": "stdout",
     "output_type": "stream",
     "text": [
      "area의 주소:  1852367700496\n",
      "area의 타입:  <class 'int'>\n"
     ]
    }
   ],
   "source": [
    "area = 10\n",
    "print('area의 주소: ', id(area))\n",
    "print('area의 타입: ', type(area))"
   ]
  },
  {
   "cell_type": "code",
   "execution_count": 15,
   "id": "bb6a5b4f",
   "metadata": {},
   "outputs": [
    {
     "name": "stdout",
     "output_type": "stream",
     "text": [
      "area의 주소:  1852488420880\n",
      "area의 타입:  <class 'str'>\n"
     ]
    }
   ],
   "source": [
    "area = \"파이썬\"\n",
    "print('area의 주소: ', id(area))\n",
    "print('area의 타입: ', type(area))"
   ]
  },
  {
   "cell_type": "markdown",
   "id": "61730bc5",
   "metadata": {},
   "source": [
    "## 1.2. 변수(함수) 이름 규칙\n",
    "- 문자로 시작\n",
    "- 문자, 숫자와 _(특수문자는 _ 외 불가)로 변수명 작성 (*.a 방식 불가)\n",
    "- 함수명을 변수명으로 사용 가능하나 피한다. 꼭 써야 한다면, str_ 식으로 변형해 사용한다.\n",
    "- 파이썬 예약어(for, if, ...)는 변수명 사용 불가\n",
    "- 한글 변수는 지정 가능하나, 꼭 필요 시에만 사용 (비추)"
   ]
  },
  {
   "cell_type": "code",
   "execution_count": 17,
   "id": "6a035750",
   "metadata": {},
   "outputs": [
    {
     "name": "stdout",
     "output_type": "stream",
     "text": [
      "홍길동 홍길순\n"
     ]
    }
   ],
   "source": [
    "#member.name=\"홍길동\" (에러)\n",
    "member_name=\"홍길동\"\n",
    "memberName=\"홍길순\"\n",
    "print(member_name, memberName)"
   ]
  },
  {
   "cell_type": "code",
   "execution_count": 18,
   "id": "9082ef32",
   "metadata": {},
   "outputs": [
    {
     "name": "stdout",
     "output_type": "stream",
     "text": [
      "<class 'complex'>\n"
     ]
    }
   ],
   "source": [
    "# 숫자 : 정수(integer), 실수(float), 복소수(complex)\n",
    "i = 1 + 3j # 복소수. 허수 부분은 j로 표시\n",
    "print(type(i))"
   ]
  },
  {
   "cell_type": "code",
   "execution_count": 20,
   "id": "1100ecfc",
   "metadata": {},
   "outputs": [
    {
     "data": {
      "text/plain": [
       "True"
      ]
     },
     "execution_count": 20,
     "metadata": {},
     "output_type": "execute_result"
    }
   ],
   "source": [
    "isinstance(i, complex) # isinstance(변수, 타입): i 변수가 complex 타입의 '객체'인지?"
   ]
  },
  {
   "cell_type": "code",
   "execution_count": 21,
   "id": "33215642",
   "metadata": {},
   "outputs": [
    {
     "data": {
      "text/plain": [
       "False"
      ]
     },
     "execution_count": 21,
     "metadata": {},
     "output_type": "execute_result"
    }
   ],
   "source": [
    "isinstance(i, int) # i 변수가 int 타입의 객체인지?"
   ]
  },
  {
   "cell_type": "markdown",
   "id": "3f27588f",
   "metadata": {},
   "source": [
    "## 1.3. 다중 변수 선언"
   ]
  },
  {
   "cell_type": "code",
   "execution_count": 22,
   "id": "6f394597",
   "metadata": {},
   "outputs": [
    {
     "name": "stdout",
     "output_type": "stream",
     "text": [
      "10 20 30\n"
     ]
    }
   ],
   "source": [
    "a, b = 10, 20\n",
    "print(a, b, a+b)"
   ]
  },
  {
   "cell_type": "code",
   "execution_count": 23,
   "id": "8ffe2987",
   "metadata": {},
   "outputs": [
    {
     "name": "stdout",
     "output_type": "stream",
     "text": [
      "20 30\n"
     ]
    }
   ],
   "source": [
    "a, b = b, a+b # 다중 변수 할당 시 순차적 할당이 아니고, 동시 일괄 할당\n",
    "print(a, b)"
   ]
  },
  {
   "cell_type": "markdown",
   "id": "ea43fd84",
   "metadata": {},
   "source": [
    "## 1.4. 도움말"
   ]
  },
  {
   "cell_type": "code",
   "execution_count": 1,
   "id": "e4eb6c1c",
   "metadata": {},
   "outputs": [
    {
     "name": "stdout",
     "output_type": "stream",
     "text": [
      "Help on built-in function print in module builtins:\n",
      "\n",
      "print(...)\n",
      "    print(value, ..., sep=' ', end='\\n', file=sys.stdout, flush=False)\n",
      "    \n",
      "    Prints the values to a stream, or to sys.stdout by default.\n",
      "    Optional keyword arguments:\n",
      "    file:  a file-like object (stream); defaults to the current sys.stdout.\n",
      "    sep:   string inserted between values, default a space.\n",
      "    end:   string appended after the last value, default a newline.\n",
      "    flush: whether to forcibly flush the stream.\n",
      "\n"
     ]
    }
   ],
   "source": [
    "# help 빠져나오기: q / 결과 접고펴기: Esc + o\n",
    "help(print)"
   ]
  },
  {
   "cell_type": "code",
   "execution_count": 2,
   "id": "3ff41505",
   "metadata": {},
   "outputs": [
    {
     "name": "stdout",
     "output_type": "stream",
     "text": [
      "\n"
     ]
    }
   ],
   "source": [
    "# 도움말 기능: Shift + Tab 키 (Tab을 두 번 연속으로 누르면 자동확장)\n",
    "print()"
   ]
  },
  {
   "cell_type": "code",
   "execution_count": 4,
   "id": "b43f23e4",
   "metadata": {},
   "outputs": [],
   "source": [
    "def add(x, y=0):\n",
    "    '''\n",
    "    매개변수(x,y) 2개를 받아 두 자리 숫자로 만드는 함수\n",
    "    x는 10의 자리수가 되고,\n",
    "    y는 1의 자리수가 됨 (y default값 0)\n",
    "    ''' # 도움말 설정 # 따옴표 세 쌍으로 여러 줄 작성.\n",
    "    return x*10 + y"
   ]
  },
  {
   "cell_type": "code",
   "execution_count": 5,
   "id": "7526101e",
   "metadata": {},
   "outputs": [
    {
     "data": {
      "text/plain": [
       "34"
      ]
     },
     "execution_count": 5,
     "metadata": {},
     "output_type": "execute_result"
    }
   ],
   "source": [
    "add(3, 4)"
   ]
  },
  {
   "cell_type": "code",
   "execution_count": 6,
   "id": "0df7a1fa",
   "metadata": {},
   "outputs": [
    {
     "data": {
      "text/plain": [
       "30"
      ]
     },
     "execution_count": 6,
     "metadata": {},
     "output_type": "execute_result"
    }
   ],
   "source": [
    "add(3)"
   ]
  },
  {
   "cell_type": "markdown",
   "id": "835b2bc7",
   "metadata": {},
   "source": [
    "# 2. 화면 입출력(i/o)"
   ]
  },
  {
   "cell_type": "code",
   "execution_count": 9,
   "id": "d200d9ed",
   "metadata": {},
   "outputs": [
    {
     "name": "stdout",
     "output_type": "stream",
     "text": [
      "임의값\n",
      "임의값\n"
     ]
    }
   ],
   "source": [
    "#input(): 사용자로부터 값을 입력받기 위한 함수. 입력값은 문자(str)로 받음.\n",
    "first = input()\n",
    "print(first)"
   ]
  },
  {
   "cell_type": "code",
   "execution_count": 23,
   "id": "e3c69107",
   "metadata": {},
   "outputs": [
    {
     "name": "stdout",
     "output_type": "stream",
     "text": [
      "첫 번째 숫자는? 8\n",
      "두 번째 숫자는? 2\n"
     ]
    }
   ],
   "source": [
    "first = input('첫 번째 숫자는? ')\n",
    "second = input('두 번째 숫자는? ')"
   ]
  },
  {
   "cell_type": "code",
   "execution_count": 24,
   "id": "e0be9beb",
   "metadata": {},
   "outputs": [
    {
     "name": "stdout",
     "output_type": "stream",
     "text": [
      "8 2\n",
      "82\n"
     ]
    }
   ],
   "source": [
    "print(first, second)\n",
    "print(first+second)"
   ]
  },
  {
   "cell_type": "code",
   "execution_count": 25,
   "id": "501a8f0f",
   "metadata": {},
   "outputs": [
    {
     "name": "stdout",
     "output_type": "stream",
     "text": [
      "10\n"
     ]
    }
   ],
   "source": [
    "print(int(first)+int(second))"
   ]
  },
  {
   "cell_type": "code",
   "execution_count": 26,
   "id": "32190a51",
   "metadata": {},
   "outputs": [
    {
     "name": "stdout",
     "output_type": "stream",
     "text": [
      "첫 번째 숫자는? 8\n",
      "두 번째 숫자는? 2\n"
     ]
    }
   ],
   "source": [
    "first = int(input('첫 번째 숫자는? '))\n",
    "second = int(input('두 번째 숫자는? '))\n",
    "            "
   ]
  },
  {
   "cell_type": "code",
   "execution_count": 29,
   "id": "da45e3f4",
   "metadata": {},
   "outputs": [
    {
     "name": "stdout",
     "output_type": "stream",
     "text": [
      "8 2\n",
      "두 수의 합은  10\n"
     ]
    }
   ],
   "source": [
    "print(first, second)\n",
    "print('두 수의 합은 ', first+second)"
   ]
  },
  {
   "cell_type": "code",
   "execution_count": 30,
   "id": "aa15ea98",
   "metadata": {},
   "outputs": [
    {
     "name": "stdout",
     "output_type": "stream",
     "text": [
      "Variable   Type        Data/Info\n",
      "--------------------------------\n",
      "add        function    <function add at 0x000001955DF18430>\n",
      "first      int         8\n",
      "second     int         2\n"
     ]
    }
   ],
   "source": [
    "whos"
   ]
  },
  {
   "cell_type": "code",
   "execution_count": 38,
   "id": "9baa2dfe",
   "metadata": {},
   "outputs": [
    {
     "name": "stdout",
     "output_type": "stream",
     "text": [
      "first - 8 - second - 2\n",
      "Hello Python\tHello + Python ! "
     ]
    }
   ],
   "source": [
    "print('first', first, 'second', second, sep=' - ')\n",
    "print('Hello', 'Python', end='\\t')\n",
    "print('Hello', 'Python', sep=' + ', end=' ! ')\n",
    "# sep= 구분. default는 sep=' '\n",
    "# end= 마침. default는 end= \\n\n",
    "# \\t : tab"
   ]
  },
  {
   "cell_type": "markdown",
   "id": "d24dcdf8",
   "metadata": {},
   "source": [
    "# 3. 기본 자료형\n",
    "- 자료형이란: 변수가 가져야 할 값의 형식. 자료형에 따라 값의 크기와 저장 방식이 달라짐\n",
    "- 자료형에 따라 수행할 수 있는 명령어들이 달라짐\n",
    "- 한 변수에 저장 가능한 타입 (one of below)\n",
    "    - 숫자: int, float, complex\n",
    "    - 문자: str(\"\", '')\n",
    "    - 논리: bool(True/False)\n",
    "\n",
    "## 3.1. 숫자형"
   ]
  },
  {
   "cell_type": "code",
   "execution_count": 39,
   "id": "3acd361a",
   "metadata": {},
   "outputs": [
    {
     "name": "stdout",
     "output_type": "stream",
     "text": [
      "9223372036854775807\n"
     ]
    }
   ],
   "source": [
    "import sys\n",
    "print(sys.maxsize) # 시스템 내 정수의 최대값 / 단위 최대값으로 이해. 더 큰 수도 무한히 다룰 수 있음."
   ]
  },
  {
   "cell_type": "code",
   "execution_count": 44,
   "id": "19375380",
   "metadata": {},
   "outputs": [
    {
     "name": "stdout",
     "output_type": "stream",
     "text": [
      "10223372036854775807\n",
      "<class 'int'>\n"
     ]
    }
   ],
   "source": [
    "i = sys.maxsize + 10**18\n",
    "print(i)\n",
    "print(type(i))"
   ]
  },
  {
   "cell_type": "code",
   "execution_count": 50,
   "id": "fd5616cb",
   "metadata": {},
   "outputs": [
    {
     "name": "stdout",
     "output_type": "stream",
     "text": [
      "1e-10 1.2e-07\n"
     ]
    }
   ],
   "source": [
    "a1=10**-10\n",
    "a2=0.00000012\n",
    "print(a1, a2)"
   ]
  },
  {
   "cell_type": "code",
   "execution_count": 72,
   "id": "df020c03",
   "metadata": {},
   "outputs": [
    {
     "name": "stdout",
     "output_type": "stream",
     "text": [
      "f1=  1.5 , f2=  2.0\n",
      "f1i=  1 , f2i=  2\n"
     ]
    }
   ],
   "source": [
    "# 파이썬에서는 /의 결과는 무조건 실수\n",
    "# JAVA, C에서는 정수 연산 정수 결과는 정수로만 처리\n",
    "f1 = 3/2\n",
    "f2 = 4/2\n",
    "f1i, f2i = (int(f1), int(f2))\n",
    "print('f1= ', f1, ', f2= ', f2)\n",
    "print('f1i= ', f1i, ', f2i= ', f2i)"
   ]
  },
  {
   "cell_type": "code",
   "execution_count": 58,
   "id": "25994ace",
   "metadata": {},
   "outputs": [
    {
     "name": "stdout",
     "output_type": "stream",
     "text": [
      "f=  1\n"
     ]
    }
   ],
   "source": [
    "# int는 반올림 아닌 내림\n",
    "# 몫 연산자 //\n",
    "f=3//2\n",
    "print('f= ', f)"
   ]
  },
  {
   "cell_type": "markdown",
   "id": "e5063d5a",
   "metadata": {},
   "source": [
    "## 3.2. 문자형\n",
    "- 겹따옴표(\"~\")나 홑따옴표('~') 이용"
   ]
  },
  {
   "cell_type": "code",
   "execution_count": 61,
   "id": "c4e9e48f",
   "metadata": {},
   "outputs": [
    {
     "name": "stdout",
     "output_type": "stream",
     "text": [
      "홍길동'짱' 서울시 관악구 \"신림\"동\n"
     ]
    }
   ],
   "source": [
    "# 홍길동'짱' 출력 원할 때\n",
    "\n",
    "#name = '홍길동'짱'' #에러 발생\n",
    "#name = '홍길동\\'짱\\''\n",
    "name = \"홍길동'짱'\" #다른 종류 따옴표로 감싸면 됨\n",
    "address = '서울시 관악구 \"신림\"동'\n",
    "print(name, address)"
   ]
  },
  {
   "cell_type": "code",
   "execution_count": 68,
   "id": "bfd51ff1",
   "metadata": {},
   "outputs": [
    {
     "name": "stdout",
     "output_type": "stream",
     "text": [
      "여러 줄 짜리 내용을 저장\n",
      "줄바꿈 문자를 써서\t작성\n"
     ]
    }
   ],
   "source": [
    "#escape 문자(탈출문자) : \\n \\t \\r\n",
    "text = '여러 줄 짜리 내용을 저장\\n줄바꿈 문자를 써서\\t작성'\n",
    "print(text)"
   ]
  },
  {
   "cell_type": "code",
   "execution_count": 69,
   "id": "4aa64db3",
   "metadata": {},
   "outputs": [
    {
     "name": "stdout",
     "output_type": "stream",
     "text": [
      "여러 줄 짜리 내용을 작성\n",
      "줄바꿈 문자를 써서\t작성\n"
     ]
    }
   ],
   "source": [
    "text='''여러 줄 짜리 내용을 작성\n",
    "줄바꿈 문자를 써서\\t작성'''\n",
    "print(text)"
   ]
  },
  {
   "cell_type": "markdown",
   "id": "f84357ad",
   "metadata": {},
   "source": [
    "### ※ 문자열 연산 (+, *)"
   ]
  },
  {
   "cell_type": "code",
   "execution_count": 79,
   "id": "42ae3d7f",
   "metadata": {},
   "outputs": [
    {
     "name": "stdout",
     "output_type": "stream",
     "text": [
      "홍길동동해번쩍\n",
      "홍길동 동해번쩍\n",
      "홍길동홍길동홍길동\n"
     ]
    }
   ],
   "source": [
    "\"\"\"\n",
    "    여러 줄 주석 용도로도 사용\n",
    "    2025.09.12 문자열 연산 by 아무개\n",
    "    이런 거 저런 거 유의 사항 등등\n",
    "\"\"\"\n",
    "name1 = \"홍길동\"\n",
    "name2 = \"동해번쩍\"\n",
    "print(name1+name2)\n",
    "print(name1,name2)\n",
    "print(name1*3)"
   ]
  },
  {
   "cell_type": "markdown",
   "id": "a344e0cd",
   "metadata": {},
   "source": [
    "### ※ Raw 데이터\n",
    "- 용도: 정규표현식 이용, 디렉토리 경로를 표현 시 이용\n",
    "- 정규표현식(regular expression): 특정한 규칙을 가진 문자열의 집합을 표현하는 데 사용하는 형식 언어"
   ]
  },
  {
   "cell_type": "code",
   "execution_count": 80,
   "id": "d668a9dd",
   "metadata": {},
   "outputs": [
    {
     "name": "stdout",
     "output_type": "stream",
     "text": [
      "Hello\n",
      "World\n"
     ]
    }
   ],
   "source": [
    "print('Hello\\nWorld')"
   ]
  },
  {
   "cell_type": "code",
   "execution_count": 81,
   "id": "0661e24c",
   "metadata": {},
   "outputs": [
    {
     "name": "stdout",
     "output_type": "stream",
     "text": [
      "Hello\\nWorld\n"
     ]
    }
   ],
   "source": [
    "# Raw Data: 데이터 처리 시 Escape 문자(\\n, \\t, \\', \\\", \\r)를 그대로 저장 및 처리\n",
    "print(r'Hello\\nWorld')"
   ]
  },
  {
   "cell_type": "markdown",
   "id": "825c19c9",
   "metadata": {},
   "source": [
    "정규표현식(regex) 문법\n",
    "'''\n",
    "    1. <참조> 위키백과 https://ko.wikipedia.org/wiki/%EC%A0%95%EA%B7%9C_%ED%91%9C%ED%98%84%EC%8B%9D\n",
    "    2. 간략문법\n",
    "        \\d : 숫자와 매치. [0-9]와 동일\n",
    "        \\D : 숫자가 아닌 것\n",
    "        \\w : 영문자나 숫자[a-zA-Z0-9]와 동일\n",
    "        \\W : 영문자나 숫자가 아닌 문자\n",
    "        . : 문자\n",
    "        \\. : . (마침표)\n",
    "        \\- : - (하이픈)\n",
    "        {2,} : 2번 이상 반복\n",
    "        {2, 4} : 2~4회 반복\n",
    "        ? : 0회 또는 1회\n",
    "        + : 1회 이상 반복\n",
    "        * : 0회 이상 반복\n",
    "    3. regex 연습장 https://regexr.com/\n",
    "           ex1. 전화번호 : 02 888 7777 / 02)888-7777 / 028887777 / 010-9999-9999 / 010.9999.8888\n",
    "               -> 0(10|2|\\d{2})[ \\-\\.)]?\\d{3,4}[ \\-\\.]?\\d{4}\n",
    "               -> 0\\d{1,2}[ \\-\\.)]?\\d{3,4}[ \\-\\.]?\\d{4}\n",
    "           ex2. Email : abc12@naver.com / abc12@sns.co.kr\n",
    "               -> \\w+@\\w+\\.\\w+(\\.\\w+)? \n",
    "               -> \\w+@\\w+(\\.\\w+){1,2}\n",
    "           ex3. 주민등록번호 : 901230-1234567\n",
    "               -> \\d{2}(0[1-9]|1[0-2])(0[1-9]|[1-2][0-9]|30|31)(\\-| |\\.)[1-4]\\d{6}\n",
    "    4. 소스 구현'''"
   ]
  },
  {
   "cell_type": "code",
   "execution_count": 3,
   "id": "0367817b",
   "metadata": {},
   "outputs": [
    {
     "name": "stdout",
     "output_type": "stream",
     "text": [
      "이름: 홍길동, 주소: 서울, 전화: 02-123-4567, 핸드폰: 010-9999-1111, 특징: 동해번쩍 서해번쩍혈액형: Bㅋㅋ ㅋㅋzz\n"
     ]
    }
   ],
   "source": [
    "import re\n",
    "data = \"이름: 홍길동, 주소: 서울, 전화: 02-123-4567, \\\n",
    "핸드폰: 010-9999-1111, 특징: 동해번쩍 서해번쩍\\\n",
    "혈액형: Bㅋㅋ ㅋㅋzz\"\n",
    "print(data)"
   ]
  },
  {
   "cell_type": "code",
   "execution_count": 4,
   "id": "d7df8d9d",
   "metadata": {},
   "outputs": [
    {
     "data": {
      "text/plain": [
       "['02-123-4567', '010-9999-1111']"
      ]
     },
     "execution_count": 4,
     "metadata": {},
     "output_type": "execute_result"
    }
   ],
   "source": [
    "# 정규표현식 처리에서는 raw data 처리하지 않아도 실행은 되나\n",
    "# 실수를 줄이고, 가독성을 높이는 용도로 raw data 처리를 사용\n",
    "tel_pattern = r\"0\\d{1,2}[ \\-\\.)]?\\d{3,4}[ \\-\\.]?\\d{4}\" #전화번호 regex\n",
    "tels = re.findall(tel_pattern, data) # data에서 tel_pattern을 모두 색인. 없으면 빈 list 반환\n",
    "tels"
   ]
  },
  {
   "cell_type": "code",
   "execution_count": 5,
   "id": "5bea53a8",
   "metadata": {},
   "outputs": [
    {
     "data": {
      "text/plain": [
       "[]"
      ]
     },
     "execution_count": 5,
     "metadata": {},
     "output_type": "execute_result"
    }
   ],
   "source": [
    "email_pattern = r\"\\w+@\\w+(\\.\\w+){1,2}\"\n",
    "emails = re.findall(email_pattern, data)\n",
    "emails"
   ]
  },
  {
   "cell_type": "code",
   "execution_count": 6,
   "id": "41e91dbc",
   "metadata": {},
   "outputs": [
    {
     "data": {
      "text/plain": [
       "<re.Match object; span=(21, 32), match='02-123-4567'>"
      ]
     },
     "execution_count": 6,
     "metadata": {},
     "output_type": "execute_result"
    }
   ],
   "source": [
    "# 정규표현식 패턴과 처음 match되는 것을 색인\n",
    "firstTel = re.search(tel_pattern, data)\n",
    "firstTel"
   ]
  },
  {
   "cell_type": "code",
   "execution_count": 7,
   "id": "aeed8245",
   "metadata": {},
   "outputs": [
    {
     "name": "stdout",
     "output_type": "stream",
     "text": [
      "02-123-4567\n",
      "02-123-4567\n"
     ]
    }
   ],
   "source": [
    "print(data[21:32]) #문자열 슬라이싱 21부터 32 '앞'까지\n",
    "print(firstTel.group(0))"
   ]
  },
  {
   "cell_type": "code",
   "execution_count": 8,
   "id": "57d234ef",
   "metadata": {},
   "outputs": [
    {
     "data": {
      "text/plain": [
       "<re.Match object; span=(21, 32), match='02-123-4567'>"
      ]
     },
     "execution_count": 8,
     "metadata": {},
     "output_type": "execute_result"
    }
   ],
   "source": [
    "tel_pattern = r\"(\\d{2,3})-(\\d{3,4})-(\\d{4})\"\n",
    "\n",
    "firstPhone = re.search(tel_pattern, data)\n",
    "firstPhone"
   ]
  },
  {
   "cell_type": "code",
   "execution_count": 9,
   "id": "bb467c06",
   "metadata": {},
   "outputs": [
    {
     "name": "stdout",
     "output_type": "stream",
     "text": [
      "전체 전화번호:  02-123-4567\n",
      "국번:  02\n",
      "중간 번호:  123\n",
      "끝 번호:  4567\n"
     ]
    }
   ],
   "source": [
    "print('전체 전화번호: ', firstPhone.group(0))\n",
    "print('국번: ', firstPhone.group(1))\n",
    "print('중간 번호: ', firstPhone.group(2))\n",
    "print('끝 번호: ', firstPhone.group(3))"
   ]
  },
  {
   "cell_type": "code",
   "execution_count": 10,
   "id": "272e7e06",
   "metadata": {},
   "outputs": [
    {
     "data": {
      "text/plain": [
       "'이름 홍길동 주소 서울 전화 021234567 핸드폰 01099991111 특징 동해번쩍 서해번쩍혈액형 B '"
      ]
     },
     "execution_count": 10,
     "metadata": {},
     "output_type": "execute_result"
    }
   ],
   "source": [
    "# 특정한 데이터 없애기\n",
    "re.sub(\"[^가-힣0-9A-Z\\s]\", '', data) \n",
    "# \\s : space \n",
    "# 한글, 숫자, 영문 대문자, 여백 제외 모두 삭제"
   ]
  },
  {
   "cell_type": "code",
   "execution_count": 14,
   "id": "0d3aea55",
   "metadata": {},
   "outputs": [
    {
     "data": {
      "text/plain": [
       "'이름: 홍길동, 주소: 서울, 전화:  , 핸드폰:  , 특징: 동해번쩍 서해번쩍혈액형: Bㅋㅋ ㅋㅋzz'"
      ]
     },
     "execution_count": 14,
     "metadata": {},
     "output_type": "execute_result"
    }
   ],
   "source": [
    "# data에서 전화번호 없애기\n",
    "tel_pattern = r\"0\\d{1,2}[ \\-\\.)]?\\d{3,4}[ \\-\\.]?\\d{4}\"\n",
    "re.sub(tel_pattern, ' ', data)"
   ]
  },
  {
   "cell_type": "code",
   "execution_count": 15,
   "id": "9a59a65c",
   "metadata": {},
   "outputs": [],
   "source": [
    "# 파일 경로\n",
    "#file_path = \"C:/ai/source/01_python/data/ch02.txt\" #\\ -> /\n",
    "#file_path = \"C:\\\\ai\\\\source\\\\01_python\\\\data\\\\ch02.txt\" #\\\\ = /\n",
    "file_path = r\"C:\\ai\\source\\01_python\\data\\ch02.txt\" #escape 문자 피하기 위해 r"
   ]
  },
  {
   "cell_type": "code",
   "execution_count": 19,
   "id": "480f6f7a",
   "metadata": {},
   "outputs": [
    {
     "name": "stdout",
     "output_type": "stream",
     "text": [
      "Hello, Python.\n",
      "Hello, World.\n"
     ]
    }
   ],
   "source": [
    "file_stream = open(file_path, \"w\") # 입력 스트림(\"r\")인지 출력 스트림(\"w\")인지 지정\n",
    "print(\"Hello, Python.\", \"Hello, World.\", sep=\"\\n\") # 화면 출력 default\n",
    "print(\"Hello, Python.\", \"Hello, World.\", sep=\"\\n\", file=file_stream) # 파일에 출력\n",
    "file_stream.close() # close하지 않으면 저장되지 않음"
   ]
  },
  {
   "cell_type": "markdown",
   "id": "a0f24f50",
   "metadata": {},
   "source": [
    "### ※ 문자열 인덱싱"
   ]
  },
  {
   "cell_type": "code",
   "execution_count": 20,
   "id": "258e172a",
   "metadata": {},
   "outputs": [
    {
     "data": {
      "text/plain": [
       "'0123456789'"
      ]
     },
     "execution_count": 20,
     "metadata": {},
     "output_type": "execute_result"
    }
   ],
   "source": [
    "str_ = '0123456789'\n",
    "str_"
   ]
  },
  {
   "cell_type": "code",
   "execution_count": 22,
   "id": "b21a10b7",
   "metadata": {},
   "outputs": [
    {
     "data": {
      "text/plain": [
       "('0', '2', '9', '7')"
      ]
     },
     "execution_count": 22,
     "metadata": {},
     "output_type": "execute_result"
    }
   ],
   "source": [
    "str_[0], str_[2], str_[-1], str_[-3] # 음수 인덱싱은 맨 마지막이 -1."
   ]
  },
  {
   "cell_type": "code",
   "execution_count": 23,
   "id": "3e752d01",
   "metadata": {},
   "outputs": [
    {
     "ename": "IndexError",
     "evalue": "string index out of range",
     "output_type": "error",
     "traceback": [
      "\u001b[1;31m---------------------------------------------------------------------------\u001b[0m",
      "\u001b[1;31mIndexError\u001b[0m                                Traceback (most recent call last)",
      "Cell \u001b[1;32mIn[23], line 1\u001b[0m\n\u001b[1;32m----> 1\u001b[0m \u001b[43mstr_\u001b[49m\u001b[43m[\u001b[49m\u001b[38;5;241;43m10\u001b[39;49m\u001b[43m]\u001b[49m\n",
      "\u001b[1;31mIndexError\u001b[0m: string index out of range"
     ]
    }
   ],
   "source": [
    "str_[10] #범위 밗 인덱싱 에러"
   ]
  },
  {
   "cell_type": "markdown",
   "id": "945e842f",
   "metadata": {},
   "source": [
    "### ※ 문자열 슬라이싱"
   ]
  },
  {
   "cell_type": "code",
   "execution_count": 31,
   "id": "9f56ca0f",
   "metadata": {},
   "outputs": [
    {
     "data": {
      "text/plain": [
       "'2345'"
      ]
     },
     "execution_count": 31,
     "metadata": {},
     "output_type": "execute_result"
    }
   ],
   "source": [
    "'''\n",
    "문자열변수[from:to] : from 부터 to 앞까지 추출\n",
    "문자열변수[from:to:step] : from 부터 to 앞까지, step씩 전진하며 추출\n",
    "    from 생략 시 처음부터\n",
    "    to 생략 시 끝까지\n",
    "    step 생략 시 하나씩 전진\n",
    "'''"
   ]
  },
  {
   "cell_type": "code",
   "execution_count": 48,
   "id": "1f5b5ba4",
   "metadata": {},
   "outputs": [
    {
     "name": "stdout",
     "output_type": "stream",
     "text": [
      "02468\n",
      "468\n",
      "2345\n",
      "987654321\n"
     ]
    }
   ],
   "source": [
    "print(str_[:10:2]) #0번부터 10 앞까지 두 칸씩\n",
    "print(str_[4::2]) #4번부터 끝까지 두 칸씩\n",
    "print(str_[2:6]) #2번부터 6 앞까지\n",
    "print(str_[9:0:-1]) #9번부터 0번 전까지 -1씩"
   ]
  },
  {
   "cell_type": "code",
   "execution_count": 41,
   "id": "c3deaf4d",
   "metadata": {},
   "outputs": [
    {
     "name": "stdout",
     "output_type": "stream",
     "text": [
      "9876543210\n",
      "9876543210\n",
      "9876543210\n"
     ]
    }
   ],
   "source": [
    "print(str_[::-1])\n",
    "print(str_[9::-1])\n",
    "print(str_[-1::-1])"
   ]
  },
  {
   "cell_type": "markdown",
   "id": "0fd0de1d",
   "metadata": {},
   "source": [
    "## 3.3. 논리형 (True / False)\n",
    "- 파이썬에서 True와 False는 모두 대문자로 시작해야"
   ]
  },
  {
   "cell_type": "code",
   "execution_count": 43,
   "id": "337b929e",
   "metadata": {},
   "outputs": [
    {
     "name": "stdout",
     "output_type": "stream",
     "text": [
      "True\n",
      "<class 'bool'>\n",
      "True\n"
     ]
    }
   ],
   "source": [
    "a = 10>5\n",
    "print(a)\n",
    "print(type(a))\n",
    "print(isinstance(a, bool))"
   ]
  },
  {
   "cell_type": "code",
   "execution_count": 44,
   "id": "deb90cc2",
   "metadata": {},
   "outputs": [
    {
     "data": {
      "text/plain": [
       "(1, 0)"
      ]
     },
     "execution_count": 44,
     "metadata": {},
     "output_type": "execute_result"
    }
   ],
   "source": [
    "int(True), int(False)"
   ]
  },
  {
   "cell_type": "code",
   "execution_count": 45,
   "id": "8c202200",
   "metadata": {},
   "outputs": [
    {
     "data": {
      "text/plain": [
       "(True, False)"
      ]
     },
     "execution_count": 45,
     "metadata": {},
     "output_type": "execute_result"
    }
   ],
   "source": [
    "bool(1), bool(0)"
   ]
  },
  {
   "cell_type": "code",
   "execution_count": 47,
   "id": "5c207b3d",
   "metadata": {},
   "outputs": [
    {
     "data": {
      "text/plain": [
       "(True, False, True)"
      ]
     },
     "execution_count": 47,
     "metadata": {},
     "output_type": "execute_result"
    }
   ],
   "source": [
    "# False로 간주되는 것 = 0, \"\" 빈 스트링, [] 빈 리스트, () 빈 튜플, {} 빈 딕셔너리, None\n",
    "# False로 판별되는 경우를 제외한 모든 게 True =/ 0\n",
    "\n",
    "bool(-10), bool(\"\"), bool(\" \")"
   ]
  },
  {
   "cell_type": "code",
   "execution_count": 51,
   "id": "cd2a0762",
   "metadata": {},
   "outputs": [
    {
     "name": "stdout",
     "output_type": "stream",
     "text": [
      "False\n"
     ]
    }
   ],
   "source": [
    "# 제어문\n",
    "if []: #True면 실행 내용, False면 실행 x\n",
    "    print(\"True\")\n",
    "else: #False면 실행 내용\n",
    "    print('False')"
   ]
  },
  {
   "cell_type": "code",
   "execution_count": 55,
   "id": "27a5d741",
   "metadata": {},
   "outputs": [
    {
     "name": "stdout",
     "output_type": "stream",
     "text": [
      "너의 이름은? 302\n",
      "당신의 이름은 302 이군요.\n"
     ]
    }
   ],
   "source": [
    "name = input(\"너의 이름은? \")\n",
    "if name: # name이 빈 스트링이 아니면\n",
    "    print('당신의 이름은', name, \"이군요.\")\n",
    "else :\n",
    "    print('이름을 입력 안 하셨군요.')"
   ]
  },
  {
   "cell_type": "markdown",
   "id": "fd34d983",
   "metadata": {},
   "source": [
    "## 3.4. 자료형 확인 및 형변환 함수\n",
    "- type() : 타입 출력\n",
    "- isinstance(변수, 타입) : 변수가 해당 타입인지 여부 출력(T/F)\n",
    "- float() : 실수형으로 변환\n",
    "- int() : 정수형으로 변환 (내림)\n",
    "- str() : 문자형으로 변환\n",
    "- bool() : 논리형으로 변환"
   ]
  },
  {
   "cell_type": "code",
   "execution_count": 56,
   "id": "2296f76a",
   "metadata": {},
   "outputs": [
    {
     "data": {
      "text/plain": [
       "(4.0, 4.1, 4, 4, '4', '4.9')"
      ]
     },
     "execution_count": 56,
     "metadata": {},
     "output_type": "execute_result"
    }
   ],
   "source": [
    "float(4), float(\"4.1\"), int(4.9), int(\"4\"), str(4), str(4.9)"
   ]
  },
  {
   "cell_type": "code",
   "execution_count": 60,
   "id": "31bddfa9",
   "metadata": {},
   "outputs": [],
   "source": [
    "# 에러 발생하는 경우들\n",
    "# int(\"\") -빈 스트링, int(\" \") -문자, int(None), int(\"123.9\"), int(\"9,000\")\n",
    "# float(\"\") -빈 스트링, float(\" \") -문자, float(None), float(\"9,000\")"
   ]
  },
  {
   "cell_type": "markdown",
   "id": "9726dc32",
   "metadata": {},
   "source": [
    "# 4. 포맷팅\n",
    "- 포맷팅이랑, 출력할 문자 숫자 날짜 등의 형식을 지정하는 것\n",
    "## 4.1. 문자열에 형식 지정"
   ]
  },
  {
   "cell_type": "code",
   "execution_count": 84,
   "id": "042d415f",
   "metadata": {},
   "outputs": [
    {
     "name": "stdout",
     "output_type": "stream",
     "text": [
      "홍길동 님의 나이는 30살입니다.\n",
      "홍길동 님의 나이는 30살입니다.\n"
     ]
    }
   ],
   "source": [
    "name = \"홍길동\"\n",
    "age = 30\n",
    "print(name+' 님의 나이는 '+str(age)+'살입니다.')\n",
    "print(name, ' 님의 나이는 ', age, '살입니다.', sep='')"
   ]
  },
  {
   "cell_type": "code",
   "execution_count": 85,
   "id": "bc7f0c3d",
   "metadata": {},
   "outputs": [
    {
     "name": "stdout",
     "output_type": "stream",
     "text": [
      "홍길동 님의 나이는 30살입니다.\n",
      "홍길동 님의 나이는 30살입니다.\n",
      "홍길동 님의 나이는 30살입니다.\n",
      "홍길동 님의 나이는 30살입니다.\n",
      "홍길동 님의 나이는 30살입니다.\n",
      "홍길동   님의 나이는 _30살입니다.\n"
     ]
    }
   ],
   "source": [
    "# %s: 문자, %d: 10진수, %f: 실수\n",
    "print(\"%s 님의 나이는 %d살입니다.\"%(name, age)) # 많이 안 쓰는 방법(옛날, 굳이?)\n",
    "print(f\"{name} 님의 나이는 {age}살입니다.\") # 많이 쓰이는 방법\n",
    "print(\"{} 님의 나이는 {}살입니다.\".format(name, age)) # 가장 많이 쓰이는 방법\n",
    "print(\"{0} 님의 나이는 {1}살입니다.\".format(name, age))\n",
    "print(\"{1} 님의 나이는 {0}살입니다.\".format(age, name))\n",
    "print(\"{0:5s} 님의 나이는 {1:_>3d}살입니다.\".format(name, age)) #formatting 문법"
   ]
  },
  {
   "cell_type": "markdown",
   "id": "7cee1249",
   "metadata": {},
   "source": [
    "## 4.2. format() 문법\n",
    "- '{[인덱스 번호]:[공백대체문자][정렬방법][자릿수][타입]}'.format(변수명)\n",
    "- 인덱스 번호 생략 가능, 공백 대체문자 생략 시 빈 여백, 정렬방법 생략 시 좌측 정렬, 자릿수 생략 가능, 자릿수 입력 시 타입 필수\n",
    "    * 인덱스 : format 함수 안의 매개 변수 순서\n",
    "    * 정렬 방식 : < 왼쪽 정렬 > 오른쪽 정렬 ^ 가운데 정렬\n",
    "        - 숫자의 경우 오른쪽 정렬 기본 / 문자의 경우 왼쪽 정렬이 기본\n",
    "    * 정수 자릿수 : 출력할 자릿수.\n",
    "    * 실수 자릿수 : 전체 출력될 자릿수. 변수 중 출력할 자릿수 ex) 10.2\n",
    "        - 데이터가 자릿수 초과 시 무시하고 출력\n",
    "    * 타입 : d 10진수, b 2진수, o 8진수, x 16진수, f 실수, s 문자\n",
    "    * 공백 대체문자 적용 시 정렬 방식을 명시해야 함 (or Error)"
   ]
  },
  {
   "cell_type": "code",
   "execution_count": 92,
   "id": "2523be78",
   "metadata": {},
   "outputs": [
    {
     "name": "stdout",
     "output_type": "stream",
     "text": [
      "[12345] [     12345] [12345]\n",
      "[Hello] [Hello     ] [Hello]\n"
     ]
    }
   ],
   "source": [
    "a=12345\n",
    "s='Hello'\n",
    "print(\"[{0}] [{0:10}] [{0:3}]\".format(a))\n",
    "print(\"[{0}] [{0:10}] [{0:3}]\".format(s))"
   ]
  },
  {
   "cell_type": "code",
   "execution_count": 93,
   "id": "f6b3ac13",
   "metadata": {},
   "outputs": [
    {
     "name": "stdout",
     "output_type": "stream",
     "text": [
      "[10  ] [ 20 ] [   3]\n"
     ]
    }
   ],
   "source": [
    "# 정렬 방식 : < > ^\n",
    "a, b, c = 10, 20, 3\n",
    "print(\"[{:<4}] [{:^4}] [{:>4}]\".format(a, b, c))"
   ]
  },
  {
   "cell_type": "code",
   "execution_count": 108,
   "id": "5edcac80",
   "metadata": {},
   "outputs": [
    {
     "name": "stdout",
     "output_type": "stream",
     "text": [
      "[$10.00] [123.12] [____He]\n"
     ]
    }
   ],
   "source": [
    "# 실수 자릿수 \n",
    "# ex) 10.2f : 전체 10자리, 그중 소수점 2자리 \n",
    "# 6.2 : 전체 6자리 중 2자리 출력\n",
    "a = 10\n",
    "f = 123.1234\n",
    "s = \"Hello\"\n",
    "print(\"[{:$>6.2f}] [{:6.2f}] [{:_>6.2}]\".format(a, f, s))"
   ]
  },
  {
   "cell_type": "code",
   "execution_count": 111,
   "id": "e1d788bf",
   "metadata": {},
   "outputs": [
    {
     "name": "stdout",
     "output_type": "stream",
     "text": [
      "[      +123], [      -123], [       123]\n",
      "[       123], [-      123], [       123]\n",
      "[+      123], [-      123], [+      123]\n"
     ]
    }
   ],
   "source": [
    "# 자릿수 앞에 +를 붙이면 양수의 경우도 부호 출력 (부호나 소수점도 자리수/문자수에 포함)\n",
    "a, b = 123, -123\n",
    "print(\"[{:+10}], [{:+10}], [{:10}]\".format(a,b,a))\n",
    "print(\"[{:=10}], [{:=10}], [{:10}]\".format(a,b,a))\n",
    "print(\"[{:=+10}], [{:=+10}], [{:10}]\".format(a,b,a))"
   ]
  },
  {
   "cell_type": "code",
   "execution_count": 112,
   "id": "26b81cb9",
   "metadata": {},
   "outputs": [
    {
     "name": "stdout",
     "output_type": "stream",
     "text": [
      "10진수 [  15]\n",
      "2진수 [1111]\n",
      "8진수 [  17]\n",
      "16진수 [   f]\n"
     ]
    }
   ],
   "source": [
    "# 10진수, 2진수, 8진수, 16진수 출력\n",
    "a = 15\n",
    "print(\"10진수 [{:4d}]\".format(a))\n",
    "print(\"2진수 [{:4b}]\".format(a))\n",
    "print(\"8진수 [{:4o}]\".format(a))\n",
    "print(\"16진수 [{:4x}]\".format(a))"
   ]
  },
  {
   "cell_type": "code",
   "execution_count": 121,
   "id": "bfc5a1b5",
   "metadata": {},
   "outputs": [
    {
     "name": "stdout",
     "output_type": "stream",
     "text": [
      "[    +2.568]\n",
      "[    +2.568]\n"
     ]
    }
   ],
   "source": [
    "a = 2.5678\n",
    "sign = \"+\"\n",
    "width = 10\n",
    "precision = 4\n",
    "print(\"[{:{}{}.{}}]\".format(a, sign, width, precision))\n",
    "print(\"[{:{sign}{width}.{precision}}]\".format(a,\n",
    "                                             sign=sign, width=width, precision=precision))"
   ]
  },
  {
   "cell_type": "markdown",
   "id": "bb667bc6",
   "metadata": {},
   "source": [
    "## 4.3. 날짜 출력"
   ]
  },
  {
   "cell_type": "code",
   "execution_count": 131,
   "id": "32dc16a1",
   "metadata": {},
   "outputs": [],
   "source": [
    "#import datetime #datetime 모듈(파이선 프로그램 파일 datetime.py) 전체를 메모리에 Load\n",
    "from datetime import datetime # datetime 모듈 안의 datetime class만 메모리에 Load\n",
    "thatday1 = datetime(2025, 9, 11) # 25년 9월 11일 0시 0분 0초\n",
    "thatday2 = datetime(2025, 9, 11, 14, 30, 0)"
   ]
  },
  {
   "cell_type": "code",
   "execution_count": 132,
   "id": "e4e86481",
   "metadata": {},
   "outputs": [
    {
     "name": "stdout",
     "output_type": "stream",
     "text": [
      "25년 09월 11일 00시 00분 00초\n",
      "25년 09월 11일 PM 02시 30분 00초\n"
     ]
    }
   ],
   "source": [
    "# Y - 연도 4자리, Y - 연도 2자리, m - 월, d - 일\n",
    "# p - 오전/오후 I - 12시간 단위, H - 24시간 단위, M - 분, S - 초\n",
    "print(\"{:%y년 %m월 %d일 %H시 %M분 %S초}\".format(thatday1))\n",
    "print(\"{:%y년 %m월 %d일 %p %I시 %M분 %S초}\".format(thatday2))"
   ]
  },
  {
   "cell_type": "code",
   "execution_count": 135,
   "id": "1c113ede",
   "metadata": {},
   "outputs": [
    {
     "data": {
      "text/plain": [
       "'25년 09월 11일 00시 00분 00초'"
      ]
     },
     "execution_count": 135,
     "metadata": {},
     "output_type": "execute_result"
    }
   ],
   "source": [
    "thatday1.strftime(\"%y년 %m월 %d일 %H시 %M분 %S초\")"
   ]
  },
  {
   "cell_type": "code",
   "execution_count": 136,
   "id": "f0134b23",
   "metadata": {},
   "outputs": [
    {
     "data": {
      "text/plain": [
       "'25년 09월 11일 PM 02시 30분 00초'"
      ]
     },
     "execution_count": 136,
     "metadata": {},
     "output_type": "execute_result"
    }
   ],
   "source": [
    "thatday2.strftime(\"%y년 %m월 %d일 %p %I시 %M분 %S초\")"
   ]
  },
  {
   "cell_type": "code",
   "execution_count": 178,
   "id": "a155d730",
   "metadata": {},
   "outputs": [
    {
     "data": {
      "text/plain": [
       "datetime.timedelta(days=4, seconds=53764, microseconds=300264)"
      ]
     },
     "execution_count": 178,
     "metadata": {},
     "output_type": "execute_result"
    }
   ],
   "source": [
    "# 현재의 날짜와 시간\n",
    "now = datetime.now() #현재 시간\n",
    "now - thatday1 #날짜형 변수끼리 연산 가능"
   ]
  },
  {
   "cell_type": "code",
   "execution_count": 179,
   "id": "72a5c380",
   "metadata": {},
   "outputs": [
    {
     "name": "stdout",
     "output_type": "stream",
     "text": [
      "2025-09-15 PM 02:56\n",
      "2025-09-15 PM 02:56\n"
     ]
    }
   ],
   "source": [
    "# 지금(날짜와 시간) 정보를 원하는 스타일로 출력\n",
    "print(\"{:%Y-%m-%d %p %I:%M}\".format(now))\n",
    "print(now.strftime(\"%Y-%m-%d %p %I:%M\")) #"
   ]
  },
  {
   "cell_type": "code",
   "execution_count": 180,
   "id": "275488ac",
   "metadata": {},
   "outputs": [
    {
     "data": {
      "text/plain": [
       "'2025-09-15 PM 02:59'"
      ]
     },
     "execution_count": 180,
     "metadata": {},
     "output_type": "execute_result"
    }
   ],
   "source": [
    "# 현재 시간을 문자열로 전환하는 함수\n",
    "from time import strftime\n",
    "strftime(\"%Y-%m-%d %p %I:%M\")"
   ]
  },
  {
   "cell_type": "code",
   "execution_count": null,
   "id": "8dedc3a8",
   "metadata": {},
   "outputs": [],
   "source": []
  }
 ],
 "metadata": {
  "kernelspec": {
   "display_name": "Python 3 (ipykernel)",
   "language": "python",
   "name": "python3"
  },
  "language_info": {
   "codemirror_mode": {
    "name": "ipython",
    "version": 3
   },
   "file_extension": ".py",
   "mimetype": "text/x-python",
   "name": "python",
   "nbconvert_exporter": "python",
   "pygments_lexer": "ipython3",
   "version": "3.10.9"
  },
  "toc": {
   "base_numbering": 1,
   "nav_menu": {},
   "number_sections": false,
   "sideBar": true,
   "skip_h1_title": false,
   "title_cell": "Table of Contents",
   "title_sidebar": "Contents",
   "toc_cell": false,
   "toc_position": {
    "height": "calc(100% - 180px)",
    "left": "10px",
    "top": "150px",
    "width": "195.75px"
   },
   "toc_section_display": true,
   "toc_window_display": true
  }
 },
 "nbformat": 4,
 "nbformat_minor": 5
}
